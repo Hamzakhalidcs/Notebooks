{
 "cells": [
  {
   "cell_type": "code",
   "execution_count": 1,
   "id": "6ed2e816",
   "metadata": {},
   "outputs": [],
   "source": [
    "import pandas as pd \n",
    "import pandas as pd\n",
    "import seaborn as sns\n",
    "import matplotlib.pyplot as plt"
   ]
  },
  {
   "cell_type": "code",
   "execution_count": 2,
   "id": "9f5d5026",
   "metadata": {},
   "outputs": [],
   "source": [
    "df = pd.read_csv('Feb-19-2024_Mar-17-2024_820974709842777.csv' , delimiter='\\t')"
   ]
  },
  {
   "cell_type": "code",
   "execution_count": 3,
   "id": "4317981a",
   "metadata": {},
   "outputs": [],
   "source": [
    "df = pd.read_csv('Dec-24-2023_Mar-22-2024_1697294034132138.csv')"
   ]
  },
  {
   "cell_type": "code",
   "execution_count": 4,
   "id": "31eee25a",
   "metadata": {},
   "outputs": [
    {
     "data": {
      "text/html": [
       "<div>\n",
       "<style scoped>\n",
       "    .dataframe tbody tr th:only-of-type {\n",
       "        vertical-align: middle;\n",
       "    }\n",
       "\n",
       "    .dataframe tbody tr th {\n",
       "        vertical-align: top;\n",
       "    }\n",
       "\n",
       "    .dataframe thead th {\n",
       "        text-align: right;\n",
       "    }\n",
       "</style>\n",
       "<table border=\"1\" class=\"dataframe\">\n",
       "  <thead>\n",
       "    <tr style=\"text-align: right;\">\n",
       "      <th></th>\n",
       "      <th>Post ID</th>\n",
       "      <th>Page ID</th>\n",
       "      <th>Page name</th>\n",
       "      <th>Title</th>\n",
       "      <th>Description</th>\n",
       "      <th>Duration (secs)</th>\n",
       "      <th>Publish time</th>\n",
       "      <th>Caption type</th>\n",
       "      <th>Permalink</th>\n",
       "      <th>Is crosspost</th>\n",
       "      <th>...</th>\n",
       "      <th>Views by country (Fiji (FJ))</th>\n",
       "      <th>Views by country (Algeria (DZ))</th>\n",
       "      <th>Views by country (Bhutan (BT))</th>\n",
       "      <th>Views by country (Afghanistan (AF))</th>\n",
       "      <th>Views by country (Qatar (QA))</th>\n",
       "      <th>Views by country (Spain (ES))</th>\n",
       "      <th>Views by country (Portugal (PT))</th>\n",
       "      <th>Views by country (New Zealand (NZ))</th>\n",
       "      <th>Views by country (Mauritius (MU))</th>\n",
       "      <th>Views by country (Malaysia (MY))</th>\n",
       "    </tr>\n",
       "  </thead>\n",
       "  <tbody>\n",
       "    <tr>\n",
       "      <th>0</th>\n",
       "      <td>122128258814198697</td>\n",
       "      <td>247903501729335</td>\n",
       "      <td>HU.co</td>\n",
       "      <td>NaN</td>\n",
       "      <td>KHAIE\\n#khaie #faysalquraishi #hinabayat #uzma...</td>\n",
       "      <td>263</td>\n",
       "      <td>03/14/2024 00:03</td>\n",
       "      <td>auto</td>\n",
       "      <td>https://www.facebook.com/hu.4113/posts/pfbid02...</td>\n",
       "      <td>0</td>\n",
       "      <td>...</td>\n",
       "      <td>NaN</td>\n",
       "      <td>NaN</td>\n",
       "      <td>NaN</td>\n",
       "      <td>NaN</td>\n",
       "      <td>NaN</td>\n",
       "      <td>NaN</td>\n",
       "      <td>NaN</td>\n",
       "      <td>NaN</td>\n",
       "      <td>NaN</td>\n",
       "      <td>NaN</td>\n",
       "    </tr>\n",
       "    <tr>\n",
       "      <th>1</th>\n",
       "      <td>122128311284198697</td>\n",
       "      <td>247903501729335</td>\n",
       "      <td>HU.co</td>\n",
       "      <td>NaN</td>\n",
       "      <td>KHAIE\\n#khaie #faysalquraishi #hinabayat #uzma...</td>\n",
       "      <td>125</td>\n",
       "      <td>03/14/2024 03:03</td>\n",
       "      <td>NaN</td>\n",
       "      <td>https://www.facebook.com/hu.4113/posts/pfbid0F...</td>\n",
       "      <td>0</td>\n",
       "      <td>...</td>\n",
       "      <td>NaN</td>\n",
       "      <td>NaN</td>\n",
       "      <td>NaN</td>\n",
       "      <td>NaN</td>\n",
       "      <td>NaN</td>\n",
       "      <td>NaN</td>\n",
       "      <td>NaN</td>\n",
       "      <td>NaN</td>\n",
       "      <td>NaN</td>\n",
       "      <td>NaN</td>\n",
       "    </tr>\n",
       "    <tr>\n",
       "      <th>2</th>\n",
       "      <td>122128379282198697</td>\n",
       "      <td>247903501729335</td>\n",
       "      <td>HU.co</td>\n",
       "      <td>NaN</td>\n",
       "      <td>KHAIE\\n#khaie #faysalquraishi #hinabayat #uzma...</td>\n",
       "      <td>218</td>\n",
       "      <td>03/14/2024 05:03</td>\n",
       "      <td>NaN</td>\n",
       "      <td>https://www.facebook.com/hu.4113/posts/pfbid0R...</td>\n",
       "      <td>0</td>\n",
       "      <td>...</td>\n",
       "      <td>NaN</td>\n",
       "      <td>NaN</td>\n",
       "      <td>NaN</td>\n",
       "      <td>NaN</td>\n",
       "      <td>NaN</td>\n",
       "      <td>NaN</td>\n",
       "      <td>NaN</td>\n",
       "      <td>NaN</td>\n",
       "      <td>NaN</td>\n",
       "      <td>NaN</td>\n",
       "    </tr>\n",
       "    <tr>\n",
       "      <th>3</th>\n",
       "      <td>122128399352198697</td>\n",
       "      <td>247903501729335</td>\n",
       "      <td>HU.co</td>\n",
       "      <td>NaN</td>\n",
       "      <td>KHAIE Coming Episode Promo \\n#khaie #faysalqur...</td>\n",
       "      <td>50</td>\n",
       "      <td>03/14/2024 07:03</td>\n",
       "      <td>NaN</td>\n",
       "      <td>https://www.facebook.com/hu.4113/posts/pfbid0r...</td>\n",
       "      <td>0</td>\n",
       "      <td>...</td>\n",
       "      <td>NaN</td>\n",
       "      <td>NaN</td>\n",
       "      <td>NaN</td>\n",
       "      <td>NaN</td>\n",
       "      <td>NaN</td>\n",
       "      <td>NaN</td>\n",
       "      <td>NaN</td>\n",
       "      <td>NaN</td>\n",
       "      <td>NaN</td>\n",
       "      <td>NaN</td>\n",
       "    </tr>\n",
       "    <tr>\n",
       "      <th>4</th>\n",
       "      <td>1068188127590585</td>\n",
       "      <td>247903501729335</td>\n",
       "      <td>HU.co</td>\n",
       "      <td>NaN</td>\n",
       "      <td>Like, Follow &amp; Share.\\n\\n#islamic #islamdaily ...</td>\n",
       "      <td>34</td>\n",
       "      <td>03/14/2024 19:03</td>\n",
       "      <td>NaN</td>\n",
       "      <td>https://www.facebook.com/reel/1068188127590585/</td>\n",
       "      <td>0</td>\n",
       "      <td>...</td>\n",
       "      <td>NaN</td>\n",
       "      <td>NaN</td>\n",
       "      <td>NaN</td>\n",
       "      <td>NaN</td>\n",
       "      <td>NaN</td>\n",
       "      <td>NaN</td>\n",
       "      <td>NaN</td>\n",
       "      <td>NaN</td>\n",
       "      <td>NaN</td>\n",
       "      <td>NaN</td>\n",
       "    </tr>\n",
       "  </tbody>\n",
       "</table>\n",
       "<p>5 rows × 96 columns</p>\n",
       "</div>"
      ],
      "text/plain": [
       "              Post ID          Page ID Page name  Title  \\\n",
       "0  122128258814198697  247903501729335     HU.co    NaN   \n",
       "1  122128311284198697  247903501729335     HU.co    NaN   \n",
       "2  122128379282198697  247903501729335     HU.co    NaN   \n",
       "3  122128399352198697  247903501729335     HU.co    NaN   \n",
       "4    1068188127590585  247903501729335     HU.co    NaN   \n",
       "\n",
       "                                         Description  Duration (secs)  \\\n",
       "0  KHAIE\\n#khaie #faysalquraishi #hinabayat #uzma...              263   \n",
       "1  KHAIE\\n#khaie #faysalquraishi #hinabayat #uzma...              125   \n",
       "2  KHAIE\\n#khaie #faysalquraishi #hinabayat #uzma...              218   \n",
       "3  KHAIE Coming Episode Promo \\n#khaie #faysalqur...               50   \n",
       "4  Like, Follow & Share.\\n\\n#islamic #islamdaily ...               34   \n",
       "\n",
       "       Publish time Caption type  \\\n",
       "0  03/14/2024 00:03         auto   \n",
       "1  03/14/2024 03:03          NaN   \n",
       "2  03/14/2024 05:03          NaN   \n",
       "3  03/14/2024 07:03          NaN   \n",
       "4  03/14/2024 19:03          NaN   \n",
       "\n",
       "                                           Permalink  Is crosspost  ...  \\\n",
       "0  https://www.facebook.com/hu.4113/posts/pfbid02...             0  ...   \n",
       "1  https://www.facebook.com/hu.4113/posts/pfbid0F...             0  ...   \n",
       "2  https://www.facebook.com/hu.4113/posts/pfbid0R...             0  ...   \n",
       "3  https://www.facebook.com/hu.4113/posts/pfbid0r...             0  ...   \n",
       "4    https://www.facebook.com/reel/1068188127590585/             0  ...   \n",
       "\n",
       "   Views by country (Fiji (FJ)) Views by country (Algeria (DZ))  \\\n",
       "0                           NaN                             NaN   \n",
       "1                           NaN                             NaN   \n",
       "2                           NaN                             NaN   \n",
       "3                           NaN                             NaN   \n",
       "4                           NaN                             NaN   \n",
       "\n",
       "   Views by country (Bhutan (BT))  Views by country (Afghanistan (AF))  \\\n",
       "0                             NaN                                  NaN   \n",
       "1                             NaN                                  NaN   \n",
       "2                             NaN                                  NaN   \n",
       "3                             NaN                                  NaN   \n",
       "4                             NaN                                  NaN   \n",
       "\n",
       "   Views by country (Qatar (QA))  Views by country (Spain (ES))  \\\n",
       "0                            NaN                            NaN   \n",
       "1                            NaN                            NaN   \n",
       "2                            NaN                            NaN   \n",
       "3                            NaN                            NaN   \n",
       "4                            NaN                            NaN   \n",
       "\n",
       "  Views by country (Portugal (PT))  Views by country (New Zealand (NZ))  \\\n",
       "0                              NaN                                  NaN   \n",
       "1                              NaN                                  NaN   \n",
       "2                              NaN                                  NaN   \n",
       "3                              NaN                                  NaN   \n",
       "4                              NaN                                  NaN   \n",
       "\n",
       "   Views by country (Mauritius (MU))  Views by country (Malaysia (MY))  \n",
       "0                                NaN                               NaN  \n",
       "1                                NaN                               NaN  \n",
       "2                                NaN                               NaN  \n",
       "3                                NaN                               NaN  \n",
       "4                                NaN                               NaN  \n",
       "\n",
       "[5 rows x 96 columns]"
      ]
     },
     "execution_count": 4,
     "metadata": {},
     "output_type": "execute_result"
    }
   ],
   "source": [
    "df.head()"
   ]
  },
  {
   "cell_type": "code",
   "execution_count": 5,
   "id": "8fba104c",
   "metadata": {},
   "outputs": [],
   "source": [
    "pd.set_option('display.max_columns', None)"
   ]
  },
  {
   "cell_type": "code",
   "execution_count": 6,
   "id": "5d647b7f",
   "metadata": {},
   "outputs": [
    {
     "name": "stdout",
     "output_type": "stream",
     "text": [
      "<class 'pandas.core.frame.DataFrame'>\n",
      "RangeIndex: 122 entries, 0 to 121\n",
      "Data columns (total 96 columns):\n",
      " #   Column                                        Non-Null Count  Dtype  \n",
      "---  ------                                        --------------  -----  \n",
      " 0   Post ID                                       122 non-null    int64  \n",
      " 1   Page ID                                       122 non-null    int64  \n",
      " 2   Page name                                     122 non-null    object \n",
      " 3   Title                                         0 non-null      float64\n",
      " 4   Description                                   121 non-null    object \n",
      " 5   Duration (secs)                               122 non-null    int64  \n",
      " 6   Publish time                                  122 non-null    object \n",
      " 7   Caption type                                  15 non-null     object \n",
      " 8   Permalink                                     122 non-null    object \n",
      " 9   Is crosspost                                  122 non-null    int64  \n",
      " 10  Is share                                      122 non-null    int64  \n",
      " 11  Post type                                     122 non-null    object \n",
      " 12  Languages                                     0 non-null      float64\n",
      " 13  Custom labels                                 0 non-null      float64\n",
      " 14  Funded content status                         0 non-null      float64\n",
      " 15  Data comment                                  0 non-null      float64\n",
      " 16  Date                                          122 non-null    object \n",
      " 17  Seconds viewed                                119 non-null    float64\n",
      " 18  Average Seconds viewed                        119 non-null    float64\n",
      " 19  Comments                                      122 non-null    int64  \n",
      " 20  Likes                                         122 non-null    int64  \n",
      " 21  Shares                                        122 non-null    int64  \n",
      " 22  People reached                                122 non-null    int64  \n",
      " 23  Impressions                                   122 non-null    int64  \n",
      " 24  Reels plays                                   29 non-null     float64\n",
      " 25  60-second video views                         93 non-null     float64\n",
      " 26  3-second video views                          93 non-null     float64\n",
      " 27  Other clicks                                  77 non-null     float64\n",
      " 28  Photo views                                   1 non-null      float64\n",
      " 29  Unique 60-second video views                  93 non-null     float64\n",
      " 30  Engagements                                   93 non-null     float64\n",
      " 31  Engaged users                                 93 non-null     float64\n",
      " 32  Overall negative feedback                     93 non-null     float64\n",
      " 33  3-second viewers                              93 non-null     float64\n",
      " 34  Unique negative feedback from users           93 non-null     float64\n",
      " 35  Views by top audience (65+)                   9 non-null      float64\n",
      " 36  Views by top audience (55-64)                 9 non-null      float64\n",
      " 37  Views by top audience (45-54)                 9 non-null      float64\n",
      " 38  Views by top audience (35-44)                 9 non-null      float64\n",
      " 39  Views by top audience (25-34)                 9 non-null      float64\n",
      " 40  Views by top audience (18-24)                 9 non-null      float64\n",
      " 41  Views by top audience (13-17)                 9 non-null      float64\n",
      " 42  Views by top audience (65+, M)                9 non-null      float64\n",
      " 43  Views by top audience (65+, F)                9 non-null      float64\n",
      " 44  Views by top audience (55-64, M)              9 non-null      float64\n",
      " 45  Views by top audience (55-64, F)              9 non-null      float64\n",
      " 46  Views by top audience (45-54, M)              9 non-null      float64\n",
      " 47  Views by top audience (45-54, F)              9 non-null      float64\n",
      " 48  Views by top audience (35-44, M)              9 non-null      float64\n",
      " 49  Views by top audience (35-44, F)              9 non-null      float64\n",
      " 50  Views by top audience (25-34, M)              9 non-null      float64\n",
      " 51  Views by top audience (25-34, F)              9 non-null      float64\n",
      " 52  Views by top audience (18-24, M)              9 non-null      float64\n",
      " 53  Views by top audience (18-24, F)              9 non-null      float64\n",
      " 54  Views by top audience (13-17, M)              9 non-null      float64\n",
      " 55  Views by top audience (13-17, F)              9 non-null      float64\n",
      " 56  Views by top audience (M)                     9 non-null      float64\n",
      " 57  Views by top audience (F)                     9 non-null      float64\n",
      " 58  Views by country (Saudi Arabia (SA))          5 non-null      float64\n",
      " 59  Views by country (Bangladesh (BD))            4 non-null      float64\n",
      " 60  Views by country (India (IN))                 8 non-null      float64\n",
      " 61  Views by country (Pakistan (PK))              9 non-null      float64\n",
      " 62  Views by country (Nepal (NP))                 2 non-null      float64\n",
      " 63  Views by country (Indonesia (ID))             1 non-null      float64\n",
      " 64  Views by country (Nigeria (NG))               1 non-null      float64\n",
      " 65  Views by country (Mexico (MX))                1 non-null      float64\n",
      " 66  Views by country (Myanmar (MM))               1 non-null      float64\n",
      " 67  Views by country (Uzbekistan (UZ))            1 non-null      float64\n",
      " 68  Views by country (Germany (DE))               2 non-null      float64\n",
      " 69  Views by country (Sierra Leone (SL))          1 non-null      float64\n",
      " 70  Views by country (Mongolia (MN))              1 non-null      float64\n",
      " 71  Views by country (Greece (GR))                1 non-null      float64\n",
      " 72  Views by country (Morocco (MA))               1 non-null      float64\n",
      " 73  Views by country (Brazil (BR))                1 non-null      float64\n",
      " 74  Views by country (Colombia (CO))              1 non-null      float64\n",
      " 75  Views by country (Australia (AU))             3 non-null      float64\n",
      " 76  Views by country (Italy (IT))                 2 non-null      float64\n",
      " 77  Views by country (Romania (RO))               1 non-null      float64\n",
      " 78  Views by country (Canada (CA))                3 non-null      float64\n",
      " 79  Views by country (United Kingdom (GB))        3 non-null      float64\n",
      " 80  Views by country (Iran (IR))                  2 non-null      float64\n",
      " 81  Views by country (United Arab Emirates (AE))  2 non-null      float64\n",
      " 82  Views by country (United States (US))         3 non-null      float64\n",
      " 83  Views by country (Cambodia (KH))              1 non-null      float64\n",
      " 84  Views by country (Egypt (EG))                 1 non-null      float64\n",
      " 85  Views by country (France (FR))                2 non-null      float64\n",
      " 86  Views by country (Fiji (FJ))                  1 non-null      float64\n",
      " 87  Views by country (Algeria (DZ))               1 non-null      float64\n",
      " 88  Views by country (Bhutan (BT))                1 non-null      float64\n",
      " 89  Views by country (Afghanistan (AF))           1 non-null      float64\n",
      " 90  Views by country (Qatar (QA))                 1 non-null      float64\n",
      " 91  Views by country (Spain (ES))                 1 non-null      float64\n",
      " 92  Views by country (Portugal (PT))              2 non-null      float64\n",
      " 93  Views by country (New Zealand (NZ))           2 non-null      float64\n",
      " 94  Views by country (Mauritius (MU))             1 non-null      float64\n",
      " 95  Views by country (Malaysia (MY))              1 non-null      float64\n",
      "dtypes: float64(79), int64(10), object(7)\n",
      "memory usage: 91.6+ KB\n"
     ]
    }
   ],
   "source": [
    "df.info()"
   ]
  },
  {
   "cell_type": "code",
   "execution_count": 7,
   "id": "5e06cf8f",
   "metadata": {},
   "outputs": [],
   "source": [
    "# df['Duration (secs)'].value_counts()"
   ]
  },
  {
   "cell_type": "code",
   "execution_count": 8,
   "id": "5719de3e",
   "metadata": {},
   "outputs": [
    {
     "data": {
      "text/html": [
       "<div>\n",
       "<style scoped>\n",
       "    .dataframe tbody tr th:only-of-type {\n",
       "        vertical-align: middle;\n",
       "    }\n",
       "\n",
       "    .dataframe tbody tr th {\n",
       "        vertical-align: top;\n",
       "    }\n",
       "\n",
       "    .dataframe thead th {\n",
       "        text-align: right;\n",
       "    }\n",
       "</style>\n",
       "<table border=\"1\" class=\"dataframe\">\n",
       "  <thead>\n",
       "    <tr style=\"text-align: right;\">\n",
       "      <th></th>\n",
       "      <th>Publish time</th>\n",
       "      <th>Duration (secs)</th>\n",
       "    </tr>\n",
       "  </thead>\n",
       "  <tbody>\n",
       "    <tr>\n",
       "      <th>0</th>\n",
       "      <td>03/14/2024 00:03</td>\n",
       "      <td>263</td>\n",
       "    </tr>\n",
       "    <tr>\n",
       "      <th>1</th>\n",
       "      <td>03/14/2024 03:03</td>\n",
       "      <td>125</td>\n",
       "    </tr>\n",
       "    <tr>\n",
       "      <th>2</th>\n",
       "      <td>03/14/2024 05:03</td>\n",
       "      <td>218</td>\n",
       "    </tr>\n",
       "    <tr>\n",
       "      <th>3</th>\n",
       "      <td>03/14/2024 07:03</td>\n",
       "      <td>50</td>\n",
       "    </tr>\n",
       "    <tr>\n",
       "      <th>4</th>\n",
       "      <td>03/14/2024 19:03</td>\n",
       "      <td>34</td>\n",
       "    </tr>\n",
       "  </tbody>\n",
       "</table>\n",
       "</div>"
      ],
      "text/plain": [
       "       Publish time  Duration (secs)\n",
       "0  03/14/2024 00:03              263\n",
       "1  03/14/2024 03:03              125\n",
       "2  03/14/2024 05:03              218\n",
       "3  03/14/2024 07:03               50\n",
       "4  03/14/2024 19:03               34"
      ]
     },
     "execution_count": 8,
     "metadata": {},
     "output_type": "execute_result"
    }
   ],
   "source": [
    "df[['Publish time', 'Duration (secs)']].head()"
   ]
  },
  {
   "cell_type": "code",
   "execution_count": 9,
   "id": "21d2f6c8",
   "metadata": {},
   "outputs": [],
   "source": [
    "df['Publish time'] = pd.to_datetime(df['Publish time'])"
   ]
  },
  {
   "cell_type": "code",
   "execution_count": 10,
   "id": "217287cc",
   "metadata": {},
   "outputs": [
    {
     "data": {
      "text/plain": [
       "122"
      ]
     },
     "execution_count": 10,
     "metadata": {},
     "output_type": "execute_result"
    }
   ],
   "source": [
    "len(df)"
   ]
  },
  {
   "cell_type": "code",
   "execution_count": 11,
   "id": "57993454",
   "metadata": {},
   "outputs": [],
   "source": [
    "# Group by hour and calculate maximum duration\n",
    "df['Hour'] = df['Publish time'].dt.hour\n",
    "max_duration_by_hour = df.groupby('Hour')['Duration (secs)'].max()"
   ]
  },
  {
   "cell_type": "code",
   "execution_count": 12,
   "id": "dba6fb96",
   "metadata": {},
   "outputs": [
    {
     "data": {
      "text/html": [
       "<div>\n",
       "<style scoped>\n",
       "    .dataframe tbody tr th:only-of-type {\n",
       "        vertical-align: middle;\n",
       "    }\n",
       "\n",
       "    .dataframe tbody tr th {\n",
       "        vertical-align: top;\n",
       "    }\n",
       "\n",
       "    .dataframe thead th {\n",
       "        text-align: right;\n",
       "    }\n",
       "</style>\n",
       "<table border=\"1\" class=\"dataframe\">\n",
       "  <thead>\n",
       "    <tr style=\"text-align: right;\">\n",
       "      <th></th>\n",
       "      <th>Publish time</th>\n",
       "      <th>Hour</th>\n",
       "    </tr>\n",
       "  </thead>\n",
       "  <tbody>\n",
       "    <tr>\n",
       "      <th>0</th>\n",
       "      <td>2024-03-14 00:03:00</td>\n",
       "      <td>0</td>\n",
       "    </tr>\n",
       "    <tr>\n",
       "      <th>1</th>\n",
       "      <td>2024-03-14 03:03:00</td>\n",
       "      <td>3</td>\n",
       "    </tr>\n",
       "    <tr>\n",
       "      <th>2</th>\n",
       "      <td>2024-03-14 05:03:00</td>\n",
       "      <td>5</td>\n",
       "    </tr>\n",
       "    <tr>\n",
       "      <th>3</th>\n",
       "      <td>2024-03-14 07:03:00</td>\n",
       "      <td>7</td>\n",
       "    </tr>\n",
       "    <tr>\n",
       "      <th>4</th>\n",
       "      <td>2024-03-14 19:03:00</td>\n",
       "      <td>19</td>\n",
       "    </tr>\n",
       "  </tbody>\n",
       "</table>\n",
       "</div>"
      ],
      "text/plain": [
       "         Publish time  Hour\n",
       "0 2024-03-14 00:03:00     0\n",
       "1 2024-03-14 03:03:00     3\n",
       "2 2024-03-14 05:03:00     5\n",
       "3 2024-03-14 07:03:00     7\n",
       "4 2024-03-14 19:03:00    19"
      ]
     },
     "execution_count": 12,
     "metadata": {},
     "output_type": "execute_result"
    }
   ],
   "source": [
    "df[['Publish time', 'Hour']].head()"
   ]
  },
  {
   "cell_type": "code",
   "execution_count": 13,
   "id": "06265fe5",
   "metadata": {},
   "outputs": [],
   "source": [
    "df['Date'] = df['Publish time'].dt.date\n",
    "df['Day'] = df['Publish time'].dt.day\n",
    "df['Month'] = df['Publish time'].dt.month"
   ]
  },
  {
   "cell_type": "code",
   "execution_count": 14,
   "id": "368cbb85",
   "metadata": {},
   "outputs": [],
   "source": [
    "# Rename a single column\n",
    "df.rename(columns={'Date': 'Full_Date'}, inplace=True)"
   ]
  },
  {
   "cell_type": "code",
   "execution_count": 15,
   "id": "6e84548d",
   "metadata": {},
   "outputs": [],
   "source": [
    "# Rename a single column\n",
    "df.rename(columns={'Day': 'Date'}, inplace=True)"
   ]
  },
  {
   "cell_type": "code",
   "execution_count": 16,
   "id": "c8c2ef21",
   "metadata": {},
   "outputs": [
    {
     "data": {
      "text/plain": [
       "29    3.0\n",
       "31    2.0\n",
       "44    0.0\n",
       "45    0.0\n",
       "50    3.0\n",
       "61    3.0\n",
       "85    1.0\n",
       "86    3.0\n",
       "87    5.0\n",
       "Name: Views by top audience (65+, F), dtype: float64"
      ]
     },
     "execution_count": 16,
     "metadata": {},
     "output_type": "execute_result"
    }
   ],
   "source": [
    "df.loc[\n",
    "    df['Views by top audience (65+, F)'].notna(), 'Views by top audience (65+, F)'\n",
    "]"
   ]
  },
  {
   "cell_type": "code",
   "execution_count": 17,
   "id": "335b4b57",
   "metadata": {},
   "outputs": [],
   "source": [
    "# df[['Permalink', 'Post type','Data comment','Publish time', 'Full_Date', 'Hour', 'Date', 'Month', ', 'Engagements', 'Impressions','Duration (secs)', 'Likes', 'Shares', 'Reels plays']].head()"
   ]
  },
  {
   "cell_type": "code",
   "execution_count": 18,
   "id": "4c326af0",
   "metadata": {},
   "outputs": [],
   "source": [
    "# df.columns.to_list()"
   ]
  },
  {
   "cell_type": "code",
   "execution_count": 19,
   "id": "f87a3286",
   "metadata": {},
   "outputs": [
    {
     "data": {
      "text/plain": [
       "Video      90\n",
       "FB reel    29\n",
       "Photo       3\n",
       "Name: Post type, dtype: int64"
      ]
     },
     "execution_count": 19,
     "metadata": {},
     "output_type": "execute_result"
    }
   ],
   "source": [
    "df['Post type'].value_counts()"
   ]
  },
  {
   "cell_type": "code",
   "execution_count": 20,
   "id": "ba9e3724",
   "metadata": {},
   "outputs": [
    {
     "data": {
      "image/png": "[encoded data removed]",
      "text/plain": [
       "<Figure size 1152x432 with 1 Axes>"
      ]
     },
     "metadata": {
      "needs_background": "light"
     },
     "output_type": "display_data"
    }
   ],
   "source": [
    "# Assuming df['Hour'] contains values from 0 to 23\n",
    "plt.figure(figsize=(16, 6))  # Adjust width and height as needed\n",
    "plt.bar(df['Hour'], df['Impressions'])\n",
    "plt.xlabel('Hour')\n",
    "plt.ylabel('Impressions')\n",
    "plt.title('Impressions vs. Hour')\n",
    "\n",
    "# Set custom x-axis tick labels\n",
    "plt.xticks(range(24), [f\"{hour:02}:00\" for hour in range(24)])  # Format as HH:00\n",
    "# plt.xticks(range(0, 24, 2), [f\"{hour:02}:00\" for hour in range(0, 24, 2)])\n",
    "\n",
    "# Set custom y-axis ticks (every 50)\n",
    "plt.yticks(range(0, max(df['Impressions']) + 1, 50))\n",
    "\n",
    "# Show the plot\n",
    "plt.grid(True)\n",
    "plt.show()\n"
   ]
  },
  {
   "cell_type": "markdown",
   "id": "80ca5801",
   "metadata": {},
   "source": [
    "### Task \n",
    "###### Engagment vs time \n",
    "###### Day base engagment if days available in data or can specify by itself\n",
    "###### likes and views\n",
    "##### views on time basis "
   ]
  },
  {
   "cell_type": "markdown",
   "id": "48e9b6da",
   "metadata": {},
   "source": [
    "### Engagment Vs Time "
   ]
  },
  {
   "cell_type": "code",
   "execution_count": 21,
   "id": "2d9c7a85",
   "metadata": {},
   "outputs": [
    {
     "data": {
      "image/png": "[encoded data removed]",
      "text/plain": [
       "<Figure size 1152x432 with 1 Axes>"
      ]
     },
     "metadata": {
      "needs_background": "light"
     },
     "output_type": "display_data"
    }
   ],
   "source": [
    "plt.figure(figsize=(16, 6))\n",
    "\n",
    "# Create a bar plot\n",
    "plt.bar(df['Hour'], df['Engagements'])\n",
    "\n",
    "plt.xlabel('Hour')\n",
    "plt.ylabel('Engagements')\n",
    "plt.title('Engagements by Hour (Bar Plot)')\n",
    "\n",
    "# Set custom x-axis tick labels\n",
    "# plt.xticks(range(0, 24, 2), [f\"{hour:02}:00\" for hour in range(0, 24, 2)]) # for hour with the difference of 2 \n",
    "plt.xticks(range(0, 24), [f\"{hour:02}:00\" for hour in range(0, 24)])\n",
    "\n",
    "# Set custom y-axis ticks (every 5)\n",
    "max_engagements = int(max(df['Engagements']))\n",
    "plt.yticks(range(0, max_engagements + 1, 5))\n",
    "\n",
    "# Show the plot\n",
    "plt.grid(True)\n",
    "plt.show()"
   ]
  },
  {
   "cell_type": "code",
   "execution_count": 22,
   "id": "a311b021",
   "metadata": {},
   "outputs": [
    {
     "data": {
      "text/plain": [
       "55.0"
      ]
     },
     "execution_count": 22,
     "metadata": {},
     "output_type": "execute_result"
    }
   ],
   "source": [
    "df['Engagements'].max()"
   ]
  },
  {
   "cell_type": "markdown",
   "id": "950483a2",
   "metadata": {},
   "source": [
    "###  To Get the weekDays Name "
   ]
  },
  {
   "cell_type": "code",
   "execution_count": 23,
   "id": "15ed28e7",
   "metadata": {},
   "outputs": [],
   "source": [
    "# Convert the 'Date' column to pandas datetime\n",
    "df['Full_Date'] = pd.to_datetime(df['Full_Date'], errors='coerce')\n",
    "\n",
    "# Get the day of the week (Monday, Tuesday, etc.)\n",
    "df['DayOfWeek'] = df['Full_Date'].dt.day_name()"
   ]
  },
  {
   "cell_type": "code",
   "execution_count": 24,
   "id": "b0a96a37",
   "metadata": {},
   "outputs": [
    {
     "data": {
      "text/html": [
       "<div>\n",
       "<style scoped>\n",
       "    .dataframe tbody tr th:only-of-type {\n",
       "        vertical-align: middle;\n",
       "    }\n",
       "\n",
       "    .dataframe tbody tr th {\n",
       "        vertical-align: top;\n",
       "    }\n",
       "\n",
       "    .dataframe thead th {\n",
       "        text-align: right;\n",
       "    }\n",
       "</style>\n",
       "<table border=\"1\" class=\"dataframe\">\n",
       "  <thead>\n",
       "    <tr style=\"text-align: right;\">\n",
       "      <th></th>\n",
       "      <th>Full_Date</th>\n",
       "      <th>DayOfWeek</th>\n",
       "    </tr>\n",
       "  </thead>\n",
       "  <tbody>\n",
       "    <tr>\n",
       "      <th>0</th>\n",
       "      <td>2024-03-14</td>\n",
       "      <td>Thursday</td>\n",
       "    </tr>\n",
       "    <tr>\n",
       "      <th>1</th>\n",
       "      <td>2024-03-14</td>\n",
       "      <td>Thursday</td>\n",
       "    </tr>\n",
       "    <tr>\n",
       "      <th>2</th>\n",
       "      <td>2024-03-14</td>\n",
       "      <td>Thursday</td>\n",
       "    </tr>\n",
       "    <tr>\n",
       "      <th>3</th>\n",
       "      <td>2024-03-14</td>\n",
       "      <td>Thursday</td>\n",
       "    </tr>\n",
       "    <tr>\n",
       "      <th>4</th>\n",
       "      <td>2024-03-14</td>\n",
       "      <td>Thursday</td>\n",
       "    </tr>\n",
       "  </tbody>\n",
       "</table>\n",
       "</div>"
      ],
      "text/plain": [
       "   Full_Date DayOfWeek\n",
       "0 2024-03-14  Thursday\n",
       "1 2024-03-14  Thursday\n",
       "2 2024-03-14  Thursday\n",
       "3 2024-03-14  Thursday\n",
       "4 2024-03-14  Thursday"
      ]
     },
     "execution_count": 24,
     "metadata": {},
     "output_type": "execute_result"
    }
   ],
   "source": [
    "df[['Full_Date', 'DayOfWeek']].head()"
   ]
  },
  {
   "cell_type": "code",
   "execution_count": 25,
   "id": "91605dd1",
   "metadata": {},
   "outputs": [
    {
     "data": {
      "text/plain": [
       "Wednesday    23\n",
       "Thursday     22\n",
       "Tuesday      21\n",
       "Saturday     16\n",
       "Monday       14\n",
       "Friday       13\n",
       "Sunday       13\n",
       "Name: DayOfWeek, dtype: int64"
      ]
     },
     "execution_count": 25,
     "metadata": {},
     "output_type": "execute_result"
    }
   ],
   "source": [
    "df['DayOfWeek'].value_counts()"
   ]
  },
  {
   "cell_type": "markdown",
   "id": "c4e1ec1f",
   "metadata": {},
   "source": [
    "### Performance On Basis Of Weekdays"
   ]
  },
  {
   "cell_type": "code",
   "execution_count": 26,
   "id": "122c4ea1",
   "metadata": {},
   "outputs": [
    {
     "data": {
      "image/png": "[encoded data removed]",
      "text/plain": [
       "<Figure size 1152x432 with 2 Axes>"
      ]
     },
     "metadata": {
      "needs_background": "light"
     },
     "output_type": "display_data"
    }
   ],
   "source": [
    "# Group by hour and day of the week, calculate the mean engagement\n",
    "hourly_engagement = df.groupby(['Hour', 'DayOfWeek'])['Engagements'].mean().reset_index()\n",
    "\n",
    "# Pivot the data to create a heatmap\n",
    "heatmap_data = hourly_engagement.pivot(index='DayOfWeek', columns='Hour', values='Engagements')\n",
    "\n",
    "# Set the order of weekdays for better visualization\n",
    "weekday_order = ['Monday', 'Tuesday', 'Wednesday', 'Thursday', 'Friday', 'Saturday', 'Sunday']\n",
    "heatmap_data = heatmap_data.reindex(index=weekday_order)\n",
    "\n",
    "# Create the heatmap with added boundary\n",
    "plt.figure(figsize=(16, 6))\n",
    "sns.heatmap(heatmap_data, cmap='YlGnBu', annot=True, fmt='.1f', cbar_kws={'label': 'Average Engagements'},\n",
    "            linewidths=2, linecolor='black')  # Adjust linewidths and linecolor here\n",
    "plt.title('Hourly Engagement by Day of the Week')\n",
    "plt.xlabel('Hour')\n",
    "plt.ylabel('Day of the Week')\n",
    "plt.show()"
   ]
  },
  {
   "cell_type": "code",
   "execution_count": 27,
   "id": "812359b1",
   "metadata": {},
   "outputs": [
    {
     "data": {
      "text/plain": [
       "11.505376344086022"
      ]
     },
     "execution_count": 27,
     "metadata": {},
     "output_type": "execute_result"
    }
   ],
   "source": [
    "df['Engagements'].mean()"
   ]
  },
  {
   "cell_type": "markdown",
   "id": "094aa9c7",
   "metadata": {},
   "source": [
    "##  Instagram EDA"
   ]
  },
  {
   "cell_type": "code",
   "execution_count": 30,
   "id": "d2fcda41",
   "metadata": {},
   "outputs": [],
   "source": [
    "df_insta = pd.read_csv('insta_data.csv')"
   ]
  },
  {
   "cell_type": "code",
   "execution_count": 32,
   "id": "5cd3ed05",
   "metadata": {},
   "outputs": [
    {
     "data": {
      "text/plain": [
       "15"
      ]
     },
     "execution_count": 32,
     "metadata": {},
     "output_type": "execute_result"
    }
   ],
   "source": [
    "len(df_insta)"
   ]
  },
  {
   "cell_type": "code",
   "execution_count": 50,
   "id": "fc9b05da",
   "metadata": {},
   "outputs": [
    {
     "data": {
      "text/plain": [
       "1   2024-02-23 22:02:00\n",
       "2   2024-03-09 12:03:00\n",
       "3   2024-03-13 07:03:00\n",
       "Name: Publish time, dtype: datetime64[ns]"
      ]
     },
     "execution_count": 50,
     "metadata": {},
     "output_type": "execute_result"
    }
   ],
   "source": [
    "df_insta['Publish time'][1:4]"
   ]
  },
  {
   "cell_type": "code",
   "execution_count": 43,
   "id": "d07a58ae",
   "metadata": {},
   "outputs": [],
   "source": [
    "df_insta['Publish time'] = pd.to_datetime(df_insta['Publish time'])"
   ]
  },
  {
   "cell_type": "code",
   "execution_count": 54,
   "id": "0e752588",
   "metadata": {},
   "outputs": [],
   "source": [
    "df_insta['Date'] = df_insta['Publish time'].dt.date\n",
    "df_insta['Day'] = df_insta['Publish time'].dt.day\n",
    "df_insta['Month'] = df_insta['Publish time'].dt.month\n",
    "df_insta['DayOfWeek'] = df_insta['Publish time'].dt.day_name()\n",
    "df_insta['Hour'] = df_insta['Publish time'].dt.hour"
   ]
  },
  {
   "cell_type": "code",
   "execution_count": 55,
   "id": "6d5ed8c8",
   "metadata": {},
   "outputs": [
    {
     "data": {
      "text/html": [
       "<div>\n",
       "<style scoped>\n",
       "    .dataframe tbody tr th:only-of-type {\n",
       "        vertical-align: middle;\n",
       "    }\n",
       "\n",
       "    .dataframe tbody tr th {\n",
       "        vertical-align: top;\n",
       "    }\n",
       "\n",
       "    .dataframe thead th {\n",
       "        text-align: right;\n",
       "    }\n",
       "</style>\n",
       "<table border=\"1\" class=\"dataframe\">\n",
       "  <thead>\n",
       "    <tr style=\"text-align: right;\">\n",
       "      <th></th>\n",
       "      <th>Publish time</th>\n",
       "      <th>Day</th>\n",
       "      <th>Month</th>\n",
       "      <th>DayOfWeek</th>\n",
       "      <th>Hour</th>\n",
       "    </tr>\n",
       "  </thead>\n",
       "  <tbody>\n",
       "    <tr>\n",
       "      <th>0</th>\n",
       "      <td>2024-02-21 05:02:00</td>\n",
       "      <td>21</td>\n",
       "      <td>2</td>\n",
       "      <td>Wednesday</td>\n",
       "      <td>5</td>\n",
       "    </tr>\n",
       "    <tr>\n",
       "      <th>1</th>\n",
       "      <td>2024-02-23 22:02:00</td>\n",
       "      <td>23</td>\n",
       "      <td>2</td>\n",
       "      <td>Friday</td>\n",
       "      <td>22</td>\n",
       "    </tr>\n",
       "    <tr>\n",
       "      <th>2</th>\n",
       "      <td>2024-03-09 12:03:00</td>\n",
       "      <td>9</td>\n",
       "      <td>3</td>\n",
       "      <td>Saturday</td>\n",
       "      <td>12</td>\n",
       "    </tr>\n",
       "    <tr>\n",
       "      <th>3</th>\n",
       "      <td>2024-03-13 07:03:00</td>\n",
       "      <td>13</td>\n",
       "      <td>3</td>\n",
       "      <td>Wednesday</td>\n",
       "      <td>7</td>\n",
       "    </tr>\n",
       "    <tr>\n",
       "      <th>4</th>\n",
       "      <td>2024-03-14 03:03:00</td>\n",
       "      <td>14</td>\n",
       "      <td>3</td>\n",
       "      <td>Thursday</td>\n",
       "      <td>3</td>\n",
       "    </tr>\n",
       "  </tbody>\n",
       "</table>\n",
       "</div>"
      ],
      "text/plain": [
       "         Publish time  Day  Month  DayOfWeek  Hour\n",
       "0 2024-02-21 05:02:00   21      2  Wednesday     5\n",
       "1 2024-02-23 22:02:00   23      2     Friday    22\n",
       "2 2024-03-09 12:03:00    9      3   Saturday    12\n",
       "3 2024-03-13 07:03:00   13      3  Wednesday     7\n",
       "4 2024-03-14 03:03:00   14      3   Thursday     3"
      ]
     },
     "execution_count": 55,
     "metadata": {},
     "output_type": "execute_result"
    }
   ],
   "source": [
    "df_insta[['Publish time', 'Day', 'Month', 'DayOfWeek', 'Hour']].head()"
   ]
  },
  {
   "cell_type": "code",
   "execution_count": 56,
   "id": "6b13b8df",
   "metadata": {},
   "outputs": [
    {
     "data": {
      "text/html": [
       "<div>\n",
       "<style scoped>\n",
       "    .dataframe tbody tr th:only-of-type {\n",
       "        vertical-align: middle;\n",
       "    }\n",
       "\n",
       "    .dataframe tbody tr th {\n",
       "        vertical-align: top;\n",
       "    }\n",
       "\n",
       "    .dataframe thead th {\n",
       "        text-align: right;\n",
       "    }\n",
       "</style>\n",
       "<table border=\"1\" class=\"dataframe\">\n",
       "  <thead>\n",
       "    <tr style=\"text-align: right;\">\n",
       "      <th></th>\n",
       "      <th>Post ID</th>\n",
       "      <th>Account ID</th>\n",
       "      <th>Account username</th>\n",
       "      <th>Account name</th>\n",
       "      <th>Description</th>\n",
       "      <th>Duration (secs)</th>\n",
       "      <th>Publish time</th>\n",
       "      <th>Permalink</th>\n",
       "      <th>Post type</th>\n",
       "      <th>Data comment</th>\n",
       "      <th>Date</th>\n",
       "      <th>Impressions</th>\n",
       "      <th>Reach</th>\n",
       "      <th>Shares</th>\n",
       "      <th>Follows</th>\n",
       "      <th>Plays</th>\n",
       "      <th>Likes</th>\n",
       "      <th>Comments</th>\n",
       "      <th>Saves</th>\n",
       "      <th>Day</th>\n",
       "      <th>Month</th>\n",
       "      <th>DayOfWeek</th>\n",
       "      <th>Hour</th>\n",
       "    </tr>\n",
       "  </thead>\n",
       "  <tbody>\n",
       "    <tr>\n",
       "      <th>0</th>\n",
       "      <td>18035715169751658</td>\n",
       "      <td>17841465176534235</td>\n",
       "      <td>hu4113.co</td>\n",
       "      <td>Hu.co</td>\n",
       "      <td>#reels #reelsinsta#reelsinstagramreels #reelsv...</td>\n",
       "      <td>27</td>\n",
       "      <td>2024-02-21 05:02:00</td>\n",
       "      <td>https://www.instagram.com/reel/C3nK6nQIGSD/</td>\n",
       "      <td>IG reel</td>\n",
       "      <td>NaN</td>\n",
       "      <td>2024-02-21</td>\n",
       "      <td>5</td>\n",
       "      <td>4</td>\n",
       "      <td>0</td>\n",
       "      <td>0</td>\n",
       "      <td>5</td>\n",
       "      <td>3</td>\n",
       "      <td>0</td>\n",
       "      <td>0</td>\n",
       "      <td>21</td>\n",
       "      <td>2</td>\n",
       "      <td>Wednesday</td>\n",
       "      <td>5</td>\n",
       "    </tr>\n",
       "    <tr>\n",
       "      <th>1</th>\n",
       "      <td>18022114208008141</td>\n",
       "      <td>17841465176534235</td>\n",
       "      <td>hu4113.co</td>\n",
       "      <td>Hu.co</td>\n",
       "      <td>#reelitfeelit #tiktok #trending #explore #inst...</td>\n",
       "      <td>5</td>\n",
       "      <td>2024-02-23 22:02:00</td>\n",
       "      <td>https://www.instagram.com/reel/C3uDDU_BtG7/</td>\n",
       "      <td>IG reel</td>\n",
       "      <td>NaN</td>\n",
       "      <td>2024-02-23</td>\n",
       "      <td>3</td>\n",
       "      <td>1</td>\n",
       "      <td>0</td>\n",
       "      <td>0</td>\n",
       "      <td>3</td>\n",
       "      <td>1</td>\n",
       "      <td>0</td>\n",
       "      <td>0</td>\n",
       "      <td>23</td>\n",
       "      <td>2</td>\n",
       "      <td>Friday</td>\n",
       "      <td>22</td>\n",
       "    </tr>\n",
       "  </tbody>\n",
       "</table>\n",
       "</div>"
      ],
      "text/plain": [
       "             Post ID         Account ID Account username Account name  \\\n",
       "0  18035715169751658  17841465176534235        hu4113.co        Hu.co   \n",
       "1  18022114208008141  17841465176534235        hu4113.co        Hu.co   \n",
       "\n",
       "                                         Description  Duration (secs)  \\\n",
       "0  #reels #reelsinsta#reelsinstagramreels #reelsv...               27   \n",
       "1  #reelitfeelit #tiktok #trending #explore #inst...                5   \n",
       "\n",
       "         Publish time                                    Permalink Post type  \\\n",
       "0 2024-02-21 05:02:00  https://www.instagram.com/reel/C3nK6nQIGSD/   IG reel   \n",
       "1 2024-02-23 22:02:00  https://www.instagram.com/reel/C3uDDU_BtG7/   IG reel   \n",
       "\n",
       "   Data comment        Date  Impressions  Reach  Shares  Follows  Plays  \\\n",
       "0           NaN  2024-02-21            5      4       0        0      5   \n",
       "1           NaN  2024-02-23            3      1       0        0      3   \n",
       "\n",
       "   Likes  Comments  Saves  Day  Month  DayOfWeek  Hour  \n",
       "0      3         0      0   21      2  Wednesday     5  \n",
       "1      1         0      0   23      2     Friday    22  "
      ]
     },
     "execution_count": 56,
     "metadata": {},
     "output_type": "execute_result"
    }
   ],
   "source": [
    "df_insta.head(2)"
   ]
  },
  {
   "cell_type": "code",
   "execution_count": 52,
   "id": "fec90187",
   "metadata": {},
   "outputs": [
    {
     "data": {
      "text/plain": [
       "IG reel     14\n",
       "IG image     1\n",
       "Name: Post type, dtype: int64"
      ]
     },
     "execution_count": 52,
     "metadata": {},
     "output_type": "execute_result"
    }
   ],
   "source": [
    "df_insta['Post type'].value_counts()"
   ]
  },
  {
   "cell_type": "code",
   "execution_count": 64,
   "id": "92d8b559",
   "metadata": {},
   "outputs": [
    {
     "data": {
      "text/html": [
       "<div>\n",
       "<style scoped>\n",
       "    .dataframe tbody tr th:only-of-type {\n",
       "        vertical-align: middle;\n",
       "    }\n",
       "\n",
       "    .dataframe tbody tr th {\n",
       "        vertical-align: top;\n",
       "    }\n",
       "\n",
       "    .dataframe thead th {\n",
       "        text-align: right;\n",
       "    }\n",
       "</style>\n",
       "<table border=\"1\" class=\"dataframe\">\n",
       "  <thead>\n",
       "    <tr style=\"text-align: right;\">\n",
       "      <th></th>\n",
       "      <th>Hour</th>\n",
       "      <th>Impressions</th>\n",
       "      <th>Reach</th>\n",
       "      <th>Shares</th>\n",
       "      <th>Likes</th>\n",
       "    </tr>\n",
       "  </thead>\n",
       "  <tbody>\n",
       "    <tr>\n",
       "      <th>0</th>\n",
       "      <td>5</td>\n",
       "      <td>5</td>\n",
       "      <td>4</td>\n",
       "      <td>0</td>\n",
       "      <td>3</td>\n",
       "    </tr>\n",
       "    <tr>\n",
       "      <th>1</th>\n",
       "      <td>22</td>\n",
       "      <td>3</td>\n",
       "      <td>1</td>\n",
       "      <td>0</td>\n",
       "      <td>1</td>\n",
       "    </tr>\n",
       "    <tr>\n",
       "      <th>2</th>\n",
       "      <td>12</td>\n",
       "      <td>48</td>\n",
       "      <td>46</td>\n",
       "      <td>0</td>\n",
       "      <td>3</td>\n",
       "    </tr>\n",
       "    <tr>\n",
       "      <th>3</th>\n",
       "      <td>7</td>\n",
       "      <td>323</td>\n",
       "      <td>316</td>\n",
       "      <td>1</td>\n",
       "      <td>42</td>\n",
       "    </tr>\n",
       "    <tr>\n",
       "      <th>4</th>\n",
       "      <td>3</td>\n",
       "      <td>1</td>\n",
       "      <td>1</td>\n",
       "      <td>0</td>\n",
       "      <td>1</td>\n",
       "    </tr>\n",
       "  </tbody>\n",
       "</table>\n",
       "</div>"
      ],
      "text/plain": [
       "   Hour  Impressions  Reach  Shares  Likes\n",
       "0     5            5      4       0      3\n",
       "1    22            3      1       0      1\n",
       "2    12           48     46       0      3\n",
       "3     7          323    316       1     42\n",
       "4     3            1      1       0      1"
      ]
     },
     "execution_count": 64,
     "metadata": {},
     "output_type": "execute_result"
    }
   ],
   "source": [
    "df_insta[['Hour', 'Impressions', 'Reach', 'Shares', 'Likes']].head()"
   ]
  },
  {
   "cell_type": "code",
   "execution_count": 62,
   "id": "19af81ac",
   "metadata": {},
   "outputs": [
    {
     "data": {
      "image/png": "[encoded data removed]",
      "text/plain": [
       "<Figure size 1152x432 with 1 Axes>"
      ]
     },
     "metadata": {
      "needs_background": "light"
     },
     "output_type": "display_data"
    }
   ],
   "source": [
    "# Assuming df['Hour'] contains values from 0 to 23\n",
    "plt.figure(figsize=(16, 6))  # Adjust width and height as needed\n",
    "plt.bar(df_insta['Hour'], df_insta['Impressions'])\n",
    "plt.xlabel('Hour')\n",
    "plt.ylabel('Impressions')\n",
    "plt.title('Instagram Impressions vs. Hour')\n",
    "\n",
    "# Set custom x-axis tick labels\n",
    "plt.xticks(range(24), [f\"{hour:02}:00\" for hour in range(24)])  # Format as HH:00\n",
    "# plt.xticks(range(0, 24, 2), [f\"{hour:02}:00\" for hour in range(0, 24, 2)])\n",
    "\n",
    "# Set custom y-axis ticks (every 50)\n",
    "plt.yticks(range(0, max(df_insta['Impressions']) + 1, 50))\n",
    "\n",
    "# Show the plot\n",
    "plt.grid(True)\n",
    "plt.show()\n"
   ]
  },
  {
   "cell_type": "code",
   "execution_count": 63,
   "id": "6afe57a6",
   "metadata": {},
   "outputs": [
    {
     "data": {
      "text/plain": [
       "323"
      ]
     },
     "execution_count": 63,
     "metadata": {},
     "output_type": "execute_result"
    }
   ],
   "source": [
    "df_insta['Impressions'].max()"
   ]
  },
  {
   "cell_type": "code",
   "execution_count": 66,
   "id": "2dd92dfa",
   "metadata": {},
   "outputs": [
    {
     "data": {
      "image/png": "[encoded data removed]",
      "text/plain": [
       "<Figure size 1152x432 with 1 Axes>"
      ]
     },
     "metadata": {
      "needs_background": "light"
     },
     "output_type": "display_data"
    }
   ],
   "source": [
    "# Assuming df['Hour'] contains values from 0 to 23\n",
    "plt.figure(figsize=(16, 6))  # Adjust width and height as needed\n",
    "plt.bar(df_insta['Hour'], df_insta['Reach'])\n",
    "plt.xlabel('Hour')\n",
    "plt.ylabel('Reach')\n",
    "plt.title('Instagram Reach vs. Hour')\n",
    "\n",
    "# Set custom x-axis tick labels\n",
    "plt.xticks(range(24), [f\"{hour:02}:00\" for hour in range(24)])  # Format as HH:00\n",
    "# plt.xticks(range(0, 24, 2), [f\"{hour:02}:00\" for hour in range(0, 24, 2)])\n",
    "\n",
    "# Set custom y-axis ticks (every 50)\n",
    "plt.yticks(range(0, max(df_insta['Reach']) + 1, 50))\n",
    "\n",
    "# Show the plot\n",
    "plt.grid(True)\n",
    "plt.show()\n"
   ]
  },
  {
   "cell_type": "code",
   "execution_count": 67,
   "id": "3f8938f9",
   "metadata": {},
   "outputs": [
    {
     "data": {
      "text/plain": [
       "316"
      ]
     },
     "execution_count": 67,
     "metadata": {},
     "output_type": "execute_result"
    }
   ],
   "source": [
    "df_insta['Reach'].max()"
   ]
  },
  {
   "cell_type": "code",
   "execution_count": 70,
   "id": "431542eb",
   "metadata": {},
   "outputs": [
    {
     "data": {
      "image/png": "[encoded data removed]",
      "text/plain": [
       "<Figure size 1152x432 with 1 Axes>"
      ]
     },
     "metadata": {
      "needs_background": "light"
     },
     "output_type": "display_data"
    }
   ],
   "source": [
    "# Assuming df['Hour'] contains values from 0 to 23\n",
    "plt.figure(figsize=(16, 6))  # Adjust width and height as needed\n",
    "plt.bar(df_insta['Hour'], df_insta['Likes'])\n",
    "plt.xlabel('Hour')\n",
    "plt.ylabel('Likes')\n",
    "plt.title('Instagram Likes vs. Hour')\n",
    "\n",
    "# Set custom x-axis tick labels\n",
    "plt.xticks(range(24), [f\"{hour:02}:00\" for hour in range(24)])  # Format as HH:00\n",
    "# plt.xticks(range(0, 24, 2), [f\"{hour:02}:00\" for hour in range(0, 24, 2)])\n",
    "\n",
    "# Set custom y-axis ticks (every 50)\n",
    "plt.yticks(range(0, max(df_insta['Likes']) + 1, 10))\n",
    "\n",
    "# Show the plot\n",
    "plt.grid(True)\n",
    "plt.show()"
   ]
  },
  {
   "cell_type": "code",
   "execution_count": 69,
   "id": "a643adf5",
   "metadata": {},
   "outputs": [
    {
     "data": {
      "text/plain": [
       "42"
      ]
     },
     "execution_count": 69,
     "metadata": {},
     "output_type": "execute_result"
    }
   ],
   "source": [
    "df_insta['Likes'].max()"
   ]
  },
  {
   "cell_type": "code",
   "execution_count": null,
   "id": "b8438946",
   "metadata": {},
   "outputs": [],
   "source": []
  }
 ],
 "metadata": {
  "kernelspec": {
   "display_name": "Python 3",
   "language": "python",
   "name": "python3"
  },
  "language_info": {
   "codemirror_mode": {
    "name": "ipython",
    "version": 3
   },
   "file_extension": ".py",
   "mimetype": "text/x-python",
   "name": "python",
   "nbconvert_exporter": "python",
   "pygments_lexer": "ipython3",
   "version": "3.7.9"
  }
 },
 "nbformat": 4,
 "nbformat_minor": 5
}
