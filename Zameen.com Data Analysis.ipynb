{
 "cells": [
  {
   "cell_type": "code",
   "execution_count": null,
   "metadata": {},
   "outputs": [],
   "source": [
    "!pip install xlrd"
   ]
  },
  {
   "cell_type": "code",
   "execution_count": null,
   "metadata": {},
   "outputs": [],
   "source": [
    "!pip install xlrd==1.2.0"
   ]
  },
  {
   "cell_type": "code",
   "execution_count": null,
   "metadata": {},
   "outputs": [],
   "source": [
    "!pip install openpyxl"
   ]
  },
  {
   "cell_type": "code",
   "execution_count": null,
   "metadata": {},
   "outputs": [],
   "source": [
    "!pip install pandas "
   ]
  },
  {
   "cell_type": "code",
   "execution_count": null,
   "metadata": {},
   "outputs": [],
   "source": [
    "!pip install pymongo"
   ]
  },
  {
   "cell_type": "code",
   "execution_count": 1,
   "metadata": {},
   "outputs": [],
   "source": [
    "import pandas as pd \n",
    "from pymongo import MongoClient"
   ]
  },
  {
   "cell_type": "code",
   "execution_count": 2,
   "metadata": {},
   "outputs": [
    {
     "name": "stdout",
     "output_type": "stream",
     "text": [
      "Data connection is successful\n"
     ]
    }
   ],
   "source": [
    "url = \"mongodb://localhost:27017/\"\n",
    "conn = MongoClient(url)\n",
    "db = conn['zameen']\n",
    "\n",
    "print('Data connection is successful')"
   ]
  },
  {
   "cell_type": "code",
   "execution_count": 238,
   "metadata": {},
   "outputs": [
    {
     "name": "stderr",
     "output_type": "stream",
     "text": [
      "/Users/mustafa/Workspace/Pandas/Notebooks/env/lib/python2.7/site-packages/ipykernel_launcher.py:1: DeprecationWarning: remove is deprecated. Use delete_one or delete_many instead.\n",
      "  \"\"\"Entry point for launching an IPython kernel.\n"
     ]
    }
   ],
   "source": [
    "# resp = db['plots_data'].remove({})"
   ]
  },
  {
   "cell_type": "code",
   "execution_count": 166,
   "metadata": {},
   "outputs": [
    {
     "name": "stderr",
     "output_type": "stream",
     "text": [
      "/Users/mustafa/Workspace/Pandas/Notebooks/env/lib/python2.7/site-packages/ipykernel_launcher.py:1: DeprecationWarning: remove is deprecated. Use delete_one or delete_many instead.\n",
      "  \"\"\"Entry point for launching an IPython kernel.\n"
     ]
    }
   ],
   "source": [
    "# resp = db['rental_plots_data'].remove({})"
   ]
  },
  {
   "cell_type": "code",
   "execution_count": 229,
   "metadata": {},
   "outputs": [],
   "source": [
    "query = {\n",
    "#     'city' : 'Islamabad',\n",
    "#     'area' : '5 Marla'\n",
    "}\n",
    "\n",
    "df = pd.DataFrame(list(db.plots_data.find()))"
   ]
  },
  {
   "cell_type": "code",
   "execution_count": 230,
   "metadata": {},
   "outputs": [
    {
     "data": {
      "text/plain": [
       "1430"
      ]
     },
     "execution_count": 230,
     "metadata": {},
     "output_type": "execute_result"
    }
   ],
   "source": [
    "len(df)"
   ]
  },
  {
   "cell_type": "code",
   "execution_count": 11,
   "metadata": {},
   "outputs": [
    {
     "data": {
      "text/plain": [
       "0       54 \n",
       "1       60 \n",
       "2       45 \n",
       "3     1.3 C\n",
       "4    1.25 C\n",
       "Name: price, dtype: object"
      ]
     },
     "execution_count": 11,
     "metadata": {},
     "output_type": "execute_result"
    }
   ],
   "source": [
    "df['price'].str[:-4].head()"
   ]
  },
  {
   "cell_type": "code",
   "execution_count": 12,
   "metadata": {},
   "outputs": [
    {
     "data": {
      "text/plain": [
       "Lahore             502\n",
       "Islamabad          475\n",
       "Karachi            430\n",
       "Karachi_Clifton     25\n",
       "Name: city, dtype: int64"
      ]
     },
     "execution_count": 12,
     "metadata": {},
     "output_type": "execute_result"
    }
   ],
   "source": [
    "df['city'].value_counts()"
   ]
  },
  {
   "cell_type": "code",
   "execution_count": 261,
   "metadata": {},
   "outputs": [],
   "source": [
    "df.pivot_table(index='_id', columns='city', values='area', aggfunc='sum').head()"
   ]
  },
  {
   "cell_type": "code",
   "execution_count": 20,
   "metadata": {},
   "outputs": [],
   "source": [
    "df.pivot_table(index='area', columns='city', values='price', aggfunc='first')"
   ]
  },
  {
   "cell_type": "code",
   "execution_count": null,
   "metadata": {},
   "outputs": [],
   "source": [
    "# Convert price column to one unit e.g crore or lakh or 1000 \n",
    "# cast column to integer\n",
    "\n",
    "# Convert Area column to one unit e.g crore or lakh or 1000 \n",
    "# cast column to integer"
   ]
  },
  {
   "cell_type": "code",
   "execution_count": null,
   "metadata": {},
   "outputs": [],
   "source": [
    "# bar graph of cities on x axis\n",
    "# y axis shows count of 5 marla, 10 marla, 20 marla and so on\n",
    "\n",
    "\n",
    "# Min, max and average price range for all cities\n",
    "\n",
    "# show correlation between price and area\n",
    "# show corelation between price and city\n",
    "\n"
   ]
  },
  {
   "cell_type": "code",
   "execution_count": 226,
   "metadata": {},
   "outputs": [],
   "source": [
    "def convert_price_to_numeric(price_str):\n",
    "    if 'Thousand' in price_str:\n",
    "        return float(price_str.replace('Thousand', ''))/100\n",
    "    \n",
    "    if 'Lakh' in price_str:\n",
    "        return float(price_str.replace(' Lakh', ''))\n",
    "    \n",
    "    elif 'Crore' in price_str:\n",
    "        return float(price_str.replace(' Crore', '')) * 100\n",
    "    \n",
    "    elif 'Arab' in price_str:\n",
    "        return float(price_str.replace(' Arab', '')) * 10000\n",
    "    \n",
    "    else:\n",
    "        return price_str\n"
   ]
  },
  {
   "cell_type": "code",
   "execution_count": null,
   "metadata": {},
   "outputs": [],
   "source": [
    "# Apply the conversion function to the 'price' column\n",
    "df['price_in_numeric'] = df['price'].apply(convert_price_to_numeric)"
   ]
  },
  {
   "cell_type": "code",
   "execution_count": 23,
   "metadata": {},
   "outputs": [],
   "source": [
    "df['Plot Price (in Lakh)'] = df['price_in_numeric'].map(int)"
   ]
  },
  {
   "cell_type": "code",
   "execution_count": 29,
   "metadata": {},
   "outputs": [],
   "source": [
    "def convert_to_kanals(area):\n",
    "    area = area.replace(',', '')  # Remove comma from the area string\n",
    "    \n",
    "    if 'Kanal' in area:\n",
    "        return float(area.split()[0]) \n",
    "    \n",
    "    elif 'Marla' in area:\n",
    "        return float(area.split()[0]) / 20\n",
    "    \n",
    "    elif 'Sq. Yd.' in area:\n",
    "        return float(area.split()[0]) / 20\n",
    "    \n",
    "    else:\n",
    "        return None"
   ]
  },
  {
   "cell_type": "code",
   "execution_count": 30,
   "metadata": {},
   "outputs": [],
   "source": [
    "df['area_in_kanals'] = df['area'].apply(convert_to_kanals)"
   ]
  },
  {
   "cell_type": "code",
   "execution_count": null,
   "metadata": {},
   "outputs": [],
   "source": [
    "# to convert square yard to marla i.e sq_yd/20.004\n",
    "def square_yards_to_marla(square_yards):\n",
    "    return square_yards / 20.0004\n",
    "\n",
    "square_yards_to_marla(1000)"
   ]
  },
  {
   "cell_type": "code",
   "execution_count": 31,
   "metadata": {},
   "outputs": [],
   "source": [
    "def convert_to_marla(area):\n",
    "    area = area.replace(',', '')  # Remove comma from the area string\n",
    "    \n",
    "    if 'Kanal' in area:\n",
    "        return float(area.split()[0]) * 20\n",
    "    \n",
    "    elif 'Marla' in area:\n",
    "        return float(area.split()[0])\n",
    "    \n",
    "    elif 'Sq. Yd.' in area:\n",
    "        return float(area.split()[0]) / 20\n",
    "    \n",
    "    else:\n",
    "        return None"
   ]
  },
  {
   "cell_type": "code",
   "execution_count": 32,
   "metadata": {},
   "outputs": [],
   "source": [
    "df['area_in_marla'] = df['area'].apply(convert_to_marla)"
   ]
  },
  {
   "cell_type": "code",
   "execution_count": 35,
   "metadata": {},
   "outputs": [],
   "source": [
    "mini_df = df[[\"city\",\"area_in_marla\",\"Plot Price (in Lakh)\"]]"
   ]
  },
  {
   "cell_type": "code",
   "execution_count": 262,
   "metadata": {},
   "outputs": [],
   "source": [
    "df.pivot_table(index=\"city\", columns=\"area_in_marla\", aggfunc=\"count\")"
   ]
  },
  {
   "cell_type": "code",
   "execution_count": 37,
   "metadata": {},
   "outputs": [
    {
     "name": "stdout",
     "output_type": "stream",
     "text": [
      "(\"Correlation between 'price_in_numeric' and 'area_in_kanals':\", 0.337091228204013)\n"
     ]
    }
   ],
   "source": [
    "correlation = df['price_in_numeric'].corr(df['area_in_kanals'])\n",
    "\n",
    "print(\"Correlation between 'price_in_numeric' and 'area_in_kanals':\", correlation)"
   ]
  },
  {
   "cell_type": "code",
   "execution_count": 38,
   "metadata": {},
   "outputs": [],
   "source": [
    "# df = df[['city', 'location', 'area_in_marla', 'Plot Price (in Lakh)', ]]"
   ]
  },
  {
   "cell_type": "code",
   "execution_count": null,
   "metadata": {},
   "outputs": [],
   "source": [
    "# data = 'plots_data_update.xlsx'\n",
    "# df.to_excel(data)"
   ]
  },
  {
   "cell_type": "code",
   "execution_count": 240,
   "metadata": {},
   "outputs": [],
   "source": [
    "some_df = pd.read_excel('plots_data_update.xlsx', 'Sheet1')"
   ]
  },
  {
   "cell_type": "code",
   "execution_count": 241,
   "metadata": {},
   "outputs": [],
   "source": [
    "df = some_df"
   ]
  },
  {
   "cell_type": "code",
   "execution_count": 8,
   "metadata": {},
   "outputs": [],
   "source": [
    "some_df['bucket_1'] = pd.qcut(some_df['Plot Price (in Lakh)'], q=10)"
   ]
  },
  {
   "cell_type": "code",
   "execution_count": 10,
   "metadata": {},
   "outputs": [],
   "source": [
    "some_df['bucket_2'] = pd.qcut(some_df['Plot Price (in Lakh)'], q=10, precision=0)"
   ]
  },
  {
   "cell_type": "code",
   "execution_count": 43,
   "metadata": {},
   "outputs": [],
   "source": [
    "some_df['marla_bucket'] = pd.qcut(some_df['area_in_marla'], q=4, precision=0)"
   ]
  },
  {
   "cell_type": "code",
   "execution_count": 23,
   "metadata": {},
   "outputs": [],
   "source": [
    "# some_df.to_excel(\"spreadsheets/working.xlsx\", index=False)"
   ]
  },
  {
   "cell_type": "code",
   "execution_count": 206,
   "metadata": {},
   "outputs": [],
   "source": [
    "rental_plot_df =pd.DataFrame(list(db.rental_plots_data.find()))                 "
   ]
  },
  {
   "cell_type": "code",
   "execution_count": 244,
   "metadata": {},
   "outputs": [],
   "source": [
    "rental_plot_df['price_in_numeric'] = rental_plot_df['Price'].apply(convert_price_to_numeric)"
   ]
  },
  {
   "cell_type": "code",
   "execution_count": 246,
   "metadata": {},
   "outputs": [],
   "source": [
    "rental_plot_df['area_in_marla'] = rental_plot_df['Area'].apply(convert_to_marla)"
   ]
  },
  {
   "cell_type": "code",
   "execution_count": 51,
   "metadata": {},
   "outputs": [],
   "source": [
    "rental_plot_df = rental_plot_df[['city', 'location', 'area_in_marla', 'price_in_numeric']]"
   ]
  },
  {
   "cell_type": "code",
   "execution_count": 250,
   "metadata": {},
   "outputs": [],
   "source": [
    "rental_plot_df.rename(columns={'price_in_numeric' : 'Plot Price (in Lakh)'}, inplace=True)"
   ]
  },
  {
   "cell_type": "markdown",
   "metadata": {},
   "source": [
    "### To insert Data in Mongo Collection After Transformation"
   ]
  },
  {
   "cell_type": "code",
   "execution_count": 258,
   "metadata": {},
   "outputs": [],
   "source": [
    "payload = []\n",
    "\n",
    "for index, row in df.iterrows():\n",
    "    data_dict = row.to_dict() \n",
    "    data_dict['type'] = 'Residential'\n",
    "    payload.append(data_dict)"
   ]
  },
  {
   "cell_type": "code",
   "execution_count": 260,
   "metadata": {},
   "outputs": [
    {
     "name": "stderr",
     "output_type": "stream",
     "text": [
      "/Users/mustafa/Workspace/Pandas/Notebooks/env/lib/python2.7/site-packages/ipykernel_launcher.py:1: DeprecationWarning: insert is deprecated. Use insert_one or insert_many instead.\n",
      "  \"\"\"Entry point for launching an IPython kernel.\n"
     ]
    }
   ],
   "source": [
    "resp = db.plots_data.insert(payload)"
   ]
  },
  {
   "cell_type": "code",
   "execution_count": 251,
   "metadata": {},
   "outputs": [],
   "source": [
    "rental_plot_df.rename(columns= {'Area' : 'area', 'Location' : 'location', 'City' : 'city'}, inplace=True)"
   ]
  },
  {
   "cell_type": "code",
   "execution_count": 253,
   "metadata": {},
   "outputs": [],
   "source": [
    "rental_plot_df = rental_plot_df[['city', 'location', 'area_in_marla', 'Plot Price (in Lakh)', 'Total Number of Beds', 'Total Number of Baths']]"
   ]
  },
  {
   "cell_type": "code",
   "execution_count": 254,
   "metadata": {},
   "outputs": [],
   "source": [
    "# for rental data\n",
    "rental_payload = []\n",
    "\n",
    "for index, row in rental_plot_df.iterrows():\n",
    "    data_dict = row.to_dict() \n",
    "    data_dict['type'] = 'Rental'\n",
    "    rental_payload.append(data_dict)"
   ]
  },
  {
   "cell_type": "code",
   "execution_count": 256,
   "metadata": {},
   "outputs": [
    {
     "name": "stderr",
     "output_type": "stream",
     "text": [
      "/Users/mustafa/Workspace/Pandas/Notebooks/env/lib/python2.7/site-packages/ipykernel_launcher.py:1: DeprecationWarning: insert is deprecated. Use insert_one or insert_many instead.\n",
      "  \"\"\"Entry point for launching an IPython kernel.\n"
     ]
    }
   ],
   "source": [
    "rental_resp = db.plots_data.insert(rental_payload)"
   ]
  },
  {
   "cell_type": "code",
   "execution_count": 263,
   "metadata": {},
   "outputs": [],
   "source": [
    "len(pd.DataFrame(db.rental_plots_data.find({})))"
   ]
  },
  {
   "cell_type": "code",
   "execution_count": 92,
   "metadata": {},
   "outputs": [],
   "source": [
    "resp = db.plots_data.insert_many(sample_data_2)"
   ]
  },
  {
   "cell_type": "code",
   "execution_count": 95,
   "metadata": {},
   "outputs": [
    {
     "name": "stderr",
     "output_type": "stream",
     "text": [
      "/Users/mustafa/Workspace/Pandas/Notebooks/env/lib/python2.7/site-packages/ipykernel_launcher.py:5: DeprecationWarning: remove is deprecated. Use delete_one or delete_many instead.\n",
      "  \"\"\"\n"
     ]
    },
    {
     "data": {
      "text/plain": [
       "{u'n': 9, u'ok': 1.0}"
      ]
     },
     "execution_count": 95,
     "metadata": {},
     "output_type": "execute_result"
    }
   ],
   "source": [
    "# query = {\n",
    "#     \"type\" : \"Rental\"\n",
    "# }\n",
    "\n",
    "# resp = db.plots_data.remove(query)\n",
    "# resp"
   ]
  },
  {
   "cell_type": "code",
   "execution_count": 205,
   "metadata": {},
   "outputs": [],
   "source": [
    "# resp = db['plots_data'].remove({'type' : 'Rental'})"
   ]
  },
  {
   "cell_type": "code",
   "execution_count": 4,
   "metadata": {},
   "outputs": [],
   "source": [
    "df = pd.DataFrame(list(db.plots_data.find({})))"
   ]
  },
  {
   "cell_type": "code",
   "execution_count": 5,
   "metadata": {},
   "outputs": [
    {
     "data": {
      "text/html": [
       "<div>\n",
       "<style scoped>\n",
       "    .dataframe tbody tr th:only-of-type {\n",
       "        vertical-align: middle;\n",
       "    }\n",
       "\n",
       "    .dataframe tbody tr th {\n",
       "        vertical-align: top;\n",
       "    }\n",
       "\n",
       "    .dataframe thead th {\n",
       "        text-align: right;\n",
       "    }\n",
       "</style>\n",
       "<table border=\"1\" class=\"dataframe\">\n",
       "  <thead>\n",
       "    <tr style=\"text-align: right;\">\n",
       "      <th></th>\n",
       "      <th>Plot Price (in Lakh)</th>\n",
       "      <th>Total Number of Baths</th>\n",
       "      <th>Total Number of Beds</th>\n",
       "      <th>_id</th>\n",
       "      <th>area_in_marla</th>\n",
       "      <th>city</th>\n",
       "      <th>location</th>\n",
       "      <th>type</th>\n",
       "    </tr>\n",
       "  </thead>\n",
       "  <tbody>\n",
       "    <tr>\n",
       "      <th>0</th>\n",
       "      <td>0.6</td>\n",
       "      <td>4</td>\n",
       "      <td>3</td>\n",
       "      <td>64c15b38d884c0fc3b5881c2</td>\n",
       "      <td>5.0</td>\n",
       "      <td>Lahore</td>\n",
       "      <td>Bahria Town - Block BB, Bahria Town - Sector D</td>\n",
       "      <td>Rental</td>\n",
       "    </tr>\n",
       "    <tr>\n",
       "      <th>1</th>\n",
       "      <td>2.3</td>\n",
       "      <td>6</td>\n",
       "      <td>5</td>\n",
       "      <td>64c15b38d884c0fc3b5881c3</td>\n",
       "      <td>20.0</td>\n",
       "      <td>Lahore</td>\n",
       "      <td>DHA Phase 5, DHA Defence</td>\n",
       "      <td>Rental</td>\n",
       "    </tr>\n",
       "    <tr>\n",
       "      <th>2</th>\n",
       "      <td>2.3</td>\n",
       "      <td>6</td>\n",
       "      <td>5</td>\n",
       "      <td>64c15b38d884c0fc3b5881c4</td>\n",
       "      <td>20.0</td>\n",
       "      <td>Lahore</td>\n",
       "      <td>DHA Phase 6, DHA Defence</td>\n",
       "      <td>Rental</td>\n",
       "    </tr>\n",
       "    <tr>\n",
       "      <th>3</th>\n",
       "      <td>2.3</td>\n",
       "      <td>6</td>\n",
       "      <td>5</td>\n",
       "      <td>64c15b38d884c0fc3b5881c5</td>\n",
       "      <td>20.0</td>\n",
       "      <td>Lahore</td>\n",
       "      <td>DHA Phase 4, DHA Defence</td>\n",
       "      <td>Rental</td>\n",
       "    </tr>\n",
       "    <tr>\n",
       "      <th>4</th>\n",
       "      <td>2.3</td>\n",
       "      <td>6</td>\n",
       "      <td>5</td>\n",
       "      <td>64c15b38d884c0fc3b5881c6</td>\n",
       "      <td>20.0</td>\n",
       "      <td>Lahore</td>\n",
       "      <td>DHA Phase 5, DHA Defence</td>\n",
       "      <td>Rental</td>\n",
       "    </tr>\n",
       "  </tbody>\n",
       "</table>\n",
       "</div>"
      ],
      "text/plain": [
       "   Plot Price (in Lakh) Total Number of Baths Total Number of Beds  \\\n",
       "0                   0.6                     4                    3   \n",
       "1                   2.3                     6                    5   \n",
       "2                   2.3                     6                    5   \n",
       "3                   2.3                     6                    5   \n",
       "4                   2.3                     6                    5   \n",
       "\n",
       "                        _id  area_in_marla    city  \\\n",
       "0  64c15b38d884c0fc3b5881c2            5.0  Lahore   \n",
       "1  64c15b38d884c0fc3b5881c3           20.0  Lahore   \n",
       "2  64c15b38d884c0fc3b5881c4           20.0  Lahore   \n",
       "3  64c15b38d884c0fc3b5881c5           20.0  Lahore   \n",
       "4  64c15b38d884c0fc3b5881c6           20.0  Lahore   \n",
       "\n",
       "                                         location    type  \n",
       "0  Bahria Town - Block BB, Bahria Town - Sector D  Rental  \n",
       "1                        DHA Phase 5, DHA Defence  Rental  \n",
       "2                        DHA Phase 6, DHA Defence  Rental  \n",
       "3                        DHA Phase 4, DHA Defence  Rental  \n",
       "4                        DHA Phase 5, DHA Defence  Rental  "
      ]
     },
     "execution_count": 5,
     "metadata": {},
     "output_type": "execute_result"
    }
   ],
   "source": [
    "df.head()"
   ]
  },
  {
   "cell_type": "code",
   "execution_count": 6,
   "metadata": {},
   "outputs": [
    {
     "data": {
      "text/plain": [
       "Rental         1600\n",
       "Residential    1430\n",
       "Name: type, dtype: int64"
      ]
     },
     "execution_count": 6,
     "metadata": {},
     "output_type": "execute_result"
    }
   ],
   "source": [
    "df['type'].value_counts()"
   ]
  },
  {
   "cell_type": "code",
   "execution_count": 11,
   "metadata": {},
   "outputs": [
    {
     "data": {
      "text/html": [
       "<div>\n",
       "<style scoped>\n",
       "    .dataframe tbody tr th:only-of-type {\n",
       "        vertical-align: middle;\n",
       "    }\n",
       "\n",
       "    .dataframe tbody tr th {\n",
       "        vertical-align: top;\n",
       "    }\n",
       "\n",
       "    .dataframe thead th {\n",
       "        text-align: right;\n",
       "    }\n",
       "</style>\n",
       "<table border=\"1\" class=\"dataframe\">\n",
       "  <thead>\n",
       "    <tr style=\"text-align: right;\">\n",
       "      <th></th>\n",
       "      <th></th>\n",
       "      <th>Plot Price (in Lakh)</th>\n",
       "    </tr>\n",
       "    <tr>\n",
       "      <th>city</th>\n",
       "      <th>type</th>\n",
       "      <th></th>\n",
       "    </tr>\n",
       "  </thead>\n",
       "  <tbody>\n",
       "    <tr>\n",
       "      <th rowspan=\"2\" valign=\"top\">Islamabad</th>\n",
       "      <th>Rental</th>\n",
       "      <td>6.756411</td>\n",
       "    </tr>\n",
       "    <tr>\n",
       "      <th>Residential</th>\n",
       "      <td>235.353684</td>\n",
       "    </tr>\n",
       "    <tr>\n",
       "      <th rowspan=\"2\" valign=\"top\">Karachi</th>\n",
       "      <th>Rental</th>\n",
       "      <td>2.765421</td>\n",
       "    </tr>\n",
       "    <tr>\n",
       "      <th>Residential</th>\n",
       "      <td>306.839535</td>\n",
       "    </tr>\n",
       "    <tr>\n",
       "      <th rowspan=\"2\" valign=\"top\">Karachi_Clifton</th>\n",
       "      <th>Rental</th>\n",
       "      <td>6.428916</td>\n",
       "    </tr>\n",
       "    <tr>\n",
       "      <th>Residential</th>\n",
       "      <td>3413.680000</td>\n",
       "    </tr>\n",
       "    <tr>\n",
       "      <th rowspan=\"2\" valign=\"top\">Lahore</th>\n",
       "      <th>Rental</th>\n",
       "      <td>2.315734</td>\n",
       "    </tr>\n",
       "    <tr>\n",
       "      <th>Residential</th>\n",
       "      <td>279.724000</td>\n",
       "    </tr>\n",
       "  </tbody>\n",
       "</table>\n",
       "</div>"
      ],
      "text/plain": [
       "                             Plot Price (in Lakh)\n",
       "city            type                             \n",
       "Islamabad       Rental                   6.756411\n",
       "                Residential            235.353684\n",
       "Karachi         Rental                   2.765421\n",
       "                Residential            306.839535\n",
       "Karachi_Clifton Rental                   6.428916\n",
       "                Residential           3413.680000\n",
       "Lahore          Rental                   2.315734\n",
       "                Residential            279.724000"
      ]
     },
     "execution_count": 11,
     "metadata": {},
     "output_type": "execute_result"
    }
   ],
   "source": [
    "pivot_table = pd.pivot_table(df, index=[\"city\", \"type\"], values=[ \"Plot Price (in Lakh)\"], aggfunc=\"mean\")\n",
    "pivot_table"
   ]
  },
  {
   "cell_type": "code",
   "execution_count": null,
   "metadata": {},
   "outputs": [],
   "source": []
  }
 ],
 "metadata": {
  "kernelspec": {
   "display_name": "Python 2",
   "language": "python",
   "name": "python2"
  },
  "language_info": {
   "codemirror_mode": {
    "name": "ipython",
    "version": 2
   },
   "file_extension": ".py",
   "mimetype": "text/x-python",
   "name": "python",
   "nbconvert_exporter": "python",
   "pygments_lexer": "ipython2",
   "version": "2.7.16"
  }
 },
 "nbformat": 4,
 "nbformat_minor": 2
}
