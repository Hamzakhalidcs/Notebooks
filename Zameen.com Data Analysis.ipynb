{
 "cells": [
  {
   "cell_type": "code",
   "execution_count": null,
   "metadata": {},
   "outputs": [],
   "source": [
    "!pip install openpyxl"
   ]
  },
  {
   "cell_type": "code",
   "execution_count": null,
   "metadata": {},
   "outputs": [],
   "source": [
    "!pip install pandas "
   ]
  },
  {
   "cell_type": "code",
   "execution_count": null,
   "metadata": {},
   "outputs": [],
   "source": [
    "!pip install pymongo"
   ]
  },
  {
   "cell_type": "code",
   "execution_count": 5,
   "metadata": {},
   "outputs": [],
   "source": [
    "import pandas as pd \n",
    "from pymongo import MongoClient"
   ]
  },
  {
   "cell_type": "code",
   "execution_count": 48,
   "metadata": {},
   "outputs": [
    {
     "name": "stdout",
     "output_type": "stream",
     "text": [
      "Data connection is successful\n"
     ]
    }
   ],
   "source": [
    "url = \"mongodb://localhost:27017/\"\n",
    "conn = MongoClient(url)\n",
    "db = conn['zameen']\n",
    "print('Data connection is successful')"
   ]
  },
  {
   "cell_type": "code",
   "execution_count": 49,
   "metadata": {},
   "outputs": [
    {
     "data": {
      "text/plain": [
       "Database(MongoClient(host=['localhost:27017'], document_class=dict, tz_aware=False, connect=True), u'zameen')"
      ]
     },
     "execution_count": 49,
     "metadata": {},
     "output_type": "execute_result"
    }
   ],
   "source": [
    "db"
   ]
  },
  {
   "cell_type": "code",
   "execution_count": 50,
   "metadata": {},
   "outputs": [],
   "source": [
    "query = {\n",
    "#     'city' : 'Islamabad',\n",
    "#     'area' : '5 Marla'\n",
    "}\n",
    "\n",
    "df = pd.DataFrame(list(db.plots_data.find()))"
   ]
  },
  {
   "cell_type": "code",
   "execution_count": null,
   "metadata": {},
   "outputs": [],
   "source": [
    "len(df)"
   ]
  },
  {
   "cell_type": "code",
   "execution_count": null,
   "metadata": {},
   "outputs": [],
   "source": [
    "df.head()"
   ]
  },
  {
   "cell_type": "code",
   "execution_count": null,
   "metadata": {},
   "outputs": [],
   "source": [
    "df['price'].str[:-4].head()"
   ]
  },
  {
   "cell_type": "code",
   "execution_count": null,
   "metadata": {},
   "outputs": [],
   "source": [
    "df['city'].value_counts()"
   ]
  },
  {
   "cell_type": "code",
   "execution_count": null,
   "metadata": {},
   "outputs": [],
   "source": [
    "df.pivot_table(index='id', columns='city', values='area', aggfunc='sum')"
   ]
  },
  {
   "cell_type": "code",
   "execution_count": null,
   "metadata": {},
   "outputs": [],
   "source": [
    "df.iloc[0]"
   ]
  },
  {
   "cell_type": "code",
   "execution_count": null,
   "metadata": {},
   "outputs": [],
   "source": [
    "df.pivot_table(index='area', columns='city', values='price', aggfunc='first')"
   ]
  },
  {
   "cell_type": "code",
   "execution_count": null,
   "metadata": {},
   "outputs": [],
   "source": [
    "df[\n",
    "    (df['area'] == '1 Kanal')\n",
    "][['city','area', 'price']].head()"
   ]
  },
  {
   "cell_type": "code",
   "execution_count": null,
   "metadata": {},
   "outputs": [],
   "source": [
    "df['area'].value_counts()"
   ]
  },
  {
   "cell_type": "code",
   "execution_count": null,
   "metadata": {},
   "outputs": [],
   "source": [
    "df.describe()"
   ]
  },
  {
   "cell_type": "code",
   "execution_count": null,
   "metadata": {},
   "outputs": [],
   "source": [
    "df.price.dtype"
   ]
  },
  {
   "cell_type": "code",
   "execution_count": null,
   "metadata": {},
   "outputs": [],
   "source": [
    "# df[df['price'].str.contains('Crore')][['city', 'price']].head()\n",
    "df['price'].head()"
   ]
  },
  {
   "cell_type": "code",
   "execution_count": null,
   "metadata": {},
   "outputs": [],
   "source": [
    "# Convert price column to one unit e.g crore or lakh or 1000 \n",
    "# cast column to integer\n",
    "\n",
    "# Convert Area column to one unit e.g crore or lakh or 1000 \n",
    "# cast column to integer"
   ]
  },
  {
   "cell_type": "code",
   "execution_count": null,
   "metadata": {},
   "outputs": [],
   "source": [
    "# bar graph of cities on x axis\n",
    "# y axis shows count of 5 marla, 10 marla, 20 marla and so on\n",
    "\n",
    "\n",
    "# Min, max and average price range for all cities\n",
    "\n",
    "# show correlation between price and area\n",
    "# show corelation between price and city\n",
    "\n"
   ]
  },
  {
   "cell_type": "code",
   "execution_count": null,
   "metadata": {},
   "outputs": [],
   "source": [
    "def convert_price_to_numeric(price_str):\n",
    "    if 'Lakh' in price_str:\n",
    "        return float(price_str.replace(' Lakh', ''))\n",
    "    \n",
    "    elif 'Crore' in price_str:\n",
    "        return float(price_str.replace(' Crore', '')) * 100\n",
    "    \n",
    "    elif 'Arab' in price_str:\n",
    "        return float(price_str.replace(' Arab', '')) * 10000\n",
    "    \n",
    "    else:\n",
    "        return price_str\n",
    "\n",
    "# Apply the conversion function to the 'price' column\n",
    "df['price_in_numeric'] = df['price'].apply(convert_price_to_numeric)\n"
   ]
  },
  {
   "cell_type": "code",
   "execution_count": null,
   "metadata": {},
   "outputs": [],
   "source": [
    "df['Plot Price (in Lakh)'] = df['price_in_numeric'].map(int)"
   ]
  },
  {
   "cell_type": "code",
   "execution_count": null,
   "metadata": {},
   "outputs": [],
   "source": [
    "df[['price', 'Plot Price (in Lakh)']].head()"
   ]
  },
  {
   "cell_type": "code",
   "execution_count": null,
   "metadata": {},
   "outputs": [],
   "source": [
    "df[df['price'].str.contains('Arab')]['price']"
   ]
  },
  {
   "cell_type": "code",
   "execution_count": null,
   "metadata": {},
   "outputs": [],
   "source": [
    "# df['price'].value_counts()"
   ]
  },
  {
   "cell_type": "code",
   "execution_count": null,
   "metadata": {},
   "outputs": [],
   "source": [
    "df['area'].value_counts().head()"
   ]
  },
  {
   "cell_type": "code",
   "execution_count": null,
   "metadata": {},
   "outputs": [],
   "source": [
    "df['Plot_str'] = df['area'].str.split().str.get(1)"
   ]
  },
  {
   "cell_type": "code",
   "execution_count": null,
   "metadata": {},
   "outputs": [],
   "source": [
    "df['Plot_str'].value_counts()"
   ]
  },
  {
   "cell_type": "code",
   "execution_count": null,
   "metadata": {},
   "outputs": [],
   "source": [
    "# df[df['area'].str.contains('Kanal')]"
   ]
  },
  {
   "cell_type": "code",
   "execution_count": null,
   "metadata": {},
   "outputs": [],
   "source": [
    "# df['area'].str.split().str.get(0)"
   ]
  },
  {
   "cell_type": "code",
   "execution_count": null,
   "metadata": {},
   "outputs": [],
   "source": [
    "df['area'].head()"
   ]
  },
  {
   "cell_type": "code",
   "execution_count": null,
   "metadata": {},
   "outputs": [],
   "source": [
    "def convert_to_kanals(area):\n",
    "    area = area.replace(',', '')  # Remove comma from the area string\n",
    "    \n",
    "    if 'Kanal' in area:\n",
    "        return float(area.split()[0]) \n",
    "    \n",
    "    elif 'Marla' in area:\n",
    "        return float(area.split()[0]) / 20\n",
    "    \n",
    "    elif 'Sq. Yd.' in area:\n",
    "        return float(area.split()[0]) / 20\n",
    "    \n",
    "    else:\n",
    "        return None"
   ]
  },
  {
   "cell_type": "code",
   "execution_count": null,
   "metadata": {},
   "outputs": [],
   "source": [
    "df['area_in_kanals'] = df['area'].apply(convert_to_kanals)"
   ]
  },
  {
   "cell_type": "code",
   "execution_count": null,
   "metadata": {},
   "outputs": [],
   "source": [
    "# to convert square yard to marla i.e sq_yd/20.004\n",
    "def square_yards_to_marla(square_yards):\n",
    "    return square_yards / 20.0004\n",
    "\n",
    "square_yards_to_marla(1000)"
   ]
  },
  {
   "cell_type": "code",
   "execution_count": null,
   "metadata": {},
   "outputs": [],
   "source": [
    "def convert_to_marla(area):\n",
    "    area = area.replace(',', '')  # Remove comma from the area string\n",
    "    \n",
    "    if 'Kanal' in area:\n",
    "        return float(area.split()[0]) * 20\n",
    "    \n",
    "    elif 'Marla' in area:\n",
    "        return float(area.split()[0])\n",
    "    \n",
    "    elif 'Sq. Yd.' in area:\n",
    "        return float(area.split()[0]) / 20\n",
    "    \n",
    "    else:\n",
    "        return None"
   ]
  },
  {
   "cell_type": "code",
   "execution_count": null,
   "metadata": {},
   "outputs": [],
   "source": [
    "df['area_in_marla'] = df['area'].apply(convert_to_marla)"
   ]
  },
  {
   "cell_type": "code",
   "execution_count": null,
   "metadata": {},
   "outputs": [],
   "source": [
    "df[['area', 'area_in_kanals', 'area_in_marla']].head()"
   ]
  },
  {
   "cell_type": "code",
   "execution_count": null,
   "metadata": {},
   "outputs": [],
   "source": [
    "df[\n",
    "    df['area'].str.contains('Kanal')\n",
    "][['area', 'area_in_kanals', 'area_in_marla']].head()"
   ]
  },
  {
   "cell_type": "code",
   "execution_count": null,
   "metadata": {},
   "outputs": [],
   "source": [
    "# df[df['area'].str.contains(',')]['area']"
   ]
  },
  {
   "cell_type": "code",
   "execution_count": null,
   "metadata": {},
   "outputs": [],
   "source": [
    "mini_df = df[[\"city\",\"area_in_marla\",\"Plot Price (in Lakh)\"]]"
   ]
  },
  {
   "cell_type": "code",
   "execution_count": null,
   "metadata": {},
   "outputs": [],
   "source": [
    "df.pivot_table(index=\"city\", columns=\"area_in_marla\", aggfunc=\"count\")"
   ]
  },
  {
   "cell_type": "code",
   "execution_count": null,
   "metadata": {},
   "outputs": [],
   "source": []
  },
  {
   "cell_type": "code",
   "execution_count": null,
   "metadata": {},
   "outputs": [],
   "source": [
    "df[df['area_in_kanals']==1250.0][['area', 'area_in_kanals']]"
   ]
  },
  {
   "cell_type": "code",
   "execution_count": null,
   "metadata": {},
   "outputs": [],
   "source": [
    "df"
   ]
  },
  {
   "cell_type": "code",
   "execution_count": null,
   "metadata": {},
   "outputs": [],
   "source": [
    "correlation = df['price_in_numeric'].corr(df['area_in_kanals'])\n",
    "\n",
    "print(\"Correlation between 'price_in_numeric' and 'area_in_kanals':\", correlation)"
   ]
  },
  {
   "cell_type": "code",
   "execution_count": null,
   "metadata": {},
   "outputs": [],
   "source": [
    "df.columns"
   ]
  },
  {
   "cell_type": "code",
   "execution_count": null,
   "metadata": {},
   "outputs": [],
   "source": [
    "df = df[['city', 'location', 'area_in_marla', 'Plot Price (in Lakh)', ]]"
   ]
  },
  {
   "cell_type": "code",
   "execution_count": null,
   "metadata": {},
   "outputs": [],
   "source": []
  },
  {
   "cell_type": "code",
   "execution_count": null,
   "metadata": {},
   "outputs": [],
   "source": []
  },
  {
   "cell_type": "code",
   "execution_count": null,
   "metadata": {},
   "outputs": [],
   "source": []
  },
  {
   "cell_type": "code",
   "execution_count": null,
   "metadata": {},
   "outputs": [],
   "source": []
  },
  {
   "cell_type": "code",
   "execution_count": null,
   "metadata": {},
   "outputs": [],
   "source": [
    "data = 'plots_data_update.xlsx'\n",
    "df.to_excel(data)"
   ]
  },
  {
   "cell_type": "code",
   "execution_count": null,
   "metadata": {},
   "outputs": [],
   "source": [
    "!pip install xlrd==1.2.0"
   ]
  },
  {
   "cell_type": "code",
   "execution_count": 2,
   "metadata": {},
   "outputs": [],
   "source": [
    "some_df = pd.read_excel('plots_data_update.xlsx', )"
   ]
  },
  {
   "cell_type": "code",
   "execution_count": null,
   "metadata": {},
   "outputs": [],
   "source": [
    "!pip install xlrd"
   ]
  },
  {
   "cell_type": "code",
   "execution_count": 8,
   "metadata": {},
   "outputs": [],
   "source": [
    "some_df['bucket_1'] = pd.qcut(some_df['Plot Price (in Lakh)'], q=10)"
   ]
  },
  {
   "cell_type": "code",
   "execution_count": 10,
   "metadata": {},
   "outputs": [],
   "source": [
    "some_df['bucket_2'] = pd.qcut(some_df['Plot Price (in Lakh)'], q=10, precision=0)"
   ]
  },
  {
   "cell_type": "code",
   "execution_count": 43,
   "metadata": {},
   "outputs": [],
   "source": [
    "some_df['marla_bucket'] = pd.qcut(some_df['area_in_marla'], q=4, precision=0)"
   ]
  },
  {
   "cell_type": "code",
   "execution_count": 40,
   "metadata": {},
   "outputs": [
    {
     "data": {
      "text/plain": [
       "(10.0, 20.0]      455\n",
       "(2.0, 6.0]        428\n",
       "(6.0, 10.0]       297\n",
       "(20.0, 1250.0]    250\n",
       "Name: marla_bucket, dtype: int64"
      ]
     },
     "execution_count": 40,
     "metadata": {},
     "output_type": "execute_result"
    }
   ],
   "source": [
    "some_df.marla_bucket.value_counts()"
   ]
  },
  {
   "cell_type": "code",
   "execution_count": 44,
   "metadata": {},
   "outputs": [
    {
     "data": {
      "text/html": [
       "<div>\n",
       "<style scoped>\n",
       "    .dataframe tbody tr th:only-of-type {\n",
       "        vertical-align: middle;\n",
       "    }\n",
       "\n",
       "    .dataframe tbody tr th {\n",
       "        vertical-align: top;\n",
       "    }\n",
       "\n",
       "    .dataframe thead th {\n",
       "        text-align: right;\n",
       "    }\n",
       "</style>\n",
       "<table border=\"1\" class=\"dataframe\">\n",
       "  <thead>\n",
       "    <tr style=\"text-align: right;\">\n",
       "      <th></th>\n",
       "      <th>area_in_marla</th>\n",
       "      <th>marla_bucket</th>\n",
       "    </tr>\n",
       "  </thead>\n",
       "  <tbody>\n",
       "    <tr>\n",
       "      <th>0</th>\n",
       "      <td>10.0</td>\n",
       "      <td>(6.0, 10.0]</td>\n",
       "    </tr>\n",
       "    <tr>\n",
       "      <th>1</th>\n",
       "      <td>5.0</td>\n",
       "      <td>(2.0, 6.0]</td>\n",
       "    </tr>\n",
       "    <tr>\n",
       "      <th>2</th>\n",
       "      <td>5.0</td>\n",
       "      <td>(2.0, 6.0]</td>\n",
       "    </tr>\n",
       "    <tr>\n",
       "      <th>3</th>\n",
       "      <td>10.0</td>\n",
       "      <td>(6.0, 10.0]</td>\n",
       "    </tr>\n",
       "    <tr>\n",
       "      <th>4</th>\n",
       "      <td>10.0</td>\n",
       "      <td>(6.0, 10.0]</td>\n",
       "    </tr>\n",
       "  </tbody>\n",
       "</table>\n",
       "</div>"
      ],
      "text/plain": [
       "   area_in_marla marla_bucket\n",
       "0           10.0  (6.0, 10.0]\n",
       "1            5.0   (2.0, 6.0]\n",
       "2            5.0   (2.0, 6.0]\n",
       "3           10.0  (6.0, 10.0]\n",
       "4           10.0  (6.0, 10.0]"
      ]
     },
     "execution_count": 44,
     "metadata": {},
     "output_type": "execute_result"
    }
   ],
   "source": [
    "some_df[['area_in_marla', 'marla_bucket']].head()"
   ]
  },
  {
   "cell_type": "code",
   "execution_count": 13,
   "metadata": {},
   "outputs": [
    {
     "data": {
      "text/plain": [
       "(125.0, 170.0]      148\n",
       "(51.8, 70.0]        147\n",
       "(2.999, 36.0]       146\n",
       "(570.5, 13000.0]    143\n",
       "(347.6, 570.5]      143\n",
       "(170.0, 240.0]      143\n",
       "(94.0, 125.0]       143\n",
       "(70.0, 94.0]        140\n",
       "(36.0, 51.8]        140\n",
       "(240.0, 347.6]      137\n",
       "Name: bucket_1, dtype: int64"
      ]
     },
     "execution_count": 13,
     "metadata": {},
     "output_type": "execute_result"
    }
   ],
   "source": [
    "some_df['bucket_1'].value_counts()"
   ]
  },
  {
   "cell_type": "code",
   "execution_count": 28,
   "metadata": {},
   "outputs": [
    {
     "data": {
      "text/html": [
       "<div>\n",
       "<style scoped>\n",
       "    .dataframe tbody tr th:only-of-type {\n",
       "        vertical-align: middle;\n",
       "    }\n",
       "\n",
       "    .dataframe tbody tr th {\n",
       "        vertical-align: top;\n",
       "    }\n",
       "\n",
       "    .dataframe thead th {\n",
       "        text-align: right;\n",
       "    }\n",
       "</style>\n",
       "<table border=\"1\" class=\"dataframe\">\n",
       "  <thead>\n",
       "    <tr style=\"text-align: right;\">\n",
       "      <th></th>\n",
       "      <th>Unnamed: 0</th>\n",
       "      <th>city</th>\n",
       "      <th>location</th>\n",
       "      <th>area_in_marla</th>\n",
       "      <th>Plot Price (in Lakh)</th>\n",
       "      <th>bucket_1</th>\n",
       "      <th>bucket_2</th>\n",
       "      <th>marla_bucket</th>\n",
       "    </tr>\n",
       "  </thead>\n",
       "  <tbody>\n",
       "    <tr>\n",
       "      <th>0</th>\n",
       "      <td>0</td>\n",
       "      <td>Lahore</td>\n",
       "      <td>Bahria Orchard Phase 4 - Block G5, Bahria Orch...</td>\n",
       "      <td>10.0</td>\n",
       "      <td>54</td>\n",
       "      <td>(51.8, 70.0]</td>\n",
       "      <td>(52.0, 70.0]</td>\n",
       "      <td>(2.999, 1250.0]</td>\n",
       "    </tr>\n",
       "    <tr>\n",
       "      <th>1</th>\n",
       "      <td>1</td>\n",
       "      <td>Lahore</td>\n",
       "      <td>Park View City - Crystal Block, Park View City</td>\n",
       "      <td>5.0</td>\n",
       "      <td>60</td>\n",
       "      <td>(51.8, 70.0]</td>\n",
       "      <td>(52.0, 70.0]</td>\n",
       "      <td>(2.999, 1250.0]</td>\n",
       "    </tr>\n",
       "  </tbody>\n",
       "</table>\n",
       "</div>"
      ],
      "text/plain": [
       "   Unnamed: 0    city                                           location  \\\n",
       "0           0  Lahore  Bahria Orchard Phase 4 - Block G5, Bahria Orch...   \n",
       "1           1  Lahore     Park View City - Crystal Block, Park View City   \n",
       "\n",
       "   area_in_marla  Plot Price (in Lakh)      bucket_1      bucket_2  \\\n",
       "0           10.0                    54  (51.8, 70.0]  (52.0, 70.0]   \n",
       "1            5.0                    60  (51.8, 70.0]  (52.0, 70.0]   \n",
       "\n",
       "      marla_bucket  \n",
       "0  (2.999, 1250.0]  \n",
       "1  (2.999, 1250.0]  "
      ]
     },
     "execution_count": 28,
     "metadata": {},
     "output_type": "execute_result"
    }
   ],
   "source": [
    "some_df.head(2)"
   ]
  },
  {
   "cell_type": "code",
   "execution_count": 22,
   "metadata": {},
   "outputs": [
    {
     "data": {
      "text/plain": [
       "[(51.8, 70.0], (36.0, 51.8], (125.0, 170.0], (94.0, 125.0], (570.5, 13000.0], (70.0, 94.0], (240.0, 347.6], (170.0, 240.0], (347.6, 570.5], (2.999, 36.0]]\n",
       "Categories (10, interval[float64]): [(2.999, 36.0] < (36.0, 51.8] < (51.8, 70.0] < (70.0, 94.0] ... (170.0, 240.0] < (240.0, 347.6] < (347.6, 570.5] < (570.5, 13000.0]]"
      ]
     },
     "execution_count": 22,
     "metadata": {},
     "output_type": "execute_result"
    }
   ],
   "source": [
    "some_df.bucket_1.unique()"
   ]
  },
  {
   "cell_type": "code",
   "execution_count": 23,
   "metadata": {},
   "outputs": [],
   "source": [
    "some_df.to_excel(\"spreadsheets/working.xlsx\", index=False)"
   ]
  },
  {
   "cell_type": "code",
   "execution_count": 54,
   "metadata": {},
   "outputs": [],
   "source": [
    "rental_plot_df =pd.DataFrame(list(db.rental_plots_data.find()))                 "
   ]
  },
  {
   "cell_type": "code",
   "execution_count": 55,
   "metadata": {},
   "outputs": [
    {
     "data": {
      "text/html": [
       "<div>\n",
       "<style scoped>\n",
       "    .dataframe tbody tr th:only-of-type {\n",
       "        vertical-align: middle;\n",
       "    }\n",
       "\n",
       "    .dataframe tbody tr th {\n",
       "        vertical-align: top;\n",
       "    }\n",
       "\n",
       "    .dataframe thead th {\n",
       "        text-align: right;\n",
       "    }\n",
       "</style>\n",
       "<table border=\"1\" class=\"dataframe\">\n",
       "  <thead>\n",
       "    <tr style=\"text-align: right;\">\n",
       "      <th></th>\n",
       "      <th>_id</th>\n",
       "      <th>area</th>\n",
       "      <th>city</th>\n",
       "      <th>location</th>\n",
       "      <th>price</th>\n",
       "      <th>property_link</th>\n",
       "      <th>property_title</th>\n",
       "    </tr>\n",
       "  </thead>\n",
       "  <tbody>\n",
       "    <tr>\n",
       "      <th>0</th>\n",
       "      <td>64baa8941469c4a520d0b420</td>\n",
       "      <td>6 Marla</td>\n",
       "      <td>Lahore</td>\n",
       "      <td>Grand Avenue Housing Scheme - Block A, Grand A...</td>\n",
       "      <td>20 Lakh</td>\n",
       "      <td>/Property/grand_avenues_housing_scheme_grand_a...</td>\n",
       "      <td>feroz pur road grand avenue</td>\n",
       "    </tr>\n",
       "    <tr>\n",
       "      <th>1</th>\n",
       "      <td>64baa8941469c4a520d0b421</td>\n",
       "      <td>5 Marla</td>\n",
       "      <td>Lahore</td>\n",
       "      <td>Bahria Town - Tauheed Extension Block, Bahria ...</td>\n",
       "      <td>48 Lakh</td>\n",
       "      <td>/Property/bahria_town_sector_f_bahria_town_tau...</td>\n",
       "      <td>5 MARLA POSSESSED PLOT FOR SALE TAUHEED EXTENS...</td>\n",
       "    </tr>\n",
       "    <tr>\n",
       "      <th>2</th>\n",
       "      <td>64baa8941469c4a520d0b422</td>\n",
       "      <td>2 Kanal</td>\n",
       "      <td>Lahore</td>\n",
       "      <td>DHA Phase 5 - Block F, DHA Phase 5</td>\n",
       "      <td>9 Crore</td>\n",
       "      <td>/Property/dha_phase_5_dha_phase_5_block_f_main...</td>\n",
       "      <td>Main Boulevard Plot Is Available At Azeem Estate</td>\n",
       "    </tr>\n",
       "    <tr>\n",
       "      <th>3</th>\n",
       "      <td>64baa8941469c4a520d0b423</td>\n",
       "      <td>3 Marla</td>\n",
       "      <td>Lahore</td>\n",
       "      <td>Etihad Town Phase 1, Etihad Town</td>\n",
       "      <td>15 Lakh</td>\n",
       "      <td>/Property/etihad_town_etihad_town_phase_1_new_...</td>\n",
       "      <td>NEW DEAL 3 MARLA PLOT AVAILABLE ON EASY INSTAL...</td>\n",
       "    </tr>\n",
       "    <tr>\n",
       "      <th>4</th>\n",
       "      <td>64baa8941469c4a520d0b424</td>\n",
       "      <td>5 Marla</td>\n",
       "      <td>Lahore</td>\n",
       "      <td>Bankers Avenue Cooperative Housing Society, La...</td>\n",
       "      <td>50 Thousand</td>\n",
       "      <td>/Property/lahore_bankers_avenue_cooperative_ho...</td>\n",
       "      <td>5 marla</td>\n",
       "    </tr>\n",
       "  </tbody>\n",
       "</table>\n",
       "</div>"
      ],
      "text/plain": [
       "                        _id     area    city  \\\n",
       "0  64baa8941469c4a520d0b420  6 Marla  Lahore   \n",
       "1  64baa8941469c4a520d0b421  5 Marla  Lahore   \n",
       "2  64baa8941469c4a520d0b422  2 Kanal  Lahore   \n",
       "3  64baa8941469c4a520d0b423  3 Marla  Lahore   \n",
       "4  64baa8941469c4a520d0b424  5 Marla  Lahore   \n",
       "\n",
       "                                            location        price  \\\n",
       "0  Grand Avenue Housing Scheme - Block A, Grand A...      20 Lakh   \n",
       "1  Bahria Town - Tauheed Extension Block, Bahria ...      48 Lakh   \n",
       "2                 DHA Phase 5 - Block F, DHA Phase 5      9 Crore   \n",
       "3                   Etihad Town Phase 1, Etihad Town      15 Lakh   \n",
       "4  Bankers Avenue Cooperative Housing Society, La...  50 Thousand   \n",
       "\n",
       "                                       property_link  \\\n",
       "0  /Property/grand_avenues_housing_scheme_grand_a...   \n",
       "1  /Property/bahria_town_sector_f_bahria_town_tau...   \n",
       "2  /Property/dha_phase_5_dha_phase_5_block_f_main...   \n",
       "3  /Property/etihad_town_etihad_town_phase_1_new_...   \n",
       "4  /Property/lahore_bankers_avenue_cooperative_ho...   \n",
       "\n",
       "                                      property_title  \n",
       "0                        feroz pur road grand avenue  \n",
       "1  5 MARLA POSSESSED PLOT FOR SALE TAUHEED EXTENS...  \n",
       "2   Main Boulevard Plot Is Available At Azeem Estate  \n",
       "3  NEW DEAL 3 MARLA PLOT AVAILABLE ON EASY INSTAL...  \n",
       "4                                            5 marla  "
      ]
     },
     "execution_count": 55,
     "metadata": {},
     "output_type": "execute_result"
    }
   ],
   "source": [
    "rental_plot_df.head()"
   ]
  },
  {
   "cell_type": "code",
   "execution_count": 57,
   "metadata": {},
   "outputs": [
    {
     "data": {
      "text/html": [
       "<div>\n",
       "<style scoped>\n",
       "    .dataframe tbody tr th:only-of-type {\n",
       "        vertical-align: middle;\n",
       "    }\n",
       "\n",
       "    .dataframe tbody tr th {\n",
       "        vertical-align: top;\n",
       "    }\n",
       "\n",
       "    .dataframe thead th {\n",
       "        text-align: right;\n",
       "    }\n",
       "</style>\n",
       "<table border=\"1\" class=\"dataframe\">\n",
       "  <thead>\n",
       "    <tr style=\"text-align: right;\">\n",
       "      <th></th>\n",
       "      <th>area</th>\n",
       "      <th>price</th>\n",
       "      <th>city</th>\n",
       "    </tr>\n",
       "  </thead>\n",
       "  <tbody>\n",
       "    <tr>\n",
       "      <th>60</th>\n",
       "      <td>183 Sq. Yd.</td>\n",
       "      <td>55 Thousand</td>\n",
       "      <td>Karachi_Clifton</td>\n",
       "    </tr>\n",
       "    <tr>\n",
       "      <th>61</th>\n",
       "      <td>167 Sq. Yd.</td>\n",
       "      <td>50 Thousand</td>\n",
       "      <td>Karachi_Clifton</td>\n",
       "    </tr>\n",
       "    <tr>\n",
       "      <th>62</th>\n",
       "      <td>233 Sq. Yd.</td>\n",
       "      <td>1.1 Lakh</td>\n",
       "      <td>Karachi_Clifton</td>\n",
       "    </tr>\n",
       "    <tr>\n",
       "      <th>63</th>\n",
       "      <td>500 Sq. Yd.</td>\n",
       "      <td>1.5 Lakh</td>\n",
       "      <td>Karachi_Clifton</td>\n",
       "    </tr>\n",
       "    <tr>\n",
       "      <th>64</th>\n",
       "      <td>1,000 Sq. Yd.</td>\n",
       "      <td>15 Crore</td>\n",
       "      <td>Karachi_Clifton</td>\n",
       "    </tr>\n",
       "  </tbody>\n",
       "</table>\n",
       "</div>"
      ],
      "text/plain": [
       "             area        price             city\n",
       "60    183 Sq. Yd.  55 Thousand  Karachi_Clifton\n",
       "61    167 Sq. Yd.  50 Thousand  Karachi_Clifton\n",
       "62    233 Sq. Yd.     1.1 Lakh  Karachi_Clifton\n",
       "63    500 Sq. Yd.     1.5 Lakh  Karachi_Clifton\n",
       "64  1,000 Sq. Yd.     15 Crore  Karachi_Clifton"
      ]
     },
     "execution_count": 57,
     "metadata": {},
     "output_type": "execute_result"
    }
   ],
   "source": [
    "rental_plot_df[['area', 'price', 'city']].tail()"
   ]
  },
  {
   "cell_type": "code",
   "execution_count": null,
   "metadata": {},
   "outputs": [],
   "source": []
  }
 ],
 "metadata": {
  "kernelspec": {
   "display_name": "Python 2",
   "language": "python",
   "name": "python2"
  },
  "language_info": {
   "codemirror_mode": {
    "name": "ipython",
    "version": 2
   },
   "file_extension": ".py",
   "mimetype": "text/x-python",
   "name": "python",
   "nbconvert_exporter": "python",
   "pygments_lexer": "ipython2",
   "version": "2.7.16"
  }
 },
 "nbformat": 4,
 "nbformat_minor": 2
}
