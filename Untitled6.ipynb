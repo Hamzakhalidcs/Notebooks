{
 "cells": [
  {
   "cell_type": "code",
   "execution_count": 1,
   "id": "52f67d32",
   "metadata": {},
   "outputs": [],
   "source": [
    "import pandas as pd "
   ]
  },
  {
   "cell_type": "code",
   "execution_count": 3,
   "id": "c7f4b419",
   "metadata": {},
   "outputs": [
    {
     "data": {
      "text/plain": [
       "{1: 1, 2: 4, 3: 9, 4: 16}"
      ]
     },
     "execution_count": 3,
     "metadata": {},
     "output_type": "execute_result"
    }
   ],
   "source": [
    "squre_dict = {num : num*num for num in range(1,5)}\n",
    "squre_dict"
   ]
  },
  {
   "cell_type": "code",
   "execution_count": 5,
   "id": "97f43a39",
   "metadata": {},
   "outputs": [],
   "source": [
    "old_price = {'milk': 1.02, 'coffee': 2.5, 'bread': 2.5}\n",
    "dollar_to_pound = 0.76"
   ]
  },
  {
   "cell_type": "code",
   "execution_count": 8,
   "id": "13336658",
   "metadata": {},
   "outputs": [
    {
     "data": {
      "text/plain": [
       "{'milk :Rs': 0.7752, 'coffee :Rs': 1.9, 'bread :Rs': 1.9}"
      ]
     },
     "execution_count": 8,
     "metadata": {},
     "output_type": "execute_result"
    }
   ],
   "source": [
    "{item:value*dollar_to_pound for (item, value) in old_price.items()}"
   ]
  },
  {
   "cell_type": "code",
   "execution_count": 9,
   "id": "096bd510",
   "metadata": {},
   "outputs": [],
   "source": [
    "original_dict = {'jack': 38, 'michael': 48, 'guido': 57, 'john': 33}"
   ]
  },
  {
   "cell_type": "code",
   "execution_count": 10,
   "id": "52939df9",
   "metadata": {},
   "outputs": [
    {
     "data": {
      "text/plain": [
       "{'jack': 38, 'michael': 48}"
      ]
     },
     "execution_count": 10,
     "metadata": {},
     "output_type": "execute_result"
    }
   ],
   "source": [
    "even_dict = {k:v for (k, v) in original_dict.items() if v%2==0}\n",
    "even_dict"
   ]
  },
  {
   "cell_type": "code",
   "execution_count": 13,
   "id": "4f6fe2fa",
   "metadata": {},
   "outputs": [
    {
     "data": {
      "text/plain": [
       "{'michael': 48}"
      ]
     },
     "execution_count": 13,
     "metadata": {},
     "output_type": "execute_result"
    }
   ],
   "source": [
    "{item:value for (item, value) in even_dict.items() if value%2==0 if value>40}"
   ]
  },
  {
   "cell_type": "code",
   "execution_count": 19,
   "id": "0857ceda",
   "metadata": {},
   "outputs": [
    {
     "data": {
      "text/plain": [
       "{'jack': 'young', 'michael': 'old', 'guido': 'old', 'john': 'young'}"
      ]
     },
     "execution_count": 19,
     "metadata": {},
     "output_type": "execute_result"
    }
   ],
   "source": [
    "# in case value 40, print value old othewise <40 so young \n",
    "{k:('old' if v>40 else 'young') for(k, v) in original_dict.items()}"
   ]
  },
  {
   "cell_type": "code",
   "execution_count": 21,
   "id": "bbab5458",
   "metadata": {},
   "outputs": [
    {
     "data": {
      "text/plain": [
       "{'jack': 'Young', 'michael': 'Old', 'guido': 'Old', 'john': 'Young'}"
      ]
     },
     "execution_count": 21,
     "metadata": {},
     "output_type": "execute_result"
    }
   ],
   "source": [
    "{k:('Old' if v>40 else \"Young\")  for (k, v) in original_dict.items()}"
   ]
  },
  {
   "cell_type": "code",
   "execution_count": 22,
   "id": "7dbcb8d9",
   "metadata": {},
   "outputs": [],
   "source": [
    "names = ['Mariya', 'Gandllif', 'Batman']\n",
    "profession = ['Programmer', 'Wizard', 'superhero']"
   ]
  },
  {
   "cell_type": "code",
   "execution_count": 30,
   "id": "c297585a",
   "metadata": {},
   "outputs": [
    {
     "data": {
      "text/plain": [
       "{'Hamza': 'Businessman', 'Gandllif': 'Wizard', 'Batman': 'superhero'}"
      ]
     },
     "execution_count": 30,
     "metadata": {},
     "output_type": "execute_result"
    }
   ],
   "source": [
    "{(key if key!= 'Mariya' else 'Hamza'):(value if value!= 'Programmer' else 'Businessman') for (key, value) in zip(names, profession)}"
   ]
  },
  {
   "cell_type": "code",
   "execution_count": 33,
   "id": "0c12cfb4",
   "metadata": {},
   "outputs": [],
   "source": [
    "my_dict = {\n",
    "    \"Spider\" : \"photographer\",\n",
    "    \"Bat\" : \"Philanthropist\",\n",
    "    \"Wonder Wo\" : \"nurse\"\n",
    "}"
   ]
  },
  {
   "cell_type": "code",
   "execution_count": 37,
   "id": "74da9d11",
   "metadata": {},
   "outputs": [
    {
     "data": {
      "text/plain": [
       "{'Spiderman': 'SuperHero', 'Batman': 'Philanthropist', 'Wonder Woman': 'nurse'}"
      ]
     },
     "execution_count": 37,
     "metadata": {},
     "output_type": "execute_result"
    }
   ],
   "source": [
    "{(key + 'man') : (val if val!='photographer' else 'SuperHero') for (key, val) in my_dict.items()}"
   ]
  },
  {
   "cell_type": "code",
   "execution_count": 39,
   "id": "50a8e9fe",
   "metadata": {},
   "outputs": [
    {
     "data": {
      "text/plain": [
       "{2: {1: 2, 2: 4, 3: 6, 4: 8, 5: 10},\n",
       " 3: {1: 3, 2: 6, 3: 9, 4: 12, 5: 15},\n",
       " 4: {1: 4, 2: 8, 3: 12, 4: 16, 5: 20}}"
      ]
     },
     "execution_count": 39,
     "metadata": {},
     "output_type": "execute_result"
    }
   ],
   "source": [
    "# Nested Dictionary \n",
    "{k1: {k2 : k1*k2 for k2 in range(1,6)} for k1 in range(2, 5)}"
   ]
  },
  {
   "cell_type": "code",
   "execution_count": 40,
   "id": "0c87ffb7",
   "metadata": {},
   "outputs": [
    {
     "data": {
      "text/plain": [
       "{2: {2, 4, 6, 8, 10}, 3: {3, 6, 9, 12, 15}, 4: {4, 8, 12, 16, 20}}"
      ]
     },
     "execution_count": 40,
     "metadata": {},
     "output_type": "execute_result"
    }
   ],
   "source": [
    "{k1 : {k1*k2 for k2 in range(1,6)} for k1 in range(2,5)}"
   ]
  },
  {
   "cell_type": "code",
   "execution_count": 42,
   "id": "86e80c2d",
   "metadata": {},
   "outputs": [
    {
     "data": {
      "text/plain": [
       "[1, 4, 9, 16, 25]"
      ]
     },
     "execution_count": 42,
     "metadata": {},
     "output_type": "execute_result"
    }
   ],
   "source": [
    "# List Comprehension\n",
    "[num*num for num in range(1,6)]"
   ]
  },
  {
   "cell_type": "code",
   "execution_count": 43,
   "id": "373fe152",
   "metadata": {},
   "outputs": [],
   "source": [
    "fruits = [\"apple\", \"banana\", \"Mango\"]"
   ]
  },
  {
   "cell_type": "code",
   "execution_count": 45,
   "id": "b80e732a",
   "metadata": {},
   "outputs": [
    {
     "data": {
      "text/plain": [
       "['APPLE', 'BANANA', 'MANGO']"
      ]
     },
     "execution_count": 45,
     "metadata": {},
     "output_type": "execute_result"
    }
   ],
   "source": [
    "[fruit.upper() for fruit in fruits]"
   ]
  },
  {
   "cell_type": "code",
   "execution_count": 46,
   "id": "23e4ea84",
   "metadata": {},
   "outputs": [],
   "source": [
    "bits = [False, True,False, True,False, True,True,False, True] "
   ]
  },
  {
   "cell_type": "code",
   "execution_count": 47,
   "id": "174e621a",
   "metadata": {},
   "outputs": [
    {
     "data": {
      "text/plain": [
       "[1, 0, 1, 0, 1, 0, 0, 1, 0]"
      ]
     },
     "execution_count": 47,
     "metadata": {},
     "output_type": "execute_result"
    }
   ],
   "source": [
    "[1 if b==False else 0 for b in bits]"
   ]
  },
  {
   "cell_type": "code",
   "execution_count": 49,
   "id": "d694a5dc",
   "metadata": {},
   "outputs": [
    {
     "data": {
      "text/plain": [
       "[1, 0, 1, 0, 1, 0, 0, 1, 0]"
      ]
     },
     "execution_count": 49,
     "metadata": {},
     "output_type": "execute_result"
    }
   ],
   "source": [
    "[1 if b==False else 0 for b in bits]"
   ]
  },
  {
   "cell_type": "code",
   "execution_count": 50,
   "id": "e41f861a",
   "metadata": {},
   "outputs": [],
   "source": [
    "my_string = \"HelloMyNameIsHamza\""
   ]
  },
  {
   "cell_type": "code",
   "execution_count": 55,
   "id": "6cb8ba67",
   "metadata": {},
   "outputs": [
    {
     "data": {
      "text/plain": [
       "'Hello my name is Hamza'"
      ]
     },
     "execution_count": 55,
     "metadata": {},
     "output_type": "execute_result"
    }
   ],
   "source": [
    "\"\".join([i if i.islower() else \" \" + i.lower() if i in [\"N\", \"I\", \"M\"] else \" \" + i for i in my_string])[1:]"
   ]
  },
  {
   "cell_type": "code",
   "execution_count": 56,
   "id": "4504cbeb",
   "metadata": {},
   "outputs": [
    {
     "name": "stdout",
     "output_type": "stream",
     "text": [
      "15\n"
     ]
    }
   ],
   "source": [
    "# lambda is basically anonymous function in which we can have multiple arguments but can have multiple arguments but have only one expression\n",
    "x = lambda a : a+10\n",
    "print(x(5))"
   ]
  },
  {
   "cell_type": "code",
   "execution_count": 58,
   "id": "27aae502",
   "metadata": {},
   "outputs": [
    {
     "data": {
      "text/plain": [
       "30"
      ]
     },
     "execution_count": 58,
     "metadata": {},
     "output_type": "execute_result"
    }
   ],
   "source": [
    "# multiple args \n",
    "x  = lambda a, b : a*b\n",
    "x(5,6)"
   ]
  },
  {
   "cell_type": "code",
   "execution_count": 59,
   "id": "2b5c50a1",
   "metadata": {},
   "outputs": [
    {
     "data": {
      "text/plain": [
       "6"
      ]
     },
     "execution_count": 59,
     "metadata": {},
     "output_type": "execute_result"
    }
   ],
   "source": [
    "x = lambda a, b, c : a*(b+c)\n",
    "x(1, 2, 4)"
   ]
  },
  {
   "cell_type": "code",
   "execution_count": 60,
   "id": "f83a9211",
   "metadata": {},
   "outputs": [
    {
     "name": "stdout",
     "output_type": "stream",
     "text": [
      "13\n"
     ]
    }
   ],
   "source": [
    "x = lambda a, b, c : a + b + c\n",
    "print(x(5, 6, 2))"
   ]
  },
  {
   "cell_type": "code",
   "execution_count": 62,
   "id": "ba070c0d",
   "metadata": {},
   "outputs": [
    {
     "data": {
      "text/plain": [
       "'banana'"
      ]
     },
     "execution_count": 62,
     "metadata": {},
     "output_type": "execute_result"
    }
   ],
   "source": [
    "mytuple = (\"apple\", \"banana\", \"cherry\")"
   ]
  },
  {
   "cell_type": "code",
   "execution_count": 63,
   "id": "93577762",
   "metadata": {},
   "outputs": [],
   "source": [
    "thisdict = {\n",
    "  \"brand\": \"Ford\",\n",
    "  \"model\": \"Mustang\",\n",
    "  \"year\": 1964\n",
    "}"
   ]
  },
  {
   "cell_type": "code",
   "execution_count": 64,
   "id": "d11fff2a",
   "metadata": {},
   "outputs": [
    {
     "data": {
      "text/plain": [
       "{'brand': 'Ford', 'model': 'Mustang', 'year': 1964}"
      ]
     },
     "execution_count": 64,
     "metadata": {},
     "output_type": "execute_result"
    }
   ],
   "source": [
    "thisdict"
   ]
  },
  {
   "cell_type": "code",
   "execution_count": null,
   "id": "42cf0775",
   "metadata": {},
   "outputs": [],
   "source": []
  },
  {
   "cell_type": "code",
   "execution_count": null,
   "id": "e9c6fdc6",
   "metadata": {},
   "outputs": [],
   "source": []
  }
 ],
 "metadata": {
  "kernelspec": {
   "display_name": "Python 3",
   "language": "python",
   "name": "python3"
  },
  "language_info": {
   "codemirror_mode": {
    "name": "ipython",
    "version": 3
   },
   "file_extension": ".py",
   "mimetype": "text/x-python",
   "name": "python",
   "nbconvert_exporter": "python",
   "pygments_lexer": "ipython3",
   "version": "3.7.9"
  }
 },
 "nbformat": 4,
 "nbformat_minor": 5
}
