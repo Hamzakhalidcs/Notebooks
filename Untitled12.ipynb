{
 "cells": [
  {
   "cell_type": "code",
   "execution_count": 5,
   "id": "93a3fce2",
   "metadata": {},
   "outputs": [],
   "source": [
    "sentence  = \"Have free hours and love children\""
   ]
  },
  {
   "cell_type": "code",
   "execution_count": 6,
   "id": "b3ff5fc3",
   "metadata": {},
   "outputs": [
    {
     "data": {
      "text/plain": [
       "'Have free hours and love children'"
      ]
     },
     "execution_count": 6,
     "metadata": {},
     "output_type": "execute_result"
    }
   ],
   "source": [
    "sentence"
   ]
  },
  {
   "cell_type": "code",
   "execution_count": 7,
   "id": "2dbdf5ac",
   "metadata": {},
   "outputs": [],
   "source": [
    "words  = sentence.split()"
   ]
  },
  {
   "cell_type": "code",
   "execution_count": 8,
   "id": "8cebf502",
   "metadata": {},
   "outputs": [
    {
     "data": {
      "text/plain": [
       "['Have', 'free', 'hours', 'and', 'love', 'children']"
      ]
     },
     "execution_count": 8,
     "metadata": {},
     "output_type": "execute_result"
    }
   ],
   "source": [
    "words"
   ]
  },
  {
   "cell_type": "code",
   "execution_count": 9,
   "id": "8613e9cc",
   "metadata": {},
   "outputs": [
    {
     "data": {
      "text/plain": [
       "['Have', 'free']"
      ]
     },
     "execution_count": 9,
     "metadata": {},
     "output_type": "execute_result"
    }
   ],
   "source": [
    "words[:2]"
   ]
  },
  {
   "cell_type": "code",
   "execution_count": 12,
   "id": "62c10e27",
   "metadata": {},
   "outputs": [
    {
     "data": {
      "text/plain": [
       "[<generator object <genexpr> at 0x0000020EB95BD248>]"
      ]
     },
     "execution_count": 12,
     "metadata": {},
     "output_type": "execute_result"
    }
   ],
   "source": [
    "[(word[i] for i in range(len(words)-1)) ]"
   ]
  },
  {
   "cell_type": "code",
   "execution_count": 17,
   "id": "de4c2f8e",
   "metadata": {},
   "outputs": [
    {
     "data": {
      "text/plain": [
       "[('Have', 'free'),\n",
       " ('free', 'hours'),\n",
       " ('hours', 'and'),\n",
       " ('and', 'love'),\n",
       " ('love', 'children')]"
      ]
     },
     "execution_count": 17,
     "metadata": {},
     "output_type": "execute_result"
    }
   ],
   "source": [
    "[(words[i], words[i+1]) for i in range(len(words) - 1)]"
   ]
  },
  {
   "cell_type": "code",
   "execution_count": 21,
   "id": "2f7f389f",
   "metadata": {},
   "outputs": [
    {
     "data": {
      "text/plain": [
       "[('Have', 'free'),\n",
       " ('free', 'hours'),\n",
       " ('hours', 'and'),\n",
       " ('and', 'love'),\n",
       " ('love', 'children')]"
      ]
     },
     "execution_count": 21,
     "metadata": {},
     "output_type": "execute_result"
    }
   ],
   "source": [
    "sentence  = \"Have free hours and love children\"\n",
    "words  = sentence.split()\n",
    "output = [(words[i], words[i+1]) for i in range(len(words) - 1)]\n",
    "output "
   ]
  },
  {
   "cell_type": "code",
   "execution_count": 23,
   "id": "e00ec52a",
   "metadata": {},
   "outputs": [
    {
     "data": {
      "text/plain": [
       "['Have', 'free', 'hours', 'and', 'love', 'children']"
      ]
     },
     "execution_count": 23,
     "metadata": {},
     "output_type": "execute_result"
    }
   ],
   "source": [
    "[i for i in words]"
   ]
  },
  {
   "cell_type": "code",
   "execution_count": 1,
   "id": "6516f0a2",
   "metadata": {},
   "outputs": [
    {
     "name": "stdout",
     "output_type": "stream",
     "text": [
      "         Name  Price per Unit  Quantity  Total Price\n",
      "0      Laptop             800         3         2400\n",
      "1  Headphones              50        10          500\n",
      "2    Keyboard              40         5          200\n",
      "Laptop after applying 10% discount: 2160.0\n",
      "Headphones after applying 10% discount: 450.0\n",
      "Keyboard after applying 10% discount: 180.0\n"
     ]
    }
   ],
   "source": [
    "import pandas as pd\n",
    "import numpy as np\n",
    "\n",
    "# Extending the Product class with more advanced functionality\n",
    "class Product:\n",
    "    def __init__(self, name, price, quantity):\n",
    "        self.name = name\n",
    "        self.price = price\n",
    "        self.quantity = quantity\n",
    "    \n",
    "    # Calculate the total price of the product\n",
    "    def total_price(self):\n",
    "        return self.price * self.quantity\n",
    "\n",
    "    # Method to apply a discount using NumPy for flexibility\n",
    "    def apply_discount(self, discount_percentage):\n",
    "        discount = np.clip(discount_percentage, 0, 100)\n",
    "        discounted_price = self.price * (1 - discount / 100)\n",
    "        return discounted_price * self.quantity\n",
    "\n",
    "    def __str__(self):\n",
    "        return f'Product: {self.name}, Price per unit: {self.price}, Quantity: {self.quantity}'\n",
    "\n",
    "# Creating a list of products\n",
    "products = [\n",
    "    Product(\"Laptop\", 800, 3),\n",
    "    Product(\"Headphones\", 50, 10),\n",
    "    Product(\"Keyboard\", 40, 5),\n",
    "]\n",
    "\n",
    "# Creating a Pandas DataFrame from the product data\n",
    "product_data = {\n",
    "    \"Name\": [product.name for product in products],\n",
    "    \"Price per Unit\": [product.price for product in products],\n",
    "    \"Quantity\": [product.quantity for product in products],\n",
    "    \"Total Price\": [product.total_price() for product in products],\n",
    "}\n",
    "\n",
    "df = pd.DataFrame(product_data)\n",
    "\n",
    "# Displaying the DataFrame\n",
    "print(df)\n",
    "\n",
    "# Apply a discount to the products using the method\n",
    "for product in products:\n",
    "    print(f\"{product.name} after applying 10% discount: {product.apply_discount(10)}\")\n"
   ]
  },
  {
   "cell_type": "code",
   "execution_count": 2,
   "id": "feab95b1",
   "metadata": {},
   "outputs": [
    {
     "data": {
      "text/plain": [
       "660"
      ]
     },
     "execution_count": 2,
     "metadata": {},
     "output_type": "execute_result"
    }
   ],
   "source": [
    "2000-1340"
   ]
  },
  {
   "cell_type": "code",
   "execution_count": null,
   "id": "65425496",
   "metadata": {},
   "outputs": [
    {
     "ename": "JupyterRequireError",
     "evalue": "notebook/js/codecell: Timeout. Library 'notebook/js/codecell' is not loaded.",
     "output_type": "error",
     "traceback": [
      "Error: notebook/js/codecell: Timeout. Library 'notebook/js/codecell' is not loaded.",
      "    at errback (http://localhost:8888/nbextensions/jupyter-require/core.js?v=20241016193151:190:29)"
     ]
    }
   ],
   "source": []
  }
 ],
 "metadata": {
  "kernelspec": {
   "display_name": "Python 3",
   "language": "python",
   "name": "python3"
  },
  "language_info": {
   "codemirror_mode": {
    "name": "ipython",
    "version": 3
   },
   "file_extension": ".py",
   "mimetype": "text/x-python",
   "name": "python",
   "nbconvert_exporter": "python",
   "pygments_lexer": "ipython3",
   "version": "3.7.9"
  }
 },
 "nbformat": 4,
 "nbformat_minor": 5
}
