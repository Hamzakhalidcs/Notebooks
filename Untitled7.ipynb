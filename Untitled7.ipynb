{
 "cells": [],
 "metadata": {},
 "nbformat": 4,
<<<<<<< HEAD
 "nbformat_minor": 5
=======
 "nbformat_minor": 2
>>>>>>> 08bb95274b3e0e540004b659c1c16716c54d6a70
}
