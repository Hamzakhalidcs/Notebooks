{
 "cells": [
  {
   "cell_type": "code",
   "execution_count": 183,
   "id": "469d098d",
   "metadata": {},
   "outputs": [],
   "source": [
    "import pandas as pd\n",
    "import os \n",
    "import matplotlib.pyplot as plt \n",
    "from pymongo import MongoClient\n",
    "import pyodbc"
   ]
  },
  {
   "cell_type": "code",
   "execution_count": 26,
   "id": "c91722d5",
   "metadata": {},
   "outputs": [],
   "source": [
    "files = [file for file in os.listdir('./Sales_Data') if file.endswith('.csv')]"
   ]
  },
  {
   "cell_type": "code",
   "execution_count": 32,
   "id": "dda9251f",
   "metadata": {},
   "outputs": [],
   "source": [
    "df = pd.DataFrame()\n",
    "\n",
    "for file in files:\n",
    "    file_df = pd.read_csv('Sales_Data/'+file)\n",
    "    df = pd.concat([df, file_df])"
   ]
  },
  {
   "cell_type": "code",
   "execution_count": 34,
   "id": "0330396a",
   "metadata": {},
   "outputs": [
    {
     "data": {
      "text/html": [
       "<div>\n",
       "<style scoped>\n",
       "    .dataframe tbody tr th:only-of-type {\n",
       "        vertical-align: middle;\n",
       "    }\n",
       "\n",
       "    .dataframe tbody tr th {\n",
       "        vertical-align: top;\n",
       "    }\n",
       "\n",
       "    .dataframe thead th {\n",
       "        text-align: right;\n",
       "    }\n",
       "</style>\n",
       "<table border=\"1\" class=\"dataframe\">\n",
       "  <thead>\n",
       "    <tr style=\"text-align: right;\">\n",
       "      <th></th>\n",
       "      <th>Order ID</th>\n",
       "      <th>Product</th>\n",
       "      <th>Quantity Ordered</th>\n",
       "      <th>Price Each</th>\n",
       "      <th>Order Date</th>\n",
       "      <th>Purchase Address</th>\n",
       "    </tr>\n",
       "  </thead>\n",
       "  <tbody>\n",
       "    <tr>\n",
       "      <th>0</th>\n",
       "      <td>248151</td>\n",
       "      <td>AA Batteries (4-pack)</td>\n",
       "      <td>4</td>\n",
       "      <td>3.84</td>\n",
       "      <td>09/17/19 14:44</td>\n",
       "      <td>380 North St, Los Angeles, CA 90001</td>\n",
       "    </tr>\n",
       "    <tr>\n",
       "      <th>1</th>\n",
       "      <td>248152</td>\n",
       "      <td>USB-C Charging Cable</td>\n",
       "      <td>2</td>\n",
       "      <td>11.95</td>\n",
       "      <td>09/29/19 10:19</td>\n",
       "      <td>511 8th St, Austin, TX 73301</td>\n",
       "    </tr>\n",
       "    <tr>\n",
       "      <th>2</th>\n",
       "      <td>248153</td>\n",
       "      <td>USB-C Charging Cable</td>\n",
       "      <td>1</td>\n",
       "      <td>11.95</td>\n",
       "      <td>09/16/19 17:48</td>\n",
       "      <td>151 Johnson St, Los Angeles, CA 90001</td>\n",
       "    </tr>\n",
       "    <tr>\n",
       "      <th>3</th>\n",
       "      <td>248154</td>\n",
       "      <td>27in FHD Monitor</td>\n",
       "      <td>1</td>\n",
       "      <td>149.99</td>\n",
       "      <td>09/27/19 07:52</td>\n",
       "      <td>355 Hickory St, Seattle, WA 98101</td>\n",
       "    </tr>\n",
       "    <tr>\n",
       "      <th>4</th>\n",
       "      <td>248155</td>\n",
       "      <td>USB-C Charging Cable</td>\n",
       "      <td>1</td>\n",
       "      <td>11.95</td>\n",
       "      <td>09/01/19 19:03</td>\n",
       "      <td>125 5th St, Atlanta, GA 30301</td>\n",
       "    </tr>\n",
       "  </tbody>\n",
       "</table>\n",
       "</div>"
      ],
      "text/plain": [
       "  Order ID                Product Quantity Ordered Price Each      Order Date  \\\n",
       "0   248151  AA Batteries (4-pack)                4       3.84  09/17/19 14:44   \n",
       "1   248152   USB-C Charging Cable                2      11.95  09/29/19 10:19   \n",
       "2   248153   USB-C Charging Cable                1      11.95  09/16/19 17:48   \n",
       "3   248154       27in FHD Monitor                1     149.99  09/27/19 07:52   \n",
       "4   248155   USB-C Charging Cable                1      11.95  09/01/19 19:03   \n",
       "\n",
       "                        Purchase Address  \n",
       "0    380 North St, Los Angeles, CA 90001  \n",
       "1           511 8th St, Austin, TX 73301  \n",
       "2  151 Johnson St, Los Angeles, CA 90001  \n",
       "3      355 Hickory St, Seattle, WA 98101  \n",
       "4          125 5th St, Atlanta, GA 30301  "
      ]
     },
     "execution_count": 34,
     "metadata": {},
     "output_type": "execute_result"
    }
   ],
   "source": [
    "file_df.head()"
   ]
  },
  {
   "cell_type": "code",
   "execution_count": 35,
   "id": "0e9f9ff4",
   "metadata": {},
   "outputs": [],
   "source": [
    "nan_df = df[df.isna().any(axis=1)]"
   ]
  },
  {
   "cell_type": "code",
   "execution_count": 36,
   "id": "55df6edf",
   "metadata": {},
   "outputs": [
    {
     "data": {
      "text/plain": [
       "545"
      ]
     },
     "execution_count": 36,
     "metadata": {},
     "output_type": "execute_result"
    }
   ],
   "source": [
    "len(nan_df)"
   ]
  },
  {
   "cell_type": "code",
   "execution_count": 37,
   "id": "fcfda5c7",
   "metadata": {},
   "outputs": [],
   "source": [
    "# Droping null values to get some desire result and for clear dataframe\n",
    "df = df.dropna(how='all')"
   ]
  },
  {
   "cell_type": "code",
   "execution_count": 38,
   "id": "aa0ae570",
   "metadata": {},
   "outputs": [
    {
     "data": {
      "text/plain": [
       "186305"
      ]
     },
     "execution_count": 38,
     "metadata": {},
     "output_type": "execute_result"
    }
   ],
   "source": [
    "len(df)"
   ]
  },
  {
   "cell_type": "code",
   "execution_count": 40,
   "id": "810020e0",
   "metadata": {},
   "outputs": [],
   "source": [
    "# we have some inappropriate data in date column so we have to remove this \n",
    "temp_df = df[df['Order Date'].str[0:2]== 'Or']"
   ]
  },
  {
   "cell_type": "code",
   "execution_count": 41,
   "id": "cdc2ea1e",
   "metadata": {},
   "outputs": [
    {
     "data": {
      "text/plain": [
       "355"
      ]
     },
     "execution_count": 41,
     "metadata": {},
     "output_type": "execute_result"
    }
   ],
   "source": [
    "len(temp_df)"
   ]
  },
  {
   "cell_type": "code",
   "execution_count": 46,
   "id": "409f636e",
   "metadata": {},
   "outputs": [],
   "source": [
    "# Removing the wrong date format data\n",
    "df = df[df['Order Date'].str[0:2]!='Or']"
   ]
  },
  {
   "cell_type": "code",
   "execution_count": 64,
   "id": "dcad42de",
   "metadata": {},
   "outputs": [
    {
     "name": "stderr",
     "output_type": "stream",
     "text": [
      "2025-01-26 08:55:30,781 [22320] WARNING  py.warnings:110: [JupyterRequire] c:\\users\\pc\\appdata\\local\\programs\\python\\python37\\lib\\site-packages\\ipykernel_launcher.py:3: SettingWithCopyWarning: \n",
      "A value is trying to be set on a copy of a slice from a DataFrame.\n",
      "Try using .loc[row_indexer,col_indexer] = value instead\n",
      "\n",
      "See the caveats in the documentation: https://pandas.pydata.org/pandas-docs/stable/user_guide/indexing.html#returning-a-view-versus-a-copy\n",
      "  This is separate from the ipykernel package so we can avoid doing imports until\n",
      "\n"
     ]
    }
   ],
   "source": [
    "# Adding new column to get actual date\n",
    "\n",
    "df[\"Full Date\"] = df['Order Date'].str[:8]"
   ]
  },
  {
   "cell_type": "code",
   "execution_count": 67,
   "id": "e59842a1",
   "metadata": {},
   "outputs": [
    {
     "name": "stderr",
     "output_type": "stream",
     "text": [
      "2025-01-26 08:56:58,289 [22320] WARNING  py.warnings:110: [JupyterRequire] c:\\users\\pc\\appdata\\local\\programs\\python\\python37\\lib\\site-packages\\ipykernel_launcher.py:1: SettingWithCopyWarning: \n",
      "A value is trying to be set on a copy of a slice from a DataFrame.\n",
      "Try using .loc[row_indexer,col_indexer] = value instead\n",
      "\n",
      "See the caveats in the documentation: https://pandas.pydata.org/pandas-docs/stable/user_guide/indexing.html#returning-a-view-versus-a-copy\n",
      "  \"\"\"Entry point for launching an IPython kernel.\n",
      "\n"
     ]
    }
   ],
   "source": [
    "df['Month'] = df['Order Date'].str[:2]"
   ]
  },
  {
   "cell_type": "code",
   "execution_count": 78,
   "id": "d7745316",
   "metadata": {},
   "outputs": [
    {
     "name": "stderr",
     "output_type": "stream",
     "text": [
      "2025-01-26 08:59:45,232 [22320] WARNING  py.warnings:110: [JupyterRequire] c:\\users\\pc\\appdata\\local\\programs\\python\\python37\\lib\\site-packages\\ipykernel_launcher.py:1: SettingWithCopyWarning: \n",
      "A value is trying to be set on a copy of a slice from a DataFrame.\n",
      "Try using .loc[row_indexer,col_indexer] = value instead\n",
      "\n",
      "See the caveats in the documentation: https://pandas.pydata.org/pandas-docs/stable/user_guide/indexing.html#returning-a-view-versus-a-copy\n",
      "  \"\"\"Entry point for launching an IPython kernel.\n",
      "\n"
     ]
    }
   ],
   "source": [
    "df['Hour'] = df['Order Date'].str[9:11]"
   ]
  },
  {
   "cell_type": "code",
   "execution_count": 79,
   "id": "bac80529",
   "metadata": {},
   "outputs": [
    {
     "data": {
      "text/html": [
       "<div>\n",
       "<style scoped>\n",
       "    .dataframe tbody tr th:only-of-type {\n",
       "        vertical-align: middle;\n",
       "    }\n",
       "\n",
       "    .dataframe tbody tr th {\n",
       "        vertical-align: top;\n",
       "    }\n",
       "\n",
       "    .dataframe thead th {\n",
       "        text-align: right;\n",
       "    }\n",
       "</style>\n",
       "<table border=\"1\" class=\"dataframe\">\n",
       "  <thead>\n",
       "    <tr style=\"text-align: right;\">\n",
       "      <th></th>\n",
       "      <th>Order Date</th>\n",
       "      <th>Full Date</th>\n",
       "      <th>Month</th>\n",
       "      <th>Hour</th>\n",
       "    </tr>\n",
       "  </thead>\n",
       "  <tbody>\n",
       "    <tr>\n",
       "      <th>0</th>\n",
       "      <td>04/19/19 08:46</td>\n",
       "      <td>04/19/19</td>\n",
       "      <td>04</td>\n",
       "      <td>08</td>\n",
       "    </tr>\n",
       "    <tr>\n",
       "      <th>2</th>\n",
       "      <td>04/07/19 22:30</td>\n",
       "      <td>04/07/19</td>\n",
       "      <td>04</td>\n",
       "      <td>22</td>\n",
       "    </tr>\n",
       "    <tr>\n",
       "      <th>3</th>\n",
       "      <td>04/12/19 14:38</td>\n",
       "      <td>04/12/19</td>\n",
       "      <td>04</td>\n",
       "      <td>14</td>\n",
       "    </tr>\n",
       "    <tr>\n",
       "      <th>4</th>\n",
       "      <td>04/12/19 14:38</td>\n",
       "      <td>04/12/19</td>\n",
       "      <td>04</td>\n",
       "      <td>14</td>\n",
       "    </tr>\n",
       "    <tr>\n",
       "      <th>5</th>\n",
       "      <td>04/30/19 09:27</td>\n",
       "      <td>04/30/19</td>\n",
       "      <td>04</td>\n",
       "      <td>09</td>\n",
       "    </tr>\n",
       "  </tbody>\n",
       "</table>\n",
       "</div>"
      ],
      "text/plain": [
       "       Order Date Full Date Month Hour\n",
       "0  04/19/19 08:46  04/19/19    04   08\n",
       "2  04/07/19 22:30  04/07/19    04   22\n",
       "3  04/12/19 14:38  04/12/19    04   14\n",
       "4  04/12/19 14:38  04/12/19    04   14\n",
       "5  04/30/19 09:27  04/30/19    04   09"
      ]
     },
     "execution_count": 79,
     "metadata": {},
     "output_type": "execute_result"
    }
   ],
   "source": [
    "df[['Order Date', 'Full Date', 'Month', 'Hour']].head()"
   ]
  },
  {
   "cell_type": "code",
   "execution_count": 80,
   "id": "13c501fe",
   "metadata": {},
   "outputs": [],
   "source": [
    "months_mapping= {\n",
    "    '01' :'January',\n",
    "    '02' : 'Febrauary',\n",
    "    '03' : 'March',\n",
    "    '04' : 'April',\n",
    "    '05' : 'May',\n",
    "    '06' : 'June',\n",
    "    '07' : 'July',\n",
    "    '08' :'August',\n",
    "    '09' :'September',\n",
    "    '10' :'October',\n",
    "    '11' :'November',\n",
    "    '12' : 'December'\n",
    "}"
   ]
  },
  {
   "cell_type": "code",
   "execution_count": 82,
   "id": "f04a9c8e",
   "metadata": {},
   "outputs": [
    {
     "name": "stderr",
     "output_type": "stream",
     "text": [
      "2025-01-26 10:19:52,313 [22320] WARNING  py.warnings:110: [JupyterRequire] c:\\users\\pc\\appdata\\local\\programs\\python\\python37\\lib\\site-packages\\ipykernel_launcher.py:1: SettingWithCopyWarning: \n",
      "A value is trying to be set on a copy of a slice from a DataFrame.\n",
      "Try using .loc[row_indexer,col_indexer] = value instead\n",
      "\n",
      "See the caveats in the documentation: https://pandas.pydata.org/pandas-docs/stable/user_guide/indexing.html#returning-a-view-versus-a-copy\n",
      "  \"\"\"Entry point for launching an IPython kernel.\n",
      "\n"
     ]
    }
   ],
   "source": [
    "df['Months_name'] = df['Month'].map(months_mapping)"
   ]
  },
  {
   "cell_type": "code",
   "execution_count": 83,
   "id": "a1dbcd8a",
   "metadata": {},
   "outputs": [
    {
     "data": {
      "text/html": [
       "<div>\n",
       "<style scoped>\n",
       "    .dataframe tbody tr th:only-of-type {\n",
       "        vertical-align: middle;\n",
       "    }\n",
       "\n",
       "    .dataframe tbody tr th {\n",
       "        vertical-align: top;\n",
       "    }\n",
       "\n",
       "    .dataframe thead th {\n",
       "        text-align: right;\n",
       "    }\n",
       "</style>\n",
       "<table border=\"1\" class=\"dataframe\">\n",
       "  <thead>\n",
       "    <tr style=\"text-align: right;\">\n",
       "      <th></th>\n",
       "      <th>Month</th>\n",
       "      <th>Months_name</th>\n",
       "    </tr>\n",
       "  </thead>\n",
       "  <tbody>\n",
       "    <tr>\n",
       "      <th>0</th>\n",
       "      <td>04</td>\n",
       "      <td>April</td>\n",
       "    </tr>\n",
       "    <tr>\n",
       "      <th>2</th>\n",
       "      <td>04</td>\n",
       "      <td>April</td>\n",
       "    </tr>\n",
       "    <tr>\n",
       "      <th>3</th>\n",
       "      <td>04</td>\n",
       "      <td>April</td>\n",
       "    </tr>\n",
       "    <tr>\n",
       "      <th>4</th>\n",
       "      <td>04</td>\n",
       "      <td>April</td>\n",
       "    </tr>\n",
       "    <tr>\n",
       "      <th>5</th>\n",
       "      <td>04</td>\n",
       "      <td>April</td>\n",
       "    </tr>\n",
       "  </tbody>\n",
       "</table>\n",
       "</div>"
      ],
      "text/plain": [
       "  Month Months_name\n",
       "0    04       April\n",
       "2    04       April\n",
       "3    04       April\n",
       "4    04       April\n",
       "5    04       April"
      ]
     },
     "execution_count": 83,
     "metadata": {},
     "output_type": "execute_result"
    }
   ],
   "source": [
    "df[['Month', 'Months_name']].head()"
   ]
  },
  {
   "cell_type": "code",
   "execution_count": 88,
   "id": "2d5cd19e",
   "metadata": {},
   "outputs": [
    {
     "data": {
      "text/plain": [
       "Order ID            object\n",
       "Product             object\n",
       "Quantity Ordered    object\n",
       "Price Each          object\n",
       "Order Date          object\n",
       "Purchase Address    object\n",
       "Full Date           object\n",
       "Month               object\n",
       "Hour                object\n",
       "Months_name         object\n",
       "dtype: object"
      ]
     },
     "execution_count": 88,
     "metadata": {},
     "output_type": "execute_result"
    }
   ],
   "source": [
    "df.dtypes"
   ]
  },
  {
   "cell_type": "code",
   "execution_count": 89,
   "id": "93d9ab39",
   "metadata": {},
   "outputs": [
    {
     "name": "stderr",
     "output_type": "stream",
     "text": [
      "2025-01-26 10:24:23,334 [22320] WARNING  py.warnings:110: [JupyterRequire] c:\\users\\pc\\appdata\\local\\programs\\python\\python37\\lib\\site-packages\\ipykernel_launcher.py:1: SettingWithCopyWarning: \n",
      "A value is trying to be set on a copy of a slice from a DataFrame.\n",
      "Try using .loc[row_indexer,col_indexer] = value instead\n",
      "\n",
      "See the caveats in the documentation: https://pandas.pydata.org/pandas-docs/stable/user_guide/indexing.html#returning-a-view-versus-a-copy\n",
      "  \"\"\"Entry point for launching an IPython kernel.\n",
      "\n"
     ]
    }
   ],
   "source": [
    "df['Quantity Ordered'] = pd.to_numeric(df['Quantity Ordered'])"
   ]
  },
  {
   "cell_type": "code",
   "execution_count": 91,
   "id": "ad606540",
   "metadata": {},
   "outputs": [
    {
     "data": {
      "text/plain": [
       "dtype('int64')"
      ]
     },
     "execution_count": 91,
     "metadata": {},
     "output_type": "execute_result"
    }
   ],
   "source": [
    "(df['Quantity Ordered']).dtype"
   ]
  },
  {
   "cell_type": "code",
   "execution_count": 93,
   "id": "0b801f8b",
   "metadata": {},
   "outputs": [
    {
     "data": {
      "text/plain": [
       "dtype('O')"
      ]
     },
     "execution_count": 93,
     "metadata": {},
     "output_type": "execute_result"
    }
   ],
   "source": [
    "df['Price Each'].dtype"
   ]
  },
  {
   "cell_type": "code",
   "execution_count": 96,
   "id": "70239d13",
   "metadata": {},
   "outputs": [],
   "source": [
    "df['Price Each'] = pd.to_numeric(df['Price Each'], errors='coerce').astype(float)"
   ]
  },
  {
   "cell_type": "code",
   "execution_count": 97,
   "id": "24df3d33",
   "metadata": {},
   "outputs": [],
   "source": [
    "df['Sales'] = df['Quantity Ordered'] * df['Price Each']"
   ]
  },
  {
   "cell_type": "code",
   "execution_count": 105,
   "id": "e6329903",
   "metadata": {},
   "outputs": [
    {
     "data": {
      "text/html": [
       "<div>\n",
       "<style scoped>\n",
       "    .dataframe tbody tr th:only-of-type {\n",
       "        vertical-align: middle;\n",
       "    }\n",
       "\n",
       "    .dataframe tbody tr th {\n",
       "        vertical-align: top;\n",
       "    }\n",
       "\n",
       "    .dataframe thead th {\n",
       "        text-align: right;\n",
       "    }\n",
       "</style>\n",
       "<table border=\"1\" class=\"dataframe\">\n",
       "  <thead>\n",
       "    <tr style=\"text-align: right;\">\n",
       "      <th></th>\n",
       "      <th>Quantity Ordered</th>\n",
       "      <th>Price Each</th>\n",
       "      <th>Sales</th>\n",
       "    </tr>\n",
       "  </thead>\n",
       "  <tbody>\n",
       "    <tr>\n",
       "      <th>0</th>\n",
       "      <td>2</td>\n",
       "      <td>11.95</td>\n",
       "      <td>23.90</td>\n",
       "    </tr>\n",
       "    <tr>\n",
       "      <th>2</th>\n",
       "      <td>1</td>\n",
       "      <td>99.99</td>\n",
       "      <td>99.99</td>\n",
       "    </tr>\n",
       "    <tr>\n",
       "      <th>3</th>\n",
       "      <td>1</td>\n",
       "      <td>600.00</td>\n",
       "      <td>600.00</td>\n",
       "    </tr>\n",
       "    <tr>\n",
       "      <th>4</th>\n",
       "      <td>1</td>\n",
       "      <td>11.99</td>\n",
       "      <td>11.99</td>\n",
       "    </tr>\n",
       "    <tr>\n",
       "      <th>5</th>\n",
       "      <td>1</td>\n",
       "      <td>11.99</td>\n",
       "      <td>11.99</td>\n",
       "    </tr>\n",
       "  </tbody>\n",
       "</table>\n",
       "</div>"
      ],
      "text/plain": [
       "   Quantity Ordered  Price Each   Sales\n",
       "0                 2       11.95   23.90\n",
       "2                 1       99.99   99.99\n",
       "3                 1      600.00  600.00\n",
       "4                 1       11.99   11.99\n",
       "5                 1       11.99   11.99"
      ]
     },
     "execution_count": 105,
     "metadata": {},
     "output_type": "execute_result"
    }
   ],
   "source": [
    "df[['Quantity Ordered', 'Price Each', 'Sales']].head()"
   ]
  },
  {
   "cell_type": "code",
   "execution_count": 101,
   "id": "9c4f70c4",
   "metadata": {},
   "outputs": [
    {
     "data": {
      "text/plain": [
       "0            917 1st St, Dallas, TX 75001\n",
       "2       682 Chestnut St, Boston, MA 02215\n",
       "3    669 Spruce St, Los Angeles, CA 90001\n",
       "4    669 Spruce St, Los Angeles, CA 90001\n",
       "5       333 8th St, Los Angeles, CA 90001\n",
       "Name: Purchase Address, dtype: object"
      ]
     },
     "execution_count": 101,
     "metadata": {},
     "output_type": "execute_result"
    }
   ],
   "source": [
    "df['Purchase Address'].head()"
   ]
  },
  {
   "cell_type": "code",
   "execution_count": null,
   "id": "a62350e8",
   "metadata": {},
   "outputs": [],
   "source": [
    "def get_city(address):\n",
    "    try:\n",
    "        return address.split(',')[1].strip()\n",
    "    except IndexError:\n",
    "        return None\n",
    "    \n",
    "def get_state(address):\n",
    "    try:\n",
    "        return address.split\n",
    "    except IndexError:\n",
    "        return None"
   ]
  },
  {
   "cell_type": "code",
   "execution_count": 102,
   "id": "aa27da58",
   "metadata": {},
   "outputs": [],
   "source": [
    "# Corrected get_city function\n",
    "def get_city(address):\n",
    "    try:\n",
    "        return address.split(',')[1].strip()\n",
    "    except IndexError:\n",
    "        return None  # Handle cases where the city part is missing\n",
    "\n",
    "# Corrected get_state function\n",
    "def get_state(address):\n",
    "    try:\n",
    "        return address.split(',')[2].split(' ')[1].strip()  # Use [1] for state abbreviation\n",
    "    except IndexError:\n",
    "        return None  # Handle cases where the state part is missing"
   ]
  },
  {
   "cell_type": "code",
   "execution_count": 103,
   "id": "904bbd1b",
   "metadata": {},
   "outputs": [],
   "source": [
    "df['City'] = df['Purchase Address'].apply(lambda x: f\"{get_city(x)} ({get_state(x)})\" if get_city(x) and get_state(x) else None)"
   ]
  },
  {
   "cell_type": "code",
   "execution_count": null,
   "id": "54e5d744",
   "metadata": {},
   "outputs": [],
   "source": [
    "def get_city(address):\n",
    "    try:\n",
    "        return address.split(',')[1].strip()\n",
    "    except IndexError:\n",
    "        return None\n",
    "    \n",
    "def get_state(address):\n",
    "    try:\n",
    "        return address.split(',')[2].split(' ').strip()\n",
    "    except IndexError:\n",
    "        return None"
   ]
  },
  {
   "cell_type": "code",
   "execution_count": 106,
   "id": "8fc402e4",
   "metadata": {},
   "outputs": [
    {
     "data": {
      "text/plain": [
       "0                   917 1st St, Dallas, TX 75001\n",
       "2              682 Chestnut St, Boston, MA 02215\n",
       "3           669 Spruce St, Los Angeles, CA 90001\n",
       "4           669 Spruce St, Los Angeles, CA 90001\n",
       "5              333 8th St, Los Angeles, CA 90001\n",
       "                          ...                   \n",
       "11681     840 Highland St, Los Angeles, CA 90001\n",
       "11682    216 Dogwood St, San Francisco, CA 94016\n",
       "11683       220 12th St, San Francisco, CA 94016\n",
       "11684     511 Forest St, San Francisco, CA 94016\n",
       "11685     250 Meadow St, San Francisco, CA 94016\n",
       "Name: Purchase Address, Length: 185950, dtype: object"
      ]
     },
     "execution_count": 106,
     "metadata": {},
     "output_type": "execute_result"
    }
   ],
   "source": [
    "df['Purchase Address']"
   ]
  },
  {
   "cell_type": "code",
   "execution_count": 107,
   "id": "a2f6b9fd",
   "metadata": {},
   "outputs": [],
   "source": [
    "# convert Sales column to round figure \n",
    "df['Sales'] = df['Sales'].round(0).astype(int)"
   ]
  },
  {
   "cell_type": "code",
   "execution_count": 109,
   "id": "345bfe35",
   "metadata": {},
   "outputs": [
    {
     "data": {
      "text/plain": [
       "dtype('int32')"
      ]
     },
     "execution_count": 109,
     "metadata": {},
     "output_type": "execute_result"
    }
   ],
   "source": [
    "df['Sales'].dtype"
   ]
  },
  {
   "cell_type": "code",
   "execution_count": 111,
   "id": "77053731",
   "metadata": {},
   "outputs": [],
   "source": [
    "df['Price Each'] = df['Price Each'].round(0).astype(int)"
   ]
  },
  {
   "cell_type": "code",
   "execution_count": 113,
   "id": "7775cc90",
   "metadata": {},
   "outputs": [],
   "source": [
    "# To get highest Sales By City \n",
    "\n",
    "city_df = df.groupby('City')['Sales'].sum().reset_index()"
   ]
  },
  {
   "cell_type": "code",
   "execution_count": 115,
   "id": "181d6bd8",
   "metadata": {},
   "outputs": [
    {
     "data": {
      "text/html": [
       "<div>\n",
       "<style scoped>\n",
       "    .dataframe tbody tr th:only-of-type {\n",
       "        vertical-align: middle;\n",
       "    }\n",
       "\n",
       "    .dataframe tbody tr th {\n",
       "        vertical-align: top;\n",
       "    }\n",
       "\n",
       "    .dataframe thead th {\n",
       "        text-align: right;\n",
       "    }\n",
       "</style>\n",
       "<table border=\"1\" class=\"dataframe\">\n",
       "  <thead>\n",
       "    <tr style=\"text-align: right;\">\n",
       "      <th></th>\n",
       "      <th>City</th>\n",
       "      <th>Sales</th>\n",
       "    </tr>\n",
       "  </thead>\n",
       "  <tbody>\n",
       "    <tr>\n",
       "      <th>0</th>\n",
       "      <td>Atlanta (GA)</td>\n",
       "      <td>2796089</td>\n",
       "    </tr>\n",
       "    <tr>\n",
       "      <th>1</th>\n",
       "      <td>Austin (TX)</td>\n",
       "      <td>1819974</td>\n",
       "    </tr>\n",
       "    <tr>\n",
       "      <th>2</th>\n",
       "      <td>Boston (MA)</td>\n",
       "      <td>3662442</td>\n",
       "    </tr>\n",
       "    <tr>\n",
       "      <th>3</th>\n",
       "      <td>Dallas (TX)</td>\n",
       "      <td>2768570</td>\n",
       "    </tr>\n",
       "    <tr>\n",
       "      <th>4</th>\n",
       "      <td>Los Angeles (CA)</td>\n",
       "      <td>5453750</td>\n",
       "    </tr>\n",
       "    <tr>\n",
       "      <th>5</th>\n",
       "      <td>New York City (NY)</td>\n",
       "      <td>4665294</td>\n",
       "    </tr>\n",
       "    <tr>\n",
       "      <th>6</th>\n",
       "      <td>Portland (ME)</td>\n",
       "      <td>449861</td>\n",
       "    </tr>\n",
       "    <tr>\n",
       "      <th>7</th>\n",
       "      <td>Portland (OR)</td>\n",
       "      <td>1871131</td>\n",
       "    </tr>\n",
       "    <tr>\n",
       "      <th>8</th>\n",
       "      <td>San Francisco (CA)</td>\n",
       "      <td>8263965</td>\n",
       "    </tr>\n",
       "    <tr>\n",
       "      <th>9</th>\n",
       "      <td>Seattle (WA)</td>\n",
       "      <td>2748337</td>\n",
       "    </tr>\n",
       "  </tbody>\n",
       "</table>\n",
       "</div>"
      ],
      "text/plain": [
       "                 City    Sales\n",
       "0        Atlanta (GA)  2796089\n",
       "1         Austin (TX)  1819974\n",
       "2         Boston (MA)  3662442\n",
       "3         Dallas (TX)  2768570\n",
       "4    Los Angeles (CA)  5453750\n",
       "5  New York City (NY)  4665294\n",
       "6       Portland (ME)   449861\n",
       "7       Portland (OR)  1871131\n",
       "8  San Francisco (CA)  8263965\n",
       "9        Seattle (WA)  2748337"
      ]
     },
     "execution_count": 115,
     "metadata": {},
     "output_type": "execute_result"
    }
   ],
   "source": [
    "df.groupby('City')['Sales'].sum().reset_index()"
   ]
  },
  {
   "cell_type": "code",
   "execution_count": 116,
   "id": "879898bb",
   "metadata": {},
   "outputs": [
    {
     "data": {
      "text/plain": [
       "array(['Dallas (TX)', 'Boston (MA)', 'Los Angeles (CA)',\n",
       "       'San Francisco (CA)', 'Seattle (WA)', 'Atlanta (GA)',\n",
       "       'New York City (NY)', 'Portland (OR)', 'Austin (TX)',\n",
       "       'Portland (ME)'], dtype=object)"
      ]
     },
     "execution_count": 116,
     "metadata": {},
     "output_type": "execute_result"
    }
   ],
   "source": [
    "df['City'].unique()"
   ]
  },
  {
   "cell_type": "code",
   "execution_count": 118,
   "id": "50150cf9",
   "metadata": {},
   "outputs": [],
   "source": [
    "cities = df['City'].unique()"
   ]
  },
  {
   "cell_type": "code",
   "execution_count": 131,
   "id": "dc535813",
   "metadata": {},
   "outputs": [
    {
     "data": {
      "image/png": "[encoded data removed]",
      "text/plain": [
       "<Figure size 432x288 with 1 Axes>"
      ]
     },
     "metadata": {
      "needs_background": "light"
     },
     "output_type": "display_data"
    }
   ],
   "source": [
    "plt.bar(cities, city_df['Sales'])\n",
    "plt.xticks(cities, rotation='vertical', size=8)\n",
    "plt.yticks(city_df['Sales'])\n",
    "plt.ylabel('Sales In USD $')\n",
    "plt.xlabel('City Name')\n",
    "plt.show()"
   ]
  },
  {
   "cell_type": "code",
   "execution_count": 129,
   "id": "12ab7651",
   "metadata": {},
   "outputs": [
    {
     "data": {
      "text/plain": [
       "0    2796089\n",
       "1    1819974\n",
       "2    3662442\n",
       "3    2768570\n",
       "4    5453750\n",
       "5    4665294\n",
       "6     449861\n",
       "7    1871131\n",
       "8    8263965\n",
       "9    2748337\n",
       "Name: Sales, dtype: int32"
      ]
     },
     "execution_count": 129,
     "metadata": {},
     "output_type": "execute_result"
    }
   ],
   "source": [
    "city_df['Sales']"
   ]
  },
  {
   "cell_type": "code",
   "execution_count": 130,
   "id": "ec5ef2b7",
   "metadata": {},
   "outputs": [
    {
     "data": {
      "text/plain": [
       "8263965"
      ]
     },
     "execution_count": 130,
     "metadata": {},
     "output_type": "execute_result"
    }
   ],
   "source": [
    "city_df['Sales'].max()"
   ]
  },
  {
   "cell_type": "code",
   "execution_count": 132,
   "id": "271ede7a",
   "metadata": {},
   "outputs": [
    {
     "data": {
      "image/png": "[encoded data removed]",
      "text/plain": [
       "<Figure size 432x288 with 1 Axes>"
      ]
     },
     "metadata": {
      "needs_background": "light"
     },
     "output_type": "display_data"
    }
   ],
   "source": [
    "# Assuming cities and city_df['Sales'] are already defined\n",
    "plt.bar(cities, city_df['Sales'])\n",
    "\n",
    "# Add actual sales values on top of each bar\n",
    "for i, value in enumerate(city_df['Sales']):\n",
    "    plt.text(i, value + (value * 0.01),  # Adjust the position slightly above the bar\n",
    "             f'{value:,.0f}',            # Format the value with commas and no decimals\n",
    "             ha='center', fontsize=8)\n",
    "\n",
    "# Formatting the plot\n",
    "plt.xticks(cities, rotation='vertical', size=8)\n",
    "plt.ylabel('Sales in USD $')\n",
    "plt.xlabel('City Name')\n",
    "plt.title('Sales by City')\n",
    "plt.tight_layout()  # Adjust layout for better readability\n",
    "plt.show()\n"
   ]
  },
  {
   "cell_type": "code",
   "execution_count": 141,
   "id": "9962deb8",
   "metadata": {},
   "outputs": [],
   "source": [
    "# Renaming the column names to get actual names\n",
    "\n",
    "df.rename(columns={'Months_name': 'Month'}, inplace=True)"
   ]
  },
  {
   "cell_type": "code",
   "execution_count": 142,
   "id": "19f99525",
   "metadata": {},
   "outputs": [
    {
     "data": {
      "text/plain": [
       "Index(['Order ID', 'Product', 'Quantity Ordered', 'Price Each', 'Order Date',\n",
       "       'Purchase Address', 'Full Date', 'Month', 'Hour', 'Month', 'Sales',\n",
       "       'City'],\n",
       "      dtype='object')"
      ]
     },
     "execution_count": 142,
     "metadata": {},
     "output_type": "execute_result"
    }
   ],
   "source": [
    "df.columns"
   ]
  },
  {
   "cell_type": "code",
   "execution_count": null,
   "id": "9fd9f75d",
   "metadata": {},
   "outputs": [],
   "source": []
  },
  {
   "cell_type": "markdown",
   "id": "ede33478",
   "metadata": {},
   "source": [
    "# to change the vaue on basis of some condition\n",
    "df.loc[\n",
    "    df['Quantity Ordered']==2, 'Quantity Ordered'\n",
    "]=2"
   ]
  },
  {
   "cell_type": "code",
   "execution_count": 144,
   "id": "85498960",
   "metadata": {},
   "outputs": [],
   "source": [
    "df.loc[\n",
    "    df['Quantity Ordered']==2, 'Quantity Ordered'\n",
    "]=2"
   ]
  },
  {
   "cell_type": "code",
   "execution_count": 145,
   "id": "5c1de2b6",
   "metadata": {},
   "outputs": [],
   "source": [
    "df1 = pd.read_excel('data_sets/Excel Project Dataset.xlsx', sheet_name='bike_buyers')"
   ]
  },
  {
   "cell_type": "code",
   "execution_count": 146,
   "id": "48121834",
   "metadata": {},
   "outputs": [
    {
     "data": {
      "text/html": [
       "<div>\n",
       "<style scoped>\n",
       "    .dataframe tbody tr th:only-of-type {\n",
       "        vertical-align: middle;\n",
       "    }\n",
       "\n",
       "    .dataframe tbody tr th {\n",
       "        vertical-align: top;\n",
       "    }\n",
       "\n",
       "    .dataframe thead th {\n",
       "        text-align: right;\n",
       "    }\n",
       "</style>\n",
       "<table border=\"1\" class=\"dataframe\">\n",
       "  <thead>\n",
       "    <tr style=\"text-align: right;\">\n",
       "      <th></th>\n",
       "      <th>ID</th>\n",
       "      <th>Marital Status</th>\n",
       "      <th>Gender</th>\n",
       "      <th>Income</th>\n",
       "      <th>Children</th>\n",
       "      <th>Education</th>\n",
       "      <th>Occupation</th>\n",
       "      <th>Home Owner</th>\n",
       "      <th>Cars</th>\n",
       "      <th>Commute Distance</th>\n",
       "      <th>Region</th>\n",
       "      <th>Age</th>\n",
       "      <th>Purchased Bike</th>\n",
       "    </tr>\n",
       "  </thead>\n",
       "  <tbody>\n",
       "    <tr>\n",
       "      <th>0</th>\n",
       "      <td>12496</td>\n",
       "      <td>M</td>\n",
       "      <td>F</td>\n",
       "      <td>40000</td>\n",
       "      <td>1</td>\n",
       "      <td>Bachelors</td>\n",
       "      <td>Skilled Manual</td>\n",
       "      <td>Yes</td>\n",
       "      <td>0</td>\n",
       "      <td>0-1 Miles</td>\n",
       "      <td>Europe</td>\n",
       "      <td>42</td>\n",
       "      <td>No</td>\n",
       "    </tr>\n",
       "    <tr>\n",
       "      <th>1</th>\n",
       "      <td>24107</td>\n",
       "      <td>M</td>\n",
       "      <td>M</td>\n",
       "      <td>30000</td>\n",
       "      <td>3</td>\n",
       "      <td>Partial College</td>\n",
       "      <td>Clerical</td>\n",
       "      <td>Yes</td>\n",
       "      <td>1</td>\n",
       "      <td>0-1 Miles</td>\n",
       "      <td>Europe</td>\n",
       "      <td>43</td>\n",
       "      <td>No</td>\n",
       "    </tr>\n",
       "    <tr>\n",
       "      <th>2</th>\n",
       "      <td>14177</td>\n",
       "      <td>M</td>\n",
       "      <td>M</td>\n",
       "      <td>80000</td>\n",
       "      <td>5</td>\n",
       "      <td>Partial College</td>\n",
       "      <td>Professional</td>\n",
       "      <td>No</td>\n",
       "      <td>2</td>\n",
       "      <td>2-5 Miles</td>\n",
       "      <td>Europe</td>\n",
       "      <td>60</td>\n",
       "      <td>No</td>\n",
       "    </tr>\n",
       "    <tr>\n",
       "      <th>3</th>\n",
       "      <td>24381</td>\n",
       "      <td>S</td>\n",
       "      <td>M</td>\n",
       "      <td>70000</td>\n",
       "      <td>0</td>\n",
       "      <td>Bachelors</td>\n",
       "      <td>Professional</td>\n",
       "      <td>Yes</td>\n",
       "      <td>1</td>\n",
       "      <td>5-10 Miles</td>\n",
       "      <td>Pacific</td>\n",
       "      <td>41</td>\n",
       "      <td>Yes</td>\n",
       "    </tr>\n",
       "    <tr>\n",
       "      <th>4</th>\n",
       "      <td>25597</td>\n",
       "      <td>S</td>\n",
       "      <td>M</td>\n",
       "      <td>30000</td>\n",
       "      <td>0</td>\n",
       "      <td>Bachelors</td>\n",
       "      <td>Clerical</td>\n",
       "      <td>No</td>\n",
       "      <td>0</td>\n",
       "      <td>0-1 Miles</td>\n",
       "      <td>Europe</td>\n",
       "      <td>36</td>\n",
       "      <td>Yes</td>\n",
       "    </tr>\n",
       "  </tbody>\n",
       "</table>\n",
       "</div>"
      ],
      "text/plain": [
       "      ID Marital Status Gender  Income  Children        Education  \\\n",
       "0  12496              M      F   40000         1        Bachelors   \n",
       "1  24107              M      M   30000         3  Partial College   \n",
       "2  14177              M      M   80000         5  Partial College   \n",
       "3  24381              S      M   70000         0        Bachelors   \n",
       "4  25597              S      M   30000         0        Bachelors   \n",
       "\n",
       "       Occupation Home Owner  Cars Commute Distance   Region  Age  \\\n",
       "0  Skilled Manual        Yes     0        0-1 Miles   Europe   42   \n",
       "1        Clerical        Yes     1        0-1 Miles   Europe   43   \n",
       "2    Professional         No     2        2-5 Miles   Europe   60   \n",
       "3    Professional        Yes     1       5-10 Miles  Pacific   41   \n",
       "4        Clerical         No     0        0-1 Miles   Europe   36   \n",
       "\n",
       "  Purchased Bike  \n",
       "0             No  \n",
       "1             No  \n",
       "2             No  \n",
       "3            Yes  \n",
       "4            Yes  "
      ]
     },
     "execution_count": 146,
     "metadata": {},
     "output_type": "execute_result"
    }
   ],
   "source": [
    "df1.head()"
   ]
  },
  {
   "cell_type": "code",
   "execution_count": 149,
   "id": "39640fd9",
   "metadata": {},
   "outputs": [],
   "source": [
    "df1['Marital Status'] = df1['Marital Status'].map({'M':'Married', 'S': 'Single'})"
   ]
  },
  {
   "cell_type": "code",
   "execution_count": 151,
   "id": "b8c1c364",
   "metadata": {},
   "outputs": [
    {
     "data": {
      "text/plain": [
       "0    Married\n",
       "1    Married\n",
       "2    Married\n",
       "3     Single\n",
       "4     Single\n",
       "Name: Marital Status, dtype: object"
      ]
     },
     "execution_count": 151,
     "metadata": {},
     "output_type": "execute_result"
    }
   ],
   "source": [
    "df1['Marital Status'].head()"
   ]
  },
  {
   "cell_type": "code",
   "execution_count": 152,
   "id": "2ffcfb0e",
   "metadata": {},
   "outputs": [
    {
     "data": {
      "text/plain": [
       "Married    549\n",
       "Single     477\n",
       "Name: Marital Status, dtype: int64"
      ]
     },
     "execution_count": 152,
     "metadata": {},
     "output_type": "execute_result"
    }
   ],
   "source": [
    "df1['Marital Status'].value_counts()"
   ]
  },
  {
   "cell_type": "code",
   "execution_count": 153,
   "id": "6df10b20",
   "metadata": {},
   "outputs": [
    {
     "data": {
      "text/plain": [
       "1026"
      ]
     },
     "execution_count": 153,
     "metadata": {},
     "output_type": "execute_result"
    }
   ],
   "source": [
    "len(df1)"
   ]
  },
  {
   "cell_type": "code",
   "execution_count": 154,
   "id": "a2e42393",
   "metadata": {},
   "outputs": [
    {
     "data": {
      "text/plain": [
       "1026"
      ]
     },
     "execution_count": 154,
     "metadata": {},
     "output_type": "execute_result"
    }
   ],
   "source": [
    "549+477"
   ]
  },
  {
   "cell_type": "code",
   "execution_count": 157,
   "id": "409da35d",
   "metadata": {},
   "outputs": [],
   "source": [
    "df1['Gender'] = df1['Gender'].map({'F': 'Female', 'M':'Male'})"
   ]
  },
  {
   "cell_type": "code",
   "execution_count": 159,
   "id": "7330aaad",
   "metadata": {},
   "outputs": [
    {
     "data": {
      "text/html": [
       "<div>\n",
       "<style scoped>\n",
       "    .dataframe tbody tr th:only-of-type {\n",
       "        vertical-align: middle;\n",
       "    }\n",
       "\n",
       "    .dataframe tbody tr th {\n",
       "        vertical-align: top;\n",
       "    }\n",
       "\n",
       "    .dataframe thead th {\n",
       "        text-align: right;\n",
       "    }\n",
       "</style>\n",
       "<table border=\"1\" class=\"dataframe\">\n",
       "  <thead>\n",
       "    <tr style=\"text-align: right;\">\n",
       "      <th></th>\n",
       "      <th>Marital Status</th>\n",
       "      <th>Gender</th>\n",
       "    </tr>\n",
       "  </thead>\n",
       "  <tbody>\n",
       "    <tr>\n",
       "      <th>0</th>\n",
       "      <td>Married</td>\n",
       "      <td>Female</td>\n",
       "    </tr>\n",
       "    <tr>\n",
       "      <th>1</th>\n",
       "      <td>Married</td>\n",
       "      <td>Male</td>\n",
       "    </tr>\n",
       "    <tr>\n",
       "      <th>2</th>\n",
       "      <td>Married</td>\n",
       "      <td>Male</td>\n",
       "    </tr>\n",
       "    <tr>\n",
       "      <th>3</th>\n",
       "      <td>Single</td>\n",
       "      <td>Male</td>\n",
       "    </tr>\n",
       "    <tr>\n",
       "      <th>4</th>\n",
       "      <td>Single</td>\n",
       "      <td>Male</td>\n",
       "    </tr>\n",
       "  </tbody>\n",
       "</table>\n",
       "</div>"
      ],
      "text/plain": [
       "  Marital Status  Gender\n",
       "0        Married  Female\n",
       "1        Married    Male\n",
       "2        Married    Male\n",
       "3         Single    Male\n",
       "4         Single    Male"
      ]
     },
     "execution_count": 159,
     "metadata": {},
     "output_type": "execute_result"
    }
   ],
   "source": [
    "df1[['Marital Status', 'Gender']].head()"
   ]
  },
  {
   "cell_type": "code",
   "execution_count": 160,
   "id": "20c843b8",
   "metadata": {},
   "outputs": [
    {
     "data": {
      "text/plain": [
       "Male      525\n",
       "Female    501\n",
       "Name: Gender, dtype: int64"
      ]
     },
     "execution_count": 160,
     "metadata": {},
     "output_type": "execute_result"
    }
   ],
   "source": [
    "df1['Gender'].value_counts()"
   ]
  },
  {
   "cell_type": "code",
   "execution_count": 164,
   "id": "ba157d09",
   "metadata": {},
   "outputs": [
    {
     "data": {
      "text/html": [
       "<div>\n",
       "<style scoped>\n",
       "    .dataframe tbody tr th:only-of-type {\n",
       "        vertical-align: middle;\n",
       "    }\n",
       "\n",
       "    .dataframe tbody tr th {\n",
       "        vertical-align: top;\n",
       "    }\n",
       "\n",
       "    .dataframe thead th {\n",
       "        text-align: right;\n",
       "    }\n",
       "</style>\n",
       "<table border=\"1\" class=\"dataframe\">\n",
       "  <thead>\n",
       "    <tr style=\"text-align: right;\">\n",
       "      <th>Gender</th>\n",
       "      <th>Female</th>\n",
       "      <th>Male</th>\n",
       "    </tr>\n",
       "    <tr>\n",
       "      <th>Marital Status</th>\n",
       "      <th></th>\n",
       "      <th></th>\n",
       "    </tr>\n",
       "  </thead>\n",
       "  <tbody>\n",
       "    <tr>\n",
       "      <th>Married</th>\n",
       "      <td>245</td>\n",
       "      <td>304</td>\n",
       "    </tr>\n",
       "    <tr>\n",
       "      <th>Single</th>\n",
       "      <td>256</td>\n",
       "      <td>221</td>\n",
       "    </tr>\n",
       "  </tbody>\n",
       "</table>\n",
       "</div>"
      ],
      "text/plain": [
       "Gender          Female  Male\n",
       "Marital Status              \n",
       "Married            245   304\n",
       "Single             256   221"
      ]
     },
     "execution_count": 164,
     "metadata": {},
     "output_type": "execute_result"
    }
   ],
   "source": [
    "gender_count = df1.groupby(['Marital Status', 'Gender']).size().unstack()\n",
    "gender_count"
   ]
  },
  {
   "cell_type": "code",
   "execution_count": 165,
   "id": "fc374dcf",
   "metadata": {},
   "outputs": [
    {
     "data": {
      "text/html": [
       "<div>\n",
       "<style scoped>\n",
       "    .dataframe tbody tr th:only-of-type {\n",
       "        vertical-align: middle;\n",
       "    }\n",
       "\n",
       "    .dataframe tbody tr th {\n",
       "        vertical-align: top;\n",
       "    }\n",
       "\n",
       "    .dataframe thead th {\n",
       "        text-align: right;\n",
       "    }\n",
       "</style>\n",
       "<table border=\"1\" class=\"dataframe\">\n",
       "  <thead>\n",
       "    <tr style=\"text-align: right;\">\n",
       "      <th>Gender</th>\n",
       "      <th>Marital Status</th>\n",
       "      <th>Female</th>\n",
       "      <th>Male</th>\n",
       "    </tr>\n",
       "  </thead>\n",
       "  <tbody>\n",
       "    <tr>\n",
       "      <th>0</th>\n",
       "      <td>Married</td>\n",
       "      <td>0.446266</td>\n",
       "      <td>0.553734</td>\n",
       "    </tr>\n",
       "    <tr>\n",
       "      <th>1</th>\n",
       "      <td>Single</td>\n",
       "      <td>0.536688</td>\n",
       "      <td>0.463312</td>\n",
       "    </tr>\n",
       "  </tbody>\n",
       "</table>\n",
       "</div>"
      ],
      "text/plain": [
       "Gender Marital Status    Female      Male\n",
       "0             Married  0.446266  0.553734\n",
       "1              Single  0.536688  0.463312"
      ]
     },
     "execution_count": 165,
     "metadata": {},
     "output_type": "execute_result"
    }
   ],
   "source": [
    "gender_ratio = gender_count.div(gender_count.sum(axis=1), axis=0).reset_index()\n",
    "gender_ratio"
   ]
  },
  {
   "cell_type": "code",
   "execution_count": 169,
   "id": "11764eb3",
   "metadata": {},
   "outputs": [],
   "source": [
    "def connect_to_mongo():\n",
    "    try:\n",
    "        client = MongoClient(\"mongodb://localhost:27017/\")\n",
    "        print(\"Trying to Connect to the MongoDB\")\n",
    "        # Enforce to check database\n",
    "        client.server_info()\n",
    "        \n",
    "        db = client.university\n",
    "        collection = db.student\n",
    "        \n",
    "        print('Connected Successfully')\n",
    "        return collection\n",
    "        \n",
    "    except Exception as e :\n",
    "        print(\"An Error Occured While connecting to the Datase\")\n",
    "        print(e)"
   ]
  },
  {
   "cell_type": "code",
   "execution_count": 170,
   "id": "c6c147eb",
   "metadata": {},
   "outputs": [
    {
     "name": "stdout",
     "output_type": "stream",
     "text": [
      "Trying to Connect to the MongoDB\n",
      "Connected Successfully\n"
     ]
    },
    {
     "data": {
      "text/plain": [
       "Collection(Database(MongoClient(host=['localhost:27017'], document_class=dict, tz_aware=False, connect=True), 'university'), 'student')"
      ]
     },
     "execution_count": 170,
     "metadata": {},
     "output_type": "execute_result"
    }
   ],
   "source": [
    "connect_to_mongo()"
   ]
  },
  {
   "cell_type": "code",
   "execution_count": 171,
   "id": "1dc6991e",
   "metadata": {},
   "outputs": [],
   "source": [
    "def fetch_record():\n",
    "    collection = connect_to_mongo()\n",
    "    if collection:\n",
    "        query = {\n",
    "            'name' : 'Hamza Khalid',\n",
    "            'phone' :{'$regex' : '9800'}\n",
    "        }\n",
    "        try :\n",
    "            data = collection.find(query)\n",
    "            for record in data:\n",
    "                print(record)\n",
    "                \n",
    "        except Exception as e :\n",
    "            print('Error Occured while fetching the data')\n",
    "            print(e)"
   ]
  },
  {
   "cell_type": "code",
   "execution_count": 172,
   "id": "c4bf887c",
   "metadata": {},
   "outputs": [
    {
     "name": "stdout",
     "output_type": "stream",
     "text": [
      "Trying to Connect to the MongoDB\n",
      "Connected Successfully\n",
      "{'_id': ObjectId('61489f1cac973c75b2ef9b2f'), 'id': 3, 'name': 'Hamza Khalid', 'phone': '03153459800', 'email': 'hamzakhalidcs007@gmail.com', 'subjects': 'physics'}\n"
     ]
    }
   ],
   "source": [
    "fetch_record()"
   ]
  },
  {
   "cell_type": "code",
   "execution_count": 174,
   "id": "715fdecc",
   "metadata": {},
   "outputs": [
    {
     "name": "stdout",
     "output_type": "stream",
     "text": [
      "Trying to Connect to the database\n",
      "Connected Successfully\n"
     ]
    }
   ],
   "source": [
    "# Connecting to the databse\n",
    "try:\n",
    "    client = MongoClient('mongodb://localhost:27017/')\n",
    "    print('Trying to Connect to the database')\n",
    "    db = client.university\n",
    "    collection = db.student\n",
    "    print('Connected Successfully')\n",
    "except Exception as e :\n",
    "    print('Error occured while connecting to the database')\n",
    "    print(e)"
   ]
  },
  {
   "cell_type": "code",
   "execution_count": 179,
   "id": "145c8c6e",
   "metadata": {},
   "outputs": [
    {
     "name": "stdout",
     "output_type": "stream",
     "text": [
      "{'_id': ObjectId('61489f1cac973c75b2ef9b2f'), 'id': 3, 'name': 'Hamza Khalid', 'phone': '03153459800', 'email': 'hamzakhalidcs007@gmail.com', 'subjects': 'physics'}\n"
     ]
    }
   ],
   "source": [
    "# Fetching the record\n",
    "try:\n",
    "    if collection:\n",
    "        query = {\n",
    "            'name' : 'Hamza Khalid',\n",
    "            'phone' : {'$regex' : '9800'}\n",
    "        }\n",
    "        data = collection.find(query)\n",
    "        for record in data:\n",
    "            print(record)\n",
    "except Exception as e :\n",
    "    print('Error occured while fetching the data')\n",
    "    print(e)"
   ]
  },
  {
   "cell_type": "code",
   "execution_count": 191,
   "id": "34b9321d",
   "metadata": {},
   "outputs": [],
   "source": [
    "# working with sql server \n",
    "driver = '{SQL Server}'\n",
    "server = 'DESKTOP-959UNBS'\n",
    "database = 'Adventureworks'"
   ]
  },
  {
   "cell_type": "code",
   "execution_count": 192,
   "id": "1e691e51",
   "metadata": {},
   "outputs": [
    {
     "name": "stdout",
     "output_type": "stream",
     "text": [
      "Connected Successfully\n"
     ]
    }
   ],
   "source": [
    "try:\n",
    "    conn = pyodbc.connect(\n",
    "    \"Driver=\"+driver+';'\n",
    "    \"Server=\"+server+';'\n",
    "    \"Database=\"+database+';'\n",
    "    \"Trusted_Connection=yes;\"\n",
    "    )\n",
    "    print('Connected Successfully')\n",
    "except Exception as e :\n",
    "    print('Cannot Connect to the datase')\n",
    "    print(e)"
   ]
  },
  {
   "cell_type": "code",
   "execution_count": 193,
   "id": "2768d871",
   "metadata": {},
   "outputs": [
    {
     "name": "stdout",
     "output_type": "stream",
     "text": [
      "   BusinessEntityID RateChangeDate      Rate  PayFrequency ModifiedDate\n",
      "0                 1     2009-01-14  183.7446             2   2014-06-30\n",
      "1                 2     2008-01-31   82.5000             1   2014-06-30\n",
      "2                 3     2007-11-11   49.5000             1   2014-06-30\n",
      "3                 4     2007-12-05   12.6205             2   2007-11-21\n",
      "4                 4     2010-05-31   34.7284             2   2010-05-16\n"
     ]
    }
   ],
   "source": [
    "if conn:\n",
    "    try:\n",
    "        query = \"select top 5 * from [Adventureworks].[HumanResources].[EmployeePayHistory]\"\n",
    "        data = pd.read_sql_query(query, conn)\n",
    "        print(data)\n",
    "        \n",
    "    except Exception as e :\n",
    "        print(\"Can not read the SQL query\")\n",
    "        print(e)\n",
    "        \n",
    "    finally:\n",
    "        conn.close()\n",
    "\n",
    "else:\n",
    "    print(\"connection was not built, skipping the fetching record\")"
   ]
  },
  {
   "cell_type": "code",
   "execution_count": 200,
   "id": "4d02a718",
   "metadata": {},
   "outputs": [],
   "source": [
    "# payload exercise \n",
    "data = {\n",
    "    'BusinessEntityID' :[1,2,3],\n",
    "    'FirstName' : ['John', 'Nick', 'Doe'],\n",
    "    'LastName' : ['Doe', 'Nil', 'shawn']\n",
    "}\n",
    "\n",
    "df  =pd.DataFrame(data)"
   ]
  },
  {
   "cell_type": "code",
   "execution_count": 202,
   "id": "a17f0ced",
   "metadata": {},
   "outputs": [
    {
     "name": "stdout",
     "output_type": "stream",
     "text": [
      "[{'BusinessEntityID': 1, 'FirstName': 'John', 'LastName': 'Doe'}, {'BusinessEntityID': 2, 'FirstName': 'Nick', 'LastName': 'Nil'}, {'BusinessEntityID': 3, 'FirstName': 'Doe', 'LastName': 'shawn'}]\n"
     ]
    }
   ],
   "source": [
    "payload = []\n",
    "for index, row in df.iterrows():\n",
    "    row_data = {\n",
    "        'BusinessEntityID': row['BusinessEntityID'],\n",
    "        'FirstName' : row['FirstName'],\n",
    "        'LastName' : row['LastName']\n",
    "    }\n",
    "    payload.append(row_data)\n",
    "    \n",
    "print(payload)"
   ]
  },
  {
   "cell_type": "code",
   "execution_count": null,
   "id": "af1dd03e",
   "metadata": {},
   "outputs": [],
   "source": []
  }
 ],
 "metadata": {
  "kernelspec": {
   "display_name": "Python 3",
   "language": "python",
   "name": "python3"
  },
  "language_info": {
   "codemirror_mode": {
    "name": "ipython",
    "version": 3
   },
   "file_extension": ".py",
   "mimetype": "text/x-python",
   "name": "python",
   "nbconvert_exporter": "python",
   "pygments_lexer": "ipython3",
   "version": "3.7.9"
  }
 },
 "nbformat": 4,
 "nbformat_minor": 5
}
