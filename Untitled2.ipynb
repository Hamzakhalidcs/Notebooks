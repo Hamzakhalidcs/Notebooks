{
 "cells": [
  {
   "cell_type": "code",
   "execution_count": 1,
   "id": "1ed5a71d",
   "metadata": {},
   "outputs": [
    {
     "name": "stdout",
     "output_type": "stream",
     "text": [
      "Hello\n"
     ]
    }
   ],
   "source": [
    "print(\"Hello\")"
   ]
  },
  {
   "cell_type": "code",
   "execution_count": 22,
   "id": "4779aa08",
   "metadata": {},
   "outputs": [
    {
     "name": "stdout",
     "output_type": "stream",
     "text": [
      "llo\n"
     ]
    }
   ],
   "source": [
    "b = \"Hello World\"\n",
    "print(b[2:5])"
   ]
  },
  {
   "cell_type": "code",
   "execution_count": 3,
   "id": "31a0226d",
   "metadata": {},
   "outputs": [
    {
     "data": {
      "text/plain": [
       "'Hello Worl'"
      ]
     },
     "execution_count": 3,
     "metadata": {},
     "output_type": "execute_result"
    }
   ],
   "source": [
    "b[:-1]"
   ]
  },
  {
   "cell_type": "code",
   "execution_count": 9,
   "id": "81138446",
   "metadata": {},
   "outputs": [
    {
     "data": {
      "text/plain": [
       "'Hello Worl'"
      ]
     },
     "execution_count": 9,
     "metadata": {},
     "output_type": "execute_result"
    }
   ],
   "source": [
    "b[:-1]"
   ]
  },
  {
   "cell_type": "code",
   "execution_count": 12,
   "id": "a9761489",
   "metadata": {},
   "outputs": [
    {
     "data": {
      "text/plain": [
       "'234567899000'"
      ]
     },
     "execution_count": 12,
     "metadata": {},
     "output_type": "execute_result"
    }
   ],
   "source": [
    "acc_num = \"2345678990000\"\n",
    "member_Number = acc_num[:-1]\n",
    "member_Number"
   ]
  },
  {
   "cell_type": "code",
   "execution_count": 14,
   "id": "e3be321b",
   "metadata": {},
   "outputs": [
    {
     "data": {
      "text/plain": [
       "'Hello World'"
      ]
     },
     "execution_count": 14,
     "metadata": {},
     "output_type": "execute_result"
    }
   ],
   "source": [
    "b"
   ]
  },
  {
   "cell_type": "code",
   "execution_count": 13,
   "id": "a058c9c2",
   "metadata": {},
   "outputs": [
    {
     "data": {
      "text/plain": [
       "'Wor'"
      ]
     },
     "execution_count": 13,
     "metadata": {},
     "output_type": "execute_result"
    }
   ],
   "source": [
    "b[-5:-2]"
   ]
  },
  {
   "cell_type": "code",
   "execution_count": 15,
   "id": "1d8e5cc9",
   "metadata": {},
   "outputs": [
    {
     "data": {
      "text/plain": [
       "'HELLO WORLD'"
      ]
     },
     "execution_count": 15,
     "metadata": {},
     "output_type": "execute_result"
    }
   ],
   "source": [
    "b.upper()"
   ]
  },
  {
   "cell_type": "code",
   "execution_count": 16,
   "id": "3e49cf90",
   "metadata": {},
   "outputs": [
    {
     "data": {
      "text/plain": [
       "'hello world'"
      ]
     },
     "execution_count": 16,
     "metadata": {},
     "output_type": "execute_result"
    }
   ],
   "source": [
    "b.lower()"
   ]
  },
  {
   "cell_type": "code",
   "execution_count": 23,
   "id": "f079503a",
   "metadata": {},
   "outputs": [
    {
     "data": {
      "text/plain": [
       "'Hello World'"
      ]
     },
     "execution_count": 23,
     "metadata": {},
     "output_type": "execute_result"
    }
   ],
   "source": [
    "# to remove white spaces \n",
    "b.strip()"
   ]
  },
  {
   "cell_type": "code",
   "execution_count": 28,
   "id": "bed0387a",
   "metadata": {},
   "outputs": [
    {
     "data": {
      "text/plain": [
       "'Hello world'"
      ]
     },
     "execution_count": 28,
     "metadata": {},
     "output_type": "execute_result"
    }
   ],
   "source": [
    "a= \"Hello\"\n",
    "b = \"world\"\n",
    "c = a + \" \" + b \n",
    "c"
   ]
  },
  {
   "cell_type": "code",
   "execution_count": 30,
   "id": "e057ccd0",
   "metadata": {},
   "outputs": [
    {
     "data": {
      "text/plain": [
       "'My name is Hamza and i am 25 years old'"
      ]
     },
     "execution_count": 30,
     "metadata": {},
     "output_type": "execute_result"
    }
   ],
   "source": [
    "age = 25\n",
    "name = \"Hamza\"\n",
    "txt = \"My name is {} and i am {} years old\".format(name, age)\n",
    "txt"
   ]
  },
  {
   "cell_type": "code",
   "execution_count": 32,
   "id": "16419807",
   "metadata": {},
   "outputs": [
    {
     "data": {
      "text/plain": [
       "'My name is \"Hamza\" and i am from Nowshera'"
      ]
     },
     "execution_count": 32,
     "metadata": {},
     "output_type": "execute_result"
    }
   ],
   "source": [
    "some_text = (\"My name is \\\"Hamza\\\" and i am from Nowshera\")\n",
    "some_text"
   ]
  },
  {
   "cell_type": "code",
   "execution_count": 42,
   "id": "2537f579",
   "metadata": {},
   "outputs": [
    {
     "data": {
      "text/plain": [
       "'this is some \"Hamza\" and this is it'"
      ]
     },
     "execution_count": 42,
     "metadata": {},
     "output_type": "execute_result"
    }
   ],
   "source": [
    "some_data = (\"this is some \\\"Hamza\\\" and this is it\")\n",
    "some_data"
   ]
  },
  {
   "cell_type": "code",
   "execution_count": 43,
   "id": "639b656c",
   "metadata": {},
   "outputs": [
    {
     "name": "stdout",
     "output_type": "stream",
     "text": [
      "it's alright\n"
     ]
    }
   ],
   "source": [
    "print(\"it's alright\")"
   ]
  },
  {
   "cell_type": "code",
   "execution_count": 44,
   "id": "c3edd431",
   "metadata": {},
   "outputs": [
    {
     "data": {
      "text/plain": [
       "'Hamza'"
      ]
     },
     "execution_count": 44,
     "metadata": {},
     "output_type": "execute_result"
    }
   ],
   "source": [
    "name = \"hamza\"\n",
    "name.capitalize()"
   ]
  },
  {
   "cell_type": "code",
   "execution_count": 45,
   "id": "609a5f73",
   "metadata": {},
   "outputs": [
    {
     "data": {
      "text/plain": [
       "'Basit'"
      ]
     },
     "execution_count": 45,
     "metadata": {},
     "output_type": "execute_result"
    }
   ],
   "source": [
    "name = \"basit\"\n",
    "name.capitalize()"
   ]
  },
  {
   "cell_type": "code",
   "execution_count": 46,
   "id": "a823f4b5",
   "metadata": {},
   "outputs": [
    {
     "data": {
      "text/plain": [
       "'abdul basit'"
      ]
     },
     "execution_count": 46,
     "metadata": {},
     "output_type": "execute_result"
    }
   ],
   "source": [
    "str_name = \"Abdul Basit\"\n",
    "str_name.casefold()"
   ]
  },
  {
   "cell_type": "code",
   "execution_count": 48,
   "id": "41d4a07b",
   "metadata": {},
   "outputs": [
    {
     "data": {
      "text/plain": [
       "True"
      ]
     },
     "execution_count": 48,
     "metadata": {},
     "output_type": "execute_result"
    }
   ],
   "source": [
    "x = \"Hello, welcome to my world.\"\n",
    "find_x = x.endswith(\".\")\n",
    "find_x"
   ]
  },
  {
   "cell_type": "code",
   "execution_count": 49,
   "id": "0d4928d6",
   "metadata": {},
   "outputs": [
    {
     "data": {
      "text/plain": [
       "True"
      ]
     },
     "execution_count": 49,
     "metadata": {},
     "output_type": "execute_result"
    }
   ],
   "source": [
    "10>7"
   ]
  },
  {
   "cell_type": "code",
   "execution_count": 50,
   "id": "6cf039f7",
   "metadata": {},
   "outputs": [
    {
     "data": {
      "text/plain": [
       "True"
      ]
     },
     "execution_count": 50,
     "metadata": {},
     "output_type": "execute_result"
    }
   ],
   "source": [
    "10==10"
   ]
  },
  {
   "cell_type": "code",
   "execution_count": 51,
   "id": "6878c259",
   "metadata": {},
   "outputs": [
    {
     "data": {
      "text/plain": [
       "False"
      ]
     },
     "execution_count": 51,
     "metadata": {},
     "output_type": "execute_result"
    }
   ],
   "source": [
    "10<3"
   ]
  },
  {
   "cell_type": "code",
   "execution_count": 55,
   "id": "f39fb84b",
   "metadata": {},
   "outputs": [
    {
     "data": {
      "text/plain": [
       "['APPLE', 'BANANA', 'CHERRY']"
      ]
     },
     "execution_count": 55,
     "metadata": {},
     "output_type": "execute_result"
    }
   ],
   "source": [
    "thislist = [\"apple\", \"banana\", \"cherry\"]\n",
    "[name.upper() for name in thislist]"
   ]
  },
  {
   "cell_type": "code",
   "execution_count": 1,
   "id": "47a915fb",
   "metadata": {},
   "outputs": [
    {
     "data": {
      "text/plain": [
       "('apple', 'Kiwi', 'cherry')"
      ]
     },
     "execution_count": 1,
     "metadata": {},
     "output_type": "execute_result"
    }
   ],
   "source": [
    "x = (\"apple\", \"banana\", \"cherry\")\n",
    "y = list(x)\n",
    "y[1] = \"Kiwi\"\n",
    "x = tuple(y)\n",
    "x"
   ]
  },
  {
   "cell_type": "code",
   "execution_count": 3,
   "id": "f04f0bcd",
   "metadata": {},
   "outputs": [
    {
     "data": {
      "text/plain": [
       "{'Apple', 'Banana', 'Cherry'}"
      ]
     },
     "execution_count": 3,
     "metadata": {},
     "output_type": "execute_result"
    }
   ],
   "source": [
    "this_list = [\"Apple\", \"Banana\", \"Cherry\", \"Apple\"]\n",
    "set(this_list)"
   ]
  },
  {
   "cell_type": "code",
   "execution_count": null,
   "id": "bcfc20bd",
   "metadata": {},
   "outputs": [],
   "source": []
  }
 ],
 "metadata": {
  "kernelspec": {
   "display_name": "Python 3",
   "language": "python",
   "name": "python3"
  },
  "language_info": {
   "codemirror_mode": {
    "name": "ipython",
    "version": 3
   },
   "file_extension": ".py",
   "mimetype": "text/x-python",
   "name": "python",
   "nbconvert_exporter": "python",
   "pygments_lexer": "ipython3",
   "version": "3.7.9"
  }
 },
 "nbformat": 4,
 "nbformat_minor": 5
}
