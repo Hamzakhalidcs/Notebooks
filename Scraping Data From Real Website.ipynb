{
 "cells": [
  {
   "cell_type": "code",
   "execution_count": 2,
   "metadata": {},
   "outputs": [],
   "source": [
    "from bs4 import BeautifulSoup\n",
    "import requests\n",
    "import pandas as pd "
   ]
  },
  {
   "cell_type": "code",
   "execution_count": 3,
   "metadata": {},
   "outputs": [],
   "source": [
    "url = 'https://en.wikipedia.org/wiki/List_of_largest_companies_in_the_United_States_by_revenue'\n",
    "\n",
    "page = requests.get(url)\n",
    "\n",
    "soup = BeautifulSoup(page.text, 'html')"
   ]
  },
  {
   "cell_type": "code",
   "execution_count": 5,
   "metadata": {},
   "outputs": [],
   "source": [
    "print(soup)"
   ]
  },
  {
   "cell_type": "code",
   "execution_count": 7,
   "metadata": {},
   "outputs": [],
   "source": [
    "soup.find('table')"
   ]
  },
  {
   "cell_type": "code",
   "execution_count": 9,
   "metadata": {},
   "outputs": [],
   "source": [
    "soup.find_all('table')[1]"
   ]
  },
  {
   "cell_type": "code",
   "execution_count": 11,
   "metadata": {},
   "outputs": [],
   "source": [
    "soup.find('table', class_ = 'wikitable sortable')"
   ]
  },
  {
   "cell_type": "code",
   "execution_count": 12,
   "metadata": {},
   "outputs": [],
   "source": [
    "table = soup.find_all('table')[1]"
   ]
  },
  {
   "cell_type": "code",
   "execution_count": 1,
   "metadata": {},
   "outputs": [],
   "source": [
    "print(table)"
   ]
  },
  {
   "cell_type": "code",
   "execution_count": 13,
   "metadata": {},
   "outputs": [],
   "source": [
    "world_titles = table.find_all('th')"
   ]
  },
  {
   "cell_type": "code",
   "execution_count": 14,
   "metadata": {},
   "outputs": [
    {
     "data": {
      "text/plain": [
       "[<th>Rank\\n</th>,\n",
       " <th>Name\\n</th>,\n",
       " <th>Industry\\n</th>,\n",
       " <th>Revenue <br/>(USD millions)\\n</th>,\n",
       " <th>Revenue growth\\n</th>,\n",
       " <th>Employees\\n</th>,\n",
       " <th>Headquarters\\n</th>]"
      ]
     },
     "execution_count": 14,
     "metadata": {},
     "output_type": "execute_result"
    }
   ],
   "source": [
    "world_titles"
   ]
  },
  {
   "cell_type": "code",
   "execution_count": 15,
   "metadata": {},
   "outputs": [],
   "source": [
    "world_table_titles = [title.text.strip() for title in world_titles]"
   ]
  },
  {
   "cell_type": "code",
   "execution_count": 16,
   "metadata": {},
   "outputs": [
    {
     "name": "stdout",
     "output_type": "stream",
     "text": [
      "[u'Rank', u'Name', u'Industry', u'Revenue (USD millions)', u'Revenue growth', u'Employees', u'Headquarters']\n"
     ]
    }
   ],
   "source": [
    "print(world_table_titles)"
   ]
  },
  {
   "cell_type": "code",
   "execution_count": 17,
   "metadata": {},
   "outputs": [],
   "source": [
    "df = pd.DataFrame(columns = world_table_titles)"
   ]
  },
  {
   "cell_type": "code",
   "execution_count": 18,
   "metadata": {},
   "outputs": [],
   "source": [
    "column_data = table.find_all('tr')"
   ]
  },
  {
   "cell_type": "code",
   "execution_count": 20,
   "metadata": {},
   "outputs": [],
   "source": [
    "for row in column_data[1:]:\n",
    "    row_data = row.find_all('td')\n",
    "    individual_row_data = [data.text.strip() for data in row_data]\n",
    "    \n",
    "    # to get up to the length of df to insert data in rows \n",
    "    length = len(df)\n",
    "    df.loc[length] = individual_row_data"
   ]
  },
  {
   "cell_type": "code",
   "execution_count": 23,
   "metadata": {},
   "outputs": [
    {
     "data": {
      "text/html": [
       "<div>\n",
       "<style scoped>\n",
       "    .dataframe tbody tr th:only-of-type {\n",
       "        vertical-align: middle;\n",
       "    }\n",
       "\n",
       "    .dataframe tbody tr th {\n",
       "        vertical-align: top;\n",
       "    }\n",
       "\n",
       "    .dataframe thead th {\n",
       "        text-align: right;\n",
       "    }\n",
       "</style>\n",
       "<table border=\"1\" class=\"dataframe\">\n",
       "  <thead>\n",
       "    <tr style=\"text-align: right;\">\n",
       "      <th></th>\n",
       "      <th>Rank</th>\n",
       "      <th>Name</th>\n",
       "      <th>Industry</th>\n",
       "      <th>Revenue (USD millions)</th>\n",
       "      <th>Revenue growth</th>\n",
       "      <th>Employees</th>\n",
       "      <th>Headquarters</th>\n",
       "    </tr>\n",
       "  </thead>\n",
       "  <tbody>\n",
       "    <tr>\n",
       "      <th>0</th>\n",
       "      <td>1</td>\n",
       "      <td>Walmart</td>\n",
       "      <td>General merchandisers</td>\n",
       "      <td>572,754</td>\n",
       "      <td>2.4%</td>\n",
       "      <td>2,300,000</td>\n",
       "      <td>Bentonville, Arkansas</td>\n",
       "    </tr>\n",
       "    <tr>\n",
       "      <th>1</th>\n",
       "      <td>2</td>\n",
       "      <td>Amazon</td>\n",
       "      <td>Retail and Cloud Computing</td>\n",
       "      <td>469,822</td>\n",
       "      <td>21.7%</td>\n",
       "      <td>1,608,000</td>\n",
       "      <td>Seattle, Washington</td>\n",
       "    </tr>\n",
       "    <tr>\n",
       "      <th>2</th>\n",
       "      <td>3</td>\n",
       "      <td>Apple</td>\n",
       "      <td>Electronics industry</td>\n",
       "      <td>365,817</td>\n",
       "      <td>33.2%</td>\n",
       "      <td>154,000</td>\n",
       "      <td>Cupertino, California</td>\n",
       "    </tr>\n",
       "    <tr>\n",
       "      <th>3</th>\n",
       "      <td>4</td>\n",
       "      <td>CVS Health</td>\n",
       "      <td>Healthcare</td>\n",
       "      <td>292,111</td>\n",
       "      <td>32.0%</td>\n",
       "      <td>258,000</td>\n",
       "      <td>Woonsocket, Rhode Island</td>\n",
       "    </tr>\n",
       "    <tr>\n",
       "      <th>4</th>\n",
       "      <td>5</td>\n",
       "      <td>UnitedHealth Group</td>\n",
       "      <td>Healthcare</td>\n",
       "      <td>287,597</td>\n",
       "      <td>11.8%</td>\n",
       "      <td>350,000</td>\n",
       "      <td>Minnetonka, Minnesota</td>\n",
       "    </tr>\n",
       "  </tbody>\n",
       "</table>\n",
       "</div>"
      ],
      "text/plain": [
       "  Rank                Name                    Industry Revenue (USD millions)  \\\n",
       "0    1             Walmart       General merchandisers                572,754   \n",
       "1    2              Amazon  Retail and Cloud Computing                469,822   \n",
       "2    3               Apple        Electronics industry                365,817   \n",
       "3    4          CVS Health                  Healthcare                292,111   \n",
       "4    5  UnitedHealth Group                  Healthcare                287,597   \n",
       "\n",
       "  Revenue growth  Employees              Headquarters  \n",
       "0           2.4%  2,300,000     Bentonville, Arkansas  \n",
       "1          21.7%  1,608,000       Seattle, Washington  \n",
       "2          33.2%    154,000     Cupertino, California  \n",
       "3          32.0%    258,000  Woonsocket, Rhode Island  \n",
       "4          11.8%    350,000     Minnetonka, Minnesota  "
      ]
     },
     "execution_count": 23,
     "metadata": {},
     "output_type": "execute_result"
    }
   ],
   "source": [
    "df.head()"
   ]
  },
  {
   "cell_type": "code",
   "execution_count": 22,
   "metadata": {},
   "outputs": [
    {
     "data": {
      "text/plain": [
       "100"
      ]
     },
     "execution_count": 22,
     "metadata": {},
     "output_type": "execute_result"
    }
   ],
   "source": [
    "len(df)"
   ]
  },
  {
   "cell_type": "code",
   "execution_count": 24,
   "metadata": {},
   "outputs": [],
   "source": [
    "df.to_csv('listOfCompanies.csv', index=False)"
   ]
  },
  {
   "cell_type": "code",
   "execution_count": null,
   "metadata": {},
   "outputs": [],
   "source": [
    "url = 'https://en.wikipedia.org/wiki/List_of_largest_companies_in_the_United_States_by_revenue'\n",
    "\n",
    "page = requests.get(url)\n",
    "\n",
    "soup = BeautifulSoup(page.text, 'html')\n",
    "\n",
    "soup.find('table')\n",
    "\n",
    "soup.find_all('table')[1]\n",
    "\n",
    "soup.find('table', class_ = 'wikitable sortable')\n",
    "\n",
    "table = soup.find_all('table')[1]\n",
    "print(table)\n",
    "\n",
    "world_titles = table.find_all('th')\n",
    "print(world_titles)\n",
    "\n",
    "world_table_titles = [title.text.strip() for title in world_titles]\n",
    "print(world_table_titles)\n",
    "\n",
    "df = pd.DataFrame(columns = world_table_titles)\n",
    "\n",
    "column_data = table.find_all('tr')\n",
    "\n",
    "for row in column_data[1:]:\n",
    "    row_data = row.find_all('td')\n",
    "    individual_row_data = [data.text.strip() for data in row_data]\n",
    "    \n",
    "    length = len(df)\n",
    "    df.loc[length] = individual_row_data"
   ]
  },
  {
   "cell_type": "markdown",
   "metadata": {},
   "source": [
    "### Use of D-tale"
   ]
  },
  {
   "cell_type": "code",
   "execution_count": 1,
   "metadata": {},
   "outputs": [
    {
     "name": "stdout",
     "output_type": "stream",
     "text": [
      "\u001b[33mDEPRECATION: Python 2.7 reached the end of its life on January 1st, 2020. Please upgrade your Python as Python 2.7 is no longer maintained. pip 21.0 will drop support for Python 2.7 in January 2021. More details about Python 2 support in pip can be found at https://pip.pypa.io/en/latest/development/release-process/#python-2-support pip 21.0 will remove support for this functionality.\u001b[0m\n",
      "Collecting dtale\n",
      "  Downloading dtale-3.3.0-py2.py3-none-any.whl (14.2 MB)\n",
      "\u001b[K     |████████████████████████████████| 14.2 MB 3.1 MB/s eta 0:00:01\n",
      "\u001b[?25hCollecting kaleido\n",
      "  Downloading kaleido-0.2.1-py2.py3-none-macosx_10_11_x86_64.whl (85.2 MB)\n",
      "\u001b[K     |████████████████████████████████| 85.2 MB 96 kB/s  eta 0:00:01\n",
      "\u001b[?25hRequirement already satisfied: et-xmlfile<=1.0.1; python_version < \"3.6\" in ./env/lib/python2.7/site-packages (from dtale) (1.0.1)\n",
      "Collecting xarray<=0.11.3; python_version < \"3.0\"\n",
      "  Downloading xarray-0.11.3-py2.py3-none-any.whl (504 kB)\n",
      "\u001b[K     |████████████████████████████████| 504 kB 4.3 MB/s eta 0:00:01\n",
      "\u001b[?25hCollecting scikit-learn<=0.20.4; python_version < \"3.0\"\n",
      "  Downloading scikit_learn-0.20.4-cp27-cp27m-macosx_10_6_intel.macosx_10_9_intel.macosx_10_9_x86_64.macosx_10_10_intel.macosx_10_10_x86_64.whl (8.3 MB)\n",
      "\u001b[K     |████████████████████████████████| 8.3 MB 88 kB/s eta 0:00:011\n",
      "\u001b[?25hCollecting dash<=1.21.0; python_version == \"2.7\"\n",
      "  Downloading dash-1.21.0.tar.gz (1.1 MB)\n",
      "\u001b[K     |████████████████████████████████| 1.1 MB 1.2 MB/s eta 0:00:01\n",
      "\u001b[?25hCollecting dash-daq\n",
      "  Downloading dash_daq-0.5.0.tar.gz (642 kB)\n",
      "\u001b[K     |████████████████████████████████| 642 kB 3.6 MB/s eta 0:00:01\n",
      "\u001b[?25hCollecting dash-colorscales\n",
      "  Downloading dash_colorscales-0.0.4.tar.gz (62 kB)\n",
      "\u001b[K     |████████████████████████████████| 62 kB 768 kB/s eta 0:00:01\n",
      "\u001b[?25hRequirement already satisfied: MarkupSafe<=1.1.1; python_version == \"2.7\" in ./env/lib/python2.7/site-packages (from dtale) (1.1.1)\n",
      "Collecting future>=0.14.0\n",
      "  Downloading future-0.18.3.tar.gz (840 kB)\n",
      "\u001b[K     |████████████████████████████████| 840 kB 3.7 MB/s eta 0:00:01\n",
      "\u001b[?25hRequirement already satisfied: beautifulsoup4<=4.9.3; python_version == \"2.7\" in ./env/lib/python2.7/site-packages (from dtale) (4.9.3)\n",
      "Collecting statsmodels<=0.10.2; python_version == \"2.7\"\n",
      "  Downloading statsmodels-0.10.2-cp27-cp27m-macosx_10_6_intel.whl (10.6 MB)\n",
      "\u001b[K     |████████████████████████████████| 10.6 MB 3.1 MB/s eta 0:00:01\n",
      "\u001b[?25hRequirement already satisfied: pyparsing<=2.4.7; python_version == \"2.7\" in ./env/lib/python2.7/site-packages (from dtale) (2.4.7)\n",
      "Requirement already satisfied: numpy<=1.16.6; python_version < \"3.0\" in ./env/lib/python2.7/site-packages (from dtale) (1.16.6)\n",
      "Collecting dash-bootstrap-components<=0.10.5; python_version < \"3.0\"\n",
      "  Downloading dash-bootstrap-components-0.10.5.tar.gz (108 kB)\n",
      "\u001b[K     |████████████████████████████████| 108 kB 4.8 MB/s eta 0:00:01\n",
      "\u001b[?25h  Installing build dependencies ... \u001b[?25ldone\n",
      "\u001b[?25h  Getting requirements to build wheel ... \u001b[?25ldone\n",
      "\u001b[?25h    Preparing wheel metadata ... \u001b[?25ldone\n",
      "\u001b[?25hRequirement already satisfied: requests<=2.27.1; python_version <= \"3.6\" in ./env/lib/python2.7/site-packages (from dtale) (2.27.1)\n",
      "Collecting strsimpy\n",
      "  Downloading strsimpy-0.2.1.tar.gz (24 kB)\n",
      "Collecting cycler<=0.10.0; python_version == \"2.7\"\n",
      "  Downloading cycler-0.10.0-py2.py3-none-any.whl (6.5 kB)\n",
      "Collecting lz4<=2.2.1; python_version < \"3.0\"\n",
      "  Downloading lz4-2.2.1-cp27-cp27m-macosx_10_6_intel.whl (362 kB)\n",
      "\u001b[K     |████████████████████████████████| 362 kB 4.6 MB/s eta 0:00:01\n",
      "\u001b[?25hRequirement already satisfied: pandas in ./env/lib/python2.7/site-packages (from dtale) (0.24.2)\n",
      "Collecting missingno\n",
      "  Downloading missingno-0.5.2.tar.gz (17 kB)\n",
      "Requirement already satisfied: xlrd in ./env/lib/python2.7/site-packages (from dtale) (1.2.0)\n",
      "Collecting seaborn<=0.9.1; python_version < \"3.6\"\n",
      "  Downloading seaborn-0.9.1-py2.py3-none-any.whl (216 kB)\n",
      "\u001b[K     |████████████████████████████████| 216 kB 4.2 MB/s eta 0:00:01\n",
      "\u001b[?25hRequirement already satisfied: six in ./env/lib/python2.7/site-packages (from dtale) (1.16.0)\n",
      "Collecting werkzeug<=1.0.1; python_version <= \"3.6\"\n",
      "  Using cached Werkzeug-1.0.1-py2.py3-none-any.whl (298 kB)\n",
      "Collecting Flask-Compress\n",
      "  Downloading Flask-Compress-1.13.tar.gz (12 kB)\n",
      "  Installing build dependencies ... \u001b[?25ldone\n",
      "\u001b[?25h  Getting requirements to build wheel ... \u001b[?25ldone\n",
      "\u001b[?25h    Preparing wheel metadata ... \u001b[?25ldone\n",
      "\u001b[?25hCollecting networkx<=2.2; python_version <= \"3.4\"\n",
      "  Downloading networkx-2.2.zip (1.7 MB)\n",
      "\u001b[K     |████████████████████████████████| 1.7 MB 4.4 MB/s eta 0:00:01\n",
      "\u001b[?25hCollecting plotly<=4.14.3; python_version < \"3.6\"\n",
      "  Downloading plotly-4.14.3-py2.py3-none-any.whl (13.2 MB)\n",
      "\u001b[K     |████████████████████████████████| 13.2 MB 3.6 MB/s eta 0:00:01\n",
      "\u001b[?25hCollecting squarify\n",
      "  Downloading squarify-0.4.3.tar.gz (4.3 kB)\n",
      "Collecting matplotlib<=2.2.5; python_version == \"2.7\"\n",
      "  Downloading matplotlib-2.2.5-cp27-cp27m-macosx_10_9_x86_64.whl (12.9 MB)\n",
      "\u001b[K     |████████████████████████████████| 12.9 MB 3.7 MB/s eta 0:00:01\n",
      "\u001b[?25hCollecting itsdangerous<=1.1.0; python_version < \"3.7\"\n",
      "  Using cached itsdangerous-1.1.0-py2.py3-none-any.whl (16 kB)\n",
      "Collecting Flask<=1.1.4; python_version < \"3.7\"\n",
      "  Using cached Flask-1.1.4-py2.py3-none-any.whl (94 kB)\n",
      "Requirement already satisfied: decorator<=4.4.2; python_version == \"2.7\" in ./env/lib/python2.7/site-packages (from dtale) (4.4.2)\n",
      "Requirement already satisfied: openpyxl<=2.6.4; python_version < \"3.0\" in ./env/lib/python2.7/site-packages (from dtale) (2.6.4)\n",
      "Collecting scipy<=1.2.3; python_version == \"2.7\"\n",
      "  Downloading scipy-1.2.3-cp27-cp27m-macosx_10_6_intel.macosx_10_9_intel.macosx_10_9_x86_64.macosx_10_10_intel.macosx_10_10_x86_64.whl (27.4 MB)\n",
      "\u001b[K     |████████████████████████████████| 27.4 MB 3.0 MB/s eta 0:00:01\n",
      "\u001b[?25hCollecting kiwisolver<=1.1.0; python_version <= \"3.6\"\n",
      "  Downloading kiwisolver-1.1.0-cp27-cp27m-macosx_10_6_intel.macosx_10_9_intel.macosx_10_9_x86_64.macosx_10_10_intel.macosx_10_10_x86_64.whl (115 kB)\n",
      "\u001b[K     |████████████████████████████████| 115 kB 4.4 MB/s eta 0:00:01\n",
      "\u001b[?25hRequirement already satisfied: certifi<=2021.10.8; python_version == \"2.7\" in ./env/lib/python2.7/site-packages (from dtale) (2021.10.8)\n",
      "Collecting pathlib; python_version < \"3.4\"\n",
      "  Downloading pathlib-1.0.1.tar.gz (49 kB)\n",
      "\u001b[K     |████████████████████████████████| 49 kB 5.9 MB/s  eta 0:00:01\n",
      "\u001b[?25hCollecting dash-core-components==1.17.1\n",
      "  Downloading dash_core_components-1.17.1.tar.gz (3.7 MB)\n",
      "\u001b[K     |████████████████████████████████| 3.7 MB 385 kB/s  eta 0:00:01\n",
      "\u001b[?25hCollecting dash-html-components==1.1.4\n",
      "  Downloading dash_html_components-1.1.4.tar.gz (83 kB)\n",
      "\u001b[K     |████████████████████████████████| 83 kB 1.9 MB/s eta 0:00:01\n",
      "\u001b[?25hCollecting dash-table==4.12.0\n",
      "  Downloading dash_table-4.12.0.tar.gz (1.8 MB)\n",
      "\u001b[K     |████████████████████████████████| 1.8 MB 10.2 MB/s eta 0:00:01\n",
      "\u001b[?25hRequirement already satisfied: soupsieve<2.0,>1.2; python_version < \"3.0\" in ./env/lib/python2.7/site-packages (from beautifulsoup4<=4.9.3; python_version == \"2.7\"->dtale) (1.9.6)\n",
      "Collecting patsy>=0.4.0\n",
      "  Downloading patsy-0.5.3-py2.py3-none-any.whl (233 kB)\n",
      "\u001b[K     |████████████████████████████████| 233 kB 4.3 MB/s eta 0:00:01\n",
      "\u001b[?25hRequirement already satisfied: urllib3<1.27,>=1.21.1 in ./env/lib/python2.7/site-packages (from requests<=2.27.1; python_version <= \"3.6\"->dtale) (1.26.16)\n",
      "Requirement already satisfied: idna<3,>=2.5; python_version < \"3\" in ./env/lib/python2.7/site-packages (from requests<=2.27.1; python_version <= \"3.6\"->dtale) (2.10)\n",
      "Requirement already satisfied: chardet<5,>=3.0.2; python_version < \"3\" in ./env/lib/python2.7/site-packages (from requests<=2.27.1; python_version <= \"3.6\"->dtale) (4.0.0)\n",
      "Requirement already satisfied: python-dateutil>=2.5.0 in ./env/lib/python2.7/site-packages (from pandas->dtale) (2.8.2)\n",
      "Requirement already satisfied: pytz>=2011k in ./env/lib/python2.7/site-packages (from pandas->dtale) (2023.3)\n",
      "Collecting brotli\n",
      "  Downloading Brotli-1.0.9-cp27-cp27m-macosx_10_9_x86_64.whl (417 kB)\n",
      "\u001b[K     |████████████████████████████████| 417 kB 14.3 MB/s eta 0:00:01\n",
      "\u001b[?25hCollecting retrying>=1.3.3\n",
      "  Downloading retrying-1.3.4.tar.gz (10 kB)\n",
      "Requirement already satisfied: backports.functools-lru-cache in ./env/lib/python2.7/site-packages (from matplotlib<=2.2.5; python_version == \"2.7\"->dtale) (1.6.5)\n"
     ]
    },
    {
     "name": "stdout",
     "output_type": "stream",
     "text": [
      "Collecting subprocess32\n",
      "  Using cached subprocess32-3.5.4-cp27-cp27m-macosx_10_6_intel.whl (34 kB)\n",
      "Collecting click<8.0,>=5.1\n",
      "  Using cached click-7.1.2-py2.py3-none-any.whl (82 kB)\n",
      "Requirement already satisfied: Jinja2<3.0,>=2.10.1 in ./env/lib/python2.7/site-packages (from Flask<=1.1.4; python_version < \"3.7\"->dtale) (2.11.3)\n",
      "Requirement already satisfied: jdcal in ./env/lib/python2.7/site-packages (from openpyxl<=2.6.4; python_version < \"3.0\"->dtale) (1.4.1)\n",
      "Requirement already satisfied: setuptools in ./env/lib/python2.7/site-packages (from kiwisolver<=1.1.0; python_version <= \"3.6\"->dtale) (44.1.1)\n",
      "Building wheels for collected packages: dash, dash-daq, dash-colorscales, future, dash-bootstrap-components, strsimpy, missingno, Flask-Compress, networkx, squarify, pathlib, dash-core-components, dash-html-components, dash-table, retrying\n",
      "  Building wheel for dash (setup.py) ... \u001b[?25ldone\n",
      "\u001b[?25h  Created wheel for dash: filename=dash-1.21.0-py2-none-any.whl size=1100477 sha256=73522800da282f8b24d56d85c2a2ff60701de38809b9362176942e57bb244ae1\n",
      "  Stored in directory: /Users/mustafa/Library/Caches/pip/wheels/36/9d/8e/16ff4990d203ce917068044d4284b2388042d55ed701364c57\n",
      "  Building wheel for dash-daq (setup.py) ... \u001b[?25ldone\n",
      "\u001b[?25h  Created wheel for dash-daq: filename=dash_daq-0.5.0-py2-none-any.whl size=669702 sha256=0975d3d06aa3b7aac56c971e04fb6b16bd02a3a2d54fdca59dae5fcc1d7631f1\n",
      "  Stored in directory: /Users/mustafa/Library/Caches/pip/wheels/71/fc/f9/c129f25d3fc0492e161e3d44d272ec2d6d239fb25c33e56485\n",
      "  Building wheel for dash-colorscales (setup.py) ... \u001b[?25ldone\n",
      "\u001b[?25h  Created wheel for dash-colorscales: filename=dash_colorscales-0.0.4-py2-none-any.whl size=62598 sha256=fd660824f702347912b5b271848c556b56a2f0bbfa58a2031b19b0f85b3370da\n",
      "  Stored in directory: /Users/mustafa/Library/Caches/pip/wheels/ae/20/7c/951d7fb45aed0def7531f6136b7c65faf9f196326f6605d37b\n",
      "  Building wheel for future (setup.py) ... \u001b[?25ldone\n",
      "\u001b[?25h  Created wheel for future: filename=future-0.18.3-py2-none-any.whl size=503537 sha256=89d8f30a62b215e926b28c4591a18c21cc7717ba29db5c0205fd1299d538e085\n",
      "  Stored in directory: /Users/mustafa/Library/Caches/pip/wheels/f4/cf/68/6299b44fe0ce2dcccb3e9de34443da085c6da93a204ef3130f\n",
      "  Building wheel for dash-bootstrap-components (PEP 517) ... \u001b[?25ldone\n",
      "\u001b[?25h  Created wheel for dash-bootstrap-components: filename=dash_bootstrap_components-0.10.5-py2-none-any.whl size=180067 sha256=1c1347955afca07c6b8ac6f86d637c396c0b0b04c1ed353fd6b99016facb1d3d\n",
      "  Stored in directory: /Users/mustafa/Library/Caches/pip/wheels/b9/20/50/22ded5fe8ce34654d13d7a7f9b55eb4b5da5e20c0240fbe6b9\n",
      "  Building wheel for strsimpy (setup.py) ... \u001b[?25ldone\n",
      "\u001b[?25h  Created wheel for strsimpy: filename=strsimpy-0.2.1-py2-none-any.whl size=45869 sha256=87ac7643c1f7484bb82e537ab15bd652f5531ccd7e5891b99a43d94e773e6c6a\n",
      "  Stored in directory: /Users/mustafa/Library/Caches/pip/wheels/8b/3f/ed/6635e55d30ca5d1f26cc46f9dcb9c0882b85346c7113474d19\n",
      "  Building wheel for missingno (setup.py) ... \u001b[?25ldone\n",
      "\u001b[?25h  Created wheel for missingno: filename=missingno-0.5.2-py2-none-any.whl size=8708 sha256=95306f36686483ee34d817e1be5e8f70a8a73f3a8b266749bfa0e48c3d242121\n",
      "  Stored in directory: /Users/mustafa/Library/Caches/pip/wheels/55/31/56/0465f26dfb0d5765d599041bbfe49bf8f2fa04799d1ea9bab3\n",
      "  Building wheel for Flask-Compress (PEP 517) ... \u001b[?25ldone\n",
      "\u001b[?25h  Created wheel for Flask-Compress: filename=Flask_Compress-1.13-py2-none-any.whl size=7920 sha256=f8ee85662d9a7c55833cbbf8d1321c0b0b214338535b975b3931bad4ddd31359\n",
      "  Stored in directory: /Users/mustafa/Library/Caches/pip/wheels/18/8b/02/bd5d8c0aa4c29c9c627a900e2f0f2a2416128ccf47e3679b29\n",
      "  Building wheel for networkx (setup.py) ... \u001b[?25ldone\n",
      "\u001b[?25h  Created wheel for networkx: filename=networkx-2.2-py2.py3-none-any.whl size=1526903 sha256=f0312e2a4e76bd801d187274ff74876e5beba6e063fad8da08115b74e5bceaa8\n",
      "  Stored in directory: /Users/mustafa/Library/Caches/pip/wheels/df/80/48/106e63760ff0dcd3658613d93c1ecf64301b9261172f2c1acf\n",
      "  Building wheel for squarify (setup.py) ... \u001b[?25ldone\n",
      "\u001b[?25h  Created wheel for squarify: filename=squarify-0.4.3-py2-none-any.whl size=3519 sha256=9a45b452ad29f34f8b04e449084956e94af3d98d4ab645ae8ab40cf615b257ce\n",
      "  Stored in directory: /Users/mustafa/Library/Caches/pip/wheels/59/22/a7/63d68eba952827cd38975c23bf8806a89cb5fd3f3a167984bc\n",
      "  Building wheel for pathlib (setup.py) ... \u001b[?25ldone\n",
      "\u001b[?25h  Created wheel for pathlib: filename=pathlib-1.0.1-py2-none-any.whl size=14347 sha256=20adb01548ff60be73b52b89723cfb5912a36d29e126d769b4c05a7518c368e2\n",
      "  Stored in directory: /Users/mustafa/Library/Caches/pip/wheels/46/37/4f/332bcea757140ff34e14dec7be65931f544c7ac94eb671ae9f\n",
      "  Building wheel for dash-core-components (setup.py) ... \u001b[?25ldone\n",
      "\u001b[?25h  Created wheel for dash-core-components: filename=dash_core_components-1.17.1-py2-none-any.whl size=3738983 sha256=7e63997174274ed94c3698fcbfedec0607545d353e2517e794db49b97a720890\n",
      "  Stored in directory: /Users/mustafa/Library/Caches/pip/wheels/1f/2c/55/0d9ba95808755344c57b17d2325c44514b55ceb10ba30754f8\n",
      "  Building wheel for dash-html-components (setup.py) ... \u001b[?25ldone\n",
      "\u001b[?25h  Created wheel for dash-html-components: filename=dash_html_components-1.1.4-py2-none-any.whl size=319752 sha256=7fc3162432e05d3caefa5617d0ba8029b2d5b98adbf2c80568b8ea600a9d3913\n",
      "  Stored in directory: /Users/mustafa/Library/Caches/pip/wheels/4d/2f/72/a05574befc12490684556243992b717a86a065189e57e5f477\n",
      "  Building wheel for dash-table (setup.py) ... \u001b[?25ldone\n",
      "\u001b[?25h  Created wheel for dash-table: filename=dash_table-4.12.0-py2-none-any.whl size=1837668 sha256=06a83e7bfb2e3d1524c63973fd61372abcb0a867e1e6944b07e2fb657c639c44\n",
      "  Stored in directory: /Users/mustafa/Library/Caches/pip/wheels/d8/43/b9/7dbac280cfd139a48d9998f5a48232f8fff169fe448e5feac6\n",
      "  Building wheel for retrying (setup.py) ... \u001b[?25ldone\n",
      "\u001b[?25h  Created wheel for retrying: filename=retrying-1.3.4-py2-none-any.whl size=11601 sha256=6b3731d92c0a4b285e8f2ad29027937a30b2f7728a0bf75ee3c62466bb3b0a02\n",
      "  Stored in directory: /Users/mustafa/Library/Caches/pip/wheels/a8/9b/5d/ed7c7fc16b53fb99cd48d822a9c0633b875ab013afdb927da5\n",
      "Successfully built dash dash-daq dash-colorscales future dash-bootstrap-components strsimpy missingno Flask-Compress networkx squarify pathlib dash-core-components dash-html-components dash-table retrying\n",
      "Installing collected packages: pathlib, kaleido, xarray, scipy, scikit-learn, click, werkzeug, itsdangerous, Flask, brotli, Flask-Compress, retrying, plotly, dash-core-components, dash-html-components, dash-table, future, dash, dash-daq, dash-colorscales, patsy, statsmodels, dash-bootstrap-components, strsimpy, cycler, lz4, kiwisolver, subprocess32, matplotlib, seaborn, missingno, networkx, squarify, dtale\n",
      "Successfully installed Flask-1.1.4 Flask-Compress-1.13 brotli-1.0.9 click-7.1.2 cycler-0.10.0 dash-1.21.0 dash-bootstrap-components-0.10.5 dash-colorscales-0.0.4 dash-core-components-1.17.1 dash-daq-0.5.0 dash-html-components-1.1.4 dash-table-4.12.0 dtale-3.3.0 future-0.18.3 itsdangerous-1.1.0 kaleido-0.2.1 kiwisolver-1.1.0 lz4-2.2.1 matplotlib-2.2.5 missingno-0.5.2 networkx-2.2 pathlib-1.0.1 patsy-0.5.3 plotly-4.14.3 retrying-1.3.4 scikit-learn-0.20.4 scipy-1.2.3 seaborn-0.9.1 squarify-0.4.3 statsmodels-0.10.2 strsimpy-0.2.1 subprocess32-3.5.4 werkzeug-1.0.1 xarray-0.11.3\n"
     ]
    }
   ],
   "source": [
    "!pip install dtale"
   ]
  },
  {
   "cell_type": "code",
   "execution_count": 3,
   "metadata": {},
   "outputs": [],
   "source": [
    "import pandas as pd\n",
    "import dtale"
   ]
  },
  {
   "cell_type": "code",
   "execution_count": 5,
   "metadata": {
    "scrolled": true
   },
   "outputs": [
    {
     "data": {
      "text/html": [
       "\n",
       "        <iframe\n",
       "            width=\"100%\"\n",
       "            height=\"475\"\n",
       "            src=\"http://192.168.1.5:40000/dtale/iframe/1\"\n",
       "            frameborder=\"0\"\n",
       "            allowfullscreen\n",
       "        ></iframe>\n",
       "        "
      ],
      "text/plain": [
       "<IPython.lib.display.IFrame at 0x124bcfed0>"
      ]
     },
     "metadata": {},
     "output_type": "display_data"
    },
    {
     "data": {
      "text/plain": []
     },
     "execution_count": 5,
     "metadata": {},
     "output_type": "execute_result"
    }
   ],
   "source": [
    "data = pd.read_csv('listOfCompanies.csv')\n",
    "dtale.show(data)"
   ]
  },
  {
   "cell_type": "code",
   "execution_count": null,
   "metadata": {},
   "outputs": [],
   "source": []
  }
 ],
 "metadata": {
  "kernelspec": {
   "display_name": "Python 2",
   "language": "python",
   "name": "python2"
  },
  "language_info": {
   "codemirror_mode": {
    "name": "ipython",
    "version": 2
   },
   "file_extension": ".py",
   "mimetype": "text/x-python",
   "name": "python",
   "nbconvert_exporter": "python",
   "pygments_lexer": "ipython2",
   "version": "2.7.16"
  }
 },
 "nbformat": 4,
 "nbformat_minor": 2
}
