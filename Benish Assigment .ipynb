{
 "cells": [
  {
   "cell_type": "code",
   "execution_count": null,
   "id": "85d01609",
   "metadata": {},
   "outputs": [],
   "source": [
    "# Import necessary libraries\n",
    "import pandas as pd\n",
    "import numpy as np\n",
    "import matplotlib.pyplot as plt\n",
    "import seaborn as sns\n",
    "from sklearn.model_selection import train_test_split\n",
    "from sklearn.ensemble import RandomForestClassifier\n",
    "from sklearn.metrics import accuracy_score, classification_report\n",
    "from sklearn.preprocessing import LabelEncoder\n",
    "from sklearn.model_selection import GridSearchCV\n",
    "from joblib import dump"
   ]
  },
  {
   "cell_type": "code",
   "execution_count": 1,
   "id": "8c75ad4c",
   "metadata": {},
   "outputs": [],
   "source": [
    "# Import necessary libraries\n",
    "import pandas as pd\n",
    "import numpy as np\n",
    "import matplotlib.pyplot as plt\n",
    "import seaborn as sns"
   ]
  },
  {
   "cell_type": "code",
   "execution_count": 3,
   "id": "8e08bb35",
   "metadata": {},
   "outputs": [],
   "source": [
    "# Load the dataset\n",
    "df = pd.read_excel('COTS dataset CW2 (10).xlsx')"
   ]
  },
  {
   "cell_type": "code",
   "execution_count": 4,
   "id": "f1d82d70",
   "metadata": {},
   "outputs": [
    {
     "data": {
      "text/html": [
       "<div>\n",
       "<style scoped>\n",
       "    .dataframe tbody tr th:only-of-type {\n",
       "        vertical-align: middle;\n",
       "    }\n",
       "\n",
       "    .dataframe tbody tr th {\n",
       "        vertical-align: top;\n",
       "    }\n",
       "\n",
       "    .dataframe thead th {\n",
       "        text-align: right;\n",
       "    }\n",
       "</style>\n",
       "<table border=\"1\" class=\"dataframe\">\n",
       "  <thead>\n",
       "    <tr style=\"text-align: right;\">\n",
       "      <th></th>\n",
       "      <th>City coffee shop</th>\n",
       "      <th>Year</th>\n",
       "      <th>Month</th>\n",
       "      <th>Product category</th>\n",
       "      <th>Sales Volume</th>\n",
       "      <th>Sales Value</th>\n",
       "    </tr>\n",
       "  </thead>\n",
       "  <tbody>\n",
       "    <tr>\n",
       "      <th>0</th>\n",
       "      <td>Southampton</td>\n",
       "      <td>2020</td>\n",
       "      <td>1</td>\n",
       "      <td>Coffee</td>\n",
       "      <td>91</td>\n",
       "      <td>364.0</td>\n",
       "    </tr>\n",
       "    <tr>\n",
       "      <th>1</th>\n",
       "      <td>Southampton</td>\n",
       "      <td>2020</td>\n",
       "      <td>1</td>\n",
       "      <td>Hot drinks</td>\n",
       "      <td>46</td>\n",
       "      <td>92.0</td>\n",
       "    </tr>\n",
       "    <tr>\n",
       "      <th>2</th>\n",
       "      <td>Southampton</td>\n",
       "      <td>2020</td>\n",
       "      <td>1</td>\n",
       "      <td>Cold drinks</td>\n",
       "      <td>60</td>\n",
       "      <td>150.0</td>\n",
       "    </tr>\n",
       "    <tr>\n",
       "      <th>3</th>\n",
       "      <td>Southampton</td>\n",
       "      <td>2020</td>\n",
       "      <td>1</td>\n",
       "      <td>Cakes</td>\n",
       "      <td>23</td>\n",
       "      <td>115.0</td>\n",
       "    </tr>\n",
       "    <tr>\n",
       "      <th>4</th>\n",
       "      <td>Southampton</td>\n",
       "      <td>2020</td>\n",
       "      <td>1</td>\n",
       "      <td>Sandwiches</td>\n",
       "      <td>19</td>\n",
       "      <td>114.0</td>\n",
       "    </tr>\n",
       "  </tbody>\n",
       "</table>\n",
       "</div>"
      ],
      "text/plain": [
       "  City coffee shop  Year  Month Product category Sales Volume  Sales Value\n",
       "0      Southampton  2020      1           Coffee           91        364.0\n",
       "1      Southampton  2020      1       Hot drinks           46         92.0\n",
       "2      Southampton  2020      1      Cold drinks           60        150.0\n",
       "3      Southampton  2020      1            Cakes           23        115.0\n",
       "4      Southampton  2020      1       Sandwiches           19        114.0"
      ]
     },
     "execution_count": 4,
     "metadata": {},
     "output_type": "execute_result"
    }
   ],
   "source": [
    "#print the top 5 lines of dataset \n",
    "df.head()"
   ]
  },
  {
   "cell_type": "code",
   "execution_count": 5,
   "id": "a6b770f3",
   "metadata": {},
   "outputs": [
    {
     "data": {
      "text/html": [
       "<div>\n",
       "<style scoped>\n",
       "    .dataframe tbody tr th:only-of-type {\n",
       "        vertical-align: middle;\n",
       "    }\n",
       "\n",
       "    .dataframe tbody tr th {\n",
       "        vertical-align: top;\n",
       "    }\n",
       "\n",
       "    .dataframe thead th {\n",
       "        text-align: right;\n",
       "    }\n",
       "</style>\n",
       "<table border=\"1\" class=\"dataframe\">\n",
       "  <thead>\n",
       "    <tr style=\"text-align: right;\">\n",
       "      <th></th>\n",
       "      <th>City coffee shop</th>\n",
       "      <th>Year</th>\n",
       "      <th>Month</th>\n",
       "      <th>Product category</th>\n",
       "      <th>Sales Volume</th>\n",
       "      <th>Sales Value</th>\n",
       "    </tr>\n",
       "  </thead>\n",
       "  <tbody>\n",
       "    <tr>\n",
       "      <th>643</th>\n",
       "      <td>Blackpool</td>\n",
       "      <td>2022</td>\n",
       "      <td>12</td>\n",
       "      <td>Hot drinks</td>\n",
       "      <td>158.336</td>\n",
       "      <td>316.672</td>\n",
       "    </tr>\n",
       "    <tr>\n",
       "      <th>644</th>\n",
       "      <td>Blackpool</td>\n",
       "      <td>2022</td>\n",
       "      <td>12</td>\n",
       "      <td>Cold drinks</td>\n",
       "      <td>215.412</td>\n",
       "      <td>538.530</td>\n",
       "    </tr>\n",
       "    <tr>\n",
       "      <th>645</th>\n",
       "      <td>Blackpool</td>\n",
       "      <td>2022</td>\n",
       "      <td>12</td>\n",
       "      <td>Cakes</td>\n",
       "      <td>91.686</td>\n",
       "      <td>458.430</td>\n",
       "    </tr>\n",
       "    <tr>\n",
       "      <th>646</th>\n",
       "      <td>Blackpool</td>\n",
       "      <td>2022</td>\n",
       "      <td>12</td>\n",
       "      <td>Sandwiches</td>\n",
       "      <td>54.56</td>\n",
       "      <td>327.360</td>\n",
       "    </tr>\n",
       "    <tr>\n",
       "      <th>647</th>\n",
       "      <td>Blackpool</td>\n",
       "      <td>2022</td>\n",
       "      <td>12</td>\n",
       "      <td>Pastry</td>\n",
       "      <td>196.078</td>\n",
       "      <td>392.156</td>\n",
       "    </tr>\n",
       "  </tbody>\n",
       "</table>\n",
       "</div>"
      ],
      "text/plain": [
       "    City coffee shop  Year  Month Product category Sales Volume  Sales Value\n",
       "643        Blackpool  2022     12       Hot drinks      158.336      316.672\n",
       "644        Blackpool  2022     12      Cold drinks      215.412      538.530\n",
       "645        Blackpool  2022     12            Cakes       91.686      458.430\n",
       "646        Blackpool  2022     12       Sandwiches        54.56      327.360\n",
       "647        Blackpool  2022     12           Pastry      196.078      392.156"
      ]
     },
     "execution_count": 5,
     "metadata": {},
     "output_type": "execute_result"
    }
   ],
   "source": [
    "# print the last 5 lines of code \n",
    "df.tail()"
   ]
  },
  {
   "cell_type": "code",
   "execution_count": 6,
   "id": "a45addb9",
   "metadata": {},
   "outputs": [
    {
     "data": {
      "text/plain": [
       "City coffee shop    0\n",
       "Year                0\n",
       "Month               0\n",
       "Product category    0\n",
       "Sales Volume        0\n",
       "Sales Value         0\n",
       "dtype: int64"
      ]
     },
     "execution_count": 6,
     "metadata": {},
     "output_type": "execute_result"
    }
   ],
   "source": [
    "# Checking for null values \n",
    "df.isnull().sum()"
   ]
  },
  {
   "cell_type": "code",
   "execution_count": null,
   "id": "c4969b81",
   "metadata": {},
   "outputs": [],
   "source": [
    "# Data preprocessing\n",
    "# - Handle missing values\n",
    "# - Encode categorical variables\n",
    "# - Split the dataset into features (X) and target variable (y)\n",
    "# - Split the data into training and testing sets"
   ]
  },
  {
   "cell_type": "code",
   "execution_count": 7,
   "id": "1db36f0d",
   "metadata": {},
   "outputs": [
    {
     "data": {
      "text/plain": [
       "Index(['City coffee shop', 'Year', 'Month', 'Product category', 'Sales Volume',\n",
       "       'Sales Value'],\n",
       "      dtype='object')"
      ]
     },
     "execution_count": 7,
     "metadata": {},
     "output_type": "execute_result"
    }
   ],
   "source": [
    "df.columns"
   ]
  },
  {
   "cell_type": "code",
   "execution_count": 8,
   "id": "1c3bf015",
   "metadata": {},
   "outputs": [
    {
     "data": {
      "image/png": "[encoded data removed]",
      "text/plain": [
       "<Figure size 720x432 with 1 Axes>"
      ]
     },
     "metadata": {
      "needs_background": "light"
     },
     "output_type": "display_data"
    }
   ],
   "source": [
    "# Convert 'Sales Volume' column to numeric, handling errors by setting them to NaN\n",
    "df['Sales Volume'] = pd.to_numeric(df['Sales Volume'], errors='coerce')\n",
    "\n",
    "# Distribution of Sales Volume\n",
    "plt.figure(figsize=(10, 6))\n",
    "sns.histplot(df['Sales Volume'].dropna(), bins=30, kde=True)\n",
    "plt.title('Distribution of Sales Volume')\n",
    "plt.xlabel('Sales Volume')\n",
    "plt.ylabel('Frequency')\n",
    "plt.show()\n"
   ]
  },
  {
   "cell_type": "code",
   "execution_count": 11,
   "id": "6d888cbb",
   "metadata": {},
   "outputs": [
    {
     "data": {
      "text/html": [
       "<div>\n",
       "<style scoped>\n",
       "    .dataframe tbody tr th:only-of-type {\n",
       "        vertical-align: middle;\n",
       "    }\n",
       "\n",
       "    .dataframe tbody tr th {\n",
       "        vertical-align: top;\n",
       "    }\n",
       "\n",
       "    .dataframe thead th {\n",
       "        text-align: right;\n",
       "    }\n",
       "</style>\n",
       "<table border=\"1\" class=\"dataframe\">\n",
       "  <thead>\n",
       "    <tr style=\"text-align: right;\">\n",
       "      <th></th>\n",
       "      <th>City coffee shop</th>\n",
       "      <th>Year</th>\n",
       "      <th>Month</th>\n",
       "      <th>Product category</th>\n",
       "      <th>Sales Volume</th>\n",
       "      <th>Sales Value</th>\n",
       "    </tr>\n",
       "  </thead>\n",
       "  <tbody>\n",
       "    <tr>\n",
       "      <th>0</th>\n",
       "      <td>Southampton</td>\n",
       "      <td>2020</td>\n",
       "      <td>1</td>\n",
       "      <td>Coffee</td>\n",
       "      <td>91.0</td>\n",
       "      <td>364.0</td>\n",
       "    </tr>\n",
       "    <tr>\n",
       "      <th>1</th>\n",
       "      <td>Southampton</td>\n",
       "      <td>2020</td>\n",
       "      <td>1</td>\n",
       "      <td>Hot drinks</td>\n",
       "      <td>46.0</td>\n",
       "      <td>92.0</td>\n",
       "    </tr>\n",
       "    <tr>\n",
       "      <th>2</th>\n",
       "      <td>Southampton</td>\n",
       "      <td>2020</td>\n",
       "      <td>1</td>\n",
       "      <td>Cold drinks</td>\n",
       "      <td>60.0</td>\n",
       "      <td>150.0</td>\n",
       "    </tr>\n",
       "    <tr>\n",
       "      <th>3</th>\n",
       "      <td>Southampton</td>\n",
       "      <td>2020</td>\n",
       "      <td>1</td>\n",
       "      <td>Cakes</td>\n",
       "      <td>23.0</td>\n",
       "      <td>115.0</td>\n",
       "    </tr>\n",
       "    <tr>\n",
       "      <th>4</th>\n",
       "      <td>Southampton</td>\n",
       "      <td>2020</td>\n",
       "      <td>1</td>\n",
       "      <td>Sandwiches</td>\n",
       "      <td>19.0</td>\n",
       "      <td>114.0</td>\n",
       "    </tr>\n",
       "  </tbody>\n",
       "</table>\n",
       "</div>"
      ],
      "text/plain": [
       "  City coffee shop  Year  Month Product category  Sales Volume  Sales Value\n",
       "0      Southampton  2020      1           Coffee          91.0        364.0\n",
       "1      Southampton  2020      1       Hot drinks          46.0         92.0\n",
       "2      Southampton  2020      1      Cold drinks          60.0        150.0\n",
       "3      Southampton  2020      1            Cakes          23.0        115.0\n",
       "4      Southampton  2020      1       Sandwiches          19.0        114.0"
      ]
     },
     "execution_count": 11,
     "metadata": {},
     "output_type": "execute_result"
    }
   ],
   "source": [
    "df.head()"
   ]
  },
  {
   "cell_type": "code",
   "execution_count": 12,
   "id": "fe9326ed",
   "metadata": {},
   "outputs": [
    {
     "data": {
      "text/plain": [
       "Coffee         108\n",
       "Hot drinks     108\n",
       "Cakes          106\n",
       "Pastry         105\n",
       "Sandwiches     105\n",
       "Cold drinks    103\n",
       "Colddrinks       5\n",
       "Sandwich         3\n",
       "Pazztry          3\n",
       "Kakes            2\n",
       "Name: Product category, dtype: int64"
      ]
     },
     "execution_count": 12,
     "metadata": {},
     "output_type": "execute_result"
    }
   ],
   "source": [
    "df['Product category'].value_counts()"
   ]
  },
  {
   "cell_type": "code",
   "execution_count": null,
   "id": "cc528ec8",
   "metadata": {},
   "outputs": [],
   "source": [
    "# Sales Volume by Product Category\n",
    "plt.figure(figsize=(12, 8))\n",
    "sns.barplot(x='Product category', y='Sales Volume', data=df)\n",
    "plt.title('Sales Volume by Product Category')\n",
    "plt.xlabel('Product Category')"
   ]
  },
  {
   "cell_type": "code",
   "execution_count": null,
   "id": "57c0ebfb",
   "metadata": {},
   "outputs": [],
   "source": [
    "df['Sales Value'].value_counts()"
   ]
  },
  {
   "cell_type": "code",
   "execution_count": null,
   "id": "86104b11",
   "metadata": {},
   "outputs": [],
   "source": [
    "# Sales Value by City Coffee Shop\n",
    "plt.figure(figsize=(12, 8))\n",
    "sns.barplot(x='City coffee shop', y='Sales Value', data=df)\n",
    "plt.title('Sales Value by City Coffee Shop')\n",
    "plt.xlabel('City Coffee Shop')\n",
    "plt.ylabel('Total Sales Value')\n",
    "plt.show()"
   ]
  },
  {
   "cell_type": "code",
   "execution_count": 13,
   "id": "97413994",
   "metadata": {},
   "outputs": [
    {
     "data": {
      "text/html": [
       "<div>\n",
       "<style scoped>\n",
       "    .dataframe tbody tr th:only-of-type {\n",
       "        vertical-align: middle;\n",
       "    }\n",
       "\n",
       "    .dataframe tbody tr th {\n",
       "        vertical-align: top;\n",
       "    }\n",
       "\n",
       "    .dataframe thead th {\n",
       "        text-align: right;\n",
       "    }\n",
       "</style>\n",
       "<table border=\"1\" class=\"dataframe\">\n",
       "  <thead>\n",
       "    <tr style=\"text-align: right;\">\n",
       "      <th></th>\n",
       "      <th>City coffee shop</th>\n",
       "      <th>Year</th>\n",
       "      <th>Month</th>\n",
       "      <th>Product category</th>\n",
       "      <th>Sales Volume</th>\n",
       "      <th>Sales Value</th>\n",
       "    </tr>\n",
       "  </thead>\n",
       "  <tbody>\n",
       "    <tr>\n",
       "      <th>3</th>\n",
       "      <td>Southampton</td>\n",
       "      <td>2020</td>\n",
       "      <td>1</td>\n",
       "      <td>Cakes</td>\n",
       "      <td>23.0</td>\n",
       "      <td>115.0</td>\n",
       "    </tr>\n",
       "    <tr>\n",
       "      <th>4</th>\n",
       "      <td>Southampton</td>\n",
       "      <td>2020</td>\n",
       "      <td>1</td>\n",
       "      <td>Sandwiches</td>\n",
       "      <td>19.0</td>\n",
       "      <td>114.0</td>\n",
       "    </tr>\n",
       "    <tr>\n",
       "      <th>5</th>\n",
       "      <td>Southampton</td>\n",
       "      <td>2020</td>\n",
       "      <td>1</td>\n",
       "      <td>Pastry</td>\n",
       "      <td>58.0</td>\n",
       "      <td>116.0</td>\n",
       "    </tr>\n",
       "  </tbody>\n",
       "</table>\n",
       "</div>"
      ],
      "text/plain": [
       "  City coffee shop  Year  Month Product category  Sales Volume  Sales Value\n",
       "3      Southampton  2020      1            Cakes          23.0        115.0\n",
       "4      Southampton  2020      1       Sandwiches          19.0        114.0\n",
       "5      Southampton  2020      1           Pastry          58.0        116.0"
      ]
     },
     "execution_count": 13,
     "metadata": {},
     "output_type": "execute_result"
    }
   ],
   "source": [
    "df[3:6]"
   ]
  },
  {
   "cell_type": "code",
   "execution_count": 14,
   "id": "3b623b31",
   "metadata": {},
   "outputs": [
    {
     "data": {
      "text/html": [
       "<div>\n",
       "<style scoped>\n",
       "    .dataframe tbody tr th:only-of-type {\n",
       "        vertical-align: middle;\n",
       "    }\n",
       "\n",
       "    .dataframe tbody tr th {\n",
       "        vertical-align: top;\n",
       "    }\n",
       "\n",
       "    .dataframe thead th {\n",
       "        text-align: right;\n",
       "    }\n",
       "</style>\n",
       "<table border=\"1\" class=\"dataframe\">\n",
       "  <thead>\n",
       "    <tr style=\"text-align: right;\">\n",
       "      <th></th>\n",
       "      <th>City coffee shop</th>\n",
       "      <th>Year</th>\n",
       "      <th>Month</th>\n",
       "      <th>Product category</th>\n",
       "      <th>Sales Volume</th>\n",
       "      <th>Sales Value</th>\n",
       "    </tr>\n",
       "  </thead>\n",
       "  <tbody>\n",
       "    <tr>\n",
       "      <th>3</th>\n",
       "      <td>Southampton</td>\n",
       "      <td>2020</td>\n",
       "      <td>1</td>\n",
       "      <td>Cakes</td>\n",
       "      <td>23.0</td>\n",
       "      <td>115.0</td>\n",
       "    </tr>\n",
       "    <tr>\n",
       "      <th>4</th>\n",
       "      <td>Southampton</td>\n",
       "      <td>2020</td>\n",
       "      <td>1</td>\n",
       "      <td>Sandwiches</td>\n",
       "      <td>19.0</td>\n",
       "      <td>114.0</td>\n",
       "    </tr>\n",
       "    <tr>\n",
       "      <th>5</th>\n",
       "      <td>Southampton</td>\n",
       "      <td>2020</td>\n",
       "      <td>1</td>\n",
       "      <td>Pastry</td>\n",
       "      <td>58.0</td>\n",
       "      <td>116.0</td>\n",
       "    </tr>\n",
       "    <tr>\n",
       "      <th>6</th>\n",
       "      <td>Southampton</td>\n",
       "      <td>2020</td>\n",
       "      <td>2</td>\n",
       "      <td>Coffee</td>\n",
       "      <td>99.0</td>\n",
       "      <td>396.0</td>\n",
       "    </tr>\n",
       "  </tbody>\n",
       "</table>\n",
       "</div>"
      ],
      "text/plain": [
       "  City coffee shop  Year  Month Product category  Sales Volume  Sales Value\n",
       "3      Southampton  2020      1            Cakes          23.0        115.0\n",
       "4      Southampton  2020      1       Sandwiches          19.0        114.0\n",
       "5      Southampton  2020      1           Pastry          58.0        116.0\n",
       "6      Southampton  2020      2           Coffee          99.0        396.0"
      ]
     },
     "execution_count": 14,
     "metadata": {},
     "output_type": "execute_result"
    }
   ],
   "source": [
    "df.loc[3:6]"
   ]
  },
  {
   "cell_type": "code",
   "execution_count": 15,
   "id": "2723be69",
   "metadata": {},
   "outputs": [
    {
     "data": {
      "text/html": [
       "<div>\n",
       "<style scoped>\n",
       "    .dataframe tbody tr th:only-of-type {\n",
       "        vertical-align: middle;\n",
       "    }\n",
       "\n",
       "    .dataframe tbody tr th {\n",
       "        vertical-align: top;\n",
       "    }\n",
       "\n",
       "    .dataframe thead th {\n",
       "        text-align: right;\n",
       "    }\n",
       "</style>\n",
       "<table border=\"1\" class=\"dataframe\">\n",
       "  <thead>\n",
       "    <tr style=\"text-align: right;\">\n",
       "      <th></th>\n",
       "      <th>City coffee shop</th>\n",
       "      <th>Year</th>\n",
       "      <th>Month</th>\n",
       "      <th>Product category</th>\n",
       "      <th>Sales Volume</th>\n",
       "      <th>Sales Value</th>\n",
       "    </tr>\n",
       "  </thead>\n",
       "  <tbody>\n",
       "    <tr>\n",
       "      <th>3</th>\n",
       "      <td>Southampton</td>\n",
       "      <td>2020</td>\n",
       "      <td>1</td>\n",
       "      <td>Cakes</td>\n",
       "      <td>23.0</td>\n",
       "      <td>115.0</td>\n",
       "    </tr>\n",
       "    <tr>\n",
       "      <th>4</th>\n",
       "      <td>Southampton</td>\n",
       "      <td>2020</td>\n",
       "      <td>1</td>\n",
       "      <td>Sandwiches</td>\n",
       "      <td>19.0</td>\n",
       "      <td>114.0</td>\n",
       "    </tr>\n",
       "    <tr>\n",
       "      <th>5</th>\n",
       "      <td>Southampton</td>\n",
       "      <td>2020</td>\n",
       "      <td>1</td>\n",
       "      <td>Pastry</td>\n",
       "      <td>58.0</td>\n",
       "      <td>116.0</td>\n",
       "    </tr>\n",
       "  </tbody>\n",
       "</table>\n",
       "</div>"
      ],
      "text/plain": [
       "  City coffee shop  Year  Month Product category  Sales Volume  Sales Value\n",
       "3      Southampton  2020      1            Cakes          23.0        115.0\n",
       "4      Southampton  2020      1       Sandwiches          19.0        114.0\n",
       "5      Southampton  2020      1           Pastry          58.0        116.0"
      ]
     },
     "execution_count": 15,
     "metadata": {},
     "output_type": "execute_result"
    }
   ],
   "source": [
    "df.iloc[3:6]"
   ]
  },
  {
   "cell_type": "code",
   "execution_count": 16,
   "id": "7f44159c",
   "metadata": {},
   "outputs": [
    {
     "data": {
      "text/html": [
       "<div>\n",
       "<style scoped>\n",
       "    .dataframe tbody tr th:only-of-type {\n",
       "        vertical-align: middle;\n",
       "    }\n",
       "\n",
       "    .dataframe tbody tr th {\n",
       "        vertical-align: top;\n",
       "    }\n",
       "\n",
       "    .dataframe thead th {\n",
       "        text-align: right;\n",
       "    }\n",
       "</style>\n",
       "<table border=\"1\" class=\"dataframe\">\n",
       "  <thead>\n",
       "    <tr style=\"text-align: right;\">\n",
       "      <th></th>\n",
       "      <th>City coffee shop</th>\n",
       "      <th>Year</th>\n",
       "      <th>Month</th>\n",
       "      <th>Product category</th>\n",
       "      <th>Sales Volume</th>\n",
       "      <th>Sales Value</th>\n",
       "    </tr>\n",
       "  </thead>\n",
       "  <tbody>\n",
       "    <tr>\n",
       "      <th>0</th>\n",
       "      <td>Southampton</td>\n",
       "      <td>2020</td>\n",
       "      <td>1</td>\n",
       "      <td>Coffee</td>\n",
       "      <td>91.0</td>\n",
       "      <td>364.0</td>\n",
       "    </tr>\n",
       "    <tr>\n",
       "      <th>1</th>\n",
       "      <td>Southampton</td>\n",
       "      <td>2020</td>\n",
       "      <td>1</td>\n",
       "      <td>Hot drinks</td>\n",
       "      <td>46.0</td>\n",
       "      <td>92.0</td>\n",
       "    </tr>\n",
       "    <tr>\n",
       "      <th>2</th>\n",
       "      <td>Southampton</td>\n",
       "      <td>2020</td>\n",
       "      <td>1</td>\n",
       "      <td>Cold drinks</td>\n",
       "      <td>60.0</td>\n",
       "      <td>150.0</td>\n",
       "    </tr>\n",
       "    <tr>\n",
       "      <th>3</th>\n",
       "      <td>Southampton</td>\n",
       "      <td>2020</td>\n",
       "      <td>1</td>\n",
       "      <td>Cakes</td>\n",
       "      <td>23.0</td>\n",
       "      <td>115.0</td>\n",
       "    </tr>\n",
       "    <tr>\n",
       "      <th>4</th>\n",
       "      <td>Southampton</td>\n",
       "      <td>2020</td>\n",
       "      <td>1</td>\n",
       "      <td>Sandwiches</td>\n",
       "      <td>19.0</td>\n",
       "      <td>114.0</td>\n",
       "    </tr>\n",
       "  </tbody>\n",
       "</table>\n",
       "</div>"
      ],
      "text/plain": [
       "  City coffee shop  Year  Month Product category  Sales Volume  Sales Value\n",
       "0      Southampton  2020      1           Coffee          91.0        364.0\n",
       "1      Southampton  2020      1       Hot drinks          46.0         92.0\n",
       "2      Southampton  2020      1      Cold drinks          60.0        150.0\n",
       "3      Southampton  2020      1            Cakes          23.0        115.0\n",
       "4      Southampton  2020      1       Sandwiches          19.0        114.0"
      ]
     },
     "execution_count": 16,
     "metadata": {},
     "output_type": "execute_result"
    }
   ],
   "source": [
    "df.head()"
   ]
  },
  {
   "cell_type": "code",
   "execution_count": 18,
   "id": "aa45cd76",
   "metadata": {},
   "outputs": [
    {
     "data": {
      "text/plain": [
       "array([2020, 2021, 2022, 2032], dtype=int64)"
      ]
     },
     "execution_count": 18,
     "metadata": {},
     "output_type": "execute_result"
    }
   ],
   "source": [
    "df['Year'].unique()"
   ]
  },
  {
   "cell_type": "code",
   "execution_count": 21,
   "id": "f1ef15b5",
   "metadata": {},
   "outputs": [
    {
     "data": {
      "text/html": [
       "<div>\n",
       "<style scoped>\n",
       "    .dataframe tbody tr th:only-of-type {\n",
       "        vertical-align: middle;\n",
       "    }\n",
       "\n",
       "    .dataframe tbody tr th {\n",
       "        vertical-align: top;\n",
       "    }\n",
       "\n",
       "    .dataframe thead th {\n",
       "        text-align: right;\n",
       "    }\n",
       "</style>\n",
       "<table border=\"1\" class=\"dataframe\">\n",
       "  <thead>\n",
       "    <tr style=\"text-align: right;\">\n",
       "      <th></th>\n",
       "      <th>City coffee shop</th>\n",
       "      <th>Year</th>\n",
       "      <th>Month</th>\n",
       "      <th>Product category</th>\n",
       "      <th>Sales Volume</th>\n",
       "      <th>Sales Value</th>\n",
       "    </tr>\n",
       "  </thead>\n",
       "  <tbody>\n",
       "    <tr>\n",
       "      <th>0</th>\n",
       "      <td>Southampton</td>\n",
       "      <td>2020</td>\n",
       "      <td>1</td>\n",
       "      <td>Coffee</td>\n",
       "      <td>91.0</td>\n",
       "      <td>364.0</td>\n",
       "    </tr>\n",
       "    <tr>\n",
       "      <th>1</th>\n",
       "      <td>Southampton</td>\n",
       "      <td>2020</td>\n",
       "      <td>1</td>\n",
       "      <td>Hot drinks</td>\n",
       "      <td>46.0</td>\n",
       "      <td>92.0</td>\n",
       "    </tr>\n",
       "    <tr>\n",
       "      <th>2</th>\n",
       "      <td>Southampton</td>\n",
       "      <td>2020</td>\n",
       "      <td>1</td>\n",
       "      <td>Cold drinks</td>\n",
       "      <td>60.0</td>\n",
       "      <td>150.0</td>\n",
       "    </tr>\n",
       "    <tr>\n",
       "      <th>3</th>\n",
       "      <td>Southampton</td>\n",
       "      <td>2020</td>\n",
       "      <td>1</td>\n",
       "      <td>Cakes</td>\n",
       "      <td>23.0</td>\n",
       "      <td>115.0</td>\n",
       "    </tr>\n",
       "    <tr>\n",
       "      <th>4</th>\n",
       "      <td>Southampton</td>\n",
       "      <td>2020</td>\n",
       "      <td>1</td>\n",
       "      <td>Sandwiches</td>\n",
       "      <td>19.0</td>\n",
       "      <td>114.0</td>\n",
       "    </tr>\n",
       "  </tbody>\n",
       "</table>\n",
       "</div>"
      ],
      "text/plain": [
       "  City coffee shop  Year  Month Product category  Sales Volume  Sales Value\n",
       "0      Southampton  2020      1           Coffee          91.0        364.0\n",
       "1      Southampton  2020      1       Hot drinks          46.0         92.0\n",
       "2      Southampton  2020      1      Cold drinks          60.0        150.0\n",
       "3      Southampton  2020      1            Cakes          23.0        115.0\n",
       "4      Southampton  2020      1       Sandwiches          19.0        114.0"
      ]
     },
     "execution_count": 21,
     "metadata": {},
     "output_type": "execute_result"
    }
   ],
   "source": [
    "df[df['Year'] == 2020].head()"
   ]
  },
  {
   "cell_type": "code",
   "execution_count": 29,
   "id": "af280e65",
   "metadata": {},
   "outputs": [
    {
     "data": {
      "text/html": [
       "<div>\n",
       "<style scoped>\n",
       "    .dataframe tbody tr th:only-of-type {\n",
       "        vertical-align: middle;\n",
       "    }\n",
       "\n",
       "    .dataframe tbody tr th {\n",
       "        vertical-align: top;\n",
       "    }\n",
       "\n",
       "    .dataframe thead th {\n",
       "        text-align: right;\n",
       "    }\n",
       "</style>\n",
       "<table border=\"1\" class=\"dataframe\">\n",
       "  <thead>\n",
       "    <tr style=\"text-align: right;\">\n",
       "      <th></th>\n",
       "      <th>City coffee shop</th>\n",
       "      <th>Year</th>\n",
       "      <th>Month</th>\n",
       "      <th>Product category</th>\n",
       "      <th>Sales Volume</th>\n",
       "      <th>Sales Value</th>\n",
       "    </tr>\n",
       "  </thead>\n",
       "  <tbody>\n",
       "    <tr>\n",
       "      <th>7</th>\n",
       "      <td>Southampton</td>\n",
       "      <td>2020</td>\n",
       "      <td>2</td>\n",
       "      <td>Hot drinks</td>\n",
       "      <td>NaN</td>\n",
       "      <td>0.0</td>\n",
       "    </tr>\n",
       "  </tbody>\n",
       "</table>\n",
       "</div>"
      ],
      "text/plain": [
       "  City coffee shop  Year  Month Product category  Sales Volume  Sales Value\n",
       "7      Southampton  2020      2       Hot drinks           NaN          0.0"
      ]
     },
     "execution_count": 29,
     "metadata": {},
     "output_type": "execute_result"
    }
   ],
   "source": [
    "df[\n",
    "    (df['Year'] == 2020) &\n",
    "    (df['Month'] == 2) &\n",
    "    (df['Sales Volume'].isnull())\n",
    "]"
   ]
  },
  {
   "cell_type": "code",
   "execution_count": 30,
   "id": "93fe4e9d",
   "metadata": {},
   "outputs": [
    {
     "data": {
      "text/plain": [
       "Index(['City coffee shop', 'Year', 'Month', 'Product category', 'Sales Volume',\n",
       "       'Sales Value'],\n",
       "      dtype='object')"
      ]
     },
     "execution_count": 30,
     "metadata": {},
     "output_type": "execute_result"
    }
   ],
   "source": [
    "df.columns"
   ]
  },
  {
   "cell_type": "code",
   "execution_count": null,
   "id": "8675d16b",
   "metadata": {},
   "outputs": [],
   "source": []
  }
 ],
 "metadata": {
  "kernelspec": {
   "display_name": "Python 3",
   "language": "python",
   "name": "python3"
  },
  "language_info": {
   "codemirror_mode": {
    "name": "ipython",
    "version": 3
   },
   "file_extension": ".py",
   "mimetype": "text/x-python",
   "name": "python",
   "nbconvert_exporter": "python",
   "pygments_lexer": "ipython3",
   "version": "3.7.9"
  }
 },
 "nbformat": 4,
 "nbformat_minor": 5
}
