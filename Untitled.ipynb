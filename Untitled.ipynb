{
 "cells": [
  {
   "cell_type": "code",
   "execution_count": 2,
   "id": "cc787da6",
   "metadata": {},
   "outputs": [
    {
     "data": {
      "text/plain": [
       "{1: 1, 2: 4, 3: 9, 4: 16, 5: 25, 6: 36, 7: 49, 8: 64, 9: 81, 10: 100}"
      ]
     },
     "execution_count": 2,
     "metadata": {},
     "output_type": "execute_result"
    }
   ],
   "source": [
    "square_dict = {num:num*num for num in range(1, 11)}\n",
    "square_dict"
   ]
  },
  {
   "cell_type": "code",
   "execution_count": 4,
   "id": "dec8079a",
   "metadata": {},
   "outputs": [],
   "source": [
    "old_price = {'milk' : 1.02, 'coffee':2.5, 'bread':2.5}\n",
    "dollar_to_pound = 0.76"
   ]
  },
  {
   "cell_type": "code",
   "execution_count": 5,
   "id": "9e375d44",
   "metadata": {},
   "outputs": [
    {
     "data": {
      "text/plain": [
       "{'milk': 0.7752, 'coffee': 1.9, 'bread': 1.9}"
      ]
     },
     "execution_count": 5,
     "metadata": {},
     "output_type": "execute_result"
    }
   ],
   "source": [
    "new_price = {item :value*dollar_to_pound for (item, value) in old_price.items()}\n",
    "new_price"
   ]
  },
  {
   "cell_type": "code",
   "execution_count": 6,
   "id": "68ca66ed",
   "metadata": {},
   "outputs": [],
   "source": [
    "original_dict = {'jack': 38, 'michael': 48, 'guido': 57, 'john': 33}"
   ]
  },
  {
   "cell_type": "code",
   "execution_count": null,
   "id": "e66f0509",
   "metadata": {},
   "outputs": [],
   "source": [
    "even_dict = {k:v for (k, v) in original_dict.items() if }"
   ]
  }
 ],
 "metadata": {
  "kernelspec": {
   "display_name": "Python 3",
   "language": "python",
   "name": "python3"
  },
  "language_info": {
   "codemirror_mode": {
    "name": "ipython",
    "version": 3
   },
   "file_extension": ".py",
   "mimetype": "text/x-python",
   "name": "python",
   "nbconvert_exporter": "python",
   "pygments_lexer": "ipython3",
   "version": "3.7.9"
  }
 },
 "nbformat": 4,
 "nbformat_minor": 5
}
