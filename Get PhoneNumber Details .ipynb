{
 "cells": [
  {
   "cell_type": "code",
   "execution_count": 1,
   "id": "0ffc124f",
   "metadata": {},
   "outputs": [
    {
     "name": "stdout",
     "output_type": "stream",
     "text": [
      "Collecting phonenumbers\n",
      "  Downloading phonenumbers-8.13.39-py2.py3-none-any.whl (2.6 MB)\n",
      "Installing collected packages: phonenumbers\n",
      "Successfully installed phonenumbers-8.13.39\n",
      "Note: you may need to restart the kernel to use updated packages.\n"
     ]
    },
    {
     "name": "stderr",
     "output_type": "stream",
     "text": [
      "WARNING: You are using pip version 20.1.1; however, version 24.0 is available.\n",
      "You should consider upgrading via the 'c:\\users\\pc\\appdata\\local\\programs\\python\\python37\\python.exe -m pip install --upgrade pip' command.\n"
     ]
    }
   ],
   "source": [
    "pip install phonenumbers"
   ]
  },
  {
   "cell_type": "code",
   "execution_count": 2,
   "id": "69f5b3c6",
   "metadata": {},
   "outputs": [],
   "source": [
    "import phonenumbers\n",
    "from phonenumbers import geocoder"
   ]
  },
  {
   "cell_type": "markdown",
   "id": "4cbec0cc",
   "metadata": {},
   "source": [
    "### To Get PhoneNumber Location "
   ]
  },
  {
   "cell_type": "code",
   "execution_count": 4,
   "id": "f9ea9aa3",
   "metadata": {},
   "outputs": [
    {
     "name": "stdout",
     "output_type": "stream",
     "text": [
      "\n",
      "Phone Numbers Location\n",
      "\n",
      "Dharampuri, Madhya Pradesh\n",
      "Karimnagar, Andhra Pradesh\n",
      "Los Angeles, CA\n",
      "Egypt\n",
      "Pakistan\n"
     ]
    }
   ],
   "source": [
    "phone_number1 = phonenumbers.parse(\"+917294536271\")\n",
    "phone_number2 = phonenumbers.parse(\"+918785862871\")\n",
    "phone_number3 = phonenumbers.parse(\"+12136754729\")\n",
    "phone_number4 = phonenumbers.parse(\"+201234567890\")\n",
    "phone_number5 = phonenumbers.parse(\"+923153459800\")\n",
    "\n",
    "print(\"\\nPhone Numbers Location\\n\")\n",
    "print(geocoder.description_for_number(phone_number1, \"en\"))\n",
    "print(geocoder.description_for_number(phone_number2, \"en\"))\n",
    "print(geocoder.description_for_number(phone_number3, \"en\"))\n",
    "print(geocoder.description_for_number(phone_number4, \"en\"))\n",
    "print(geocoder.description_for_number(phone_number5, \"en\"))\n",
    "\n",
    "# LET'S TRACK PHONE NUMBERS\n"
   ]
  },
  {
   "cell_type": "markdown",
   "id": "d5cd8644",
   "metadata": {},
   "source": [
    "### Another Way using Function and get service name use by phoneNumber as well"
   ]
  },
  {
   "cell_type": "code",
   "execution_count": 10,
   "id": "070079a8",
   "metadata": {},
   "outputs": [
    {
     "name": "stdout",
     "output_type": "stream",
     "text": [
      "\n",
      "Phone Numbers Details\n",
      "\n",
      "Phone Number: +923359201248\n",
      "Location: Pakistan\n",
      "Carrier: Ufone\n",
      "\n",
      "Phone Number: +923153459800\n",
      "Location: Pakistan\n",
      "Carrier: Zong\n",
      "\n",
      "Phone Number: +923160091034\n",
      "Location: Pakistan\n",
      "Carrier: Zong\n",
      "\n",
      "Phone Number: +923018761467\n",
      "Location: Pakistan\n",
      "Carrier: Mobilink\n",
      "\n",
      "Phone Number: +201234567890\n",
      "Location: Egypt\n",
      "Carrier: Orange\n",
      "\n"
     ]
    }
   ],
   "source": [
    "# List of phone numbers to parse and analyze\n",
    "phone_numbers = [\n",
    "    \"+923359201248\",\n",
    "    \"+923153459800\",\n",
    "    \"+923160091034\",\n",
    "    \"+923018761467\",\n",
    "    \"+201234567890\"\n",
    "]\n",
    "\n",
    "# Function to get details of the phone number\n",
    "def get_phone_number_details(phone_number_str):\n",
    "    phone_number = phonenumbers.parse(phone_number_str)\n",
    "    location = geocoder.description_for_number(phone_number, \"en\")\n",
    "    service_provider = carrier.name_for_number(phone_number, \"en\")\n",
    "    return location, service_provider\n",
    "\n",
    "# Print details for each phone number\n",
    "print(\"\\nPhone Numbers Details\\n\")\n",
    "for number in phone_numbers:\n",
    "    location, service_provider = get_phone_number_details(number)\n",
    "    print(f\"Phone Number: {number}\")\n",
    "    print(f\"Location: {location}\")\n",
    "    print(f\"Carrier: {service_provider}\\n\")\n",
    "\n",
    "# LET'S TRACK PHONE NUMBERS\n"
   ]
  },
  {
   "cell_type": "code",
   "execution_count": null,
   "id": "d4cc7c20",
   "metadata": {},
   "outputs": [],
   "source": []
  }
 ],
 "metadata": {
  "kernelspec": {
   "display_name": "Python 3",
   "language": "python",
   "name": "python3"
  },
  "language_info": {
   "codemirror_mode": {
    "name": "ipython",
    "version": 3
   },
   "file_extension": ".py",
   "mimetype": "text/x-python",
   "name": "python",
   "nbconvert_exporter": "python",
   "pygments_lexer": "ipython3",
   "version": "3.7.9"
  }
 },
 "nbformat": 4,
 "nbformat_minor": 5
}
