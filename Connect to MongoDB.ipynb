{
 "cells": [
  {
   "cell_type": "code",
   "execution_count": 1,
   "id": "d591c911",
   "metadata": {},
   "outputs": [],
   "source": [
    "from pymongo import MongoClient\n",
    "import time"
   ]
  },
  {
   "cell_type": "code",
   "execution_count": 2,
   "id": "9af0150b",
   "metadata": {},
   "outputs": [],
   "source": [
    "# To connect to mongodb keep start mongodb service in background \n",
    "# use command (net start MongoDB)\n",
    "\n",
    "# After Use Stop the service\n",
    "# net stop MongoDB"
   ]
  },
  {
   "cell_type": "code",
   "execution_count": 3,
   "id": "20d56850",
   "metadata": {},
   "outputs": [],
   "source": [
    "def connect_to_db():\n",
    "    try:\n",
    "        client = MongoClient('mongodb://localhost:27017/')\n",
    "        print('Trying to connect to the database ')\n",
    "\n",
    "        # Enforce to chk database \n",
    "        client.server_info()\n",
    "        time.sleep(2)    \n",
    "\n",
    "        db = client.university\n",
    "        collection = db.student\n",
    "        \n",
    "        print('Connected Successfully')\n",
    "        return collection\n",
    "\n",
    "    except Exception as e:\n",
    "        print('An error occured while connecting to the database')\n",
    "        print(e)\n"
   ]
  },
  {
   "cell_type": "code",
   "execution_count": 4,
   "id": "6e8913e4",
   "metadata": {},
   "outputs": [],
   "source": [
    "def fetch_record():\n",
    "    collection = connect_to_db()\n",
    "    if collection:\n",
    "        query = {\n",
    "            'name' : 'Hamza Khalid',\n",
    "            'phone' : {'$regex' : '9800'}\n",
    "        }\n",
    "        try:\n",
    "            data = collection.find(query)\t\n",
    "            for record in data:\n",
    "                print(record)\n",
    "\n",
    "        except Exception as e :\n",
    "            print('Error occured while fetching data')\n",
    "            print(e)"
   ]
  },
  {
   "cell_type": "code",
   "execution_count": 5,
   "id": "ed23fbed",
   "metadata": {},
   "outputs": [
    {
     "name": "stdout",
     "output_type": "stream",
     "text": [
      "Trying to connect to the database \n",
      "Connected Successfully\n",
      "{'_id': ObjectId('61489f1cac973c75b2ef9b2f'), 'id': 3, 'name': 'Hamza Khalid', 'phone': '03153459800', 'email': 'hamzakhalidcs007@gmail.com', 'subjects': 'physics'}\n"
     ]
    }
   ],
   "source": [
    "fetch_record()"
   ]
  },
  {
   "cell_type": "code",
   "execution_count": null,
   "id": "27ed8e61",
   "metadata": {},
   "outputs": [],
   "source": []
  }
 ],
 "metadata": {
  "kernelspec": {
   "display_name": "Python 3",
   "language": "python",
   "name": "python3"
  },
  "language_info": {
   "codemirror_mode": {
    "name": "ipython",
    "version": 3
   },
   "file_extension": ".py",
   "mimetype": "text/x-python",
   "name": "python",
   "nbconvert_exporter": "python",
   "pygments_lexer": "ipython3",
   "version": "3.7.9"
  }
 },
 "nbformat": 4,
 "nbformat_minor": 5
}
