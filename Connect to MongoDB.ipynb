{
 "cells": [
  {
   "cell_type": "code",
   "execution_count": 1,
   "id": "d591c911",
   "metadata": {},
   "outputs": [],
   "source": [
    "from pymongo import MongoClient\n",
    "import time"
   ]
  },
  {
   "cell_type": "code",
   "execution_count": 2,
   "id": "9af0150b",
   "metadata": {},
   "outputs": [],
   "source": [
    "# To connect to mongodb keep start mongodb service in background \n",
    "# use command (net start MongoDB)\n",
    "\n",
    "# After Use Stop the service\n",
    "# net stop MongoDB"
   ]
  },
  {
   "cell_type": "code",
   "execution_count": 3,
   "id": "20d56850",
   "metadata": {},
   "outputs": [],
   "source": [
    "def connect_to_db():\n",
    "    try:\n",
    "        client = MongoClient('mongodb://localhost:27017/')\n",
    "        print('Trying to connect to the database ')\n",
    "\n",
    "        # Enforce to chk database \n",
    "        client.server_info()\n",
    "        time.sleep(2)    \n",
    "\n",
    "        db = client.university\n",
    "        collection = db.student\n",
    "        \n",
    "        print('Connected Successfully')\n",
    "        return collection\n",
    "\n",
    "    except Exception as e:\n",
    "        print('An error occured while connecting to the database')\n",
    "        print(e)\n"
   ]
  },
  {
   "cell_type": "code",
   "execution_count": 4,
   "id": "6e8913e4",
   "metadata": {},
   "outputs": [],
   "source": [
    "def fetch_record():\n",
    "    collection = connect_to_db()\n",
    "    if collection:\n",
    "        query = {\n",
    "            'name' : 'Hamza Khalid',\n",
    "            'phone' : {'$regex' : '9800'}\n",
    "        }\n",
    "        try:\n",
    "            data = collection.find(query)\n",
    "            for record in data:\n",
    "                print(record)\n",
    "\n",
    "        except Exception as e :\n",
    "            print('Error occured while fetching data')\n",
    "            print(e)"
   ]
  },
  {
   "cell_type": "code",
   "execution_count": 5,
   "id": "ed23fbed",
   "metadata": {},
   "outputs": [
    {
     "name": "stdout",
     "output_type": "stream",
     "text": [
      "Trying to connect to the database \n",
      "Connected Successfully\n",
      "{'_id': ObjectId('61489f1cac973c75b2ef9b2f'), 'id': 3, 'name': 'Hamza Khalid', 'phone': '03153459800', 'email': 'hamzakhalidcs007@gmail.com', 'subjects': 'physics'}\n"
     ]
    }
   ],
   "source": [
    "fetch_record()"
   ]
  },
  {
   "cell_type": "markdown",
   "id": "f2bb101d",
   "metadata": {},
   "source": [
    "## Connect To Sql Server"
   ]
  },
  {
   "cell_type": "code",
   "execution_count": 5,
   "id": "27e74d33",
   "metadata": {},
   "outputs": [
    {
     "name": "stdout",
     "output_type": "stream",
     "text": [
      "Requirement already satisfied: pyodbc in c:\\users\\pc\\appdata\\local\\programs\\python\\python37\\lib\\site-packages (4.0.32)\n"
     ]
    },
    {
     "name": "stderr",
     "output_type": "stream",
     "text": [
      "WARNING: You are using pip version 20.1.1; however, version 24.0 is available.\n",
      "You should consider upgrading via the 'c:\\users\\pc\\appdata\\local\\programs\\python\\python37\\python.exe -m pip install --upgrade pip' command.\n"
     ]
    }
   ],
   "source": [
    "!pip install pyodbc"
   ]
  },
  {
   "cell_type": "code",
   "execution_count": 9,
   "id": "90129b59",
   "metadata": {},
   "outputs": [],
   "source": [
    "import pyodbc, sys\n",
    "import pandas as pd "
   ]
  },
  {
   "cell_type": "code",
   "execution_count": 10,
   "id": "e13ce352",
   "metadata": {},
   "outputs": [],
   "source": [
    "driver = '{SQL Server}'\n",
    "server = 'DESKTOP-959UNBS'\n",
    "database = 'Adventureworks'"
   ]
  },
  {
   "cell_type": "code",
   "execution_count": null,
   "id": "d628d02c",
   "metadata": {},
   "outputs": [],
   "source": [
    "try:\n",
    "    conn = pyodbc.connect(\n",
    "        \"Driver=\"+driver+';'\n",
    "        \"Server=\"+server+';'\n",
    "        \"Database\"+database+';'\n",
    "        \"Trusted_Connection=yes;\"\n",
    "    ) \n",
    "\n",
    "    print(\"Connected Successfully\")\n",
    "    # print(pyodbc.drivers())\n",
    "except Exception as e :\n",
    "    print('Cannot connect to database' + str(sys.exc_info()[1]))"
   ]
  },
  {
   "cell_type": "code",
   "execution_count": 8,
   "id": "15d859dd",
   "metadata": {},
   "outputs": [
    {
     "name": "stdout",
     "output_type": "stream",
     "text": [
      "Connected Successfully\n",
      "   BusinessEntityID RateChangeDate      Rate  PayFrequency ModifiedDate\n",
      "0                 1     2009-01-14  183.7446             2   2014-06-30\n",
      "1                 2     2008-01-31   82.5000             1   2014-06-30\n",
      "2                 3     2007-11-11   49.5000             1   2014-06-30\n",
      "3                 4     2007-12-05   12.6205             2   2007-11-21\n",
      "4                 4     2010-05-31   34.7284             2   2010-05-16\n"
     ]
    }
   ],
   "source": [
    "if conn:\n",
    "    try:\n",
    "        query = \"select top 5 * from [Adventureworks].[HumanResources].[EmployeePayHistory]\"\n",
    "        data = pd.read_sql_query(query, conn)\n",
    "        print(data)\n",
    "    except Exception as e :\n",
    "        print('cannot read the query correctly', str(sys.exc_info()[1]))\n",
    "\n",
    "    finally:\n",
    "        conn.close()\n",
    "else : \n",
    "    print('Connection was not established, skipping data fetch.')\n"
   ]
  },
  {
   "cell_type": "code",
   "execution_count": 6,
   "id": "ebc8a204",
   "metadata": {},
   "outputs": [
    {
     "name": "stdout",
     "output_type": "stream",
     "text": [
      "Payload: [{'BusinessEntityID': 1, 'FirstName': 'John', 'LastName': 'Smith'}, {'BusinessEntityID': 2, 'FirstName': 'Jane', 'LastName': 'Doe'}, {'BusinessEntityID': 3, 'FirstName': 'Doe', 'LastName': 'Johnson'}]\n"
     ]
    }
   ],
   "source": [
    "import pandas as pd\n",
    "\n",
    "# Sample DataFrame\n",
    "data = {\n",
    "    'BusinessEntityID': [1, 2, 3],\n",
    "    'FirstName': ['John', 'Jane', 'Doe'],\n",
    "    'LastName': ['Smith', 'Doe', 'Johnson']\n",
    "}\n",
    "df = pd.DataFrame(data)\n",
    "\n",
    "# Initialize an empty list for the payload\n",
    "payload = []\n",
    "\n",
    "# Iterate through each row in the DataFrame\n",
    "for index, row in df.iterrows():\n",
    "    # Create a dictionary for each row\n",
    "    row_data = {\n",
    "        'BusinessEntityID': row['BusinessEntityID'],\n",
    "        'FirstName': row['FirstName'],\n",
    "        'LastName': row['LastName']\n",
    "    }\n",
    "    \n",
    "    # Append the row data to the payload list\n",
    "    payload.append(row_data)\n",
    "\n",
    "# Print or use the payload as needed\n",
    "print(\"Payload:\", payload)\n"
   ]
  },
  {
   "cell_type": "code",
   "execution_count": 2,
   "id": "3c86880a",
   "metadata": {},
   "outputs": [
    {
     "name": "stdout",
     "output_type": "stream",
     "text": [
      "Payload [{'BusinessEntityID': 1, 'FirstName': 'John', 'LastName': 'Smith'}, {'BusinessEntityID': 2, 'FirstName': 'Jane', 'LastName': 'Doe'}, {'BusinessEntityID': 3, 'FirstName': 'Doe', 'LastName': 'Johnson'}]\n"
     ]
    }
   ],
   "source": [
    "payload = []\n",
    "for index, row in df.iterrows():\n",
    "    row_data= {\n",
    "        'BusinessEntityID' : row['BusinessEntityID'],\n",
    "        'FirstName': row['FirstName'],\n",
    "        'LastName' : row['LastName']\n",
    "    }\n",
    "    payload.append(row_data)\n",
    "print('Payload', payload)"
   ]
  },
  {
   "cell_type": "code",
   "execution_count": 5,
   "id": "1ac622b3",
   "metadata": {},
   "outputs": [
    {
     "name": "stdout",
     "output_type": "stream",
     "text": [
      "[{'BusinessEntityID': 1, 'FirstName': 'John', 'LastName': 'Smith'}, {'BusinessEntityID': 2, 'FirstName': 'Jane', 'LastName': 'Doe'}, {'BusinessEntityID': 3, 'FirstName': 'Doe', 'LastName': 'Johnson'}]\n"
     ]
    }
   ],
   "source": [
    "payload = []\n",
    "\n",
    "for index, row in df.iterrows():\n",
    "    row_data = {\n",
    "        'BusinessEntityID' : row['BusinessEntityID'],\n",
    "        'FirstName' : row['FirstName'],\n",
    "        'LastName' : row['LastName']\n",
    "    }\n",
    "    payload.append(row_data)\n",
    "    \n",
    "print(payload)"
   ]
  },
  {
   "cell_type": "code",
   "execution_count": 6,
   "id": "d3ab646c",
   "metadata": {},
   "outputs": [],
   "source": [
    "df = pd.read_csv('data_sets/details.csv')"
   ]
  },
  {
   "cell_type": "code",
   "execution_count": 7,
   "id": "09606d6a",
   "metadata": {},
   "outputs": [
    {
     "data": {
      "text/html": [
       "<div>\n",
       "<style scoped>\n",
       "    .dataframe tbody tr th:only-of-type {\n",
       "        vertical-align: middle;\n",
       "    }\n",
       "\n",
       "    .dataframe tbody tr th {\n",
       "        vertical-align: top;\n",
       "    }\n",
       "\n",
       "    .dataframe thead th {\n",
       "        text-align: right;\n",
       "    }\n",
       "</style>\n",
       "<table border=\"1\" class=\"dataframe\">\n",
       "  <thead>\n",
       "    <tr style=\"text-align: right;\">\n",
       "      <th></th>\n",
       "      <th>Order ID</th>\n",
       "      <th>Amount</th>\n",
       "      <th>Profit</th>\n",
       "      <th>Quantity</th>\n",
       "      <th>Category</th>\n",
       "      <th>Sub-Category</th>\n",
       "      <th>PaymentMode</th>\n",
       "    </tr>\n",
       "  </thead>\n",
       "  <tbody>\n",
       "    <tr>\n",
       "      <th>0</th>\n",
       "      <td>B-25681</td>\n",
       "      <td>1096</td>\n",
       "      <td>658</td>\n",
       "      <td>7</td>\n",
       "      <td>Electronics</td>\n",
       "      <td>Electronic Games</td>\n",
       "      <td>COD</td>\n",
       "    </tr>\n",
       "    <tr>\n",
       "      <th>1</th>\n",
       "      <td>B-26055</td>\n",
       "      <td>5729</td>\n",
       "      <td>64</td>\n",
       "      <td>14</td>\n",
       "      <td>Furniture</td>\n",
       "      <td>Chairs</td>\n",
       "      <td>EMI</td>\n",
       "    </tr>\n",
       "    <tr>\n",
       "      <th>2</th>\n",
       "      <td>B-25955</td>\n",
       "      <td>2927</td>\n",
       "      <td>146</td>\n",
       "      <td>8</td>\n",
       "      <td>Furniture</td>\n",
       "      <td>Bookcases</td>\n",
       "      <td>EMI</td>\n",
       "    </tr>\n",
       "    <tr>\n",
       "      <th>3</th>\n",
       "      <td>B-26093</td>\n",
       "      <td>2847</td>\n",
       "      <td>712</td>\n",
       "      <td>8</td>\n",
       "      <td>Electronics</td>\n",
       "      <td>Printers</td>\n",
       "      <td>Credit Card</td>\n",
       "    </tr>\n",
       "    <tr>\n",
       "      <th>4</th>\n",
       "      <td>B-25602</td>\n",
       "      <td>2617</td>\n",
       "      <td>1151</td>\n",
       "      <td>4</td>\n",
       "      <td>Electronics</td>\n",
       "      <td>Phones</td>\n",
       "      <td>Credit Card</td>\n",
       "    </tr>\n",
       "  </tbody>\n",
       "</table>\n",
       "</div>"
      ],
      "text/plain": [
       "  Order ID  Amount  Profit  Quantity     Category      Sub-Category  \\\n",
       "0  B-25681    1096     658         7  Electronics  Electronic Games   \n",
       "1  B-26055    5729      64        14    Furniture            Chairs   \n",
       "2  B-25955    2927     146         8    Furniture         Bookcases   \n",
       "3  B-26093    2847     712         8  Electronics          Printers   \n",
       "4  B-25602    2617    1151         4  Electronics            Phones   \n",
       "\n",
       "   PaymentMode  \n",
       "0          COD  \n",
       "1          EMI  \n",
       "2          EMI  \n",
       "3  Credit Card  \n",
       "4  Credit Card  "
      ]
     },
     "execution_count": 7,
     "metadata": {},
     "output_type": "execute_result"
    }
   ],
   "source": [
    "df.head()"
   ]
  },
  {
   "cell_type": "code",
   "execution_count": 8,
   "id": "5e30b1c0",
   "metadata": {},
   "outputs": [],
   "source": [
    "payload = []\n",
    "\n",
    "for index, row in df.head().iterrows():\n",
    "    row_data = {\n",
    "        'Order ID' : row['Order ID'],\n",
    "        'Amount' : row['Amount'],\n",
    "        'Profit' : row['Profit'],\n",
    "        'Quantity' : row['Quantity'],\n",
    "        'Category' : row['Category'],\n",
    "        'Sub-Category' : row['Sub-Category'],\n",
    "        'PaymentMode' : row['PaymentMode']\n",
    "    }\n",
    "    \n",
    "    payload.append(row_data)"
   ]
  },
  {
   "cell_type": "code",
   "execution_count": 24,
   "id": "2d75aebb",
   "metadata": {},
   "outputs": [
    {
     "data": {
      "text/plain": [
       "[{'Order ID': 'B-25681',\n",
       "  'Amount': 1096,\n",
       "  'Profit': 658,\n",
       "  'Quantity': 7,\n",
       "  'Category': 'Electronics',\n",
       "  'Sub-Category': 'Electronic Games',\n",
       "  'PaymentMode': 'COD'},\n",
       " {'Order ID': 'B-26055',\n",
       "  'Amount': 5729,\n",
       "  'Profit': 64,\n",
       "  'Quantity': 14,\n",
       "  'Category': 'Furniture',\n",
       "  'Sub-Category': 'Chairs',\n",
       "  'PaymentMode': 'EMI'},\n",
       " {'Order ID': 'B-25955',\n",
       "  'Amount': 2927,\n",
       "  'Profit': 146,\n",
       "  'Quantity': 8,\n",
       "  'Category': 'Furniture',\n",
       "  'Sub-Category': 'Bookcases',\n",
       "  'PaymentMode': 'EMI'}]"
      ]
     },
     "execution_count": 24,
     "metadata": {},
     "output_type": "execute_result"
    }
   ],
   "source": [
    "payload"
   ]
  },
  {
   "cell_type": "code",
   "execution_count": null,
   "id": "a4fd3f0c",
   "metadata": {},
   "outputs": [],
   "source": []
  }
 ],
 "metadata": {
  "kernelspec": {
   "display_name": "Python 3",
   "language": "python",
   "name": "python3"
  },
  "language_info": {
   "codemirror_mode": {
    "name": "ipython",
    "version": 3
   },
   "file_extension": ".py",
   "mimetype": "text/x-python",
   "name": "python",
   "nbconvert_exporter": "python",
   "pygments_lexer": "ipython3",
   "version": "3.7.9"
  }
 },
 "nbformat": 4,
 "nbformat_minor": 5
}
