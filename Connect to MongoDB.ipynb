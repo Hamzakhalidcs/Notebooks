{
 "cells": [
  {
   "cell_type": "code",
   "execution_count": 1,
   "id": "d591c911",
   "metadata": {},
   "outputs": [],
   "source": [
    "from pymongo import MongoClient\n",
    "import time"
   ]
  },
  {
   "cell_type": "code",
   "execution_count": 2,
   "id": "9af0150b",
   "metadata": {},
   "outputs": [],
   "source": [
    "# To connect to mongodb keep start mongodb service in background \n",
    "# use command (net start MongoDB)\n",
    "\n",
    "# After Use Stop the service\n",
    "# net stop MongoDB"
   ]
  },
  {
   "cell_type": "code",
   "execution_count": 3,
   "id": "20d56850",
   "metadata": {},
   "outputs": [],
   "source": [
    "def connect_to_db():\n",
    "    try:\n",
    "        client = MongoClient('mongodb://localhost:27017/')\n",
    "        print('Trying to connect to the database ')\n",
    "\n",
    "        # Enforce to chk database \n",
    "        client.server_info()\n",
    "        time.sleep(2)    \n",
    "\n",
    "        db = client.university\n",
    "        collection = db.student\n",
    "        \n",
    "        print('Connected Successfully')\n",
    "        return collection\n",
    "\n",
    "    except Exception as e:\n",
    "        print('An error occured while connecting to the database')\n",
    "        print(e)\n"
   ]
  },
  {
   "cell_type": "code",
   "execution_count": 4,
   "id": "6e8913e4",
   "metadata": {},
   "outputs": [],
   "source": [
    "def fetch_record():\n",
    "    collection = connect_to_db()\n",
    "    if collection:\n",
    "        query = {\n",
    "            'name' : 'Hamza Khalid',\n",
    "            'phone' : {'$regex' : '9800'}\n",
    "        }\n",
    "        try:\n",
    "            data = collection.find(query)\t\n",
    "            for record in data:\n",
    "                print(record)\n",
    "\n",
    "        except Exception as e :\n",
    "            print('Error occured while fetching data')\n",
    "            print(e)"
   ]
  },
  {
   "cell_type": "code",
   "execution_count": 5,
   "id": "ed23fbed",
   "metadata": {},
   "outputs": [
    {
     "name": "stdout",
     "output_type": "stream",
     "text": [
      "Trying to connect to the database \n",
      "Connected Successfully\n",
      "{'_id': ObjectId('61489f1cac973c75b2ef9b2f'), 'id': 3, 'name': 'Hamza Khalid', 'phone': '03153459800', 'email': 'hamzakhalidcs007@gmail.com', 'subjects': 'physics'}\n"
     ]
    }
   ],
   "source": [
    "fetch_record()"
   ]
  },
  {
   "cell_type": "markdown",
   "id": "f2bb101d",
   "metadata": {},
   "source": [
    "## Connect To Sql Server"
   ]
  },
  {
   "cell_type": "code",
   "execution_count": 5,
   "id": "27e74d33",
   "metadata": {},
   "outputs": [
    {
     "name": "stdout",
     "output_type": "stream",
     "text": [
      "Requirement already satisfied: pyodbc in c:\\users\\pc\\appdata\\local\\programs\\python\\python37\\lib\\site-packages (4.0.32)\n"
     ]
    },
    {
     "name": "stderr",
     "output_type": "stream",
     "text": [
      "WARNING: You are using pip version 20.1.1; however, version 24.0 is available.\n",
      "You should consider upgrading via the 'c:\\users\\pc\\appdata\\local\\programs\\python\\python37\\python.exe -m pip install --upgrade pip' command.\n"
     ]
    }
   ],
   "source": [
    "!pip install pyodbc"
   ]
  },
  {
   "cell_type": "code",
   "execution_count": 9,
   "id": "90129b59",
   "metadata": {},
   "outputs": [],
   "source": [
    "import pyodbc, sys\n",
    "import pandas as pd "
   ]
  },
  {
   "cell_type": "code",
   "execution_count": 10,
   "id": "e13ce352",
   "metadata": {},
   "outputs": [],
   "source": [
    "driver = '{SQL Server}'\n",
    "server = 'DESKTOP-959UNBS'\n",
    "database = 'Adventureworks'"
   ]
  },
  {
   "cell_type": "code",
   "execution_count": null,
   "id": "d628d02c",
   "metadata": {},
   "outputs": [],
   "source": [
    "try:\n",
    "    conn = pyodbc.connect(\n",
    "        \"Driver=\"+driver+';'\n",
    "        \"Server=\"+server+';'\n",
    "        \"Database\"+database+';'\n",
    "        \"Trusted_Connection=yes;\"\n",
    "    ) \n",
    "\n",
    "    print(\"Connected Successfully\")\n",
    "    # print(pyodbc.drivers())\n",
    "except Exception as e :\n",
    "    print('Cannot connect to database' + str(sys.exc_info()[1]))"
   ]
  },
  {
   "cell_type": "code",
   "execution_count": null,
   "id": "fedc27a6",
   "metadata": {},
   "outputs": [],
   "source": []
  },
  {
   "cell_type": "code",
   "execution_count": 8,
   "id": "15d859dd",
   "metadata": {},
   "outputs": [
    {
     "name": "stdout",
     "output_type": "stream",
     "text": [
      "Connected Successfully\n",
      "   BusinessEntityID RateChangeDate      Rate  PayFrequency ModifiedDate\n",
      "0                 1     2009-01-14  183.7446             2   2014-06-30\n",
      "1                 2     2008-01-31   82.5000             1   2014-06-30\n",
      "2                 3     2007-11-11   49.5000             1   2014-06-30\n",
      "3                 4     2007-12-05   12.6205             2   2007-11-21\n",
      "4                 4     2010-05-31   34.7284             2   2010-05-16\n"
     ]
    }
   ],
   "source": [
    "\n",
    "\n",
    "\n",
    "\n",
    "if conn:\n",
    "    try:\n",
    "        query = \"select top 5 * from [Adventureworks].[HumanResources].[EmployeePayHistory]\"\n",
    "        data = pd.read_sql_query(query, conn)\n",
    "        print(data)\n",
    "    except Exception as e :\n",
    "        print('cannot read the query correctly', str(sys.exc_info()[1]))\n",
    "\n",
    "    finally:\n",
    "        conn.close()\n",
    "else : \n",
    "    print('Connection was not established, skipping data fetch.')\n"
   ]
  },
  {
   "cell_type": "code",
   "execution_count": null,
   "id": "ebc8a204",
   "metadata": {},
   "outputs": [],
   "source": []
  }
 ],
 "metadata": {
  "kernelspec": {
   "display_name": "Python 3",
   "language": "python",
   "name": "python3"
  },
  "language_info": {
   "codemirror_mode": {
    "name": "ipython",
    "version": 3
   },
   "file_extension": ".py",
   "mimetype": "text/x-python",
   "name": "python",
   "nbconvert_exporter": "python",
   "pygments_lexer": "ipython3",
   "version": "3.7.9"
  }
 },
 "nbformat": 4,
 "nbformat_minor": 5
}
