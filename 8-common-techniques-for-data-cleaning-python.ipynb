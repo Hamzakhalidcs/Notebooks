{
 "cells": [
  {
   "cell_type": "markdown",
   "id": "98996b48",
   "metadata": {},
   "source": [
    "### Data cleaning process.\n",
    "### Python techniques will be covered:\n",
    "\n",
    "#### 1. Remove multiple Irrelevant columns from the dataset\n",
    "#### 2. Remove multiple rows if contains specific substrings\n",
    "#### 3. Handle null and missing values\n",
    "#### 4. Transform column value if it contains specific substring.\n",
    "#### 5. Remove substring from string column\n",
    "#### 6. Split string column by separator and convert result to int type.\n",
    "#### 7. Strip letters from the left of a string column\n",
    "#### 8. Count number of rows that contains substring appears in a column with conditions."
   ]
  },
  {
   "cell_type": "code",
   "execution_count": 2,
   "id": "1133a0cf",
   "metadata": {},
   "outputs": [],
   "source": [
    "import pandas as pd \n",
    "import numpy as np "
   ]
  },
  {
   "cell_type": "code",
   "execution_count": 3,
   "id": "bb8060a5",
   "metadata": {},
   "outputs": [],
   "source": [
    "all_data = pd.read_csv('DataScientist.csv')"
   ]
  },
  {
   "cell_type": "code",
   "execution_count": 4,
   "id": "df254efd",
   "metadata": {},
   "outputs": [
    {
     "data": {
      "text/plain": [
       "3909"
      ]
     },
     "execution_count": 4,
     "metadata": {},
     "output_type": "execute_result"
    }
   ],
   "source": [
    "len(all_data)"
   ]
  },
  {
   "cell_type": "code",
   "execution_count": 3,
   "id": "optimum-welsh",
   "metadata": {},
   "outputs": [
    {
     "data": {
      "text/plain": [
       "3909"
      ]
     },
     "execution_count": 3,
     "metadata": {},
     "output_type": "execute_result"
    }
   ],
   "source": [
    "len(all_data)"
   ]
  },
  {
   "cell_type": "code",
   "execution_count": 4,
   "id": "59abf48b",
   "metadata": {},
   "outputs": [
    {
     "data": {
      "text/plain": [
       "Unnamed: 0                                                           9\n",
       "index                                                                9\n",
       "Job Title                                      Quantitative Researcher\n",
       "Salary Estimate                           $111K-$181K (Glassdoor est.)\n",
       "Job Description      About the Position\\n\\n\\nAt Jane Street, we con...\n",
       "Rating                                                             4.8\n",
       "Company Name                                          Jane Street\\n4.8\n",
       "Location                                                  New York, NY\n",
       "Headquarters                                              New York, NY\n",
       "Size                                             501 to 1000 employees\n",
       "Founded                                                           2000\n",
       "Type of ownership                                    Company - Private\n",
       "Industry                         Investment Banking & Asset Management\n",
       "Sector                                                         Finance\n",
       "Revenue                                       Unknown / Non-Applicable\n",
       "Competitors                                                         -1\n",
       "Easy Apply                                                          -1\n",
       "Name: 9, dtype: object"
      ]
     },
     "execution_count": 4,
     "metadata": {},
     "output_type": "execute_result"
    }
   ],
   "source": [
    "all_data.iloc[9]"
   ]
  },
  {
   "cell_type": "code",
   "execution_count": 5,
   "id": "7f68bc1d",
   "metadata": {},
   "outputs": [
    {
     "data": {
      "text/plain": [
       "17"
      ]
     },
     "execution_count": 5,
     "metadata": {},
     "output_type": "execute_result"
    }
   ],
   "source": [
    "len(all_data.columns)"
   ]
  },
  {
   "cell_type": "code",
   "execution_count": 6,
   "id": "b1ce1ee8",
   "metadata": {},
   "outputs": [
    {
     "data": {
      "text/plain": [
       "Index(['Unnamed: 0', 'index', 'Job Title', 'Salary Estimate',\n",
       "       'Job Description', 'Rating', 'Company Name', 'Location', 'Headquarters',\n",
       "       'Size', 'Founded', 'Type of ownership', 'Industry', 'Sector', 'Revenue',\n",
       "       'Competitors', 'Easy Apply'],\n",
       "      dtype='object')"
      ]
     },
     "execution_count": 6,
     "metadata": {},
     "output_type": "execute_result"
    }
   ],
   "source": [
    "all_data.columns"
   ]
  },
  {
   "cell_type": "markdown",
   "id": "87fac4d9",
   "metadata": {},
   "source": [
    "### 1 Remove Irrelevant columns from dataset"
   ]
  },
  {
   "cell_type": "code",
   "execution_count": 20,
   "id": "ecac3c93",
   "metadata": {},
   "outputs": [],
   "source": [
    "to_drop = ['index','Rating','Headquarters','Size','Founded','Type of ownership'\n",
    ",'Revenue','Sector','Easy Apply','Competitors','Unnamed: 0']"
   ]
  },
  {
   "cell_type": "code",
   "execution_count": 21,
   "id": "4418f012",
   "metadata": {},
   "outputs": [],
   "source": [
    "# A DataFrame object has two axes. “axis 0” represents rows and “axis 1” represents columns.\n",
    "all_data.drop(to_drop, inplace=True, axis=1)"
   ]
  },
  {
   "cell_type": "code",
   "execution_count": 6,
   "id": "2292d814",
   "metadata": {},
   "outputs": [
    {
     "data": {
      "text/html": [
       "<div>\n",
       "<style scoped>\n",
       "    .dataframe tbody tr th:only-of-type {\n",
       "        vertical-align: middle;\n",
       "    }\n",
       "\n",
       "    .dataframe tbody tr th {\n",
       "        vertical-align: top;\n",
       "    }\n",
       "\n",
       "    .dataframe thead th {\n",
       "        text-align: right;\n",
       "    }\n",
       "</style>\n",
       "<table border=\"1\" class=\"dataframe\">\n",
       "  <thead>\n",
       "    <tr style=\"text-align: right;\">\n",
       "      <th></th>\n",
       "      <th>Job Title</th>\n",
       "      <th>Salary Estimate</th>\n",
       "      <th>Job Description</th>\n",
       "      <th>Company Name</th>\n",
       "      <th>Location</th>\n",
       "      <th>Industry</th>\n",
       "    </tr>\n",
       "  </thead>\n",
       "  <tbody>\n",
       "    <tr>\n",
       "      <th>0</th>\n",
       "      <td>Senior Data Scientist</td>\n",
       "      <td>$111K-$181K (Glassdoor est.)</td>\n",
       "      <td>ABOUT HOPPER\\n\\nAt Hopper, we’re on a mission ...</td>\n",
       "      <td>Hopper\\n3.5</td>\n",
       "      <td>New York, NY</td>\n",
       "      <td>Travel Agencies</td>\n",
       "    </tr>\n",
       "    <tr>\n",
       "      <th>1</th>\n",
       "      <td>Data Scientist, Product Analytics</td>\n",
       "      <td>$111K-$181K (Glassdoor est.)</td>\n",
       "      <td>At Noom, we use scientifically proven methods ...</td>\n",
       "      <td>Noom US\\n4.5</td>\n",
       "      <td>New York, NY</td>\n",
       "      <td>Health, Beauty, &amp; Fitness</td>\n",
       "    </tr>\n",
       "    <tr>\n",
       "      <th>2</th>\n",
       "      <td>Data Science Manager</td>\n",
       "      <td>$111K-$181K (Glassdoor est.)</td>\n",
       "      <td>Decode_M\\n\\nhttps://www.decode-m.com/\\n\\nData ...</td>\n",
       "      <td>Decode_M</td>\n",
       "      <td>New York, NY</td>\n",
       "      <td>-1</td>\n",
       "    </tr>\n",
       "    <tr>\n",
       "      <th>3</th>\n",
       "      <td>Data Analyst</td>\n",
       "      <td>$111K-$181K (Glassdoor est.)</td>\n",
       "      <td>Sapphire Digital seeks a dynamic and driven mi...</td>\n",
       "      <td>Sapphire Digital\\n3.4</td>\n",
       "      <td>Lyndhurst, NJ</td>\n",
       "      <td>Internet</td>\n",
       "    </tr>\n",
       "    <tr>\n",
       "      <th>4</th>\n",
       "      <td>Director, Data Science</td>\n",
       "      <td>$111K-$181K (Glassdoor est.)</td>\n",
       "      <td>Director, Data Science - (200537)\\nDescription...</td>\n",
       "      <td>United Entertainment Group\\n3.4</td>\n",
       "      <td>New York, NY</td>\n",
       "      <td>Advertising &amp; Marketing</td>\n",
       "    </tr>\n",
       "  </tbody>\n",
       "</table>\n",
       "</div>"
      ],
      "text/plain": [
       "                           Job Title               Salary Estimate  \\\n",
       "0              Senior Data Scientist  $111K-$181K (Glassdoor est.)   \n",
       "1  Data Scientist, Product Analytics  $111K-$181K (Glassdoor est.)   \n",
       "2               Data Science Manager  $111K-$181K (Glassdoor est.)   \n",
       "3                       Data Analyst  $111K-$181K (Glassdoor est.)   \n",
       "4             Director, Data Science  $111K-$181K (Glassdoor est.)   \n",
       "\n",
       "                                     Job Description  \\\n",
       "0  ABOUT HOPPER\\n\\nAt Hopper, we’re on a mission ...   \n",
       "1  At Noom, we use scientifically proven methods ...   \n",
       "2  Decode_M\\n\\nhttps://www.decode-m.com/\\n\\nData ...   \n",
       "3  Sapphire Digital seeks a dynamic and driven mi...   \n",
       "4  Director, Data Science - (200537)\\nDescription...   \n",
       "\n",
       "                      Company Name       Location                   Industry  \n",
       "0                      Hopper\\n3.5   New York, NY            Travel Agencies  \n",
       "1                     Noom US\\n4.5   New York, NY  Health, Beauty, & Fitness  \n",
       "2                         Decode_M   New York, NY                         -1  \n",
       "3            Sapphire Digital\\n3.4  Lyndhurst, NJ                   Internet  \n",
       "4  United Entertainment Group\\n3.4   New York, NY    Advertising & Marketing  "
      ]
     },
     "execution_count": 6,
     "metadata": {},
     "output_type": "execute_result"
    }
   ],
   "source": [
    "all_data.head()"
   ]
  },
  {
   "cell_type": "code",
   "execution_count": 10,
   "id": "86c9c165",
   "metadata": {},
   "outputs": [
    {
     "data": {
      "text/plain": [
       "6"
      ]
     },
     "execution_count": 10,
     "metadata": {},
     "output_type": "execute_result"
    }
   ],
   "source": [
    "len(all_data.columns)"
   ]
  },
  {
   "cell_type": "code",
   "execution_count": 11,
   "id": "3eab0048",
   "metadata": {},
   "outputs": [
    {
     "data": {
      "text/plain": [
       "$93K-$151K (Glassdoor est.)         62\n",
       "$113K-$180K (Glassdoor est.)        61\n",
       "$111K-$175K (Glassdoor est.)        60\n",
       "$71K-$122K (Glassdoor est.)         60\n",
       "$119K-$147K (Glassdoor est.)        44\n",
       "                                    ..\n",
       "$39K-$71K (Glassdoor est.)           7\n",
       "$99K-$173K (Glassdoor est.)          6\n",
       "$146K-$175K (Glassdoor est.)         3\n",
       "$10-$26 Per Hour(Glassdoor est.)     3\n",
       "$41K-$74K (Glassdoor est.)           1\n",
       "Name: Salary Estimate, Length: 148, dtype: int64"
      ]
     },
     "execution_count": 11,
     "metadata": {},
     "output_type": "execute_result"
    }
   ],
   "source": [
    "all_data['Salary Estimate'].value_counts()"
   ]
  },
  {
   "cell_type": "markdown",
   "id": "74d584d1",
   "metadata": {},
   "source": [
    "### 2. Remove multiple rows if contains specific substrings"
   ]
  },
  {
   "cell_type": "code",
   "execution_count": 22,
   "id": "2471ad6e",
   "metadata": {},
   "outputs": [
    {
     "data": {
      "text/html": [
       "<div>\n",
       "<style scoped>\n",
       "    .dataframe tbody tr th:only-of-type {\n",
       "        vertical-align: middle;\n",
       "    }\n",
       "\n",
       "    .dataframe tbody tr th {\n",
       "        vertical-align: top;\n",
       "    }\n",
       "\n",
       "    .dataframe thead th {\n",
       "        text-align: right;\n",
       "    }\n",
       "</style>\n",
       "<table border=\"1\" class=\"dataframe\">\n",
       "  <thead>\n",
       "    <tr style=\"text-align: right;\">\n",
       "      <th></th>\n",
       "      <th>Job Title</th>\n",
       "      <th>Salary Estimate</th>\n",
       "      <th>Job Description</th>\n",
       "      <th>Company Name</th>\n",
       "      <th>Location</th>\n",
       "      <th>Industry</th>\n",
       "    </tr>\n",
       "  </thead>\n",
       "  <tbody>\n",
       "    <tr>\n",
       "      <th>685</th>\n",
       "      <td>Clinical Laboratory Scientist, Per Diem</td>\n",
       "      <td>$34-$53 Per Hour(Glassdoor est.)</td>\n",
       "      <td>As the Clinical Laboratory Scientist, you will...</td>\n",
       "      <td>UC Davis Medical Center\\n3.8</td>\n",
       "      <td>Los Angeles, CA</td>\n",
       "      <td>Health Care Services &amp; Hospitals</td>\n",
       "    </tr>\n",
       "    <tr>\n",
       "      <th>686</th>\n",
       "      <td>Sr. Data Analyst</td>\n",
       "      <td>$34-$53 Per Hour(Glassdoor est.)</td>\n",
       "      <td>As a Sr. Data Analyst, you will work closely w...</td>\n",
       "      <td>SAG-AFTRA Health Plan and SAG-Producers Pensio...</td>\n",
       "      <td>Burbank, CA</td>\n",
       "      <td>-1</td>\n",
       "    </tr>\n",
       "  </tbody>\n",
       "</table>\n",
       "</div>"
      ],
      "text/plain": [
       "                                   Job Title  \\\n",
       "685  Clinical Laboratory Scientist, Per Diem   \n",
       "686                         Sr. Data Analyst   \n",
       "\n",
       "                      Salary Estimate  \\\n",
       "685  $34-$53 Per Hour(Glassdoor est.)   \n",
       "686  $34-$53 Per Hour(Glassdoor est.)   \n",
       "\n",
       "                                       Job Description  \\\n",
       "685  As the Clinical Laboratory Scientist, you will...   \n",
       "686  As a Sr. Data Analyst, you will work closely w...   \n",
       "\n",
       "                                          Company Name         Location  \\\n",
       "685                       UC Davis Medical Center\\n3.8  Los Angeles, CA   \n",
       "686  SAG-AFTRA Health Plan and SAG-Producers Pensio...      Burbank, CA   \n",
       "\n",
       "                             Industry  \n",
       "685  Health Care Services & Hospitals  \n",
       "686                                -1  "
      ]
     },
     "execution_count": 22,
     "metadata": {},
     "output_type": "execute_result"
    }
   ],
   "source": [
    "all_data[all_data['Salary Estimate'].str.contains('Per Hour', case=False)].head(2)"
   ]
  },
  {
   "cell_type": "code",
   "execution_count": 9,
   "id": "5f6e236e",
   "metadata": {},
   "outputs": [],
   "source": [
    "all_data = all_data.drop(all_data\n",
    "[all_data['Salary Estimate'].str.contains('Per Hour', case=False) == True].index)"
   ]
  },
  {
   "cell_type": "markdown",
   "id": "518e36f6",
   "metadata": {},
   "source": [
    "### 3. Handle null and missing values"
   ]
  },
  {
   "cell_type": "code",
   "execution_count": 44,
   "id": "minus-quality",
   "metadata": {},
   "outputs": [
    {
     "data": {
      "text/plain": [
       "Job Title          0\n",
       "Salary Estimate    0\n",
       "Job Description    0\n",
       "Company Name       0\n",
       "Location           0\n",
       "Industry           0\n",
       "dtype: int64"
      ]
     },
     "execution_count": 44,
     "metadata": {},
     "output_type": "execute_result"
    }
   ],
   "source": [
    "all_data.isna().sum()"
   ]
  },
  {
   "cell_type": "code",
   "execution_count": 17,
   "id": "eec8b01d",
   "metadata": {},
   "outputs": [
    {
     "data": {
      "text/plain": [
       "Job Title          0.0\n",
       "Salary Estimate    0.0\n",
       "Job Description    0.0\n",
       "Company Name       0.0\n",
       "Location           0.0\n",
       "Industry           0.0\n",
       "dtype: float64"
      ]
     },
     "execution_count": 17,
     "metadata": {},
     "output_type": "execute_result"
    }
   ],
   "source": [
    "all_data.isna().sum()"
   ]
  },
  {
   "cell_type": "code",
   "execution_count": 16,
   "id": "242faa08",
   "metadata": {},
   "outputs": [
    {
     "data": {
      "text/plain": [
       "0"
      ]
     },
     "execution_count": 16,
     "metadata": {},
     "output_type": "execute_result"
    }
   ],
   "source": [
    "all_data.isna().sum().sum()"
   ]
  },
  {
   "cell_type": "code",
   "execution_count": 17,
   "id": "127be40a",
   "metadata": {},
   "outputs": [
    {
     "data": {
      "text/plain": [
       "Job Title          0\n",
       "Salary Estimate    0\n",
       "Job Description    0\n",
       "Company Name       0\n",
       "Location           0\n",
       "Industry           0\n",
       "dtype: int64"
      ]
     },
     "execution_count": 17,
     "metadata": {},
     "output_type": "execute_result"
    }
   ],
   "source": [
    "all_data.isnull().sum()"
   ]
  },
  {
   "cell_type": "code",
   "execution_count": 18,
   "id": "1516c522",
   "metadata": {},
   "outputs": [
    {
     "data": {
      "text/plain": [
       "0"
      ]
     },
     "execution_count": 18,
     "metadata": {},
     "output_type": "execute_result"
    }
   ],
   "source": [
    "all_data.isnull().sum().sum()"
   ]
  },
  {
   "cell_type": "code",
   "execution_count": 19,
   "id": "d1012e8f",
   "metadata": {},
   "outputs": [
    {
     "data": {
      "text/plain": [
       "Job Title          3888\n",
       "Salary Estimate    3888\n",
       "Job Description    3888\n",
       "Company Name       3888\n",
       "Location           3888\n",
       "Industry           3888\n",
       "dtype: int64"
      ]
     },
     "execution_count": 19,
     "metadata": {},
     "output_type": "execute_result"
    }
   ],
   "source": [
    "all_data.notnull().sum()"
   ]
  },
  {
   "cell_type": "code",
   "execution_count": 20,
   "id": "af336dec",
   "metadata": {},
   "outputs": [
    {
     "data": {
      "text/plain": [
       "23328"
      ]
     },
     "execution_count": 20,
     "metadata": {},
     "output_type": "execute_result"
    }
   ],
   "source": [
    "all_data.notnull().sum().sum()"
   ]
  },
  {
   "cell_type": "code",
   "execution_count": 21,
   "id": "1e683ac7",
   "metadata": {},
   "outputs": [
    {
     "data": {
      "text/plain": [
       "23454"
      ]
     },
     "execution_count": 21,
     "metadata": {},
     "output_type": "execute_result"
    }
   ],
   "source": [
    "3909*6"
   ]
  },
  {
   "cell_type": "markdown",
   "id": "c6feecea",
   "metadata": {},
   "source": [
    "### 4. Transform column value if it contains specific substring."
   ]
  },
  {
   "cell_type": "code",
   "execution_count": 22,
   "id": "bd07322b",
   "metadata": {},
   "outputs": [
    {
     "data": {
      "text/html": [
       "<div>\n",
       "<style scoped>\n",
       "    .dataframe tbody tr th:only-of-type {\n",
       "        vertical-align: middle;\n",
       "    }\n",
       "\n",
       "    .dataframe tbody tr th {\n",
       "        vertical-align: top;\n",
       "    }\n",
       "\n",
       "    .dataframe thead th {\n",
       "        text-align: right;\n",
       "    }\n",
       "</style>\n",
       "<table border=\"1\" class=\"dataframe\">\n",
       "  <thead>\n",
       "    <tr style=\"text-align: right;\">\n",
       "      <th></th>\n",
       "      <th>Job Title</th>\n",
       "      <th>Salary Estimate</th>\n",
       "      <th>Job Description</th>\n",
       "      <th>Company Name</th>\n",
       "      <th>Location</th>\n",
       "      <th>Industry</th>\n",
       "    </tr>\n",
       "  </thead>\n",
       "  <tbody>\n",
       "    <tr>\n",
       "      <th>2</th>\n",
       "      <td>Data Science Manager</td>\n",
       "      <td>$111K-$181K (Glassdoor est.)</td>\n",
       "      <td>Decode_M\\n\\nhttps://www.decode-m.com/\\n\\nData ...</td>\n",
       "      <td>Decode_M</td>\n",
       "      <td>New York, NY</td>\n",
       "      <td>-1</td>\n",
       "    </tr>\n",
       "    <tr>\n",
       "      <th>7</th>\n",
       "      <td>Quantitative Research Associate</td>\n",
       "      <td>$111K-$181K (Glassdoor est.)</td>\n",
       "      <td>Seeking a quant to work with senior researcher...</td>\n",
       "      <td>Enlightenment Research</td>\n",
       "      <td>New York, NY</td>\n",
       "      <td>-1</td>\n",
       "    </tr>\n",
       "    <tr>\n",
       "      <th>40</th>\n",
       "      <td>Data Scientist</td>\n",
       "      <td>$120K-$140K (Glassdoor est.)</td>\n",
       "      <td>We make small businesses more successful throu...</td>\n",
       "      <td>NorthOne\\n4.3</td>\n",
       "      <td>New York, NY</td>\n",
       "      <td>-1</td>\n",
       "    </tr>\n",
       "    <tr>\n",
       "      <th>44</th>\n",
       "      <td>Data Science Analyst</td>\n",
       "      <td>$120K-$140K (Glassdoor est.)</td>\n",
       "      <td>Job Description\\nOur client, a music streaming...</td>\n",
       "      <td>MUSIC &amp; Entertainment</td>\n",
       "      <td>New York, NY</td>\n",
       "      <td>-1</td>\n",
       "    </tr>\n",
       "    <tr>\n",
       "      <th>55</th>\n",
       "      <td>Data Scientist, Analytics &amp; Inference</td>\n",
       "      <td>$120K-$140K (Glassdoor est.)</td>\n",
       "      <td>Hello, World! Codecademy has helped over 45 mi...</td>\n",
       "      <td>Codeacademy</td>\n",
       "      <td>New York, NY</td>\n",
       "      <td>-1</td>\n",
       "    </tr>\n",
       "    <tr>\n",
       "      <th>...</th>\n",
       "      <td>...</td>\n",
       "      <td>...</td>\n",
       "      <td>...</td>\n",
       "      <td>...</td>\n",
       "      <td>...</td>\n",
       "      <td>...</td>\n",
       "    </tr>\n",
       "    <tr>\n",
       "      <th>3880</th>\n",
       "      <td>Data Science Technical Lead / Architect</td>\n",
       "      <td>$39K-$86K (Glassdoor est.)</td>\n",
       "      <td>Urgent need for DATASCIENCE TECHNICAL LEAD ARC...</td>\n",
       "      <td>DATAECONOMY\\n5.0</td>\n",
       "      <td>Columbus, OH</td>\n",
       "      <td>-1</td>\n",
       "    </tr>\n",
       "    <tr>\n",
       "      <th>3882</th>\n",
       "      <td>Big Data Engineer</td>\n",
       "      <td>$55K-$112K (Glassdoor est.)</td>\n",
       "      <td>RESPONSIBILITIES Kforce has a client in search...</td>\n",
       "      <td>Kforce Technology Staffing</td>\n",
       "      <td>Columbus, OH</td>\n",
       "      <td>-1</td>\n",
       "    </tr>\n",
       "    <tr>\n",
       "      <th>3883</th>\n",
       "      <td>Columbus Opportunities: Finance, Accounting, D...</td>\n",
       "      <td>$55K-$112K (Glassdoor est.)</td>\n",
       "      <td>Job Description\\nWe are experts at conducting ...</td>\n",
       "      <td>Rainmaker Resources, LLC</td>\n",
       "      <td>Columbus, OH</td>\n",
       "      <td>-1</td>\n",
       "    </tr>\n",
       "    <tr>\n",
       "      <th>3886</th>\n",
       "      <td>Big Data Engineer</td>\n",
       "      <td>$55K-$112K (Glassdoor est.)</td>\n",
       "      <td>Job Description:\\nAct as a strong developer us...</td>\n",
       "      <td>Zllius Inc.</td>\n",
       "      <td>Columbus, OH</td>\n",
       "      <td>-1</td>\n",
       "    </tr>\n",
       "    <tr>\n",
       "      <th>3897</th>\n",
       "      <td>Senior Data Engineer</td>\n",
       "      <td>$55K-$112K (Glassdoor est.)</td>\n",
       "      <td>Job Responsibility:\\nBased on business strateg...</td>\n",
       "      <td>Kognetics\\n3.6</td>\n",
       "      <td>Gahanna, OH</td>\n",
       "      <td>-1</td>\n",
       "    </tr>\n",
       "  </tbody>\n",
       "</table>\n",
       "<p>548 rows × 6 columns</p>\n",
       "</div>"
      ],
      "text/plain": [
       "                                              Job Title  \\\n",
       "2                                  Data Science Manager   \n",
       "7                       Quantitative Research Associate   \n",
       "40                                       Data Scientist   \n",
       "44                                 Data Science Analyst   \n",
       "55                Data Scientist, Analytics & Inference   \n",
       "...                                                 ...   \n",
       "3880            Data Science Technical Lead / Architect   \n",
       "3882                                  Big Data Engineer   \n",
       "3883  Columbus Opportunities: Finance, Accounting, D...   \n",
       "3886                                  Big Data Engineer   \n",
       "3897                               Senior Data Engineer   \n",
       "\n",
       "                   Salary Estimate  \\\n",
       "2     $111K-$181K (Glassdoor est.)   \n",
       "7     $111K-$181K (Glassdoor est.)   \n",
       "40    $120K-$140K (Glassdoor est.)   \n",
       "44    $120K-$140K (Glassdoor est.)   \n",
       "55    $120K-$140K (Glassdoor est.)   \n",
       "...                            ...   \n",
       "3880    $39K-$86K (Glassdoor est.)   \n",
       "3882   $55K-$112K (Glassdoor est.)   \n",
       "3883   $55K-$112K (Glassdoor est.)   \n",
       "3886   $55K-$112K (Glassdoor est.)   \n",
       "3897   $55K-$112K (Glassdoor est.)   \n",
       "\n",
       "                                        Job Description  \\\n",
       "2     Decode_M\\n\\nhttps://www.decode-m.com/\\n\\nData ...   \n",
       "7     Seeking a quant to work with senior researcher...   \n",
       "40    We make small businesses more successful throu...   \n",
       "44    Job Description\\nOur client, a music streaming...   \n",
       "55    Hello, World! Codecademy has helped over 45 mi...   \n",
       "...                                                 ...   \n",
       "3880  Urgent need for DATASCIENCE TECHNICAL LEAD ARC...   \n",
       "3882  RESPONSIBILITIES Kforce has a client in search...   \n",
       "3883  Job Description\\nWe are experts at conducting ...   \n",
       "3886  Job Description:\\nAct as a strong developer us...   \n",
       "3897  Job Responsibility:\\nBased on business strateg...   \n",
       "\n",
       "                    Company Name      Location Industry  \n",
       "2                       Decode_M  New York, NY       -1  \n",
       "7         Enlightenment Research  New York, NY       -1  \n",
       "40                 NorthOne\\n4.3  New York, NY       -1  \n",
       "44         MUSIC & Entertainment  New York, NY       -1  \n",
       "55                   Codeacademy  New York, NY       -1  \n",
       "...                          ...           ...      ...  \n",
       "3880            DATAECONOMY\\n5.0  Columbus, OH       -1  \n",
       "3882  Kforce Technology Staffing  Columbus, OH       -1  \n",
       "3883    Rainmaker Resources, LLC  Columbus, OH       -1  \n",
       "3886                 Zllius Inc.  Columbus, OH       -1  \n",
       "3897              Kognetics\\n3.6   Gahanna, OH       -1  \n",
       "\n",
       "[548 rows x 6 columns]"
      ]
     },
     "execution_count": 22,
     "metadata": {},
     "output_type": "execute_result"
    }
   ],
   "source": [
    "(all_data[all_data['Industry'].str.contains('-1')])"
   ]
  },
  {
   "cell_type": "code",
   "execution_count": 23,
   "id": "1e1bfbf1",
   "metadata": {},
   "outputs": [],
   "source": [
    "all_data.loc[\n",
    "    all_data['Industry']== '-1', 'Industry']= 'Private'"
   ]
  },
  {
   "cell_type": "code",
   "execution_count": 24,
   "id": "35bdb9de",
   "metadata": {},
   "outputs": [
    {
     "data": {
      "text/html": [
       "<div>\n",
       "<style scoped>\n",
       "    .dataframe tbody tr th:only-of-type {\n",
       "        vertical-align: middle;\n",
       "    }\n",
       "\n",
       "    .dataframe tbody tr th {\n",
       "        vertical-align: top;\n",
       "    }\n",
       "\n",
       "    .dataframe thead th {\n",
       "        text-align: right;\n",
       "    }\n",
       "</style>\n",
       "<table border=\"1\" class=\"dataframe\">\n",
       "  <thead>\n",
       "    <tr style=\"text-align: right;\">\n",
       "      <th></th>\n",
       "      <th>Job Title</th>\n",
       "      <th>Salary Estimate</th>\n",
       "      <th>Job Description</th>\n",
       "      <th>Company Name</th>\n",
       "      <th>Location</th>\n",
       "      <th>Industry</th>\n",
       "    </tr>\n",
       "  </thead>\n",
       "  <tbody>\n",
       "    <tr>\n",
       "      <th>0</th>\n",
       "      <td>Senior Data Scientist</td>\n",
       "      <td>$111K-$181K (Glassdoor est.)</td>\n",
       "      <td>ABOUT HOPPER\\n\\nAt Hopper, we’re on a mission ...</td>\n",
       "      <td>Hopper\\n3.5</td>\n",
       "      <td>New York, NY</td>\n",
       "      <td>Travel Agencies</td>\n",
       "    </tr>\n",
       "    <tr>\n",
       "      <th>1</th>\n",
       "      <td>Data Scientist, Product Analytics</td>\n",
       "      <td>$111K-$181K (Glassdoor est.)</td>\n",
       "      <td>At Noom, we use scientifically proven methods ...</td>\n",
       "      <td>Noom US\\n4.5</td>\n",
       "      <td>New York, NY</td>\n",
       "      <td>Health, Beauty, &amp; Fitness</td>\n",
       "    </tr>\n",
       "    <tr>\n",
       "      <th>2</th>\n",
       "      <td>Data Science Manager</td>\n",
       "      <td>$111K-$181K (Glassdoor est.)</td>\n",
       "      <td>Decode_M\\n\\nhttps://www.decode-m.com/\\n\\nData ...</td>\n",
       "      <td>Decode_M</td>\n",
       "      <td>New York, NY</td>\n",
       "      <td>Private</td>\n",
       "    </tr>\n",
       "    <tr>\n",
       "      <th>3</th>\n",
       "      <td>Data Analyst</td>\n",
       "      <td>$111K-$181K (Glassdoor est.)</td>\n",
       "      <td>Sapphire Digital seeks a dynamic and driven mi...</td>\n",
       "      <td>Sapphire Digital\\n3.4</td>\n",
       "      <td>Lyndhurst, NJ</td>\n",
       "      <td>Internet</td>\n",
       "    </tr>\n",
       "    <tr>\n",
       "      <th>4</th>\n",
       "      <td>Director, Data Science</td>\n",
       "      <td>$111K-$181K (Glassdoor est.)</td>\n",
       "      <td>Director, Data Science - (200537)\\nDescription...</td>\n",
       "      <td>United Entertainment Group\\n3.4</td>\n",
       "      <td>New York, NY</td>\n",
       "      <td>Advertising &amp; Marketing</td>\n",
       "    </tr>\n",
       "    <tr>\n",
       "      <th>...</th>\n",
       "      <td>...</td>\n",
       "      <td>...</td>\n",
       "      <td>...</td>\n",
       "      <td>...</td>\n",
       "      <td>...</td>\n",
       "      <td>...</td>\n",
       "    </tr>\n",
       "    <tr>\n",
       "      <th>3904</th>\n",
       "      <td>AWS Data Engineer</td>\n",
       "      <td>$55K-$112K (Glassdoor est.)</td>\n",
       "      <td>About Us\\n\\nTachyon Technologies is a Digital ...</td>\n",
       "      <td>Tachyon Technologies\\n4.4</td>\n",
       "      <td>Dublin, OH</td>\n",
       "      <td>IT Services</td>\n",
       "    </tr>\n",
       "    <tr>\n",
       "      <th>3905</th>\n",
       "      <td>Data Analyst â Junior</td>\n",
       "      <td>$55K-$112K (Glassdoor est.)</td>\n",
       "      <td>Job description\\nInterpret data, analyze resul...</td>\n",
       "      <td>Staffigo Technical Services, LLC\\n5.0</td>\n",
       "      <td>Columbus, OH</td>\n",
       "      <td>IT Services</td>\n",
       "    </tr>\n",
       "    <tr>\n",
       "      <th>3906</th>\n",
       "      <td>Security Analytics Data Engineer</td>\n",
       "      <td>$55K-$112K (Glassdoor est.)</td>\n",
       "      <td>Job DescriptionThe Security Analytics Data Eng...</td>\n",
       "      <td>PDS Tech, Inc.\\n3.8</td>\n",
       "      <td>Dublin, OH</td>\n",
       "      <td>Staffing &amp; Outsourcing</td>\n",
       "    </tr>\n",
       "    <tr>\n",
       "      <th>3907</th>\n",
       "      <td>Security Analytics Data Engineer</td>\n",
       "      <td>$55K-$112K (Glassdoor est.)</td>\n",
       "      <td>The Security Analytics Data Engineer will inte...</td>\n",
       "      <td>Data Resource Technologies\\n4.0</td>\n",
       "      <td>Dublin, OH</td>\n",
       "      <td>Accounting</td>\n",
       "    </tr>\n",
       "    <tr>\n",
       "      <th>3908</th>\n",
       "      <td>Patient Safety Physician or Safety Scientist -...</td>\n",
       "      <td>$55K-$112K (Glassdoor est.)</td>\n",
       "      <td>Help us transform patients' lives.\\nAt UCB, we...</td>\n",
       "      <td>UCB\\n3.7</td>\n",
       "      <td>Slough, OH</td>\n",
       "      <td>Biotech &amp; Pharmaceuticals</td>\n",
       "    </tr>\n",
       "  </tbody>\n",
       "</table>\n",
       "<p>3888 rows × 6 columns</p>\n",
       "</div>"
      ],
      "text/plain": [
       "                                              Job Title  \\\n",
       "0                                 Senior Data Scientist   \n",
       "1                     Data Scientist, Product Analytics   \n",
       "2                                  Data Science Manager   \n",
       "3                                          Data Analyst   \n",
       "4                                Director, Data Science   \n",
       "...                                                 ...   \n",
       "3904                                  AWS Data Engineer   \n",
       "3905                              Data Analyst â Junior   \n",
       "3906                   Security Analytics Data Engineer   \n",
       "3907                   Security Analytics Data Engineer   \n",
       "3908  Patient Safety Physician or Safety Scientist -...   \n",
       "\n",
       "                   Salary Estimate  \\\n",
       "0     $111K-$181K (Glassdoor est.)   \n",
       "1     $111K-$181K (Glassdoor est.)   \n",
       "2     $111K-$181K (Glassdoor est.)   \n",
       "3     $111K-$181K (Glassdoor est.)   \n",
       "4     $111K-$181K (Glassdoor est.)   \n",
       "...                            ...   \n",
       "3904   $55K-$112K (Glassdoor est.)   \n",
       "3905   $55K-$112K (Glassdoor est.)   \n",
       "3906   $55K-$112K (Glassdoor est.)   \n",
       "3907   $55K-$112K (Glassdoor est.)   \n",
       "3908   $55K-$112K (Glassdoor est.)   \n",
       "\n",
       "                                        Job Description  \\\n",
       "0     ABOUT HOPPER\\n\\nAt Hopper, we’re on a mission ...   \n",
       "1     At Noom, we use scientifically proven methods ...   \n",
       "2     Decode_M\\n\\nhttps://www.decode-m.com/\\n\\nData ...   \n",
       "3     Sapphire Digital seeks a dynamic and driven mi...   \n",
       "4     Director, Data Science - (200537)\\nDescription...   \n",
       "...                                                 ...   \n",
       "3904  About Us\\n\\nTachyon Technologies is a Digital ...   \n",
       "3905  Job description\\nInterpret data, analyze resul...   \n",
       "3906  Job DescriptionThe Security Analytics Data Eng...   \n",
       "3907  The Security Analytics Data Engineer will inte...   \n",
       "3908  Help us transform patients' lives.\\nAt UCB, we...   \n",
       "\n",
       "                               Company Name       Location  \\\n",
       "0                               Hopper\\n3.5   New York, NY   \n",
       "1                              Noom US\\n4.5   New York, NY   \n",
       "2                                  Decode_M   New York, NY   \n",
       "3                     Sapphire Digital\\n3.4  Lyndhurst, NJ   \n",
       "4           United Entertainment Group\\n3.4   New York, NY   \n",
       "...                                     ...            ...   \n",
       "3904              Tachyon Technologies\\n4.4     Dublin, OH   \n",
       "3905  Staffigo Technical Services, LLC\\n5.0   Columbus, OH   \n",
       "3906                    PDS Tech, Inc.\\n3.8     Dublin, OH   \n",
       "3907        Data Resource Technologies\\n4.0     Dublin, OH   \n",
       "3908                               UCB\\n3.7     Slough, OH   \n",
       "\n",
       "                       Industry  \n",
       "0               Travel Agencies  \n",
       "1     Health, Beauty, & Fitness  \n",
       "2                       Private  \n",
       "3                      Internet  \n",
       "4       Advertising & Marketing  \n",
       "...                         ...  \n",
       "3904                IT Services  \n",
       "3905                IT Services  \n",
       "3906     Staffing & Outsourcing  \n",
       "3907                 Accounting  \n",
       "3908  Biotech & Pharmaceuticals  \n",
       "\n",
       "[3888 rows x 6 columns]"
      ]
     },
     "execution_count": 24,
     "metadata": {},
     "output_type": "execute_result"
    }
   ],
   "source": [
    "all_data"
   ]
  },
  {
   "cell_type": "code",
   "execution_count": 25,
   "id": "40275ed7",
   "metadata": {},
   "outputs": [
    {
     "data": {
      "text/plain": [
       "Data Scientist                                                                        274\n",
       "Data Engineer                                                                         259\n",
       "Data Analyst                                                                          246\n",
       "Senior Data Scientist                                                                  91\n",
       "Machine Learning Engineer                                                              47\n",
       "                                                                                     ... \n",
       "Research Scientist - Machine Learning                                                   1\n",
       "In Process Analytical Scientist                                                         1\n",
       "Splunk Data Analyst                                                                     1\n",
       "Applied Research Scientist - Computer Vision                                            1\n",
       "Scientist, Data, Methods and Analytics Immuno-inflammation and Specialty Medicines      1\n",
       "Name: Job Title, Length: 2065, dtype: int64"
      ]
     },
     "execution_count": 25,
     "metadata": {},
     "output_type": "execute_result"
    }
   ],
   "source": [
    "all_data['Job Title'].value_counts()"
   ]
  },
  {
   "cell_type": "code",
   "execution_count": 26,
   "id": "cc0bea75",
   "metadata": {},
   "outputs": [],
   "source": [
    "all_data.loc[\n",
    "    all_data['Job Title'].str.contains('analyst', case=False), 'job Title'\n",
    "] = 'Data Analyst'"
   ]
  },
  {
   "cell_type": "code",
   "execution_count": 27,
   "id": "89f712e4",
   "metadata": {},
   "outputs": [],
   "source": [
    "all_data.loc[\n",
    "    all_data['Job Title'].str.contains('scientist',case=False), 'Job Title'\n",
    "] = 'Data Scientist'"
   ]
  },
  {
   "cell_type": "code",
   "execution_count": 28,
   "id": "e68e2b99",
   "metadata": {},
   "outputs": [],
   "source": [
    "all_data.loc[\n",
    "    all_data['Job Title'].str.contains('engineer',case=False), 'Job Title'\n",
    "] = 'Data Engineer'"
   ]
  },
  {
   "cell_type": "markdown",
   "id": "322ee73e",
   "metadata": {},
   "source": [
    "### 5. Remove substring from string column"
   ]
  },
  {
   "cell_type": "code",
   "execution_count": 30,
   "id": "837355c0",
   "metadata": {},
   "outputs": [
    {
     "name": "stderr",
     "output_type": "stream",
     "text": [
      "2023-06-14 12:14:06,646 [20420] WARNING  py.warnings:110: [JupyterRequire] c:\\users\\pc\\appdata\\local\\programs\\python\\python37\\lib\\site-packages\\ipykernel_launcher.py:4: FutureWarning: The default value of regex will change from True to False in a future version.\n",
      "  after removing the cwd from sys.path.\n",
      "\n",
      "2023-06-14 12:14:06,659 [20420] WARNING  py.warnings:110: [JupyterRequire] c:\\users\\pc\\appdata\\local\\programs\\python\\python37\\lib\\site-packages\\ipykernel_launcher.py:4: FutureWarning: The default value of regex will change from True to False in a future version. In addition, single character regular expressions will*not* be treated as literal strings when regex=True.\n",
      "  after removing the cwd from sys.path.\n",
      "\n"
     ]
    }
   ],
   "source": [
    "#remove substring from string column\n",
    "remove = ['(Glassdoor est.)','$','(Employer est.)',')','(']\n",
    "for string in remove:\n",
    "      all_data['Salary Estimate'] = all_data['Salary Estimate'].str.replace(string,'')"
   ]
  },
  {
   "cell_type": "markdown",
   "id": "55e81a8f",
   "metadata": {},
   "source": [
    "### 6. Split string column by separator and convert result to int type."
   ]
  },
  {
   "cell_type": "code",
   "execution_count": 31,
   "id": "0d585a38",
   "metadata": {},
   "outputs": [],
   "source": [
    "all_data[['Estimate Min Salary', 'Estimate Max Salary']] = all_data['Salary Estimate'].str.split(\"-\", expand=True)"
   ]
  },
  {
   "cell_type": "code",
   "execution_count": 32,
   "id": "47b56ccb",
   "metadata": {},
   "outputs": [
    {
     "data": {
      "text/html": [
       "<div>\n",
       "<style scoped>\n",
       "    .dataframe tbody tr th:only-of-type {\n",
       "        vertical-align: middle;\n",
       "    }\n",
       "\n",
       "    .dataframe tbody tr th {\n",
       "        vertical-align: top;\n",
       "    }\n",
       "\n",
       "    .dataframe thead th {\n",
       "        text-align: right;\n",
       "    }\n",
       "</style>\n",
       "<table border=\"1\" class=\"dataframe\">\n",
       "  <thead>\n",
       "    <tr style=\"text-align: right;\">\n",
       "      <th></th>\n",
       "      <th>Job Title</th>\n",
       "      <th>Salary Estimate</th>\n",
       "      <th>Job Description</th>\n",
       "      <th>Company Name</th>\n",
       "      <th>Location</th>\n",
       "      <th>Industry</th>\n",
       "      <th>job Title</th>\n",
       "      <th>Estimate Min Salary</th>\n",
       "      <th>Estimate Max Salary</th>\n",
       "    </tr>\n",
       "  </thead>\n",
       "  <tbody>\n",
       "    <tr>\n",
       "      <th>0</th>\n",
       "      <td>Data Scientist</td>\n",
       "      <td>111K-181K</td>\n",
       "      <td>ABOUT HOPPER\\n\\nAt Hopper, we’re on a mission ...</td>\n",
       "      <td>Hopper\\n3.5</td>\n",
       "      <td>New York, NY</td>\n",
       "      <td>Travel Agencies</td>\n",
       "      <td>NaN</td>\n",
       "      <td>111K</td>\n",
       "      <td>181K</td>\n",
       "    </tr>\n",
       "    <tr>\n",
       "      <th>1</th>\n",
       "      <td>Data Scientist</td>\n",
       "      <td>111K-181K</td>\n",
       "      <td>At Noom, we use scientifically proven methods ...</td>\n",
       "      <td>Noom US\\n4.5</td>\n",
       "      <td>New York, NY</td>\n",
       "      <td>Health, Beauty, &amp; Fitness</td>\n",
       "      <td>NaN</td>\n",
       "      <td>111K</td>\n",
       "      <td>181K</td>\n",
       "    </tr>\n",
       "    <tr>\n",
       "      <th>2</th>\n",
       "      <td>Data Science Manager</td>\n",
       "      <td>111K-181K</td>\n",
       "      <td>Decode_M\\n\\nhttps://www.decode-m.com/\\n\\nData ...</td>\n",
       "      <td>Decode_M</td>\n",
       "      <td>New York, NY</td>\n",
       "      <td>Private</td>\n",
       "      <td>NaN</td>\n",
       "      <td>111K</td>\n",
       "      <td>181K</td>\n",
       "    </tr>\n",
       "    <tr>\n",
       "      <th>3</th>\n",
       "      <td>Data Analyst</td>\n",
       "      <td>111K-181K</td>\n",
       "      <td>Sapphire Digital seeks a dynamic and driven mi...</td>\n",
       "      <td>Sapphire Digital\\n3.4</td>\n",
       "      <td>Lyndhurst, NJ</td>\n",
       "      <td>Internet</td>\n",
       "      <td>Data Analyst</td>\n",
       "      <td>111K</td>\n",
       "      <td>181K</td>\n",
       "    </tr>\n",
       "    <tr>\n",
       "      <th>4</th>\n",
       "      <td>Director, Data Science</td>\n",
       "      <td>111K-181K</td>\n",
       "      <td>Director, Data Science - (200537)\\nDescription...</td>\n",
       "      <td>United Entertainment Group\\n3.4</td>\n",
       "      <td>New York, NY</td>\n",
       "      <td>Advertising &amp; Marketing</td>\n",
       "      <td>NaN</td>\n",
       "      <td>111K</td>\n",
       "      <td>181K</td>\n",
       "    </tr>\n",
       "  </tbody>\n",
       "</table>\n",
       "</div>"
      ],
      "text/plain": [
       "                Job Title Salary Estimate  \\\n",
       "0          Data Scientist      111K-181K    \n",
       "1          Data Scientist      111K-181K    \n",
       "2    Data Science Manager      111K-181K    \n",
       "3            Data Analyst      111K-181K    \n",
       "4  Director, Data Science      111K-181K    \n",
       "\n",
       "                                     Job Description  \\\n",
       "0  ABOUT HOPPER\\n\\nAt Hopper, we’re on a mission ...   \n",
       "1  At Noom, we use scientifically proven methods ...   \n",
       "2  Decode_M\\n\\nhttps://www.decode-m.com/\\n\\nData ...   \n",
       "3  Sapphire Digital seeks a dynamic and driven mi...   \n",
       "4  Director, Data Science - (200537)\\nDescription...   \n",
       "\n",
       "                      Company Name       Location                   Industry  \\\n",
       "0                      Hopper\\n3.5   New York, NY            Travel Agencies   \n",
       "1                     Noom US\\n4.5   New York, NY  Health, Beauty, & Fitness   \n",
       "2                         Decode_M   New York, NY                    Private   \n",
       "3            Sapphire Digital\\n3.4  Lyndhurst, NJ                   Internet   \n",
       "4  United Entertainment Group\\n3.4   New York, NY    Advertising & Marketing   \n",
       "\n",
       "      job Title Estimate Min Salary Estimate Max Salary  \n",
       "0           NaN                111K               181K   \n",
       "1           NaN                111K               181K   \n",
       "2           NaN                111K               181K   \n",
       "3  Data Analyst                111K               181K   \n",
       "4           NaN                111K               181K   "
      ]
     },
     "execution_count": 32,
     "metadata": {},
     "output_type": "execute_result"
    }
   ],
   "source": [
    "all_data.head()"
   ]
  },
  {
   "cell_type": "code",
   "execution_count": 33,
   "id": "a79cd2cb",
   "metadata": {},
   "outputs": [],
   "source": [
    "# Salary Estimate column become unncessary \n",
    "alldata = alldata.drop('Salary Estimate',axis=1)\n",
    "del all_data['Salary Estimate']\n",
    "# both lines will do same job"
   ]
  },
  {
   "cell_type": "code",
   "execution_count": 34,
   "id": "23596391",
   "metadata": {},
   "outputs": [
    {
     "data": {
      "text/plain": [
       "pandas.core.series.Series"
      ]
     },
     "execution_count": 34,
     "metadata": {},
     "output_type": "execute_result"
    }
   ],
   "source": [
    "type(all_data['Estimate Min Salary'])"
   ]
  },
  {
   "cell_type": "markdown",
   "id": "5c50a003",
   "metadata": {},
   "source": [
    "### 7. Strip letters from the left of a string column"
   ]
  },
  {
   "cell_type": "code",
   "execution_count": 35,
   "id": "dd838e37",
   "metadata": {},
   "outputs": [],
   "source": [
    "#Slice Location and Company Name string 4 index away from the left. \n",
    "all_data['Location'] = all_data['Location'].str[:-4]\n",
    "all_data['Company Name'] = all_data['Company Name'].str[:-4]"
   ]
  },
  {
   "cell_type": "code",
   "execution_count": 36,
   "id": "407298e2",
   "metadata": {},
   "outputs": [
    {
     "data": {
      "text/html": [
       "<div>\n",
       "<style scoped>\n",
       "    .dataframe tbody tr th:only-of-type {\n",
       "        vertical-align: middle;\n",
       "    }\n",
       "\n",
       "    .dataframe tbody tr th {\n",
       "        vertical-align: top;\n",
       "    }\n",
       "\n",
       "    .dataframe thead th {\n",
       "        text-align: right;\n",
       "    }\n",
       "</style>\n",
       "<table border=\"1\" class=\"dataframe\">\n",
       "  <thead>\n",
       "    <tr style=\"text-align: right;\">\n",
       "      <th></th>\n",
       "      <th>Job Title</th>\n",
       "      <th>Job Description</th>\n",
       "      <th>Company Name</th>\n",
       "      <th>Location</th>\n",
       "      <th>Industry</th>\n",
       "      <th>job Title</th>\n",
       "      <th>Estimate Min Salary</th>\n",
       "      <th>Estimate Max Salary</th>\n",
       "    </tr>\n",
       "  </thead>\n",
       "  <tbody>\n",
       "    <tr>\n",
       "      <th>0</th>\n",
       "      <td>Data Scientist</td>\n",
       "      <td>ABOUT HOPPER\\n\\nAt Hopper, we’re on a mission ...</td>\n",
       "      <td>Hopper</td>\n",
       "      <td>New York</td>\n",
       "      <td>Travel Agencies</td>\n",
       "      <td>NaN</td>\n",
       "      <td>111K</td>\n",
       "      <td>181K</td>\n",
       "    </tr>\n",
       "    <tr>\n",
       "      <th>1</th>\n",
       "      <td>Data Scientist</td>\n",
       "      <td>At Noom, we use scientifically proven methods ...</td>\n",
       "      <td>Noom US</td>\n",
       "      <td>New York</td>\n",
       "      <td>Health, Beauty, &amp; Fitness</td>\n",
       "      <td>NaN</td>\n",
       "      <td>111K</td>\n",
       "      <td>181K</td>\n",
       "    </tr>\n",
       "    <tr>\n",
       "      <th>2</th>\n",
       "      <td>Data Science Manager</td>\n",
       "      <td>Decode_M\\n\\nhttps://www.decode-m.com/\\n\\nData ...</td>\n",
       "      <td>Deco</td>\n",
       "      <td>New York</td>\n",
       "      <td>Private</td>\n",
       "      <td>NaN</td>\n",
       "      <td>111K</td>\n",
       "      <td>181K</td>\n",
       "    </tr>\n",
       "    <tr>\n",
       "      <th>3</th>\n",
       "      <td>Data Analyst</td>\n",
       "      <td>Sapphire Digital seeks a dynamic and driven mi...</td>\n",
       "      <td>Sapphire Digital</td>\n",
       "      <td>Lyndhurst</td>\n",
       "      <td>Internet</td>\n",
       "      <td>Data Analyst</td>\n",
       "      <td>111K</td>\n",
       "      <td>181K</td>\n",
       "    </tr>\n",
       "    <tr>\n",
       "      <th>4</th>\n",
       "      <td>Director, Data Science</td>\n",
       "      <td>Director, Data Science - (200537)\\nDescription...</td>\n",
       "      <td>United Entertainment Group</td>\n",
       "      <td>New York</td>\n",
       "      <td>Advertising &amp; Marketing</td>\n",
       "      <td>NaN</td>\n",
       "      <td>111K</td>\n",
       "      <td>181K</td>\n",
       "    </tr>\n",
       "    <tr>\n",
       "      <th>...</th>\n",
       "      <td>...</td>\n",
       "      <td>...</td>\n",
       "      <td>...</td>\n",
       "      <td>...</td>\n",
       "      <td>...</td>\n",
       "      <td>...</td>\n",
       "      <td>...</td>\n",
       "      <td>...</td>\n",
       "    </tr>\n",
       "    <tr>\n",
       "      <th>3904</th>\n",
       "      <td>Data Engineer</td>\n",
       "      <td>About Us\\n\\nTachyon Technologies is a Digital ...</td>\n",
       "      <td>Tachyon Technologies</td>\n",
       "      <td>Dublin</td>\n",
       "      <td>IT Services</td>\n",
       "      <td>NaN</td>\n",
       "      <td>55K</td>\n",
       "      <td>112K</td>\n",
       "    </tr>\n",
       "    <tr>\n",
       "      <th>3905</th>\n",
       "      <td>Data Analyst â Junior</td>\n",
       "      <td>Job description\\nInterpret data, analyze resul...</td>\n",
       "      <td>Staffigo Technical Services, LLC</td>\n",
       "      <td>Columbus</td>\n",
       "      <td>IT Services</td>\n",
       "      <td>Data Analyst</td>\n",
       "      <td>55K</td>\n",
       "      <td>112K</td>\n",
       "    </tr>\n",
       "    <tr>\n",
       "      <th>3906</th>\n",
       "      <td>Data Engineer</td>\n",
       "      <td>Job DescriptionThe Security Analytics Data Eng...</td>\n",
       "      <td>PDS Tech, Inc.</td>\n",
       "      <td>Dublin</td>\n",
       "      <td>Staffing &amp; Outsourcing</td>\n",
       "      <td>NaN</td>\n",
       "      <td>55K</td>\n",
       "      <td>112K</td>\n",
       "    </tr>\n",
       "    <tr>\n",
       "      <th>3907</th>\n",
       "      <td>Data Engineer</td>\n",
       "      <td>The Security Analytics Data Engineer will inte...</td>\n",
       "      <td>Data Resource Technologies</td>\n",
       "      <td>Dublin</td>\n",
       "      <td>Accounting</td>\n",
       "      <td>NaN</td>\n",
       "      <td>55K</td>\n",
       "      <td>112K</td>\n",
       "    </tr>\n",
       "    <tr>\n",
       "      <th>3908</th>\n",
       "      <td>Data Scientist</td>\n",
       "      <td>Help us transform patients' lives.\\nAt UCB, we...</td>\n",
       "      <td>UCB</td>\n",
       "      <td>Slough</td>\n",
       "      <td>Biotech &amp; Pharmaceuticals</td>\n",
       "      <td>NaN</td>\n",
       "      <td>55K</td>\n",
       "      <td>112K</td>\n",
       "    </tr>\n",
       "  </tbody>\n",
       "</table>\n",
       "<p>3888 rows × 8 columns</p>\n",
       "</div>"
      ],
      "text/plain": [
       "                   Job Title  \\\n",
       "0             Data Scientist   \n",
       "1             Data Scientist   \n",
       "2       Data Science Manager   \n",
       "3               Data Analyst   \n",
       "4     Director, Data Science   \n",
       "...                      ...   \n",
       "3904           Data Engineer   \n",
       "3905   Data Analyst â Junior   \n",
       "3906           Data Engineer   \n",
       "3907           Data Engineer   \n",
       "3908          Data Scientist   \n",
       "\n",
       "                                        Job Description  \\\n",
       "0     ABOUT HOPPER\\n\\nAt Hopper, we’re on a mission ...   \n",
       "1     At Noom, we use scientifically proven methods ...   \n",
       "2     Decode_M\\n\\nhttps://www.decode-m.com/\\n\\nData ...   \n",
       "3     Sapphire Digital seeks a dynamic and driven mi...   \n",
       "4     Director, Data Science - (200537)\\nDescription...   \n",
       "...                                                 ...   \n",
       "3904  About Us\\n\\nTachyon Technologies is a Digital ...   \n",
       "3905  Job description\\nInterpret data, analyze resul...   \n",
       "3906  Job DescriptionThe Security Analytics Data Eng...   \n",
       "3907  The Security Analytics Data Engineer will inte...   \n",
       "3908  Help us transform patients' lives.\\nAt UCB, we...   \n",
       "\n",
       "                          Company Name   Location                   Industry  \\\n",
       "0                               Hopper   New York            Travel Agencies   \n",
       "1                              Noom US   New York  Health, Beauty, & Fitness   \n",
       "2                                 Deco   New York                    Private   \n",
       "3                     Sapphire Digital  Lyndhurst                   Internet   \n",
       "4           United Entertainment Group   New York    Advertising & Marketing   \n",
       "...                                ...        ...                        ...   \n",
       "3904              Tachyon Technologies     Dublin                IT Services   \n",
       "3905  Staffigo Technical Services, LLC   Columbus                IT Services   \n",
       "3906                    PDS Tech, Inc.     Dublin     Staffing & Outsourcing   \n",
       "3907        Data Resource Technologies     Dublin                 Accounting   \n",
       "3908                               UCB     Slough  Biotech & Pharmaceuticals   \n",
       "\n",
       "         job Title Estimate Min Salary Estimate Max Salary  \n",
       "0              NaN                111K               181K   \n",
       "1              NaN                111K               181K   \n",
       "2              NaN                111K               181K   \n",
       "3     Data Analyst                111K               181K   \n",
       "4              NaN                111K               181K   \n",
       "...            ...                 ...                 ...  \n",
       "3904           NaN                 55K               112K   \n",
       "3905  Data Analyst                 55K               112K   \n",
       "3906           NaN                 55K               112K   \n",
       "3907           NaN                 55K               112K   \n",
       "3908           NaN                 55K               112K   \n",
       "\n",
       "[3888 rows x 8 columns]"
      ]
     },
     "execution_count": 36,
     "metadata": {},
     "output_type": "execute_result"
    }
   ],
   "source": [
    "all_data"
   ]
  },
  {
   "cell_type": "markdown",
   "id": "1506dce1",
   "metadata": {},
   "source": [
    "### 8. Count number of rows that contains substring appears in a column with conditions."
   ]
  },
  {
   "cell_type": "code",
   "execution_count": 37,
   "id": "93389ae5",
   "metadata": {},
   "outputs": [
    {
     "name": "stdout",
     "output_type": "stream",
     "text": [
      "Number of job that requires sql : 183\n",
      "Number of job that requires python : 75\n",
      "Number of job that requires power bi : 30\n",
      "Number of job that requires tableau : 63\n",
      "Number of job that requires excel : 143\n",
      "Number of job that requires  r  : 16\n"
     ]
    }
   ],
   "source": [
    "#skills we want to count \n",
    "skills_set = ['sql','python','power bi','tableau','excel',' r ']\n",
    "#using for loop to frequency of each skills \n",
    "for skills in skills_set:\n",
    "      print('Number of job that requires',skills,':',len(all_data[\n",
    "                (all_data['Job Description'].str.contains(skills, case = False)) & \n",
    "                (all_data['Job Title']=='Data Analyst')]))"
   ]
  },
  {
   "cell_type": "code",
   "execution_count": null,
   "id": "83f47634",
   "metadata": {},
   "outputs": [],
   "source": []
  }
 ],
 "metadata": {
  "kernelspec": {
   "display_name": "Python 3",
   "language": "python",
   "name": "python3"
  },
  "language_info": {
   "codemirror_mode": {
    "name": "ipython",
    "version": 3
   },
   "file_extension": ".py",
   "mimetype": "text/x-python",
   "name": "python",
   "nbconvert_exporter": "python",
   "pygments_lexer": "ipython3",
   "version": "3.7.9"
  }
 },
 "nbformat": 4,
 "nbformat_minor": 5
}
