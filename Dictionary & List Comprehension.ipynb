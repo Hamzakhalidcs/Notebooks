{
 "cells": [
  {
   "cell_type": "markdown",
   "id": "6e8af1e2",
   "metadata": {},
   "source": [
    "### Dictionary"
   ]
  },
  {
   "cell_type": "code",
   "execution_count": 1,
   "id": "4e2f6149",
   "metadata": {},
   "outputs": [],
   "source": [
    "import pandas as pd"
   ]
  },
  {
   "cell_type": "code",
   "execution_count": 2,
   "id": "32b0b165",
   "metadata": {},
   "outputs": [
    {
     "data": {
      "text/plain": [
       "{1: 1, 2: 4, 3: 9, 4: 16, 5: 25, 6: 36, 7: 49, 8: 64, 9: 81, 10: 100}"
      ]
     },
     "execution_count": 2,
     "metadata": {},
     "output_type": "execute_result"
    }
   ],
   "source": [
    "square_dict = {num: num*num for num in range(1, 11)}\n",
    "square_dict"
   ]
  },
  {
   "cell_type": "code",
   "execution_count": 4,
   "id": "0b832a0c",
   "metadata": {},
   "outputs": [],
   "source": [
    "old_price = {'milk': 1.02, 'coffee': 2.5, 'bread': 2.5}\n",
    "dollar_to_pound = 0.76"
   ]
  },
  {
   "cell_type": "code",
   "execution_count": 5,
   "id": "d027519a",
   "metadata": {},
   "outputs": [
    {
     "data": {
      "text/plain": [
       "{'milk': 0.7752, 'coffee': 1.9, 'bread': 1.9}"
      ]
     },
     "execution_count": 5,
     "metadata": {},
     "output_type": "execute_result"
    }
   ],
   "source": [
    "{item : value*dollar_to_pound for (item, value) in old_price.items()}"
   ]
  },
  {
   "cell_type": "code",
   "execution_count": 4,
   "id": "68ca267d",
   "metadata": {},
   "outputs": [
    {
     "data": {
      "text/plain": [
       "{'milk': 0.7752, 'coffee': 1.9, 'bread': 1.9}"
      ]
     },
     "execution_count": 4,
     "metadata": {},
     "output_type": "execute_result"
    }
   ],
   "source": [
    "new_price = {item : value*dollar_to_pound for (item, value) in old_price.items()}\n",
    "new_price"
   ]
  },
  {
   "cell_type": "code",
   "execution_count": 6,
   "id": "e7f16dd2",
   "metadata": {},
   "outputs": [],
   "source": [
    "original_dict = {'jack': 38, 'michael': 48, 'guido': 57, 'john': 33}"
   ]
  },
  {
   "cell_type": "code",
   "execution_count": 8,
   "id": "a3aeae3e",
   "metadata": {},
   "outputs": [
    {
     "data": {
      "text/plain": [
       "{'jack': 38}"
      ]
     },
     "execution_count": 8,
     "metadata": {},
     "output_type": "execute_result"
    }
   ],
   "source": [
    "{k:v for (k, v) in original_dict.items() if v%2==0 if v<40}"
   ]
  },
  {
   "cell_type": "code",
   "execution_count": 6,
   "id": "feb94274",
   "metadata": {},
   "outputs": [
    {
     "data": {
      "text/plain": [
       "{'jack': 38}"
      ]
     },
     "execution_count": 6,
     "metadata": {},
     "output_type": "execute_result"
    }
   ],
   "source": [
    "even_dict = {k:v for (k, v) in original_dict.items() if v%2==0 if v<40}\n",
    "even_dict"
   ]
  },
  {
   "cell_type": "code",
   "execution_count": 7,
   "id": "258c418a",
   "metadata": {},
   "outputs": [
    {
     "name": "stdout",
     "output_type": "stream",
     "text": [
      "{'john': 33}\n"
     ]
    }
   ],
   "source": [
    "odd_dict = {k:v for (k, v) in original_dict.items() if v%2!=0 if v<40}\n",
    "print(odd_dict)"
   ]
  },
  {
   "cell_type": "code",
   "execution_count": 8,
   "id": "f84a9a0c",
   "metadata": {},
   "outputs": [],
   "source": [
    "new_dict1 = {k:(\"old\" if v>40 else \"Young\")\n",
    "             for (k, v) in original_dict.items()\n",
    "}"
   ]
  },
  {
   "cell_type": "code",
   "execution_count": 9,
   "id": "497f88b1",
   "metadata": {},
   "outputs": [
    {
     "data": {
      "text/plain": [
       "{'jack': 'Young', 'michael': 'old', 'guido': 'old', 'john': 'Young'}"
      ]
     },
     "execution_count": 9,
     "metadata": {},
     "output_type": "execute_result"
    }
   ],
   "source": [
    "new_dict1 "
   ]
  },
  {
   "cell_type": "code",
   "execution_count": 5,
   "id": "e719a0a1",
   "metadata": {},
   "outputs": [],
   "source": [
    "names = ['Mariya', 'Gandllif', 'Batman']\n",
    "c = ['Programmer', 'Wizard', 'superhero']"
   ]
  },
  {
   "cell_type": "code",
   "execution_count": 10,
   "id": "e01badd0",
   "metadata": {},
   "outputs": [
    {
     "data": {
      "text/plain": [
       "{'Mariya': 'Programmer', 'Gandllif': 'Wizard', 'Batman': 'superhero'}"
      ]
     },
     "execution_count": 10,
     "metadata": {},
     "output_type": "execute_result"
    }
   ],
   "source": [
    "{key:val for (key, val) in zip(names, profession)}"
   ]
  },
  {
   "cell_type": "code",
   "execution_count": 11,
   "id": "f6d7deed",
   "metadata": {},
   "outputs": [
    {
     "data": {
      "text/plain": [
       "{'Hamza': 'Businessman', 'Gandllif': 'Wizard', 'Batman': 'superhero'}"
      ]
     },
     "execution_count": 11,
     "metadata": {},
     "output_type": "execute_result"
    }
   ],
   "source": [
    "{(key if key!=\"Mariya\" else \"Hamza\"):(val if val!=\"Programmer\" else \"Businessman\") for(key, val) in zip(names, profession)}"
   ]
  },
  {
   "cell_type": "code",
   "execution_count": 24,
   "id": "1479a832",
   "metadata": {},
   "outputs": [
    {
     "data": {
      "text/plain": [
       "{'Hamza': 'Programmer', 'Gandllif': 'Wizard', 'Batman': 'superhero'}"
      ]
     },
     "execution_count": 24,
     "metadata": {},
     "output_type": "execute_result"
    }
   ],
   "source": [
    "{(k if k!=\"Mariya\" else \"Hamza\"):(v if v!=\"Progrmmer\" else \"Businessman\") for (k, v) in zip(names, profession)}"
   ]
  },
  {
   "cell_type": "code",
   "execution_count": 20,
   "id": "fd4ea1f1",
   "metadata": {},
   "outputs": [
    {
     "data": {
      "text/plain": [
       "{'Hamza': 'Businessman', 'Gandllif': 'Wizard', 'Batman': 'superhero'}"
      ]
     },
     "execution_count": 20,
     "metadata": {},
     "output_type": "execute_result"
    }
   ],
   "source": [
    "{(key if key!=\"Mariya\" else \"Hamza\") :(val if val!=\"Programmer\" else \"Businessman\") for (key, val) in zip(names, profession)}"
   ]
  },
  {
   "cell_type": "code",
   "execution_count": 12,
   "id": "01396198",
   "metadata": {},
   "outputs": [
    {
     "name": "stdout",
     "output_type": "stream",
     "text": [
      "{'Mariya': 'Programmer', 'Gandllif': 'Wizard', 'Batman': 'superhero'}\n"
     ]
    }
   ],
   "source": [
    "my_dict = {}\n",
    "\n",
    "for (key, value) in zip(names, profession):\n",
    "    my_dict[key] = value\n",
    "\n",
    "print(my_dict)"
   ]
  },
  {
   "cell_type": "code",
   "execution_count": 13,
   "id": "bca5325a",
   "metadata": {},
   "outputs": [
    {
     "data": {
      "text/plain": [
       "{'Mariya': 'Programmer', 'Gandllif': 'Wizard', 'Batman': 'superhero'}"
      ]
     },
     "execution_count": 13,
     "metadata": {},
     "output_type": "execute_result"
    }
   ],
   "source": [
    "for i in range(3):\n",
    "    my_dict[names[i]] = profession[i]\n",
    "\n",
    "my_dict"
   ]
  },
  {
   "cell_type": "code",
   "execution_count": 14,
   "id": "a3b4193d",
   "metadata": {},
   "outputs": [
    {
     "data": {
      "text/plain": [
       "{'Mariya': 'Programmer', 'Gandllif': 'Wizard', 'Batman': 'superhero'}"
      ]
     },
     "execution_count": 14,
     "metadata": {},
     "output_type": "execute_result"
    }
   ],
   "source": [
    "my_dict = {key:value for (key, value) in zip(names, profession)}\n",
    "my_dict"
   ]
  },
  {
   "cell_type": "code",
   "execution_count": 15,
   "id": "6a4266eb",
   "metadata": {},
   "outputs": [
    {
     "data": {
      "text/plain": [
       "{'Mariya': 'Programmer', 'Gandllif': 'Wizard', 'Batman': 'superhero'}"
      ]
     },
     "execution_count": 15,
     "metadata": {},
     "output_type": "execute_result"
    }
   ],
   "source": [
    "dict(zip(names, profession))"
   ]
  },
  {
   "cell_type": "code",
   "execution_count": 16,
   "id": "8d447312",
   "metadata": {},
   "outputs": [
    {
     "data": {
      "text/plain": [
       "{'Mariya': 'Programmer', 'Gandllif': 'Wizard', 'Batman': 'superhero'}"
      ]
     },
     "execution_count": 16,
     "metadata": {},
     "output_type": "execute_result"
    }
   ],
   "source": [
    "my_dict = {names[i] : profession[i] for i in range(len(names))}\n",
    "my_dict"
   ]
  },
  {
   "cell_type": "code",
   "execution_count": 17,
   "id": "3c0ad6f5",
   "metadata": {},
   "outputs": [],
   "source": [
    "# same can do with the tuples , first we were dealing with the lists \n",
    "names = ('Mariya', 'Gandllif', 'Batman')\n",
    "profession = ('Programmer', 'Wizard', 'superhero')"
   ]
  },
  {
   "cell_type": "code",
   "execution_count": 18,
   "id": "5fda0a63",
   "metadata": {},
   "outputs": [
    {
     "data": {
      "text/plain": [
       "{'Mariya': 'Programmer', 'Gandllif': 'Wizard', 'Batman': 'superhero'}"
      ]
     },
     "execution_count": 18,
     "metadata": {},
     "output_type": "execute_result"
    }
   ],
   "source": [
    "my_dict = {key:value for (key, value) in zip(names, profession)}\n",
    "my_dict"
   ]
  },
  {
   "cell_type": "code",
   "execution_count": 25,
   "id": "b17ac3f5",
   "metadata": {},
   "outputs": [],
   "source": [
    "# Dealing in DataFrames\n",
    "names_df  = pd.DataFrame(['Mariya', 'Gandllif', 'Batman'])\n",
    "profession_df = pd.DataFrame(['Programmer', 'Wizard', 'superhero'])"
   ]
  },
  {
   "cell_type": "code",
   "execution_count": 26,
   "id": "a157a10b",
   "metadata": {},
   "outputs": [
    {
     "data": {
      "text/plain": [
       "{'Mariya': 'Programmer', 'Gandllif': 'Wizard', 'Batman': 'superhero'}"
      ]
     },
     "execution_count": 26,
     "metadata": {},
     "output_type": "execute_result"
    }
   ],
   "source": [
    "my_dict = {key:value for (key, value) in zip(names_df[0], profession_df[0])}\n",
    "my_dict"
   ]
  },
  {
   "cell_type": "code",
   "execution_count": 27,
   "id": "0c30943e",
   "metadata": {},
   "outputs": [],
   "source": [
    "# modify dictionary\n",
    "my_dict = {\n",
    "    \"Spider\" : \"photographer\",\n",
    "    \"Bat\" : \"Philanthropist\",\n",
    "    \"Wonder Wo\" : \"nurse\"\n",
    "}"
   ]
  },
  {
   "cell_type": "code",
   "execution_count": 28,
   "id": "6bf38740",
   "metadata": {},
   "outputs": [
    {
     "data": {
      "text/plain": [
       "{'Spiderman': 'photographer',\n",
       " 'Batman': 'Philanthropist',\n",
       " 'Wonder Woman': 'nurse'}"
      ]
     },
     "execution_count": 28,
     "metadata": {},
     "output_type": "execute_result"
    }
   ],
   "source": [
    "{k+\"man\":v for (k, v) in my_dict.items()}"
   ]
  },
  {
   "cell_type": "code",
   "execution_count": 22,
   "id": "c3344fd7",
   "metadata": {},
   "outputs": [],
   "source": [
    "# add man with key,\n",
    "# if key = Spider change it Superman,\n",
    "# if value photographer change to journalist"
   ]
  },
  {
   "cell_type": "code",
   "execution_count": 13,
   "id": "6f854d6f",
   "metadata": {},
   "outputs": [
    {
     "data": {
      "text/plain": [
       "{'Spiderman': 'photographer',\n",
       " 'Batman': 'Philanthropist',\n",
       " 'Wonder Woman': 'nurse'}"
      ]
     },
     "execution_count": 13,
     "metadata": {},
     "output_type": "execute_result"
    }
   ],
   "source": [
    "modify_dict = {key+ \"man\": value for(key, value) in my_dict.items()}\n",
    "modify_dict"
   ]
  },
  {
   "cell_type": "code",
   "execution_count": 23,
   "id": "741f1cd0",
   "metadata": {},
   "outputs": [
    {
     "data": {
      "text/plain": [
       "{'Spiderman': 'photographer',\n",
       " 'Batman': 'Philanthropist',\n",
       " 'Wonder Woman': 'nurse'}"
      ]
     },
     "execution_count": 23,
     "metadata": {},
     "output_type": "execute_result"
    }
   ],
   "source": [
    "my_dict = {key+ \"man\": value for (key, value) in my_dict.items()}\n",
    "my_dict"
   ]
  },
  {
   "cell_type": "code",
   "execution_count": 3,
   "id": "479d9a33",
   "metadata": {},
   "outputs": [
    {
     "data": {
      "text/plain": [
       "{'Spiderman': 'photographer',\n",
       " 'Batman': 'Philanthropist',\n",
       " 'Wonder Woman': 'nurse'}"
      ]
     },
     "execution_count": 3,
     "metadata": {},
     "output_type": "execute_result"
    }
   ],
   "source": [
    "# replacing spider with superman\n",
    "\n",
    "test = {(key+\"man\" if key!= \"Spiderman\" else \"superman\"):val for (key, val) in my_dict.items()}\n",
    "test"
   ]
  },
  {
   "cell_type": "code",
   "execution_count": 2,
   "id": "894a0b49",
   "metadata": {},
   "outputs": [
    {
     "data": {
      "text/plain": [
       "{'Superman': 'Journalist', 'Batman': 'Philanthropist', 'Wonder Woman': 'nurse'}"
      ]
     },
     "execution_count": 2,
     "metadata": {},
     "output_type": "execute_result"
    }
   ],
   "source": [
    "{(key+\"man\" if key!=\"Spider\" else \"Superman\"):(val if val!=\"photographer\" else \"Journalist\") for (key, val) in my_dict.items()}"
   ]
  },
  {
   "cell_type": "code",
   "execution_count": 26,
   "id": "2626eb38",
   "metadata": {},
   "outputs": [
    {
     "data": {
      "text/plain": [
       "['G', 'C', 'G', 'G', 'A', 'T', 'A', 'C', 'G', 'A']"
      ]
     },
     "execution_count": 26,
     "metadata": {},
     "output_type": "execute_result"
    }
   ],
   "source": [
    "import random\n",
    "bases = [\"A\", \"T\", \"C\", \"G\"]\n",
    "strand1 = random.choices(bases, k=10)\n",
    "strand1"
   ]
  },
  {
   "cell_type": "markdown",
   "id": "0621915c",
   "metadata": {},
   "source": [
    "### Nested Dictionary with Two Dictionary Comprehensions"
   ]
  },
  {
   "cell_type": "code",
   "execution_count": 31,
   "id": "cc71f549",
   "metadata": {},
   "outputs": [
    {
     "data": {
      "text/plain": [
       "{2: {1: 2, 2: 4, 3: 6, 4: 8, 5: 10},\n",
       " 3: {1: 3, 2: 6, 3: 9, 4: 12, 5: 15},\n",
       " 4: {1: 4, 2: 8, 3: 12, 4: 16, 5: 20}}"
      ]
     },
     "execution_count": 31,
     "metadata": {},
     "output_type": "execute_result"
    }
   ],
   "source": [
    "dictionary = {\n",
    "    k1 :{k2 :k1*k2 for k2 in range(1, 6)} for k1 in range(2, 5)\n",
    "}\n",
    "dictionary"
   ]
  },
  {
   "cell_type": "code",
   "execution_count": 33,
   "id": "7b276c8c",
   "metadata": {},
   "outputs": [
    {
     "data": {
      "text/plain": [
       "{2: {1: 2, 2: 4, 3: 6, 4: 8, 5: 10},\n",
       " 3: {1: 3, 2: 6, 3: 9, 4: 12, 5: 15},\n",
       " 4: {1: 4, 2: 8, 3: 12, 4: 16, 5: 20}}"
      ]
     },
     "execution_count": 33,
     "metadata": {},
     "output_type": "execute_result"
    }
   ],
   "source": [
    "nested_dictionary = {\n",
    "    k1 : {k2:k1*k2 for k2 in range(1, 6)} for k1 in range(2,5)\n",
    "}\n",
    "nested_dictionary"
   ]
  },
  {
   "cell_type": "code",
   "execution_count": 28,
   "id": "3e71602a",
   "metadata": {},
   "outputs": [
    {
     "data": {
      "text/plain": [
       "{2: {1: 2, 2: 4, 3: 6, 4: 8, 5: 10},\n",
       " 3: {1: 3, 2: 6, 3: 9, 4: 12, 5: 15},\n",
       " 4: {1: 4, 2: 8, 3: 12, 4: 16, 5: 20}}"
      ]
     },
     "execution_count": 28,
     "metadata": {},
     "output_type": "execute_result"
    }
   ],
   "source": [
    "dictionary"
   ]
  },
  {
   "cell_type": "markdown",
   "id": "39238370",
   "metadata": {},
   "source": [
    "### List Comprehension"
   ]
  },
  {
   "cell_type": "code",
   "execution_count": 29,
   "id": "fd434533",
   "metadata": {},
   "outputs": [
    {
     "data": {
      "text/plain": [
       "[1, 4, 9, 16, 25, 36, 49, 64, 81, 100]"
      ]
     },
     "execution_count": 29,
     "metadata": {},
     "output_type": "execute_result"
    }
   ],
   "source": [
    "square_list = [num*num for num in range(1, 11)]\n",
    "square_list"
   ]
  },
  {
   "cell_type": "code",
   "execution_count": 37,
   "id": "8922d875",
   "metadata": {},
   "outputs": [
    {
     "data": {
      "text/plain": [
       "[1, 4, 9, 16]"
      ]
     },
     "execution_count": 37,
     "metadata": {},
     "output_type": "execute_result"
    }
   ],
   "source": [
    "square_list = [num*num for num in range(1, 5)]\n",
    "square_list"
   ]
  },
  {
   "cell_type": "code",
   "execution_count": 38,
   "id": "7d7e67f9",
   "metadata": {},
   "outputs": [],
   "source": [
    "fruits = [\"apple\", \"banana\", \"Mango\"]"
   ]
  },
  {
   "cell_type": "code",
   "execution_count": 31,
   "id": "93a5e7a1",
   "metadata": {},
   "outputs": [
    {
     "data": {
      "text/plain": [
       "['APPLE', 'BANANA', 'MANGO']"
      ]
     },
     "execution_count": 31,
     "metadata": {},
     "output_type": "execute_result"
    }
   ],
   "source": [
    "upper_fruit = [fruit.upper() for fruit in fruits]\n",
    "upper_fruit"
   ]
  },
  {
   "cell_type": "code",
   "execution_count": 40,
   "id": "9e1a2261",
   "metadata": {},
   "outputs": [],
   "source": [
    "bits = [False, True,False, True,False, True,True,False, True] "
   ]
  },
  {
   "cell_type": "code",
   "execution_count": 26,
   "id": "bc37aeb7",
   "metadata": {},
   "outputs": [],
   "source": [
    "bits = [False, True,False, True,False, True,True,False, True] "
   ]
  },
  {
   "cell_type": "code",
   "execution_count": 33,
   "id": "6e27c321",
   "metadata": {},
   "outputs": [
    {
     "data": {
      "text/plain": [
       "[0, 1, 0, 1, 0, 1, 1, 0, 1]"
      ]
     },
     "execution_count": 33,
     "metadata": {},
     "output_type": "execute_result"
    }
   ],
   "source": [
    "# change False to 0 and True with 1\n",
    "[1 if b==True else 0 for b in bits]"
   ]
  },
  {
   "cell_type": "code",
   "execution_count": 58,
   "id": "65518325",
   "metadata": {},
   "outputs": [
    {
     "data": {
      "text/plain": [
       "'Hello My Name Is Hamza'"
      ]
     },
     "execution_count": 58,
     "metadata": {},
     "output_type": "execute_result"
    }
   ],
   "source": [
    "my_string = \"HelloMyNameIsHamza\"\n",
    "\"\".join([i if i.islower() else \" \" + i for i in my_string])[1:]"
   ]
  },
  {
   "cell_type": "code",
   "execution_count": 47,
   "id": "7a3b95cf",
   "metadata": {},
   "outputs": [],
   "source": [
    "my_string = \"HelloMyNameIsHamza\""
   ]
  },
  {
   "cell_type": "code",
   "execution_count": 50,
   "id": "46e475b8",
   "metadata": {},
   "outputs": [
    {
     "data": {
      "text/plain": [
       "'Hello My Name Is Hamza'"
      ]
     },
     "execution_count": 50,
     "metadata": {},
     "output_type": "execute_result"
    }
   ],
   "source": [
    "\"\".join([i if i.islower() else \" \" + i for i in my_string])[1:]"
   ]
  },
  {
   "cell_type": "code",
   "execution_count": 17,
   "id": "9fae7acf",
   "metadata": {},
   "outputs": [],
   "source": [
    "my_string = \"HelloMyNameIsHamza\""
   ]
  },
  {
   "cell_type": "code",
   "execution_count": 35,
   "id": "6ee966ee",
   "metadata": {},
   "outputs": [
    {
     "data": {
      "text/plain": [
       "' Hello My Name Is Hamza'"
      ]
     },
     "execution_count": 35,
     "metadata": {},
     "output_type": "execute_result"
    }
   ],
   "source": [
    "\"\".join([i if i.islower() else \" \" + i for i in my_string])"
   ]
  },
  {
   "cell_type": "code",
   "execution_count": 21,
   "id": "10d879f5",
   "metadata": {},
   "outputs": [
    {
     "data": {
      "text/plain": [
       "'Hello My Name Is Hamza'"
      ]
     },
     "execution_count": 21,
     "metadata": {},
     "output_type": "execute_result"
    }
   ],
   "source": [
    "\"\".join([i if i.islower() else \" \" + i for i in my_string])[1:]"
   ]
  },
  {
   "cell_type": "code",
   "execution_count": 52,
   "id": "a0842807",
   "metadata": {},
   "outputs": [],
   "source": [
    "# adding [1:] meand that will remove space in the start of string as above\n",
    "\"\".join([i if i.islower() else \" \" + i.lower() if i in [\"N\", \"I\", \"M\"] else \" \" + i for i in my_string])[1:]"
   ]
  },
  {
   "cell_type": "code",
   "execution_count": 54,
   "id": "a49e05d9",
   "metadata": {},
   "outputs": [
    {
     "data": {
      "text/plain": [
       "'Hello my name is Hamza'"
      ]
     },
     "execution_count": 54,
     "metadata": {},
     "output_type": "execute_result"
    }
   ],
   "source": [
    "\"\".join([i if i.islower() else \" \" + i.lower() if i in [\"N\", \"M\", \"I\"] else \" \" + i for i in my_string])[1:]"
   ]
  },
  {
   "cell_type": "code",
   "execution_count": 61,
   "id": "02fcd5c8",
   "metadata": {},
   "outputs": [
    {
     "data": {
      "text/plain": [
       "'Hello my name is Hamza'"
      ]
     },
     "execution_count": 61,
     "metadata": {},
     "output_type": "execute_result"
    }
   ],
   "source": [
    "\"\".join([i if i.islower() else \" \" + i.lower() if i in [\"N\", \"M\" ,\"I\"] else \" \" + i for i in my_string])[1:]"
   ]
  },
  {
   "cell_type": "markdown",
   "id": "84653f9c",
   "metadata": {},
   "source": [
    "### Connetion to MongoDB"
   ]
  },
  {
   "cell_type": "code",
   "execution_count": null,
   "id": "d2bb1e03",
   "metadata": {},
   "outputs": [],
   "source": [
    "import pandas as pd \n",
    "from pymongo import MongoClient\n",
    "\n",
    "URL = \"some_url\"\n",
    "conn = MongoClient(url)\n",
    "db = conn[\"db_name\"]"
   ]
  }
 ],
 "metadata": {
  "kernelspec": {
   "display_name": "Python 3",
   "language": "python",
   "name": "python3"
  },
  "language_info": {
   "codemirror_mode": {
    "name": "ipython",
    "version": 3
   },
   "file_extension": ".py",
   "mimetype": "text/x-python",
   "name": "python",
   "nbconvert_exporter": "python",
   "pygments_lexer": "ipython3",
   "version": "3.7.9"
  }
 },
 "nbformat": 4,
 "nbformat_minor": 5
}
