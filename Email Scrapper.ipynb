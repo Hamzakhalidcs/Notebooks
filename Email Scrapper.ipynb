{
 "cells": [
  {
   "cell_type": "code",
   "execution_count": 10,
   "id": "39f96ab6",
   "metadata": {},
   "outputs": [],
   "source": [
    "from bs4 import BeautifulSoup\n",
    "import requests\n",
    "import re"
   ]
  },
  {
   "cell_type": "code",
   "execution_count": 3,
   "id": "975f2334",
   "metadata": {},
   "outputs": [],
   "source": [
    "url = \"https://www.lettscom.com.au/\"  # Replace with the URL of the website you want to scrape\n",
    "response = requests.get(url)\n",
    "content = response.text"
   ]
  },
  {
   "cell_type": "code",
   "execution_count": 4,
   "id": "767eda6f",
   "metadata": {},
   "outputs": [],
   "source": [
    "# content"
   ]
  },
  {
   "cell_type": "code",
   "execution_count": 5,
   "id": "e6d4d5bc",
   "metadata": {},
   "outputs": [],
   "source": [
    "soup = BeautifulSoup(content, 'html.parser')"
   ]
  },
  {
   "cell_type": "code",
   "execution_count": 6,
   "id": "01817451",
   "metadata": {},
   "outputs": [],
   "source": [
    "import re\n",
    "\n",
    "# Define a regular expression pattern to match email addresses\n",
    "email_pattern = re.compile(r'\\b[A-Za-z0-9._%+-]+@[A-Za-z0-9.-]+\\.[A-Z|a-z]{2,}\\b')\n",
    "\n",
    "# Find all email addresses in the HTML content\n",
    "emails = soup.find_all(text=email_pattern)"
   ]
  },
  {
   "cell_type": "code",
   "execution_count": 8,
   "id": "510f48e3",
   "metadata": {},
   "outputs": [],
   "source": [
    "for email in emails:\n",
    "    print(email)"
   ]
  },
  {
   "cell_type": "code",
   "execution_count": 11,
   "id": "147ac3bd",
   "metadata": {},
   "outputs": [
    {
     "name": "stdout",
     "output_type": "stream",
     "text": [
      "info@transroads.com\n"
     ]
    }
   ],
   "source": [
    "# Run for single URL\n",
    "\n",
    "url = 'https://www.transroads.com'  # replace with the URL of the website you want to extract emails from\n",
    "\n",
    "# Send a GET request to the website\n",
    "response = requests.get(url)\n",
    "\n",
    "# print(\"hhafshfhasfdh\")\n",
    "# Create a BeautifulSoup object\n",
    "soup = BeautifulSoup(response.content, 'html.parser')\n",
    "\n",
    "# Extract email addresses using regular expressions\n",
    "email_pattern = r'\\b[A-Za-z0-9._%+-]+@[A-Za-z0-9.-]+\\.[A-Z|a-z]{2,}\\b'\n",
    "emails = re.findall(email_pattern, soup.get_text())\n",
    "\n",
    "# Print the extracted email addresses\n",
    "for email in emails:\n",
    "    print(email)\n"
   ]
  },
  {
   "cell_type": "code",
   "execution_count": 12,
   "id": "62fd2da7",
   "metadata": {},
   "outputs": [
    {
     "name": "stdout",
     "output_type": "stream",
     "text": [
      "https://www.transroads.com\n",
      "info@transroads.com\n",
      "https://www.lettscom.com.au/\n",
      "Moresolutions@lettscom.com.au\n",
      "https://www.ing.com.au/\n",
      "https://www.agridigital.io/\n",
      "https://www.telstra.com.au/\n"
     ]
    }
   ],
   "source": [
    "# Run for Multiple URLS \n",
    "\n",
    "url_lst = [\"https://www.transroads.com\",\"https://www.lettscom.com.au/\", \"https://www.ing.com.au/\", \"https://www.agridigital.io/\", \"https://www.telstra.com.au/\"]\n",
    "\n",
    "for url in url_lst:\n",
    "    print(url)\n",
    "    response = requests.get(url)\n",
    "    response = requests.get(url)   \n",
    "    soup = BeautifulSoup(response.content, 'html.parser')\n",
    "    email_pattern = r'\\b[A-Za-z0-9._%+-]+@[A-Za-z0-9.-]+\\.[A-Z|a-z]{2,}\\b'\n",
    "    emails = re.findall(email_pattern, soup.get_text())\n",
    "    for email in emails:\n",
    "        print(email)"
   ]
  },
  {
   "cell_type": "code",
   "execution_count": null,
   "id": "3cc29521",
   "metadata": {},
   "outputs": [],
   "source": []
  }
 ],
 "metadata": {
  "kernelspec": {
   "display_name": "Python 3",
   "language": "python",
   "name": "python3"
  },
  "language_info": {
   "codemirror_mode": {
    "name": "ipython",
    "version": 3
   },
   "file_extension": ".py",
   "mimetype": "text/x-python",
   "name": "python",
   "nbconvert_exporter": "python",
   "pygments_lexer": "ipython3",
   "version": "3.7.9"
  }
 },
 "nbformat": 4,
 "nbformat_minor": 5
}
