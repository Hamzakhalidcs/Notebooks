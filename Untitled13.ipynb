{
 "cells": [
  {
   "cell_type": "code",
   "execution_count": 12,
   "id": "7889c096",
   "metadata": {},
   "outputs": [],
   "source": [
    "from pymongo import MongoClient\n",
    "import time \n",
    "import pyodbc \n",
    "import sys"
   ]
  },
  {
   "cell_type": "code",
   "execution_count": 2,
   "id": "26bdefa9",
   "metadata": {},
   "outputs": [],
   "source": [
    "def connect_to_db():\n",
    "    try:\n",
    "        client = MongoClient('mongodb://localhost:27017/')\n",
    "        client.server_info()\n",
    "        \n",
    "        # Selecting datbase\n",
    "        db = client.university\n",
    "        collection = db.student\n",
    "        \n",
    "        print('Connected Successfully')\n",
    "        return collection\n",
    "        \n",
    "    except Exception as e :\n",
    "        print(\"An Error Occured while connecting to the Database\")\n",
    "        print(e)"
   ]
  },
  {
   "cell_type": "code",
   "execution_count": 3,
   "id": "1c3d4488",
   "metadata": {},
   "outputs": [
    {
     "name": "stdout",
     "output_type": "stream",
     "text": [
      "Connected Successfully\n"
     ]
    },
    {
     "data": {
      "text/plain": [
       "Collection(Database(MongoClient(host=['localhost:27017'], document_class=dict, tz_aware=False, connect=True), 'university'), 'student')"
      ]
     },
     "execution_count": 3,
     "metadata": {},
     "output_type": "execute_result"
    }
   ],
   "source": [
    "connect_to_db()"
   ]
  },
  {
   "cell_type": "code",
   "execution_count": 9,
   "id": "c7f054c7",
   "metadata": {},
   "outputs": [
    {
     "name": "stdout",
     "output_type": "stream",
     "text": [
      "Connected Successfully\n",
      "{'_id': ObjectId('61489f1cac973c75b2ef9b2f'), 'id': 3, 'name': 'Hamza Khalid', 'phone': '03153459800', 'email': 'hamzakhalidcs007@gmail.com', 'subjects': 'physics'}\n"
     ]
    }
   ],
   "source": [
    "collection = connect_to_db()\n",
    "if collection:\n",
    "    query = {\n",
    "        'name': 'Hamza Khalid',\n",
    "        'phone': {'$regex': '9800'}\n",
    "    }\n",
    "    try:\n",
    "        data = collection.find(query)\n",
    "        \n",
    "        # Convert the cursor to a list\n",
    "        records = list(data)\n",
    "        \n",
    "        if records:  # Check if records are found\n",
    "            for record in records:\n",
    "                print(record)\n",
    "        else:\n",
    "            print(\"No matching data found for the given query.\")\n",
    "            \n",
    "    except Exception as e:\n",
    "        print(\"An error occurred while fetching the data.\")\n",
    "        print(e)\n"
   ]
  },
  {
   "cell_type": "code",
   "execution_count": 17,
   "id": "0a13ee65",
   "metadata": {},
   "outputs": [],
   "source": [
    "driver = '{SQL Server}'\n",
    "server = 'DESKTOP-959UNBS'\n",
    "database = 'Adventureworks'"
   ]
  },
  {
   "cell_type": "code",
   "execution_count": 22,
   "id": "81e22a23",
   "metadata": {},
   "outputs": [],
   "source": [
    "\n",
    "def connect_to_sql():\n",
    "    try:\n",
    "        conn = pyodbc.connect(\n",
    "        \"Driver=\"+driver+';'\n",
    "        \"Server=\"+server+';'\n",
    "        \"Database\"+database+';'\n",
    "        \"Trusted_Connection=yes\"\n",
    "        )\n",
    "        print('Connected Successfully')\n",
    "    except Exception as e :\n",
    "        print('An Error Occred while connecting to the database'+ str(sys.exc_info()[1]))\n",
    "        "
   ]
  },
  {
   "cell_type": "code",
   "execution_count": 23,
   "id": "db3a10cc",
   "metadata": {},
   "outputs": [
    {
     "name": "stdout",
     "output_type": "stream",
     "text": [
      "Connected Successfully\n"
     ]
    }
   ],
   "source": [
    "connect_to_sql()"
   ]
  },
  {
   "cell_type": "code",
   "execution_count": null,
   "id": "25f5b499",
   "metadata": {},
   "outputs": [],
   "source": []
  }
 ],
 "metadata": {
  "kernelspec": {
   "display_name": "Python 3",
   "language": "python",
   "name": "python3"
  },
  "language_info": {
   "codemirror_mode": {
    "name": "ipython",
    "version": 3
   },
   "file_extension": ".py",
   "mimetype": "text/x-python",
   "name": "python",
   "nbconvert_exporter": "python",
   "pygments_lexer": "ipython3",
   "version": "3.7.9"
  }
 },
 "nbformat": 4,
 "nbformat_minor": 5
}
