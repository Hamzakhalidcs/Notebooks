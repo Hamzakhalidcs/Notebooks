{
 "cells": [
  {
   "cell_type": "code",
   "execution_count": 1,
   "id": "b9ebcd31",
   "metadata": {},
   "outputs": [],
   "source": [
    "import pandas as pd "
   ]
  },
  {
   "cell_type": "code",
   "execution_count": 2,
   "id": "0e546238",
   "metadata": {},
   "outputs": [
    {
     "data": {
      "text/plain": [
       "{1: 1, 2: 4, 3: 9, 4: 16, 5: 25, 6: 36, 7: 49, 8: 64, 9: 81, 10: 100}"
      ]
     },
     "execution_count": 2,
     "metadata": {},
     "output_type": "execute_result"
    }
   ],
   "source": [
    "square_dict = {num: num*num for num in range(1, 11)}\n",
    "square_dict"
   ]
  },
  {
   "cell_type": "code",
   "execution_count": 7,
   "id": "9cefc384",
   "metadata": {},
   "outputs": [],
   "source": [
    "old_price = {'milk': 1.02, 'coffee': 2.5, 'bread': 2.5}\n",
    "dollar_to_pound = 0.76"
   ]
  },
  {
   "cell_type": "code",
   "execution_count": 4,
   "id": "5c4ab539",
   "metadata": {},
   "outputs": [
    {
     "data": {
      "text/plain": [
       "{'milk': 0.7752, 'coffee': 1.9, 'bread': 1.9}"
      ]
     },
     "execution_count": 4,
     "metadata": {},
     "output_type": "execute_result"
    }
   ],
   "source": [
    "new_price = {item : value*dollar_to_pound for (item, value) in old_price.items()}\n",
    "new_price"
   ]
  },
  {
   "cell_type": "code",
   "execution_count": 5,
   "id": "546da29b",
   "metadata": {},
   "outputs": [],
   "source": [
    "original_dict = {'jack': 38, 'michael': 48, 'guido': 57, 'john': 33}"
   ]
  },
  {
   "cell_type": "code",
   "execution_count": 6,
   "id": "2d6b4bcd",
   "metadata": {},
   "outputs": [
    {
     "data": {
      "text/plain": [
       "{'milk': 0.7752, 'coffee': 1.9, 'bread': 1.9}"
      ]
     },
     "execution_count": 6,
     "metadata": {},
     "output_type": "execute_result"
    }
   ],
   "source": [
    "{k:v*dollar_to_pound for (k, v) in old_price.items()}"
   ]
  },
  {
   "cell_type": "code",
   "execution_count": 6,
   "id": "ff37c7ea",
   "metadata": {},
   "outputs": [
    {
     "data": {
      "text/plain": [
       "{'jack': 38}"
      ]
     },
     "execution_count": 6,
     "metadata": {},
     "output_type": "execute_result"
    }
   ],
   "source": [
    "even_dict = {k:v for (k, v) in original_dict.items() if v%2==0 if v<40}\n",
    "even_dict"
   ]
  },
  {
   "cell_type": "code",
   "execution_count": 7,
   "id": "9f530ce3",
   "metadata": {},
   "outputs": [
    {
     "name": "stdout",
     "output_type": "stream",
     "text": [
      "{'john': 33}\n"
     ]
    }
   ],
   "source": [
    "odd_dict = {k:v for (k, v) in original_dict.items() if v%2!=0 if v<40}\n",
    "print(odd_dict)"
   ]
  },
  {
   "cell_type": "code",
   "execution_count": 8,
   "id": "82463aba",
   "metadata": {},
   "outputs": [],
   "source": [
    "new_dict1 = {k:(\"old\" if v>40 else \"Young\")\n",
    "             for (k, v) in original_dict.items()\n",
    "}"
   ]
  },
  {
   "cell_type": "code",
   "execution_count": 9,
   "id": "4116e5d7",
   "metadata": {},
   "outputs": [
    {
     "data": {
      "text/plain": [
       "{'jack': 'Young', 'michael': 'old', 'guido': 'old', 'john': 'Young'}"
      ]
     },
     "execution_count": 9,
     "metadata": {},
     "output_type": "execute_result"
    }
   ],
   "source": [
    "new_dict1 "
   ]
  },
  {
   "cell_type": "code",
   "execution_count": 10,
   "id": "d9abeec3",
   "metadata": {},
   "outputs": [],
   "source": [
    "names = ['Mariya', 'Gandllif', 'Batman']\n",
    "profession = ['Programmer', 'Wizard', 'superhero']"
   ]
  },
  {
   "cell_type": "code",
   "execution_count": 11,
   "id": "f032cc2a",
   "metadata": {},
   "outputs": [
    {
     "data": {
      "text/plain": [
       "{'Mariya': 'Programmer', 'Gandllif': 'Wizard', 'Batman': 'superhero'}"
      ]
     },
     "execution_count": 11,
     "metadata": {},
     "output_type": "execute_result"
    }
   ],
   "source": [
    "{k:v for (k,v) in zip(names, profession)}"
   ]
  },
  {
   "cell_type": "code",
   "execution_count": 63,
   "id": "e91eefca",
   "metadata": {},
   "outputs": [
    {
     "data": {
      "text/plain": [
       "{'Hamza': 'Porgrammer', 'Gandliff': 'Wizard', 'Batman': 'Superhero'}"
      ]
     },
     "execution_count": 63,
     "metadata": {},
     "output_type": "execute_result"
    }
   ],
   "source": [
    "{(key if key!=\"Mariya\" else \"Hamza\"):(val if val!=\"Programmer\" else \"Businessman\") for(key, val) in zip(names, profession)}\n"
   ]
  },
  {
   "cell_type": "code",
   "execution_count": 66,
   "id": "8a8d31b9",
   "metadata": {},
   "outputs": [
    {
     "data": {
      "text/plain": [
       "{'Hamza': 'Porgrammer', 'Gandliff': 'Wizard', 'Batman': 'Superhero'}"
      ]
     },
     "execution_count": 66,
     "metadata": {},
     "output_type": "execute_result"
    }
   ],
   "source": [
    "{(key if key!='Mariya' else 'Hamza'):val for (key, val) in zip(names, profession)}"
   ]
  },
  {
   "cell_type": "code",
   "execution_count": 12,
   "id": "64c81e6a",
   "metadata": {},
   "outputs": [
    {
     "name": "stdout",
     "output_type": "stream",
     "text": [
      "{'Mariya': 'Programmer', 'Gandllif': 'Wizard', 'Batman': 'superhero'}\n"
     ]
    }
   ],
   "source": [
    "my_dict = {}\n",
    "\n",
    "for (key, value) in zip(names, profession):\n",
    "    my_dict[key] = value\n",
    "\n",
    "print(my_dict)"
   ]
  },
  {
   "cell_type": "code",
   "execution_count": 13,
   "id": "a709ea3e",
   "metadata": {},
   "outputs": [
    {
     "data": {
      "text/plain": [
       "{'Mariya': 'Programmer', 'Gandllif': 'Wizard', 'Batman': 'superhero'}"
      ]
     },
     "execution_count": 13,
     "metadata": {},
     "output_type": "execute_result"
    }
   ],
   "source": [
    "for i in range(3):\n",
    "    my_dict[names[i]] = profession[i]\n",
    "\n",
    "my_dict"
   ]
  },
  {
   "cell_type": "code",
   "execution_count": 14,
   "id": "80e498a5",
   "metadata": {},
   "outputs": [
    {
     "data": {
      "text/plain": [
       "{'Mariya': 'Programmer', 'Gandllif': 'Wizard', 'Batman': 'superhero'}"
      ]
     },
     "execution_count": 14,
     "metadata": {},
     "output_type": "execute_result"
    }
   ],
   "source": [
    "my_dict = {key:value for (key, value) in zip(names, profession)}\n",
    "my_dict"
   ]
  },
  {
   "cell_type": "code",
   "execution_count": 15,
   "id": "00d10411",
   "metadata": {},
   "outputs": [
    {
     "data": {
      "text/plain": [
       "{'Mariya': 'Programmer', 'Gandllif': 'Wizard', 'Batman': 'superhero'}"
      ]
     },
     "execution_count": 15,
     "metadata": {},
     "output_type": "execute_result"
    }
   ],
   "source": [
    "dict(zip(names, profession))"
   ]
  },
  {
   "cell_type": "code",
   "execution_count": 16,
   "id": "e010ec97",
   "metadata": {},
   "outputs": [
    {
     "data": {
      "text/plain": [
       "{'Mariya': 'Programmer', 'Gandllif': 'Wizard', 'Batman': 'superhero'}"
      ]
     },
     "execution_count": 16,
     "metadata": {},
     "output_type": "execute_result"
    }
   ],
   "source": [
    "my_dict = {names[i] : profession[i] for i in range(len(names))}\n",
    "my_dict"
   ]
  },
  {
   "cell_type": "code",
   "execution_count": 17,
   "id": "dc03ec11",
   "metadata": {},
   "outputs": [],
   "source": [
    "# same can do with the tuples , first we were dealing with the lists \n",
    "names = ('Mariya', 'Gandllif', 'Batman')\n",
    "profession = ('Programmer', 'Wizard', 'superhero')"
   ]
  },
  {
   "cell_type": "code",
   "execution_count": 18,
   "id": "9cd31f3f",
   "metadata": {},
   "outputs": [
    {
     "data": {
      "text/plain": [
       "{'Mariya': 'Programmer', 'Gandllif': 'Wizard', 'Batman': 'superhero'}"
      ]
     },
     "execution_count": 18,
     "metadata": {},
     "output_type": "execute_result"
    }
   ],
   "source": [
    "my_dict = {key:value for (key, value) in zip(names, profession)}\n",
    "my_dict"
   ]
  },
  {
   "cell_type": "code",
   "execution_count": 19,
   "id": "bf3c6748",
   "metadata": {},
   "outputs": [],
   "source": [
    "# Dealing in DataFrames\n",
    "names_df  = pd.DataFrame(['Mariya', 'Gandllif', 'Batman'])\n",
    "profession_df = pd.DataFrame(['Programmer', 'Wizard', 'superhero'])"
   ]
  },
  {
   "cell_type": "code",
   "execution_count": 20,
   "id": "f56ef0e3",
   "metadata": {},
   "outputs": [
    {
     "data": {
      "text/plain": [
       "{'Mariya': 'Programmer', 'Gandllif': 'Wizard', 'Batman': 'superhero'}"
      ]
     },
     "execution_count": 20,
     "metadata": {},
     "output_type": "execute_result"
    }
   ],
   "source": [
    "my_dict = {key:value for (key, value) in zip(names_df[0], profession_df[0])}\n",
    "my_dict"
   ]
  },
  {
   "cell_type": "code",
   "execution_count": 21,
   "id": "9278f702",
   "metadata": {},
   "outputs": [],
   "source": [
    "# modify dictionary\n",
    "my_dict = {\n",
    "    \"Spider\" : \"photographer\",\n",
    "    \"Bat\" : \"Philanthropist\",\n",
    "    \"Wonder Wo\" : \"nurse\"\n",
    "}"
   ]
  },
  {
   "cell_type": "code",
   "execution_count": 22,
   "id": "6e77f922",
   "metadata": {},
   "outputs": [],
   "source": [
    "    # add man with key,\n",
    "    # if key = Spider change it Superman,\n",
    "    # if value photographer change to journalist"
   ]
  },
  {
   "cell_type": "code",
   "execution_count": 23,
   "id": "9643f78d",
   "metadata": {},
   "outputs": [
    {
     "data": {
      "text/plain": [
       "{'Spiderman': 'photographer',\n",
       " 'Batman': 'Philanthropist',\n",
       " 'Wonder Woman': 'nurse'}"
      ]
     },
     "execution_count": 23,
     "metadata": {},
     "output_type": "execute_result"
    }
   ],
   "source": [
    "my_dict = {key+ \"man\": value for (key, value) in my_dict.items()}\n",
    "my_dict"
   ]
  },
  {
   "cell_type": "code",
   "execution_count": 24,
   "id": "2f0c62ec",
   "metadata": {},
   "outputs": [
    {
     "data": {
      "text/plain": [
       "{'Spidermanman': 'photographer',\n",
       " 'Batmanman': 'Philanthropist',\n",
       " 'Wonder Womanman': 'nurse'}"
      ]
     },
     "execution_count": 24,
     "metadata": {},
     "output_type": "execute_result"
    }
   ],
   "source": [
    "# replacing spider with superman\n",
    "\n",
    "test = {(key+\"man\" if key!= \"Spider\" else \"superman\"):val for (key, val) in my_dict.items()}\n",
    "test"
   ]
  },
  {
   "cell_type": "code",
   "execution_count": 25,
   "id": "7dab58b0",
   "metadata": {},
   "outputs": [
    {
     "data": {
      "text/plain": [
       "{'Spidermanman': 'Journalist',\n",
       " 'Batmanman': 'Philanthropist',\n",
       " 'Wonder Womanman': 'nurse'}"
      ]
     },
     "execution_count": 25,
     "metadata": {},
     "output_type": "execute_result"
    }
   ],
   "source": [
    "{(key+\"man\" if key!=\"Spider\" else \"Superman\"):(val if val!=\"photographer\" else \"Journalist\") for (key, val) in my_dict.items()}\n"
   ]
  },
  {
   "cell_type": "code",
   "execution_count": 26,
   "id": "b70e0e6a",
   "metadata": {},
   "outputs": [
    {
     "data": {
      "text/plain": [
       "['T', 'G', 'A', 'G', 'A', 'T', 'T', 'T', 'A', 'T']"
      ]
     },
     "execution_count": 26,
     "metadata": {},
     "output_type": "execute_result"
    }
   ],
   "source": [
    "import random\n",
    "bases = [\"A\", \"T\", \"C\", \"G\"]\n",
    "strand1 = random.choices(bases, k=10)\n",
    "strand1"
   ]
  },
  {
   "cell_type": "markdown",
   "id": "c761309c",
   "metadata": {},
   "source": [
    "### Nested Dictionary with Two Dictionary Comprehensions\n"
   ]
  },
  {
   "cell_type": "code",
   "execution_count": 27,
   "id": "96b3ba3d",
   "metadata": {},
   "outputs": [],
   "source": [
    "dictionary = {\n",
    "    k1 :{k2 :k1*k2 for k2 in range(1, 6)} for k1 in range(2, 5)\n",
    "}"
   ]
  },
  {
   "cell_type": "code",
   "execution_count": 28,
   "id": "d40e3279",
   "metadata": {},
   "outputs": [
    {
     "data": {
      "text/plain": [
       "{2: {1: 2, 2: 4, 3: 6, 4: 8, 5: 10},\n",
       " 3: {1: 3, 2: 6, 3: 9, 4: 12, 5: 15},\n",
       " 4: {1: 4, 2: 8, 3: 12, 4: 16, 5: 20}}"
      ]
     },
     "execution_count": 28,
     "metadata": {},
     "output_type": "execute_result"
    }
   ],
   "source": [
    "dictionary\n"
   ]
  },
  {
   "cell_type": "markdown",
   "id": "1a2715f1",
   "metadata": {},
   "source": [
    "### List Comprehension"
   ]
  },
  {
   "cell_type": "code",
   "execution_count": 29,
   "id": "65fd5efe",
   "metadata": {},
   "outputs": [
    {
     "data": {
      "text/plain": [
       "[1, 4, 9, 16, 25, 36, 49, 64, 81, 100]"
      ]
     },
     "execution_count": 29,
     "metadata": {},
     "output_type": "execute_result"
    }
   ],
   "source": [
    "square_list = [num*num for num in range(1, 11)]\n",
    "square_list"
   ]
  },
  {
   "cell_type": "code",
   "execution_count": 30,
   "id": "124dee5b",
   "metadata": {},
   "outputs": [],
   "source": [
    "fruits = [\"apple\", \"banana\", \"Mango\"]"
   ]
  },
  {
   "cell_type": "code",
   "execution_count": 31,
   "id": "dacd747d",
   "metadata": {},
   "outputs": [
    {
     "data": {
      "text/plain": [
       "['APPLE', 'BANANA', 'MANGO']"
      ]
     },
     "execution_count": 31,
     "metadata": {},
     "output_type": "execute_result"
    }
   ],
   "source": [
    "upper_fruit = [fruit.upper() for fruit in fruits]\n",
    "upper_fruit"
   ]
  },
  {
   "cell_type": "code",
   "execution_count": 32,
   "id": "2d52d146",
   "metadata": {},
   "outputs": [],
   "source": [
    "bits = [False, True,False, True,False, True,True,False, True] "
   ]
  },
  {
   "cell_type": "code",
   "execution_count": 33,
   "id": "0627d02a",
   "metadata": {},
   "outputs": [
    {
     "data": {
      "text/plain": [
       "[0, 1, 0, 1, 0, 1, 1, 0, 1]"
      ]
     },
     "execution_count": 33,
     "metadata": {},
     "output_type": "execute_result"
    }
   ],
   "source": [
    "# change False to 0 and True with 1\n",
    "[1 if b==True else 0 for b in bits ]"
   ]
  },
  {
   "cell_type": "code",
   "execution_count": 34,
   "id": "79d70b97",
   "metadata": {},
   "outputs": [],
   "source": [
    "my_string = \"HelloMyNameIsHamza\""
   ]
  },
  {
   "cell_type": "code",
   "execution_count": 35,
   "id": "a5df16e8",
   "metadata": {},
   "outputs": [
    {
     "data": {
      "text/plain": [
       "' Hello My Name Is Hamza'"
      ]
     },
     "execution_count": 35,
     "metadata": {},
     "output_type": "execute_result"
    }
   ],
   "source": [
    "\"\".join([i if i.islower() else \" \" + i for i in my_string])"
   ]
  },
  {
   "cell_type": "code",
   "execution_count": 36,
   "id": "bc3ca3db",
   "metadata": {},
   "outputs": [
    {
     "data": {
      "text/plain": [
       "'Hello my name is Hamza'"
      ]
     },
     "execution_count": 36,
     "metadata": {},
     "output_type": "execute_result"
    }
   ],
   "source": [
    "# adding [1:] meand that will remove space in the start of string as above\n",
    "\"\".join([i if i.islower() else \" \" + i.lower() if i in [\"N\", \"I\", \"M\"] else \" \" + i for i in my_string])[1:]"
   ]
  },
  {
   "cell_type": "code",
   "execution_count": null,
   "id": "3a01a5a2",
   "metadata": {},
   "outputs": [],
   "source": []
  }
 ],
 "metadata": {
  "kernelspec": {
   "display_name": "Python 3",
   "language": "python",
   "name": "python3"
  },
  "language_info": {
   "codemirror_mode": {
    "name": "ipython",
    "version": 3
   },
   "file_extension": ".py",
   "mimetype": "text/x-python",
   "name": "python",
   "nbconvert_exporter": "python",
   "pygments_lexer": "ipython3",
   "version": "3.7.9"
  }
 },
 "nbformat": 4,
 "nbformat_minor": 5
}
